{
 "cells": [
  {
   "cell_type": "code",
   "execution_count": 70,
   "metadata": {},
   "outputs": [],
   "source": [
    "import torch\n",
    "import numpy as np\n",
    "import re\n",
    "from torchvision.models import resnet50, ResNet50_Weights\n",
    "import torch.nn as nn\n",
    "from torch import optim\n",
    "from torch.utils.data import DataLoader\n",
    "from torchvision import transforms\n",
    "from tqdm.notebook import tqdm\n",
    "from datasets import load_cifar10_choosen,load_cifar10\n",
    "from attack import attack, test_model\n",
    "device = \"cuda\" if torch.cuda.is_available() else \"cpu\"\n"
   ]
  },
  {
   "cell_type": "code",
   "execution_count": 71,
   "metadata": {},
   "outputs": [],
   "source": [
    "choosen_classes = [0, 1, 2, 3]"
   ]
  },
  {
   "cell_type": "code",
   "execution_count": 72,
   "metadata": {},
   "outputs": [
    {
     "name": "stdout",
     "output_type": "stream",
     "text": [
      "Files already downloaded and verified\n",
      "Files already downloaded and verified\n"
     ]
    }
   ],
   "source": [
    "train_dataloader, test_dataloader, test_dataloader_all = load_cifar10_choosen(\n",
    "    choosen_classes=choosen_classes)"
   ]
  },
  {
   "cell_type": "code",
   "execution_count": 73,
   "metadata": {},
   "outputs": [],
   "source": [
    "def train_choosen_classes(train_dataloader, test_dataloader, epochs=10, lr=0.001, model=None,num_classes=4,masks=None,save_path=\"weights/best_model.pth\"):\n",
    "    if model is None:\n",
    "        model = resnet50(weights=ResNet50_Weights.IMAGENET1K_V2)\n",
    "        model.fc = nn.Linear(2048, num_classes)\n",
    "        model = model.to(device)\n",
    "    loss_func = nn.CrossEntropyLoss()\n",
    "    best_acc = -np.inf\n",
    "    for epoch in range(epochs):\n",
    "        model.train()\n",
    "        all_preds = []\n",
    "        all_labels = []\n",
    "        for x, y in tqdm(train_dataloader):\n",
    "            x, y = x.to(device), y.to(device)\n",
    "            output = model(x)\n",
    "            loss = loss_func(output, y)\n",
    "            loss.backward()\n",
    "            for name, param in model.named_parameters():\n",
    "                if masks is not None:\n",
    "                    if \"weight\" in name:\n",
    "                        reg = re.compile(\"\\.\\d\\.\")\n",
    "                        finded = reg.findall(name)\n",
    "                        if len(finded) == 0:\n",
    "                            name = name[:-7]\n",
    "                        else:\n",
    "                            for f in finded:\n",
    "                                f = f[1:-1]\n",
    "                                name = name.replace(f\".{f}.\", f\"[{f}].\")\n",
    "                            name = name[:-7]\n",
    "                    if name in masks.keys():\n",
    "                        param.grad *= torch.BoolTensor(~masks[name]).to(device)\n",
    "                # print(name, param.shape)\n",
    "                param.data -= lr * param.grad\n",
    "                param.grad.zero_()\n",
    "        model.eval()\n",
    "        train_correct, train_total = test_model(model, train_dataloader)\n",
    "        test_correct, test_total = test_model(model, test_dataloader)\n",
    "        print(f\"Epoch {epoch + 1} train acc: {train_correct / train_total}\")\n",
    "        print(f\"Epoch {epoch + 1} test acc: {test_correct / test_total}\")\n",
    "        if test_correct / test_total > best_acc:\n",
    "            best_acc = test_correct / test_total\n",
    "            torch.save(model.state_dict(), save_path)\n"
   ]
  },
  {
   "cell_type": "code",
   "execution_count": 74,
   "metadata": {},
   "outputs": [
    {
     "data": {
      "application/vnd.jupyter.widget-view+json": {
       "model_id": "bb1791d648124f1d8d54fa8b1ea0a0b6",
       "version_major": 2,
       "version_minor": 0
      },
      "text/plain": [
       "  0%|          | 0/79 [00:00<?, ?it/s]"
      ]
     },
     "metadata": {},
     "output_type": "display_data"
    },
    {
     "name": "stdout",
     "output_type": "stream",
     "text": [
      "Epoch 1 train acc: 0.71545\n",
      "Epoch 1 test acc: 0.6815\n"
     ]
    },
    {
     "data": {
      "application/vnd.jupyter.widget-view+json": {
       "model_id": "9c9a9fd150cb489299029af8be16afd4",
       "version_major": 2,
       "version_minor": 0
      },
      "text/plain": [
       "  0%|          | 0/79 [00:00<?, ?it/s]"
      ]
     },
     "metadata": {},
     "output_type": "display_data"
    },
    {
     "name": "stdout",
     "output_type": "stream",
     "text": [
      "Epoch 2 train acc: 0.8351\n",
      "Epoch 2 test acc: 0.7905\n"
     ]
    },
    {
     "data": {
      "application/vnd.jupyter.widget-view+json": {
       "model_id": "83c17d4d582a46ee9818a5adef4f8de4",
       "version_major": 2,
       "version_minor": 0
      },
      "text/plain": [
       "  0%|          | 0/79 [00:00<?, ?it/s]"
      ]
     },
     "metadata": {},
     "output_type": "display_data"
    },
    {
     "name": "stdout",
     "output_type": "stream",
     "text": [
      "Epoch 3 train acc: 0.8902\n",
      "Epoch 3 test acc: 0.82\n"
     ]
    },
    {
     "data": {
      "application/vnd.jupyter.widget-view+json": {
       "model_id": "00d1b33392dc41709490adbf1e414861",
       "version_major": 2,
       "version_minor": 0
      },
      "text/plain": [
       "  0%|          | 0/79 [00:00<?, ?it/s]"
      ]
     },
     "metadata": {},
     "output_type": "display_data"
    },
    {
     "name": "stdout",
     "output_type": "stream",
     "text": [
      "Epoch 4 train acc: 0.9253\n",
      "Epoch 4 test acc: 0.8385\n"
     ]
    },
    {
     "data": {
      "application/vnd.jupyter.widget-view+json": {
       "model_id": "88885e9661cd4ba7b4e9e3a51b60a4e1",
       "version_major": 2,
       "version_minor": 0
      },
      "text/plain": [
       "  0%|          | 0/79 [00:00<?, ?it/s]"
      ]
     },
     "metadata": {},
     "output_type": "display_data"
    },
    {
     "name": "stdout",
     "output_type": "stream",
     "text": [
      "Epoch 5 train acc: 0.9502\n",
      "Epoch 5 test acc: 0.85225\n"
     ]
    },
    {
     "data": {
      "application/vnd.jupyter.widget-view+json": {
       "model_id": "76c75842489542d0afd0bc0d2ecb30cf",
       "version_major": 2,
       "version_minor": 0
      },
      "text/plain": [
       "  0%|          | 0/79 [00:00<?, ?it/s]"
      ]
     },
     "metadata": {},
     "output_type": "display_data"
    },
    {
     "name": "stdout",
     "output_type": "stream",
     "text": [
      "Epoch 6 train acc: 0.9599\n",
      "Epoch 6 test acc: 0.855\n"
     ]
    },
    {
     "data": {
      "application/vnd.jupyter.widget-view+json": {
       "model_id": "0aa9ecde756240e9abeeefbf1fe817bb",
       "version_major": 2,
       "version_minor": 0
      },
      "text/plain": [
       "  0%|          | 0/79 [00:00<?, ?it/s]"
      ]
     },
     "metadata": {},
     "output_type": "display_data"
    },
    {
     "name": "stdout",
     "output_type": "stream",
     "text": [
      "Epoch 7 train acc: 0.97165\n",
      "Epoch 7 test acc: 0.85975\n"
     ]
    },
    {
     "data": {
      "application/vnd.jupyter.widget-view+json": {
       "model_id": "fa9b45644d0644829e81488497327ca3",
       "version_major": 2,
       "version_minor": 0
      },
      "text/plain": [
       "  0%|          | 0/79 [00:00<?, ?it/s]"
      ]
     },
     "metadata": {},
     "output_type": "display_data"
    },
    {
     "name": "stdout",
     "output_type": "stream",
     "text": [
      "Epoch 8 train acc: 0.9755\n",
      "Epoch 8 test acc: 0.86125\n"
     ]
    },
    {
     "data": {
      "application/vnd.jupyter.widget-view+json": {
       "model_id": "27aa66175c9f427795c2f3f82fd3318c",
       "version_major": 2,
       "version_minor": 0
      },
      "text/plain": [
       "  0%|          | 0/79 [00:00<?, ?it/s]"
      ]
     },
     "metadata": {},
     "output_type": "display_data"
    },
    {
     "name": "stdout",
     "output_type": "stream",
     "text": [
      "Epoch 9 train acc: 0.96785\n",
      "Epoch 9 test acc: 0.846\n"
     ]
    },
    {
     "data": {
      "application/vnd.jupyter.widget-view+json": {
       "model_id": "e7ba48170cde4a3e82dfbb5a275dd93c",
       "version_major": 2,
       "version_minor": 0
      },
      "text/plain": [
       "  0%|          | 0/79 [00:00<?, ?it/s]"
      ]
     },
     "metadata": {},
     "output_type": "display_data"
    },
    {
     "name": "stdout",
     "output_type": "stream",
     "text": [
      "Epoch 10 train acc: 0.9876\n",
      "Epoch 10 test acc: 0.869\n"
     ]
    }
   ],
   "source": [
    "train_choosen_classes(train_dataloader, test_dataloader, epochs=10, lr=0.01,masks=None)"
   ]
  },
  {
   "cell_type": "code",
   "execution_count": 6,
   "metadata": {},
   "outputs": [],
   "source": [
    "def load_model(num_classes):\n",
    "    model = resnet50(num_classes=num_classes)\n",
    "    model.load_state_dict(torch.load(\"weights/best_model.pth\"))\n",
    "    model = model.to(device)\n",
    "    model.eval()\n",
    "    return model\n"
   ]
  },
  {
   "cell_type": "code",
   "execution_count": 7,
   "metadata": {},
   "outputs": [
    {
     "name": "stdout",
     "output_type": "stream",
     "text": [
      "test acc: 0.87275\n"
     ]
    }
   ],
   "source": [
    "model = load_model(num_classes=4)\n",
    "correct, all = test_model(model, test_dataloader)\n",
    "print(f\"test acc: {correct / all}\")"
   ]
  },
  {
   "cell_type": "code",
   "execution_count": 8,
   "metadata": {},
   "outputs": [],
   "source": [
    "all_layer_names = list()\n",
    "for name,param in model.named_parameters():\n",
    "    if \"weight\" in name:\n",
    "        reg = re.compile(\"\\.\\d\\.\")\n",
    "        finded = reg.findall(name)\n",
    "        if len(finded) == 0:\n",
    "            all_layer_names.append(name[:-7])\n",
    "        else:\n",
    "            for f in finded:\n",
    "                f = f[1:-1]\n",
    "                name = name.replace(f\".{f}.\", f\"[{f}].\")\n",
    "            all_layer_names.append(name[:-7])"
   ]
  },
  {
   "cell_type": "code",
   "execution_count": 9,
   "metadata": {},
   "outputs": [
    {
     "name": "stdout",
     "output_type": "stream",
     "text": [
      "Files already downloaded and verified\n",
      "Files already downloaded and verified\n"
     ]
    }
   ],
   "source": [
    "train_loaders, test_loaders, test_loaders_all = load_cifar10()"
   ]
  },
  {
   "cell_type": "code",
   "execution_count": 10,
   "metadata": {},
   "outputs": [
    {
     "name": "stderr",
     "output_type": "stream",
     "text": [
      "100%|██████████| 20/20 [00:01<00:00, 10.54it/s]\n"
     ]
    },
    {
     "name": "stdout",
     "output_type": "stream",
     "text": [
      "0.06343568496704101\n"
     ]
    },
    {
     "name": "stderr",
     "output_type": "stream",
     "text": [
      "100%|██████████| 20/20 [00:01<00:00, 11.77it/s]\n"
     ]
    },
    {
     "name": "stdout",
     "output_type": "stream",
     "text": [
      "0.15740043601989745\n"
     ]
    },
    {
     "name": "stderr",
     "output_type": "stream",
     "text": [
      "100%|██████████| 20/20 [00:01<00:00, 11.74it/s]\n"
     ]
    },
    {
     "name": "stdout",
     "output_type": "stream",
     "text": [
      "0.3945034729003906\n"
     ]
    },
    {
     "name": "stderr",
     "output_type": "stream",
     "text": [
      "100%|██████████| 20/20 [00:01<00:00, 11.46it/s]\n"
     ]
    },
    {
     "name": "stdout",
     "output_type": "stream",
     "text": [
      "0.8578034790039063\n"
     ]
    },
    {
     "name": "stderr",
     "output_type": "stream",
     "text": [
      "100%|██████████| 20/20 [00:01<00:00, 11.25it/s]\n"
     ]
    },
    {
     "name": "stdout",
     "output_type": "stream",
     "text": [
      "1.5460462219238282\n"
     ]
    },
    {
     "name": "stderr",
     "output_type": "stream",
     "text": [
      "d:\\Documents\\GitHub\\Neural-importance\\P2参数固定\\attack.py:51: VisibleDeprecationWarning: Creating an ndarray from ragged nested sequences (which is a list-or-tuple of lists-or-tuples-or ndarrays with different lengths or shapes) is deprecated. If you meant to do this, you must specify 'dtype=object' when creating the ndarray.\n",
      "  layer_totals = np.array(layer_totals)\n",
      "d:\\Documents\\GitHub\\Neural-importance\\P2参数固定\\utils.py:15: VisibleDeprecationWarning: Creating an ndarray from ragged nested sequences (which is a list-or-tuple of lists-or-tuples-or ndarrays with different lengths or shapes) is deprecated. If you meant to do this, you must specify 'dtype=object' when creating the ndarray.\n",
      "  x = np.array(x)\n",
      "100%|██████████| 20/20 [00:01<00:00, 11.48it/s]\n"
     ]
    },
    {
     "name": "stdout",
     "output_type": "stream",
     "text": [
      "0.0386423077583313\n"
     ]
    },
    {
     "name": "stderr",
     "output_type": "stream",
     "text": [
      "100%|██████████| 20/20 [00:01<00:00, 11.69it/s]\n"
     ]
    },
    {
     "name": "stdout",
     "output_type": "stream",
     "text": [
      "0.1051037015914917\n"
     ]
    },
    {
     "name": "stderr",
     "output_type": "stream",
     "text": [
      "100%|██████████| 20/20 [00:01<00:00, 11.67it/s]\n"
     ]
    },
    {
     "name": "stdout",
     "output_type": "stream",
     "text": [
      "0.3275358253479004\n"
     ]
    },
    {
     "name": "stderr",
     "output_type": "stream",
     "text": [
      "100%|██████████| 20/20 [00:01<00:00, 11.40it/s]\n"
     ]
    },
    {
     "name": "stdout",
     "output_type": "stream",
     "text": [
      "0.8173002777099609\n"
     ]
    },
    {
     "name": "stderr",
     "output_type": "stream",
     "text": [
      "100%|██████████| 20/20 [00:01<00:00, 11.66it/s]\n"
     ]
    },
    {
     "name": "stdout",
     "output_type": "stream",
     "text": [
      "1.5427132446289062\n"
     ]
    },
    {
     "name": "stderr",
     "output_type": "stream",
     "text": [
      "100%|██████████| 20/20 [00:01<00:00, 11.44it/s]\n"
     ]
    },
    {
     "name": "stdout",
     "output_type": "stream",
     "text": [
      "0.10755170097351074\n"
     ]
    },
    {
     "name": "stderr",
     "output_type": "stream",
     "text": [
      "100%|██████████| 20/20 [00:01<00:00, 11.79it/s]\n"
     ]
    },
    {
     "name": "stdout",
     "output_type": "stream",
     "text": [
      "0.2414998825073242\n"
     ]
    },
    {
     "name": "stderr",
     "output_type": "stream",
     "text": [
      "100%|██████████| 20/20 [00:01<00:00, 11.58it/s]\n"
     ]
    },
    {
     "name": "stdout",
     "output_type": "stream",
     "text": [
      "0.5466656471252441\n"
     ]
    },
    {
     "name": "stderr",
     "output_type": "stream",
     "text": [
      "100%|██████████| 20/20 [00:01<00:00, 11.38it/s]\n"
     ]
    },
    {
     "name": "stdout",
     "output_type": "stream",
     "text": [
      "1.1162116973876952\n"
     ]
    },
    {
     "name": "stderr",
     "output_type": "stream",
     "text": [
      "100%|██████████| 20/20 [00:01<00:00, 11.71it/s]\n"
     ]
    },
    {
     "name": "stdout",
     "output_type": "stream",
     "text": [
      "2.0155708953857423\n"
     ]
    },
    {
     "name": "stderr",
     "output_type": "stream",
     "text": [
      "100%|██████████| 20/20 [00:01<00:00, 11.74it/s]\n"
     ]
    },
    {
     "name": "stdout",
     "output_type": "stream",
     "text": [
      "0.07487216796875\n"
     ]
    },
    {
     "name": "stderr",
     "output_type": "stream",
     "text": [
      "100%|██████████| 20/20 [00:01<00:00, 11.80it/s]\n"
     ]
    },
    {
     "name": "stdout",
     "output_type": "stream",
     "text": [
      "0.16055814151763917\n"
     ]
    },
    {
     "name": "stderr",
     "output_type": "stream",
     "text": [
      "100%|██████████| 20/20 [00:01<00:00, 11.57it/s]\n"
     ]
    },
    {
     "name": "stdout",
     "output_type": "stream",
     "text": [
      "0.38959078521728513\n"
     ]
    },
    {
     "name": "stderr",
     "output_type": "stream",
     "text": [
      "100%|██████████| 20/20 [00:01<00:00, 11.64it/s]\n"
     ]
    },
    {
     "name": "stdout",
     "output_type": "stream",
     "text": [
      "0.8893507110595703\n"
     ]
    },
    {
     "name": "stderr",
     "output_type": "stream",
     "text": [
      "100%|██████████| 20/20 [00:01<00:00, 11.15it/s]\n"
     ]
    },
    {
     "name": "stdout",
     "output_type": "stream",
     "text": [
      "1.6807810272216797\n"
     ]
    }
   ],
   "source": [
    "all_totals = list()\n",
    "for clz in choosen_classes:\n",
    "    all_totals.append(attack(train_loaders[clz], all_layer_names, load_model, alpha=0.000015,num_classes=4))"
   ]
  },
  {
   "cell_type": "code",
   "execution_count": 39,
   "metadata": {},
   "outputs": [
    {
     "name": "stderr",
     "output_type": "stream",
     "text": [
      "C:\\Users\\Zhang\\AppData\\Local\\Temp\\ipykernel_23760\\3101456120.py:12: VisibleDeprecationWarning: Creating an ndarray from ragged nested sequences (which is a list-or-tuple of lists-or-tuples-or ndarrays with different lengths or shapes) is deprecated. If you meant to do this, you must specify 'dtype=object' when creating the ndarray.\n",
      "  combine = np.array(combine)\n"
     ]
    }
   ],
   "source": [
    "thre = 0.25\n",
    "net = load_model(num_classes=4)\n",
    "layer_remove = dict()\n",
    "for layer in all_layer_names:\n",
    "    layer_remove[layer] = None\n",
    "for i in range(len(all_totals)):\n",
    "    totals = all_totals[i]\n",
    "    totals = [totals[layer] for layer in all_layer_names]\n",
    "    layer_weights = [eval(\"net.\" + layer + \".weight.cpu().detach().numpy()\")\n",
    "                     for layer in all_layer_names]\n",
    "    combine = [np.abs(total * weight) for total, weight in zip(totals, layer_weights)]\n",
    "    combine = np.array(combine)\n",
    "    combine_flatten = np.concatenate([combine_.flatten() for combine_ in combine],axis=0)\n",
    "    threshold = np.sort(combine_flatten)[::-1][int(len(combine_flatten) * thre)]\n",
    "    for idx,layer in enumerate(all_layer_names):\n",
    "        if layer_remove[layer] is None:\n",
    "            layer_remove[layer] = combine[idx] > threshold\n",
    "        else:\n",
    "            t = combine[idx] > threshold\n",
    "            layer_remove[layer] = layer_remove[layer] | t"
   ]
  },
  {
   "cell_type": "code",
   "execution_count": 40,
   "metadata": {},
   "outputs": [
    {
     "name": "stdout",
     "output_type": "stream",
     "text": [
      "conv1 0.9663052721088435\n",
      "bn1 1.0\n",
      "layer1[0].conv1 0.96728515625\n",
      "layer1[0].bn1 1.0\n",
      "layer1[0].conv2 0.7099066840277778\n",
      "layer1[0].bn2 1.0\n",
      "layer1[0].conv3 0.8153076171875\n",
      "layer1[0].bn3 1.0\n",
      "layer1[0].downsample[0] 0.92315673828125\n",
      "layer1[0].downsample[1] 1.0\n",
      "layer1[1].conv1 0.79901123046875\n",
      "layer1[1].bn1 1.0\n",
      "layer1[1].conv2 0.7809516059027778\n",
      "layer1[1].bn2 1.0\n",
      "layer1[1].conv3 0.858642578125\n",
      "layer1[1].bn3 0.98046875\n",
      "layer1[2].conv1 0.83544921875\n",
      "layer1[2].bn1 1.0\n",
      "layer1[2].conv2 0.8398980034722222\n",
      "layer1[2].bn2 1.0\n",
      "layer1[2].conv3 0.8336181640625\n",
      "layer1[2].bn3 0.94921875\n",
      "layer2[0].conv1 0.94921875\n",
      "layer2[0].bn1 1.0\n",
      "layer2[0].conv2 0.7417534722222222\n",
      "layer2[0].bn2 1.0\n",
      "layer2[0].conv3 0.77362060546875\n",
      "layer2[0].bn3 0.974609375\n",
      "layer2[0].downsample[0] 0.6619415283203125\n",
      "layer2[0].downsample[1] 1.0\n",
      "layer2[1].conv1 0.545867919921875\n",
      "layer2[1].bn1 1.0\n",
      "layer2[1].conv2 0.5102335611979166\n",
      "layer2[1].bn2 1.0\n",
      "layer2[1].conv3 0.7311248779296875\n",
      "layer2[1].bn3 0.99609375\n",
      "layer2[2].conv1 0.710296630859375\n",
      "layer2[2].bn1 1.0\n",
      "layer2[2].conv2 0.5830078125\n",
      "layer2[2].bn2 1.0\n",
      "layer2[2].conv3 0.681549072265625\n",
      "layer2[2].bn3 0.99609375\n",
      "layer2[3].conv1 0.72393798828125\n",
      "layer2[3].bn1 1.0\n",
      "layer2[3].conv2 0.6455891927083334\n",
      "layer2[3].bn2 1.0\n",
      "layer2[3].conv3 0.7098388671875\n",
      "layer2[3].bn3 0.95703125\n",
      "layer3[0].conv1 0.8157958984375\n",
      "layer3[0].bn1 1.0\n",
      "layer3[0].conv2 0.4495561387803819\n",
      "layer3[0].bn2 1.0\n",
      "layer3[0].conv3 0.724151611328125\n",
      "layer3[0].bn3 0.9990234375\n",
      "layer3[0].downsample[0] 0.39161109924316406\n",
      "layer3[0].downsample[1] 1.0\n",
      "layer3[1].conv1 0.4310569763183594\n",
      "layer3[1].bn1 1.0\n",
      "layer3[1].conv2 0.3208702935112847\n",
      "layer3[1].bn2 1.0\n",
      "layer3[1].conv3 0.48490142822265625\n",
      "layer3[1].bn3 0.9951171875\n",
      "layer3[2].conv1 0.39795684814453125\n",
      "layer3[2].bn1 1.0\n",
      "layer3[2].conv2 0.3210618760850694\n",
      "layer3[2].bn2 1.0\n",
      "layer3[2].conv3 0.4280967712402344\n",
      "layer3[2].bn3 0.9921875\n",
      "layer3[3].conv1 0.5222892761230469\n",
      "layer3[3].bn1 1.0\n",
      "layer3[3].conv2 0.3240152994791667\n",
      "layer3[3].bn2 1.0\n",
      "layer3[3].conv3 0.4666748046875\n",
      "layer3[3].bn3 1.0\n",
      "layer3[4].conv1 0.4267005920410156\n",
      "layer3[4].bn1 1.0\n",
      "layer3[4].conv2 0.3191494411892361\n",
      "layer3[4].bn2 1.0\n",
      "layer3[4].conv3 0.4233818054199219\n",
      "layer3[4].bn3 0.99609375\n",
      "layer3[5].conv1 0.4908294677734375\n",
      "layer3[5].bn1 1.0\n",
      "layer3[5].conv2 0.3263261583116319\n",
      "layer3[5].bn2 1.0\n",
      "layer3[5].conv3 0.5026206970214844\n",
      "layer3[5].bn3 0.994140625\n",
      "layer4[0].conv1 0.5048809051513672\n",
      "layer4[0].bn1 1.0\n",
      "layer4[0].conv2 0.2835248311360677\n",
      "layer4[0].bn2 1.0\n",
      "layer4[0].conv3 0.46636962890625\n",
      "layer4[0].bn3 1.0\n",
      "layer4[0].downsample[0] 0.2853364944458008\n",
      "layer4[0].downsample[1] 1.0\n",
      "layer4[1].conv1 0.32428932189941406\n",
      "layer4[1].bn1 1.0\n",
      "layer4[1].conv2 0.23542700873480904\n",
      "layer4[1].bn2 1.0\n",
      "layer4[1].conv3 0.3854398727416992\n",
      "layer4[1].bn3 1.0\n",
      "layer4[2].conv1 0.234710693359375\n",
      "layer4[2].bn1 1.0\n",
      "layer4[2].conv2 0.16543875800238717\n",
      "layer4[2].bn2 1.0\n",
      "layer4[2].conv3 0.3399314880371094\n",
      "layer4[2].bn3 1.0\n",
      "fc 0.922119140625\n"
     ]
    }
   ],
   "source": [
    "temp = 0\n",
    "all_num = 0\n",
    "for layer in layer_remove:\n",
    "    temp += layer_remove[layer].sum()\n",
    "    all_num += layer_remove[layer].size\n",
    "    print(layer, layer_remove[layer].mean())"
   ]
  },
  {
   "cell_type": "code",
   "execution_count": 41,
   "metadata": {},
   "outputs": [
    {
     "data": {
      "text/plain": [
       "0.35120302274225806"
      ]
     },
     "execution_count": 41,
     "metadata": {},
     "output_type": "execute_result"
    }
   ],
   "source": [
    "temp / all_num"
   ]
  },
  {
   "cell_type": "code",
   "execution_count": 42,
   "metadata": {},
   "outputs": [
    {
     "name": "stdout",
     "output_type": "stream",
     "text": [
      "原始准确率 0.87275\n"
     ]
    }
   ],
   "source": [
    "with torch.no_grad():\n",
    "    net = load_model(num_classes=4)\n",
    "    correct, all = test_model(net, test_dataloader)\n",
    "    print(\"原始准确率\", correct / all)\n"
   ]
  },
  {
   "cell_type": "code",
   "execution_count": 43,
   "metadata": {},
   "outputs": [
    {
     "name": "stdout",
     "output_type": "stream",
     "text": [
      "现在准确率 0.8295\n"
     ]
    }
   ],
   "source": [
    "with torch.no_grad():\n",
    "    net = load_model(num_classes=4)\n",
    "    for layer in all_layer_names:\n",
    "        if len(eval(\"net.\" + layer + \".weight.shape\")) == 2:\n",
    "            exec(\"net.\" + layer + \".weight[~layer_remove[layer],:] = 0\")\n",
    "        else:\n",
    "            exec(\"net.\" + layer + \".weight[~layer_remove[layer]] = 0\")\n",
    "    # for layer in [\"layer3[0].conv2\"]:\n",
    "    #     exec(\"net.\" + layer + \".weight[~remove] = 0\")\n",
    "    correct, all = test_model(net, test_dataloader)\n",
    "    print(\"现在准确率\", correct / all)\n"
   ]
  },
  {
   "cell_type": "code",
   "execution_count": 45,
   "metadata": {},
   "outputs": [
    {
     "name": "stdout",
     "output_type": "stream",
     "text": [
      "对比准确率 0.25\n"
     ]
    }
   ],
   "source": [
    "with torch.no_grad():\n",
    "    net = load_model(num_classes=4)\n",
    "    for layer in all_layer_names:\n",
    "        keep_rate = layer_remove[layer].sum() / layer_remove[layer].size\n",
    "        weight_flatten = eval(\"net.\" + layer + \".weight.cpu().detach().numpy()\").flatten()\n",
    "        threshold = np.sort(weight_flatten)[int(len(weight_flatten) * (1 - keep_rate))]\n",
    "        if len(eval(\"net.\" + layer + \".weight.shape\")) == 2:\n",
    "            exec(\"net.\" + layer + \".weight[eval ('net.' + layer + '.weight.cpu().detach().numpy()') < threshold,:] = 0\")\n",
    "        else:\n",
    "            exec(\"net.\" + layer + \".weight[eval('net.' + layer + '.weight.cpu().detach().numpy()') < threshold] = 0\")\n",
    "    correct, all = test_model(net, test_dataloader)\n",
    "    print(\"对比准确率\", correct / all)"
   ]
  },
  {
   "cell_type": "code",
   "execution_count": null,
   "metadata": {},
   "outputs": [],
   "source": []
  }
 ],
 "metadata": {
  "kernelspec": {
   "display_name": "Python 3",
   "language": "python",
   "name": "python3"
  },
  "language_info": {
   "codemirror_mode": {
    "name": "ipython",
    "version": 3
   },
   "file_extension": ".py",
   "mimetype": "text/x-python",
   "name": "python",
   "nbconvert_exporter": "python",
   "pygments_lexer": "ipython3",
   "version": "3.10.8 (tags/v3.10.8:aaaf517, Oct 11 2022, 16:50:30) [MSC v.1933 64 bit (AMD64)]"
  },
  "orig_nbformat": 4,
  "vscode": {
   "interpreter": {
    "hash": "c1050a06cbaeed8b46d187604389f32b45fa537b377a0b8f76b38e0c23b5abbd"
   }
  }
 },
 "nbformat": 4,
 "nbformat_minor": 2
}
