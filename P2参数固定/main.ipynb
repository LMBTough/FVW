{
 "cells": [
  {
   "cell_type": "code",
   "execution_count": 1,
   "metadata": {},
   "outputs": [],
   "source": [
    "import torch\n",
    "import numpy as np\n",
    "from torchvision.models import resnet50\n",
    "import torch.nn as nn\n",
    "from torch import optim\n",
    "from torch.utils.data import DataLoader\n",
    "from torchvision import transforms\n",
    "from datasets import load_cifar10_choosen\n",
    "from attack import attack,test_model\n",
    "device = \"cuda\" if torch.cuda.is_available() else \"cpu\"\n"
   ]
  },
  {
   "cell_type": "code",
   "execution_count": 2,
   "metadata": {},
   "outputs": [
    {
     "name": "stdout",
     "output_type": "stream",
     "text": [
      "Files already downloaded and verified\n",
      "Files already downloaded and verified\n"
     ]
    }
   ],
   "source": [
    "train_dataloader, test_dataloader, test_dataloader_all = load_cifar10_choosen(choosen_classes=[0, 1, 2, 3])\n"
   ]
  },
  {
   "cell_type": "code",
   "execution_count": 5,
   "metadata": {},
   "outputs": [],
   "source": [
    "def train_choosen_classes(train_dataloader, test_dataloader, epochs=10, lr=0.001):\n",
    "    model = resnet50(pretrained=False, num_classes=10).to(device)\n",
    "    loss_func = nn.CrossEntropyLoss()\n",
    "    best_acc = -np.inf\n",
    "    for epoch in range(epochs):\n",
    "        model.train()\n",
    "        all_preds = []\n",
    "        all_labels = []\n",
    "        for i, (x, y) in enumerate(train_dataloader):\n",
    "            x, y = x.to(device), y.to(device)\n",
    "            output = model(x)\n",
    "            loss = loss_func(output, y)\n",
    "            loss.backward()\n",
    "            for param in model.parameters():\n",
    "                param.data -= lr * param.grad\n",
    "                param.grad.zero_()\n",
    "        model.eval()\n",
    "        train_correct,train_total = test_model(model, train_dataloader)\n",
    "        test_correct, test_total = test_model(model, test_dataloader)\n",
    "        print(f\"Epoch {epoch + 1} train acc: {train_correct / train_total}\")\n",
    "        print(f\"Epoch {epoch + 1} test acc: {test_correct / test_total}\")\n",
    "        if test_correct / test_total > best_acc:\n",
    "            best_acc = test_correct / test_total\n",
    "            torch.save(model.state_dict(), \"best_model.pth\")"
   ]
  },
  {
   "cell_type": "code",
   "execution_count": null,
   "metadata": {},
   "outputs": [],
   "source": [
    "train_choosen_classes(train_dataloader, test_dataloader, epochs=10, lr=0.001)"
   ]
  }
 ],
 "metadata": {
  "kernelspec": {
   "display_name": "Python 3",
   "language": "python",
   "name": "python3"
  },
  "language_info": {
   "codemirror_mode": {
    "name": "ipython",
    "version": 3
   },
   "file_extension": ".py",
   "mimetype": "text/x-python",
   "name": "python",
   "nbconvert_exporter": "python",
   "pygments_lexer": "ipython3",
   "version": "3.10.8"
  },
  "orig_nbformat": 4,
  "vscode": {
   "interpreter": {
    "hash": "c1050a06cbaeed8b46d187604389f32b45fa537b377a0b8f76b38e0c23b5abbd"
   }
  }
 },
 "nbformat": 4,
 "nbformat_minor": 2
}
