{
 "cells": [
  {
   "cell_type": "code",
   "execution_count": 10,
   "metadata": {},
   "outputs": [],
   "source": [
    "file = open(\"参数归因Cifar10/main.ipynb\",\"r\",encoding=\"utf-8\")"
   ]
  },
  {
   "cell_type": "code",
   "execution_count": 11,
   "metadata": {},
   "outputs": [],
   "source": [
    "import json\n",
    "notebook_file = json.load(file)"
   ]
  },
  {
   "cell_type": "code",
   "execution_count": 12,
   "metadata": {},
   "outputs": [
    {
     "data": {
      "text/plain": [
       "['import torch\\n',\n",
       " 'import torch.nn as nn\\n',\n",
       " 'from torch.utils.data import DataLoader, TensorDataset\\n',\n",
       " 'import numpy as np\\n',\n",
       " 'import torch.optim as optim\\n',\n",
       " 'import matplotlib.pyplot as plt\\n',\n",
       " 'import torch.nn.functional as F\\n',\n",
       " 'import torchvision\\n',\n",
       " 'import pickle as pkl\\n',\n",
       " 'from tqdm.notebook import tqdm\\n',\n",
       " 'from attack import attack,parse_param,test_model\\n',\n",
       " 'from utils import get_device,caculate_param_remove\\n',\n",
       " 'import random\\n',\n",
       " 'device = get_device()']"
      ]
     },
     "execution_count": 12,
     "metadata": {},
     "output_type": "execute_result"
    }
   ],
   "source": [
    "notebook_file[\"cells\"][0][\"source\"]"
   ]
  },
  {
   "cell_type": "code",
   "execution_count": 16,
   "metadata": {},
   "outputs": [
    {
     "data": {
      "text/plain": [
       "0"
      ]
     },
     "execution_count": 16,
     "metadata": {},
     "output_type": "execute_result"
    }
   ],
   "source": [
    "import os\n",
    "with open(\"test.py\",\"w\",encoding=\"utf-8\") as f:\n",
    "    for idx,cell in enumerate(notebook_file[\"cells\"]):\n",
    "        f.write(r\"# %%\")\n",
    "        f.write(\"\\n\")\n",
    "        for elem in cell[\"source\"]:\n",
    "            f.write(elem)\n",
    "        if idx == 0:\n",
    "            f.write(\"\\nimport os\\n\")\n",
    "            f.write(\"file_name = os.path.basename(__file__)\\n\")\n",
    "            f.write('log_name = file_name.split(\".\")[0] + \".log\"\\n')\n",
    "            f.write('log_file = open(log_name, \"w\")\\n')\n",
    "f.close()\n",
    "os.system(f\"autopep8 test.py --in-place\")"
   ]
  },
  {
   "cell_type": "code",
   "execution_count": null,
   "metadata": {},
   "outputs": [],
   "source": []
  }
 ],
 "metadata": {
  "kernelspec": {
   "display_name": "Python 3",
   "language": "python",
   "name": "python3"
  },
  "language_info": {
   "codemirror_mode": {
    "name": "ipython",
    "version": 3
   },
   "file_extension": ".py",
   "mimetype": "text/x-python",
   "name": "python",
   "nbconvert_exporter": "python",
   "pygments_lexer": "ipython3",
   "version": "3.10.9"
  },
  "orig_nbformat": 4,
  "vscode": {
   "interpreter": {
    "hash": "aee8b7b246df8f9039afb4144a1f6fd8d2ca17a180786b69acc140d282b71a49"
   }
  }
 },
 "nbformat": 4,
 "nbformat_minor": 2
}
