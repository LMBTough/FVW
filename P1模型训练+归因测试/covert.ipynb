{
 "cells": [
  {
   "cell_type": "code",
   "execution_count": 19,
   "metadata": {},
   "outputs": [],
   "source": [
    "import os\n",
    "import json\n",
    "\n",
    "for dir in [\"参数归因Cifar10\", \"参数归因Cifar100\", \"参数归因Cifar10不分label\", \"参数归因Cifar100不分label\"]:\n",
    "    run_sh = open(os.path.join(dir, \"run.sh\"), \"w\", encoding=\"utf-8\")\n",
    "    for notebook_file_name in [\"main.ipynb\", \"minus_main.ipynb\", \"op_main.ipynb\", \"sm_main.ipynb\"]:\n",
    "        for thre in [0.1, 0.15, 0.2, 0.3, 0.5, 0.7]:\n",
    "            py_name = notebook_file_name.split(\".\")[0] + \"_\" + str(thre) + \".py\"\n",
    "            run_sh.write(f\"python {py_name}\" + \"\\n\")\n",
    "            py_path = os.path.join(dir, py_name)\n",
    "            notebook_file = open(os.path.join(\n",
    "                dir, notebook_file_name), \"r\", encoding=\"utf-8\")\n",
    "            notebook_file = json.load(notebook_file)\n",
    "            with open(py_path, \"w\", encoding=\"utf-8\") as f:\n",
    "                for idx, cell in enumerate(notebook_file[\"cells\"]):\n",
    "                    f.write(\"\\n\")\n",
    "                    f.write(r\"# %%\")\n",
    "                    f.write(\"\\n\")\n",
    "                    for elem in cell[\"source\"]:\n",
    "                        if \"temp / all_num\" in elem:\n",
    "                            elem = 'log_file.write(\"保留率: \" + str(temp / all_num) + \"\\\\n\")\\n'\n",
    "                        elif 'print(\"原始准确率\"' in elem:\n",
    "                            elem = '    log_file.write(\"原始准确率: \" + str((preds.argmax(-1) == labels).mean()) + \"\\\\n\")\\n'\n",
    "                        elif 'print(\"现在准确率\"' in elem:\n",
    "                            elem = '    log_file.write(\"现在准确率: \" + str((preds.argmax(-1) == labels).mean()) + \"\\\\n\")\\n'\n",
    "                        elif 'print(\"对比实验准确率\"' in elem:\n",
    "                            elem = '    log_file.write(\"对比实验准确率: \" + str((preds.argmax(-1) == labels).mean()) + \"\\\\n\")\\n'\n",
    "                        elif \"pkl.dump(all_totals\" in elem:\n",
    "                            elem = elem.split('.')\n",
    "                            elem = \".\".join(elem[:-1]) + f\"_{thre}\" + \".\" + elem[-1]\n",
    "                            # pkl.dump(all_totals, open(\"weights/minus_totals.pkl\", \"wb\"))\n",
    "                        elif elem.startswith(\"thre = \"):\n",
    "                            elem = f\"thre = {thre}\\n\"\n",
    "                        f.write(elem)\n",
    "                    if idx == 0:\n",
    "                        f.write(\"\\nimport os\\n\")\n",
    "                        f.write(\"file_name = os.path.basename(__file__)\\n\")\n",
    "                        f.write(\n",
    "                            'log_name = file_name.replace(\"py\",\"log\")\\n')\n",
    "                        f.write('log_file = open(log_name, \"w\")\\n')\n",
    "                f.write(\"\\nlog_file.close()\\n\")\n",
    "            f.close()\n",
    "    run_sh.close()\n",
    "            # os.system(f\"autopep8 {py_path} --in-place\")\n",
    "\n",
    "#     with open(\"test.py\",\"w\",encoding=\"utf-8\") as f:\n",
    "#         for idx,cell in enumerate(notebook_file[\"cells\"]):\n",
    "#             f.write(r\"# %%\")\n",
    "#             f.write(\"\\n\")\n",
    "#             for elem in cell[\"source\"]:\n",
    "#                 if elem == \"temp / all_num\\n\":\n",
    "#                     elem = 'log_file.write(\"保留率: \" + str(temp / all_num) + \"\\\\n\")\\n'\n",
    "#                 elif elem == '    print(\"原始准确率\", (preds.argmax(-1) == labels).mean())\\n':\n",
    "#                     elem = '    log_file.write(\"原始准确率: \" + str((preds.argmax(-1) == labels).mean()) + \"\\\\n\")\\n'\n",
    "#                 elif elem == '    print(\"现在准确率\", (preds.argmax(-1) == labels).mean())\\n':\n",
    "#                     elem = '    log_file.write(\"现在准确率: \" + str((preds.argmax(-1) == labels).mean()) + \"\\\\n\")\\n'\n",
    "#                 elif elem == '    print(\"对比实验准确率\", (preds.argmax(-1) == labels).mean())\\n':\n",
    "#                     elem = '    log_file.write(\"对比实验准确率: \" + str((preds.argmax(-1) == labels).mean()) + \"\\\\n\")\\n'\n",
    "#                 f.write(elem)\n",
    "#             if idx == 0:\n",
    "#                 f.write(\"\\nimport os\\n\")\n",
    "#                 f.write(\"file_name = os.path.basename(__file__)\\n\")\n",
    "#                 f.write('log_name = file_name.split(\".\")[0] + \".log\"\\n')\n",
    "#                 f.write('log_file = open(log_name, \"w\")\\n')\n",
    "#         f.write(\"\\nlog_file.close()\\n\")\n",
    "#     f.close()\n",
    "# # os.system(f\"autopep8 test.py --in-place\")\n"
   ]
  },
  {
   "cell_type": "code",
   "execution_count": null,
   "metadata": {},
   "outputs": [],
   "source": []
  }
 ],
 "metadata": {
  "kernelspec": {
   "display_name": "Python 3",
   "language": "python",
   "name": "python3"
  },
  "language_info": {
   "codemirror_mode": {
    "name": "ipython",
    "version": 3
   },
   "file_extension": ".py",
   "mimetype": "text/x-python",
   "name": "python",
   "nbconvert_exporter": "python",
   "pygments_lexer": "ipython3",
   "version": "3.10.8"
  },
  "orig_nbformat": 4,
  "vscode": {
   "interpreter": {
    "hash": "c1050a06cbaeed8b46d187604389f32b45fa537b377a0b8f76b38e0c23b5abbd"
   }
  }
 },
 "nbformat": 4,
 "nbformat_minor": 2
}
