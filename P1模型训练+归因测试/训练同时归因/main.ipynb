{
 "cells": [
  {
   "cell_type": "code",
   "execution_count": 1,
   "metadata": {},
   "outputs": [],
   "source": [
    "import torch\n",
    "import torch.nn as nn\n",
    "from torch.utils.data import DataLoader, TensorDataset\n",
    "import numpy as np\n",
    "import torch.optim as optim\n",
    "import matplotlib.pyplot as plt\n",
    "import torch.nn.functional as F\n",
    "import torchvision\n",
    "import pickle as pkl\n",
    "from learn2learn.vision.datasets import MiniImagenet\n",
    "from tqdm.notebook import tqdm\n",
    "from attack import attack, parse_param, test_model\n",
    "from utils import get_device, caculate_param_remove\n",
    "import random\n",
    "device = get_device()\n"
   ]
  },
  {
   "cell_type": "code",
   "execution_count": 2,
   "metadata": {},
   "outputs": [],
   "source": [
    "def setup_seed(seed):\n",
    "    torch.manual_seed(seed)\n",
    "    torch.cuda.manual_seed_all(seed)\n",
    "    np.random.seed(seed)\n",
    "    random.seed(seed)\n",
    "    torch.backends.cudnn.deterministic = True\n",
    "\n",
    "\n",
    "setup_seed(3407)\n"
   ]
  },
  {
   "cell_type": "code",
   "execution_count": 3,
   "metadata": {},
   "outputs": [],
   "source": [
    "from datasets import load_cifar10\n",
    "from models.resnet import load_cifar10_resnet50\n",
    "model = load_cifar10_resnet50()\n"
   ]
  },
  {
   "cell_type": "code",
   "execution_count": 4,
   "metadata": {},
   "outputs": [],
   "source": [
    "all_param_names = list()\n",
    "for name, param in model.named_parameters():\n",
    "    if not \"bn\" in name and not \"shortcut.1\" in name:\n",
    "        all_param_names.append(name)\n",
    "all_param_names = all_param_names[:-2]\n"
   ]
  },
  {
   "cell_type": "code",
   "execution_count": 5,
   "metadata": {},
   "outputs": [
    {
     "name": "stdout",
     "output_type": "stream",
     "text": [
      "Files already downloaded and verified\n",
      "Files already downloaded and verified\n"
     ]
    }
   ],
   "source": [
    "train_loaders, test_dataloaders, train_dataloader_all, test_dataloader_all = load_cifar10()\n"
   ]
  },
  {
   "cell_type": "code",
   "execution_count": 6,
   "metadata": {},
   "outputs": [],
   "source": [
    "def train_eval(net, train_loaders, test_dataloaders,train_dataloader_all, test_dataloader_all, epochs=50, lr=0.001):\n",
    "    loss_func = nn.CrossEntropyLoss()\n",
    "    optimizer = optim.Adam(net.parameters(), lr=lr)\n",
    "    for epoch in range(epochs):\n",
    "        net.train()\n",
    "        for x, y in tqdm(train_dataloader_all, total=len(train_dataloader_all)):\n",
    "            x, y = x.to(device), y.to(device)\n",
    "            outputs = net(x)\n",
    "            loss = loss_func(outputs, y)\n",
    "            optimizer.zero_grad()\n",
    "            loss.backward()\n",
    "            optimizer.step()\n",
    "        net.eval()\n",
    "        accs = list()\n",
    "        preds,labels = test_model(net, test_dataloader_all)\n",
    "        acc = np.mean((preds == labels).astype(np.float32))\n",
    "        print(\"epoch: {}, acc: {}\".format(epoch, acc))\n",
    "        all_totals = list()\n",
    "        for i in range(10):\n",
    "            all_totals.append(attack(train_loaders[i], all_param_names,\n",
    "                            net, norm=True, alpha=0.00001, num_steps=4, op=\"add\"))\n",
    "\n",
    "        thre = 0.9\n",
    "        param_remove = caculate_param_remove(all_param_names, all_totals, net, thre)\n",
    "        for param in all_param_names:\n",
    "            param_ = parse_param(param)\n",
    "            try:\n",
    "                exec(\"net.\" + param_ + \"[~param_remove[param]] = 0\")\n",
    "            except:\n",
    "                exec(\"net.\" + param_ + \"[~param_remove[param],:] = 0\")"
   ]
  },
  {
   "cell_type": "code",
   "execution_count": 7,
   "metadata": {},
   "outputs": [
    {
     "data": {
      "application/vnd.jupyter.widget-view+json": {
       "model_id": "e7e54567089d4184ac63266f1371bdbc",
       "version_major": 2,
       "version_minor": 0
      },
      "text/plain": [
       "  0%|          | 0/196 [00:00<?, ?it/s]"
      ]
     },
     "metadata": {},
     "output_type": "display_data"
    },
    {
     "ename": "ValueError",
     "evalue": "too many values to unpack (expected 2)",
     "output_type": "error",
     "traceback": [
      "\u001b[1;31m---------------------------------------------------------------------------\u001b[0m",
      "\u001b[1;31mValueError\u001b[0m                                Traceback (most recent call last)",
      "Cell \u001b[1;32mIn [7], line 1\u001b[0m\n\u001b[1;32m----> 1\u001b[0m train_eval(model, train_loaders, test_dataloaders,train_dataloader_all, test_dataloader_all, epochs\u001b[39m=\u001b[39;49m\u001b[39m50\u001b[39;49m, lr\u001b[39m=\u001b[39;49m\u001b[39m0.001\u001b[39;49m)\n",
      "Cell \u001b[1;32mIn [6], line 15\u001b[0m, in \u001b[0;36mtrain_eval\u001b[1;34m(net, train_loaders, test_dataloaders, train_dataloader_all, test_dataloader_all, epochs, lr)\u001b[0m\n\u001b[0;32m     13\u001b[0m net\u001b[39m.\u001b[39meval()\n\u001b[0;32m     14\u001b[0m accs \u001b[39m=\u001b[39m \u001b[39mlist\u001b[39m()\n\u001b[1;32m---> 15\u001b[0m preds,labels \u001b[39m=\u001b[39m test_model(net, test_dataloaders)\n\u001b[0;32m     16\u001b[0m acc \u001b[39m=\u001b[39m np\u001b[39m.\u001b[39mmean((preds \u001b[39m==\u001b[39m labels)\u001b[39m.\u001b[39mastype(np\u001b[39m.\u001b[39mfloat32))\n\u001b[0;32m     17\u001b[0m \u001b[39mprint\u001b[39m(\u001b[39m\"\u001b[39m\u001b[39mepoch: \u001b[39m\u001b[39m{}\u001b[39;00m\u001b[39m, acc: \u001b[39m\u001b[39m{}\u001b[39;00m\u001b[39m\"\u001b[39m\u001b[39m.\u001b[39mformat(epoch, acc))\n",
      "File \u001b[1;32md:\\Documents\\GitHub\\Neural-importance\\P1模型训练+归因测试\\训练同时归因\\attack.py:13\u001b[0m, in \u001b[0;36mtest_model\u001b[1;34m(net, test_loader)\u001b[0m\n\u001b[0;32m     11\u001b[0m labels \u001b[39m=\u001b[39m \u001b[39mlist\u001b[39m()\n\u001b[0;32m     12\u001b[0m \u001b[39mwith\u001b[39;00m torch\u001b[39m.\u001b[39mno_grad():\n\u001b[1;32m---> 13\u001b[0m     \u001b[39mfor\u001b[39;00m x, y \u001b[39min\u001b[39;00m test_loader:\n\u001b[0;32m     14\u001b[0m         x, y \u001b[39m=\u001b[39m x\u001b[39m.\u001b[39mto(device), y\u001b[39m.\u001b[39mto(device)\n\u001b[0;32m     15\u001b[0m         outputs \u001b[39m=\u001b[39m net(x)\n",
      "\u001b[1;31mValueError\u001b[0m: too many values to unpack (expected 2)"
     ]
    }
   ],
   "source": [
    "train_eval(model, train_loaders, test_dataloaders,train_dataloader_all, test_dataloader_all, epochs=50, lr=0.001)"
   ]
  },
  {
   "cell_type": "code",
   "execution_count": null,
   "metadata": {},
   "outputs": [],
   "source": []
  }
 ],
 "metadata": {
  "kernelspec": {
   "display_name": "Python 3",
   "language": "python",
   "name": "python3"
  },
  "language_info": {
   "codemirror_mode": {
    "name": "ipython",
    "version": 3
   },
   "file_extension": ".py",
   "mimetype": "text/x-python",
   "name": "python",
   "nbconvert_exporter": "python",
   "pygments_lexer": "ipython3",
   "version": "3.10.8"
  },
  "orig_nbformat": 4,
  "vscode": {
   "interpreter": {
    "hash": "c1050a06cbaeed8b46d187604389f32b45fa537b377a0b8f76b38e0c23b5abbd"
   }
  }
 },
 "nbformat": 4,
 "nbformat_minor": 2
}
