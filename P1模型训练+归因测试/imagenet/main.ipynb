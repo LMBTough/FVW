{
 "cells": [
  {
   "cell_type": "code",
   "execution_count": null,
   "metadata": {},
   "outputs": [],
   "source": [
    "import torch\n",
    "import torch.nn as nn\n",
    "from torch.utils.data import DataLoader, TensorDataset\n",
    "import numpy as np\n",
    "import torch.optim as optim\n",
    "import matplotlib.pyplot as plt\n",
    "import torch.nn.functional as F\n",
    "import torchvision\n",
    "import pickle as pkl\n",
    "from tqdm.notebook import tqdm\n",
    "from attack import attack, parse_param, test_model\n",
    "from utils import get_device, caculate_param_remove\n",
    "import random\n",
    "device = get_device()\n"
   ]
  },
  {
   "cell_type": "code",
   "execution_count": null,
   "metadata": {},
   "outputs": [],
   "source": [
    "def setup_seed(seed):\n",
    "    torch.manual_seed(seed)\n",
    "    torch.cuda.manual_seed_all(seed)\n",
    "    np.random.seed(seed)\n",
    "    random.seed(seed)\n",
    "    torch.backends.cudnn.deterministic = True\n",
    "\n",
    "\n",
    "setup_seed(3407)\n"
   ]
  },
  {
   "cell_type": "code",
   "execution_count": null,
   "metadata": {},
   "outputs": [],
   "source": [
    "from datasets import load_imagenet\n",
    "from torchvision.models import efficientnet_b0,EfficientNet_B0_Weights\n",
    "\n",
    "def load_efficientnet_b0():\n",
    "    net = efficientnet_b0(weights=EfficientNet_B0_Weights.IMAGENET1K_V1)\n",
    "    net = net.to(device)\n",
    "    return net\n",
    "model = load_efficientnet_b0()\n",
    "parameters = list(model.named_parameters())\n",
    "all_param_names = list()\n",
    "i = 0\n",
    "while i < len(parameters):\n",
    "    if len(parameters[i][1].shape) == 1 and \"weight\" in parameters[i][0]:\n",
    "        i += 2\n",
    "        continue\n",
    "    else:\n",
    "        # print(parameters[i][0], parameters[i][1].shape)\n",
    "        all_param_names.append(parameters[i][0])\n",
    "        i += 1\n",
    "all_param_names = all_param_names[:-2]"
   ]
  },
  {
   "cell_type": "code",
   "execution_count": null,
   "metadata": {},
   "outputs": [],
   "source": [
    "train_loaders, test_dataloaders, train_dataloader_all, test_dataloader_all = load_imagenet()\n"
   ]
  },
  {
   "cell_type": "code",
   "execution_count": null,
   "metadata": {},
   "outputs": [],
   "source": [
    "all_totals = list()\n",
    "for i in tqdm(range(100)):\n",
    "    all_totals.append(attack(train_loaders[i], all_param_names,\n",
    "                      load_efficientnet_b0, norm=True, alpha=0.00001, num_steps=4, op=\"add\"))"
   ]
  },
  {
   "cell_type": "code",
   "execution_count": 6,
   "metadata": {},
   "outputs": [],
   "source": [
    "pkl.dump(all_totals, open(\"weights/totals.pkl\", \"wb\"))\n",
    "# all_totals = pkl.load(open(\"weights/totals.pkl\", \"rb\"))\n"
   ]
  },
  {
   "cell_type": "code",
   "execution_count": 17,
   "metadata": {},
   "outputs": [],
   "source": [
    "thre = 0.3\n",
    "net = load_efficientnet_b0()\n",
    "param_remove = caculate_param_remove(all_param_names, all_totals, net, thre)"
   ]
  },
  {
   "cell_type": "code",
   "execution_count": 18,
   "metadata": {},
   "outputs": [
    {
     "name": "stdout",
     "output_type": "stream",
     "text": [
      "features.0.0.weight 0.9733796296296297\n",
      "features.1.0.block.0.0.weight 0.9756944444444444\n",
      "features.1.0.block.1.fc1.weight 0.88671875\n",
      "features.1.0.block.1.fc1.bias 1.0\n",
      "features.1.0.block.1.fc2.weight 0.5078125\n",
      "features.1.0.block.1.fc2.bias 0.96875\n",
      "features.1.0.block.2.0.weight 0.982421875\n",
      "features.2.0.block.0.0.weight 0.9563802083333334\n",
      "features.2.0.block.1.0.weight 0.9849537037037037\n",
      "features.2.0.block.2.fc1.weight 0.75\n",
      "features.2.0.block.2.fc1.bias 0.75\n",
      "features.2.0.block.2.fc2.weight 0.5390625\n",
      "features.2.0.block.2.fc2.bias 1.0\n",
      "features.2.0.block.3.0.weight 0.96484375\n",
      "features.2.1.block.0.0.weight 0.9421296296296297\n",
      "features.2.1.block.1.0.weight 0.9537037037037037\n",
      "features.2.1.block.2.fc1.weight 0.6736111111111112\n",
      "features.2.1.block.2.fc1.bias 1.0\n",
      "features.2.1.block.2.fc2.weight 0.6574074074074074\n",
      "features.2.1.block.2.fc2.bias 0.9861111111111112\n",
      "features.2.1.block.3.0.weight 0.9337384259259259\n",
      "features.3.0.block.0.0.weight 0.9508101851851852\n",
      "features.3.0.block.1.0.weight 0.8719444444444444\n",
      "features.3.0.block.2.fc1.weight 0.6956018518518519\n",
      "features.3.0.block.2.fc1.bias 1.0\n",
      "features.3.0.block.2.fc2.weight 0.6944444444444444\n",
      "features.3.0.block.2.fc2.bias 0.9930555555555556\n",
      "features.3.0.block.3.0.weight 0.9482638888888889\n",
      "features.3.1.block.0.0.weight 0.8778125\n",
      "features.3.1.block.1.0.weight 0.7533333333333333\n",
      "features.3.1.block.2.fc1.weight 0.5191666666666667\n",
      "features.3.1.block.2.fc1.bias 1.0\n",
      "features.3.1.block.2.fc2.weight 0.7333333333333333\n",
      "features.3.1.block.2.fc2.bias 0.9708333333333333\n",
      "features.3.1.block.3.0.weight 0.8694791666666667\n",
      "features.4.0.block.0.0.weight 0.9330208333333333\n",
      "features.4.0.block.1.0.weight 0.9967592592592592\n",
      "features.4.0.block.2.fc1.weight 0.45458333333333334\n",
      "features.4.0.block.2.fc1.bias 0.9\n",
      "features.4.0.block.2.fc2.weight 0.30291666666666667\n",
      "features.4.0.block.2.fc2.bias 1.0\n",
      "features.4.0.block.3.0.weight 0.9180729166666667\n",
      "features.4.1.block.0.0.weight 0.74171875\n",
      "features.4.1.block.1.0.weight 0.7527777777777778\n",
      "features.4.1.block.2.fc1.weight 0.3669791666666667\n",
      "features.4.1.block.2.fc1.bias 1.0\n",
      "features.4.1.block.2.fc2.weight 0.6210416666666667\n",
      "features.4.1.block.2.fc2.bias 0.9291666666666667\n",
      "features.4.1.block.3.0.weight 0.6846354166666667\n",
      "features.4.2.block.0.0.weight 0.7299739583333333\n",
      "features.4.2.block.1.0.weight 0.7863425925925925\n",
      "features.4.2.block.2.fc1.weight 0.2633333333333333\n",
      "features.4.2.block.2.fc1.bias 0.95\n",
      "features.4.2.block.2.fc2.weight 0.6067708333333334\n",
      "features.4.2.block.2.fc2.bias 0.9354166666666667\n",
      "features.4.2.block.3.0.weight 0.6777604166666666\n",
      "features.5.0.block.0.0.weight 0.858671875\n",
      "features.5.0.block.1.0.weight 0.7123333333333334\n",
      "features.5.0.block.2.fc1.weight 0.5775\n",
      "features.5.0.block.2.fc1.bias 1.0\n",
      "features.5.0.block.2.fc2.weight 0.5601041666666666\n",
      "features.5.0.block.2.fc2.bias 0.9916666666666667\n",
      "features.5.0.block.3.0.weight 0.8370907738095238\n",
      "features.5.1.block.0.0.weight 0.6873405612244898\n",
      "features.5.1.block.1.0.weight 0.56875\n",
      "features.5.1.block.2.fc1.weight 0.3000637755102041\n",
      "features.5.1.block.2.fc1.bias 1.0\n",
      "features.5.1.block.2.fc2.weight 0.5972576530612245\n",
      "features.5.1.block.2.fc2.bias 0.9285714285714286\n",
      "features.5.1.block.3.0.weight 0.6605681335034014\n",
      "features.5.2.block.0.0.weight 0.6763791454081632\n",
      "features.5.2.block.1.0.weight 0.5554761904761905\n",
      "features.5.2.block.2.fc1.weight 0.29836309523809523\n",
      "features.5.2.block.2.fc1.bias 1.0\n",
      "features.5.2.block.2.fc2.weight 0.6235119047619048\n",
      "features.5.2.block.2.fc2.bias 0.9226190476190477\n",
      "features.5.2.block.3.0.weight 0.6357222576530612\n",
      "features.6.0.block.0.0.weight 0.8575015943877551\n",
      "features.6.0.block.1.0.weight 0.7935119047619048\n",
      "features.6.0.block.2.fc1.weight 0.06196853741496599\n",
      "features.6.0.block.2.fc1.bias 0.9285714285714286\n",
      "features.6.0.block.2.fc2.weight 0.04251700680272109\n",
      "features.6.0.block.2.fc2.bias 1.0\n",
      "features.6.0.block.3.0.weight 0.8661954365079365\n",
      "features.6.1.block.0.0.weight 0.5759096498842593\n",
      "features.6.1.block.1.0.weight 0.5377083333333333\n",
      "features.6.1.block.2.fc1.weight 0.3243453414351852\n",
      "features.6.1.block.2.fc1.bias 0.9791666666666666\n",
      "features.6.1.block.2.fc2.weight 0.5882703993055556\n",
      "features.6.1.block.2.fc2.bias 0.9192708333333334\n",
      "features.6.1.block.3.0.weight 0.6036376953125\n",
      "features.6.2.block.0.0.weight 0.5737802010995371\n",
      "features.6.2.block.1.0.weight 0.5127777777777778\n",
      "features.6.2.block.2.fc1.weight 0.35420283564814814\n",
      "features.6.2.block.2.fc1.bias 0.9583333333333334\n",
      "features.6.2.block.2.fc2.weight 0.5985243055555556\n",
      "features.6.2.block.2.fc2.bias 0.9418402777777778\n",
      "features.6.2.block.3.0.weight 0.5848931206597222\n",
      "features.6.3.block.0.0.weight 0.6036693431712963\n",
      "features.6.3.block.1.0.weight 0.5205208333333333\n",
      "features.6.3.block.2.fc1.weight 0.4415870949074074\n",
      "features.6.3.block.2.fc1.bias 0.9375\n",
      "features.6.3.block.2.fc2.weight 0.6276584201388888\n",
      "features.6.3.block.2.fc2.bias 0.9487847222222222\n",
      "features.6.3.block.3.0.weight 0.5890299479166666\n",
      "features.7.0.block.0.0.weight 0.8357928240740741\n",
      "features.7.0.block.1.0.weight 0.9660493827160493\n",
      "features.7.0.block.2.fc1.weight 0.7617910879629629\n",
      "features.7.0.block.2.fc1.bias 1.0\n",
      "features.7.0.block.2.fc2.weight 0.7319697627314815\n",
      "features.7.0.block.2.fc2.bias 0.9913194444444444\n",
      "features.7.0.block.3.0.weight 0.9007975260416666\n",
      "features.8.0.weight 0.8310302734375\n"
     ]
    }
   ],
   "source": [
    "temp = 0\n",
    "all_num = 0\n",
    "for param in param_remove:\n",
    "    temp += param_remove[param].sum()\n",
    "    all_num += param_remove[param].size\n",
    "    print(param, param_remove[param].mean())\n"
   ]
  },
  {
   "cell_type": "code",
   "execution_count": 19,
   "metadata": {},
   "outputs": [
    {
     "data": {
      "text/plain": [
       "0.6825984508509829"
      ]
     },
     "execution_count": 19,
     "metadata": {},
     "output_type": "execute_result"
    }
   ],
   "source": [
    "temp / all_num\n"
   ]
  },
  {
   "cell_type": "code",
   "execution_count": 20,
   "metadata": {},
   "outputs": [
    {
     "data": {
      "application/vnd.jupyter.widget-view+json": {
       "model_id": "0c6387654a4a4a329752ed3a2fd3cb8c",
       "version_major": 2,
       "version_minor": 0
      },
      "text/plain": [
       "  0%|          | 0/94 [00:00<?, ?it/s]"
      ]
     },
     "metadata": {},
     "output_type": "display_data"
    },
    {
     "name": "stdout",
     "output_type": "stream",
     "text": [
      "原始准确率 0.8881666666666667\n"
     ]
    }
   ],
   "source": [
    "with torch.no_grad():\n",
    "    net = load_efficientnet_b0()\n",
    "    preds, labels = test_model(net, test_dataloader_all)\n",
    "    print(\"原始准确率\", (preds.argmax(-1) == labels).mean())\n"
   ]
  },
  {
   "cell_type": "code",
   "execution_count": 21,
   "metadata": {},
   "outputs": [
    {
     "data": {
      "application/vnd.jupyter.widget-view+json": {
       "model_id": "2439576053504138927f0e7c94b6a678",
       "version_major": 2,
       "version_minor": 0
      },
      "text/plain": [
       "  0%|          | 0/94 [00:00<?, ?it/s]"
      ]
     },
     "metadata": {},
     "output_type": "display_data"
    },
    {
     "name": "stdout",
     "output_type": "stream",
     "text": [
      "现在准确率 0.827\n"
     ]
    }
   ],
   "source": [
    "with torch.no_grad():\n",
    "    net = load_efficientnet_b0()\n",
    "    for param in all_param_names:\n",
    "        param_ = parse_param(param)\n",
    "        try:\n",
    "            exec(\"net.\" + param_ + \"[~param_remove[param]] = 0\")\n",
    "        except:\n",
    "            exec(\"net.\" + param_ + \"[~param_remove[param],:] = 0\")\n",
    "    preds, labels = test_model(net, test_dataloader_all)\n",
    "    print(\"现在准确率\", (preds.argmax(-1) == labels).mean())\n"
   ]
  },
  {
   "cell_type": "code",
   "execution_count": null,
   "metadata": {},
   "outputs": [],
   "source": [
    "with torch.no_grad():\n",
    "    net = load_efficientnet_b0()\n",
    "    for param in all_param_names:\n",
    "        param_ = parse_param(param)\n",
    "        keep_rate = param_remove[param].sum() / param_remove[param].size\n",
    "        weight_flatten = eval(\n",
    "            \"net.\" + param_ + \".cpu().detach().numpy()\").flatten()\n",
    "        threshold = np.sort(weight_flatten)[int(\n",
    "            len(weight_flatten) * (1 - keep_rate))]\n",
    "        try:\n",
    "            exec(\"net.\" + param_ +\n",
    "                 \"[eval('net.' + param_ + '.cpu().detach().numpy()') < threshold] = 0\")\n",
    "        except:\n",
    "            exec(\"net.\" + param_ +\n",
    "                 \"[eval('net.' + param_ + '.cpu().detach().numpy()') < threshold,:] = 0\")\n",
    "    preds, labels = test_model(net, test_dataloader_all)\n",
    "    print(\"对比实验准确率\", (preds.argmax(-1) == labels).mean())\n"
   ]
  },
  {
   "cell_type": "code",
   "execution_count": null,
   "metadata": {},
   "outputs": [],
   "source": []
  },
  {
   "cell_type": "code",
   "execution_count": null,
   "metadata": {},
   "outputs": [],
   "source": []
  }
 ],
 "metadata": {
  "kernelspec": {
   "display_name": "Python 3",
   "language": "python",
   "name": "python3"
  },
  "language_info": {
   "codemirror_mode": {
    "name": "ipython",
    "version": 3
   },
   "file_extension": ".py",
   "mimetype": "text/x-python",
   "name": "python",
   "nbconvert_exporter": "python",
   "pygments_lexer": "ipython3",
   "version": "3.10.8"
  },
  "orig_nbformat": 4,
  "vscode": {
   "interpreter": {
    "hash": "c1050a06cbaeed8b46d187604389f32b45fa537b377a0b8f76b38e0c23b5abbd"
   }
  }
 },
 "nbformat": 4,
 "nbformat_minor": 2
}
