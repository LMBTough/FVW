{
 "cells": [
  {
   "cell_type": "code",
   "execution_count": 1,
   "metadata": {},
   "outputs": [],
   "source": [
    "import torch\n",
    "import torch.nn as nn\n",
    "from torch.utils.data import DataLoader, TensorDataset\n",
    "import numpy as np\n",
    "import torch.optim as optim\n",
    "import matplotlib.pyplot as plt\n",
    "import torch.nn.functional as F\n",
    "import torchvision\n",
    "import pickle as pkl\n",
    "from attack_copy import attack, test_model, parse_param\n",
    "import random\n"
   ]
  },
  {
   "cell_type": "code",
   "execution_count": 2,
   "metadata": {},
   "outputs": [],
   "source": [
    "def setup_seed(seed):\n",
    "    torch.manual_seed(seed)\n",
    "    torch.cuda.manual_seed_all(seed)\n",
    "    np.random.seed(seed)\n",
    "    random.seed(seed)\n",
    "    torch.backends.cudnn.deterministic = True\n",
    "\n",
    "\n",
    "setup_seed(3407)\n"
   ]
  },
  {
   "cell_type": "code",
   "execution_count": 3,
   "metadata": {},
   "outputs": [],
   "source": [
    "from datasets import load_cifar10, load_cifar100\n",
    "from models.resnet import load_cifar10_resnet50, load_cifar100_resnet50\n",
    "model = load_cifar10_resnet50()\n"
   ]
  },
  {
   "cell_type": "code",
   "execution_count": 4,
   "metadata": {},
   "outputs": [],
   "source": [
    "all_param_names = list()\n",
    "for name, param in model.named_parameters():\n",
    "    if not \"bn\" in name and not \"shortcut.1\" in name:\n",
    "        all_param_names.append(name)\n"
   ]
  },
  {
   "cell_type": "code",
   "execution_count": 5,
   "metadata": {},
   "outputs": [],
   "source": [
    "all_param_names = all_param_names[:-2]\n"
   ]
  },
  {
   "cell_type": "code",
   "execution_count": 6,
   "metadata": {},
   "outputs": [
    {
     "name": "stdout",
     "output_type": "stream",
     "text": [
      "Files already downloaded and verified\n",
      "Files already downloaded and verified\n"
     ]
    },
    {
     "name": "stderr",
     "output_type": "stream",
     "text": [
      "100%|██████████| 20/20 [00:12<00:00,  1.57it/s]\n",
      "100%|██████████| 20/20 [00:08<00:00,  2.31it/s]\n",
      "100%|██████████| 20/20 [00:08<00:00,  2.38it/s]\n",
      "100%|██████████| 20/20 [00:08<00:00,  2.32it/s]\n",
      "100%|██████████| 20/20 [00:08<00:00,  2.29it/s]\n",
      "100%|██████████| 20/20 [00:08<00:00,  2.24it/s]\n",
      "100%|██████████| 20/20 [00:08<00:00,  2.29it/s]\n",
      "100%|██████████| 20/20 [00:08<00:00,  2.36it/s]\n",
      "100%|██████████| 20/20 [00:08<00:00,  2.36it/s]\n",
      "100%|██████████| 20/20 [00:08<00:00,  2.37it/s]\n"
     ]
    },
    {
     "name": "stdout",
     "output_type": "stream",
     "text": [
      "0.0011041762246191502\n"
     ]
    },
    {
     "name": "stderr",
     "output_type": "stream",
     "text": [
      "100%|██████████| 20/20 [00:08<00:00,  2.36it/s]\n",
      "100%|██████████| 20/20 [00:08<00:00,  2.38it/s]\n",
      "100%|██████████| 20/20 [00:08<00:00,  2.37it/s]\n",
      "100%|██████████| 20/20 [00:08<00:00,  2.31it/s]\n",
      "100%|██████████| 20/20 [00:08<00:00,  2.24it/s]\n",
      "100%|██████████| 20/20 [00:09<00:00,  2.15it/s]\n",
      "100%|██████████| 20/20 [00:09<00:00,  2.19it/s]\n",
      "100%|██████████| 20/20 [00:09<00:00,  2.07it/s]\n",
      "100%|██████████| 20/20 [00:09<00:00,  2.06it/s]\n",
      "100%|██████████| 20/20 [00:09<00:00,  2.03it/s]\n"
     ]
    },
    {
     "name": "stdout",
     "output_type": "stream",
     "text": [
      "1.4110886314223334\n"
     ]
    },
    {
     "name": "stderr",
     "output_type": "stream",
     "text": [
      "d:\\Documents\\GitHub\\Neural-importance\\P1模型训练+归因测试\\参数归因Cifar10\\attack_copy.py:101: VisibleDeprecationWarning: Creating an ndarray from ragged nested sequences (which is a list-or-tuple of lists-or-tuples-or ndarrays with different lengths or shapes) is deprecated. If you meant to do this, you must specify 'dtype=object' when creating the ndarray.\n",
      "  param_totals = np.array(param_totals)\n",
      "d:\\Documents\\GitHub\\Neural-importance\\P1模型训练+归因测试\\参数归因Cifar10\\utils.py:15: VisibleDeprecationWarning: Creating an ndarray from ragged nested sequences (which is a list-or-tuple of lists-or-tuples-or ndarrays with different lengths or shapes) is deprecated. If you meant to do this, you must specify 'dtype=object' when creating the ndarray.\n",
      "  x = np.array(x)\n",
      "100%|██████████| 20/20 [00:08<00:00,  2.22it/s]\n",
      "100%|██████████| 20/20 [00:09<00:00,  2.19it/s]\n",
      "100%|██████████| 20/20 [00:09<00:00,  2.15it/s]\n",
      "100%|██████████| 20/20 [00:09<00:00,  2.14it/s]\n",
      "100%|██████████| 20/20 [00:09<00:00,  2.13it/s]\n",
      "100%|██████████| 20/20 [00:09<00:00,  2.14it/s]\n",
      "100%|██████████| 20/20 [00:09<00:00,  2.15it/s]\n",
      "100%|██████████| 20/20 [00:09<00:00,  2.15it/s]\n",
      "100%|██████████| 20/20 [00:09<00:00,  2.14it/s]\n",
      "100%|██████████| 20/20 [00:09<00:00,  2.15it/s]\n"
     ]
    },
    {
     "name": "stdout",
     "output_type": "stream",
     "text": [
      "1.1602450956060737\n"
     ]
    },
    {
     "name": "stderr",
     "output_type": "stream",
     "text": [
      "100%|██████████| 20/20 [00:09<00:00,  2.13it/s]\n",
      "100%|██████████| 20/20 [00:09<00:00,  2.11it/s]\n",
      "100%|██████████| 20/20 [00:09<00:00,  2.10it/s]\n",
      "100%|██████████| 20/20 [00:09<00:00,  2.12it/s]\n",
      "100%|██████████| 20/20 [00:09<00:00,  2.15it/s]\n",
      "100%|██████████| 20/20 [00:09<00:00,  2.01it/s]\n",
      "100%|██████████| 20/20 [00:09<00:00,  2.02it/s]\n",
      "100%|██████████| 20/20 [00:10<00:00,  2.00it/s]\n",
      "100%|██████████| 20/20 [00:10<00:00,  1.98it/s]\n",
      "100%|██████████| 20/20 [00:09<00:00,  2.01it/s]\n"
     ]
    },
    {
     "name": "stdout",
     "output_type": "stream",
     "text": [
      "0.44447259319350124\n"
     ]
    },
    {
     "name": "stderr",
     "output_type": "stream",
     "text": [
      "100%|██████████| 20/20 [00:09<00:00,  2.03it/s]\n",
      "100%|██████████| 20/20 [00:10<00:00,  1.99it/s]\n",
      "100%|██████████| 20/20 [00:09<00:00,  2.02it/s]\n",
      "100%|██████████| 20/20 [00:10<00:00,  1.99it/s]\n",
      "100%|██████████| 20/20 [00:09<00:00,  2.08it/s]\n",
      "100%|██████████| 20/20 [00:07<00:00,  2.56it/s]\n",
      "100%|██████████| 20/20 [00:07<00:00,  2.61it/s]\n",
      "100%|██████████| 20/20 [00:07<00:00,  2.68it/s]\n",
      "100%|██████████| 20/20 [00:07<00:00,  2.65it/s]\n",
      "100%|██████████| 20/20 [00:07<00:00,  2.65it/s]\n"
     ]
    },
    {
     "name": "stdout",
     "output_type": "stream",
     "text": [
      "0.26487416280418635\n"
     ]
    },
    {
     "name": "stderr",
     "output_type": "stream",
     "text": [
      "100%|██████████| 20/20 [00:07<00:00,  2.58it/s]\n",
      "100%|██████████| 20/20 [00:07<00:00,  2.60it/s]\n",
      "100%|██████████| 20/20 [00:07<00:00,  2.59it/s]\n",
      "100%|██████████| 20/20 [00:07<00:00,  2.60it/s]\n",
      "100%|██████████| 20/20 [00:07<00:00,  2.62it/s]\n",
      "100%|██████████| 20/20 [00:07<00:00,  2.64it/s]\n",
      "100%|██████████| 20/20 [00:07<00:00,  2.65it/s]\n",
      "100%|██████████| 20/20 [00:07<00:00,  2.62it/s]\n",
      "100%|██████████| 20/20 [00:07<00:00,  2.60it/s]\n",
      "100%|██████████| 20/20 [00:07<00:00,  2.65it/s]\n"
     ]
    },
    {
     "name": "stdout",
     "output_type": "stream",
     "text": [
      "0.013274485169053078\n"
     ]
    },
    {
     "name": "stderr",
     "output_type": "stream",
     "text": [
      "100%|██████████| 20/20 [00:07<00:00,  2.69it/s]\n",
      "100%|██████████| 20/20 [00:07<00:00,  2.65it/s]\n",
      "100%|██████████| 20/20 [00:07<00:00,  2.65it/s]\n",
      "100%|██████████| 20/20 [00:07<00:00,  2.64it/s]\n",
      "100%|██████████| 20/20 [00:07<00:00,  2.63it/s]\n",
      "100%|██████████| 20/20 [00:07<00:00,  2.54it/s]\n",
      "100%|██████████| 20/20 [00:07<00:00,  2.57it/s]\n",
      "100%|██████████| 20/20 [00:07<00:00,  2.57it/s]\n",
      "100%|██████████| 20/20 [00:07<00:00,  2.62it/s]\n",
      "100%|██████████| 20/20 [00:07<00:00,  2.64it/s]\n"
     ]
    },
    {
     "name": "stdout",
     "output_type": "stream",
     "text": [
      "0.25106165497988464\n"
     ]
    },
    {
     "name": "stderr",
     "output_type": "stream",
     "text": [
      "100%|██████████| 20/20 [00:07<00:00,  2.65it/s]\n",
      "100%|██████████| 20/20 [00:07<00:00,  2.65it/s]\n",
      "100%|██████████| 20/20 [00:07<00:00,  2.65it/s]\n",
      "100%|██████████| 20/20 [00:07<00:00,  2.62it/s]\n",
      "100%|██████████| 20/20 [00:07<00:00,  2.62it/s]\n",
      "100%|██████████| 20/20 [00:07<00:00,  2.63it/s]\n",
      "100%|██████████| 20/20 [00:07<00:00,  2.65it/s]\n",
      "100%|██████████| 20/20 [00:07<00:00,  2.65it/s]\n",
      "100%|██████████| 20/20 [00:07<00:00,  2.65it/s]\n",
      "100%|██████████| 20/20 [00:07<00:00,  2.65it/s]\n"
     ]
    },
    {
     "name": "stdout",
     "output_type": "stream",
     "text": [
      "0.11164860276013613\n"
     ]
    },
    {
     "name": "stderr",
     "output_type": "stream",
     "text": [
      "100%|██████████| 20/20 [00:07<00:00,  2.70it/s]\n",
      "100%|██████████| 20/20 [00:07<00:00,  2.65it/s]\n",
      "100%|██████████| 20/20 [00:07<00:00,  2.63it/s]\n",
      "100%|██████████| 20/20 [00:07<00:00,  2.64it/s]\n",
      "100%|██████████| 20/20 [00:07<00:00,  2.64it/s]\n",
      "100%|██████████| 20/20 [00:07<00:00,  2.63it/s]\n",
      "100%|██████████| 20/20 [00:07<00:00,  2.63it/s]\n",
      "100%|██████████| 20/20 [00:07<00:00,  2.63it/s]\n",
      "100%|██████████| 20/20 [00:07<00:00,  2.63it/s]\n",
      "100%|██████████| 20/20 [00:07<00:00,  2.62it/s]\n"
     ]
    },
    {
     "name": "stdout",
     "output_type": "stream",
     "text": [
      "0.5508921235223859\n"
     ]
    },
    {
     "name": "stderr",
     "output_type": "stream",
     "text": [
      "100%|██████████| 20/20 [00:07<00:00,  2.67it/s]\n",
      "100%|██████████| 20/20 [00:07<00:00,  2.65it/s]\n",
      "100%|██████████| 20/20 [00:07<00:00,  2.67it/s]\n",
      "100%|██████████| 20/20 [00:07<00:00,  2.67it/s]\n",
      "100%|██████████| 20/20 [00:07<00:00,  2.69it/s]\n",
      "100%|██████████| 20/20 [00:07<00:00,  2.66it/s]\n",
      "100%|██████████| 20/20 [00:07<00:00,  2.65it/s]\n",
      "100%|██████████| 20/20 [00:07<00:00,  2.74it/s]\n",
      "100%|██████████| 20/20 [00:07<00:00,  2.77it/s]\n",
      "100%|██████████| 20/20 [00:07<00:00,  2.71it/s]\n"
     ]
    },
    {
     "name": "stdout",
     "output_type": "stream",
     "text": [
      "0.04254670130491257\n"
     ]
    },
    {
     "name": "stderr",
     "output_type": "stream",
     "text": [
      "100%|██████████| 20/20 [00:07<00:00,  2.85it/s]\n",
      "100%|██████████| 20/20 [00:07<00:00,  2.80it/s]\n",
      "100%|██████████| 20/20 [00:07<00:00,  2.83it/s]\n",
      "100%|██████████| 20/20 [00:07<00:00,  2.85it/s]\n",
      "100%|██████████| 20/20 [00:07<00:00,  2.84it/s]\n",
      "100%|██████████| 20/20 [00:07<00:00,  2.84it/s]\n",
      "100%|██████████| 20/20 [00:07<00:00,  2.83it/s]\n",
      "100%|██████████| 20/20 [00:07<00:00,  2.83it/s]\n",
      "100%|██████████| 20/20 [00:07<00:00,  2.82it/s]\n",
      "100%|██████████| 20/20 [00:07<00:00,  2.82it/s]\n"
     ]
    },
    {
     "name": "stdout",
     "output_type": "stream",
     "text": [
      "0.02256250250056386\n"
     ]
    },
    {
     "name": "stderr",
     "output_type": "stream",
     "text": [
      "100%|██████████| 20/20 [00:07<00:00,  2.85it/s]\n",
      "100%|██████████| 20/20 [00:07<00:00,  2.81it/s]\n",
      "100%|██████████| 20/20 [00:07<00:00,  2.81it/s]\n",
      "100%|██████████| 20/20 [00:07<00:00,  2.74it/s]\n",
      "100%|██████████| 20/20 [00:07<00:00,  2.67it/s]\n",
      "100%|██████████| 20/20 [00:07<00:00,  2.69it/s]\n",
      "100%|██████████| 20/20 [00:07<00:00,  2.69it/s]\n",
      "100%|██████████| 20/20 [00:07<00:00,  2.69it/s]\n",
      "100%|██████████| 20/20 [00:07<00:00,  2.68it/s]\n",
      "100%|██████████| 20/20 [00:07<00:00,  2.59it/s]\n"
     ]
    },
    {
     "name": "stdout",
     "output_type": "stream",
     "text": [
      "3.120060114093274\n"
     ]
    },
    {
     "name": "stderr",
     "output_type": "stream",
     "text": [
      "100%|██████████| 20/20 [00:07<00:00,  2.58it/s]\n",
      "100%|██████████| 20/20 [00:08<00:00,  2.38it/s]\n",
      "100%|██████████| 20/20 [00:08<00:00,  2.35it/s]\n",
      "100%|██████████| 20/20 [00:08<00:00,  2.35it/s]\n",
      "100%|██████████| 20/20 [00:08<00:00,  2.35it/s]\n",
      "100%|██████████| 20/20 [00:08<00:00,  2.39it/s]\n",
      "100%|██████████| 20/20 [00:08<00:00,  2.42it/s]\n",
      "100%|██████████| 20/20 [00:07<00:00,  2.68it/s]\n",
      "100%|██████████| 20/20 [00:07<00:00,  2.66it/s]\n",
      "100%|██████████| 20/20 [00:08<00:00,  2.40it/s]\n"
     ]
    },
    {
     "name": "stdout",
     "output_type": "stream",
     "text": [
      "1.6427902479723842\n"
     ]
    },
    {
     "name": "stderr",
     "output_type": "stream",
     "text": [
      "100%|██████████| 20/20 [00:07<00:00,  2.55it/s]\n",
      "100%|██████████| 20/20 [00:07<00:00,  2.64it/s]\n",
      "100%|██████████| 20/20 [00:07<00:00,  2.53it/s]\n",
      "100%|██████████| 20/20 [00:08<00:00,  2.42it/s]\n",
      "100%|██████████| 20/20 [00:08<00:00,  2.42it/s]\n",
      "100%|██████████| 20/20 [00:08<00:00,  2.41it/s]\n",
      "100%|██████████| 20/20 [00:08<00:00,  2.41it/s]\n",
      "100%|██████████| 20/20 [00:08<00:00,  2.42it/s]\n",
      "100%|██████████| 20/20 [00:08<00:00,  2.42it/s]\n",
      "100%|██████████| 20/20 [00:08<00:00,  2.42it/s]\n"
     ]
    },
    {
     "name": "stdout",
     "output_type": "stream",
     "text": [
      "5.5501550300758336\n"
     ]
    },
    {
     "name": "stderr",
     "output_type": "stream",
     "text": [
      "100%|██████████| 20/20 [00:08<00:00,  2.44it/s]\n",
      "100%|██████████| 20/20 [00:08<00:00,  2.41it/s]\n",
      "100%|██████████| 20/20 [00:08<00:00,  2.42it/s]\n",
      "100%|██████████| 20/20 [00:08<00:00,  2.41it/s]\n",
      "100%|██████████| 20/20 [00:08<00:00,  2.42it/s]\n",
      "100%|██████████| 20/20 [00:08<00:00,  2.41it/s]\n",
      "100%|██████████| 20/20 [00:08<00:00,  2.42it/s]\n",
      "100%|██████████| 20/20 [00:08<00:00,  2.41it/s]\n",
      "100%|██████████| 20/20 [00:08<00:00,  2.41it/s]\n",
      "100%|██████████| 20/20 [00:08<00:00,  2.41it/s]\n"
     ]
    },
    {
     "name": "stdout",
     "output_type": "stream",
     "text": [
      "4.771516485924833\n"
     ]
    },
    {
     "name": "stderr",
     "output_type": "stream",
     "text": [
      "100%|██████████| 20/20 [00:08<00:00,  2.43it/s]\n",
      "100%|██████████| 20/20 [00:08<00:00,  2.39it/s]\n",
      "100%|██████████| 20/20 [00:08<00:00,  2.40it/s]\n",
      "100%|██████████| 20/20 [00:08<00:00,  2.39it/s]\n",
      "100%|██████████| 20/20 [00:08<00:00,  2.39it/s]\n",
      "100%|██████████| 20/20 [00:08<00:00,  2.40it/s]\n",
      "100%|██████████| 20/20 [00:08<00:00,  2.40it/s]\n",
      "100%|██████████| 20/20 [00:08<00:00,  2.40it/s]\n",
      "100%|██████████| 20/20 [00:08<00:00,  2.40it/s]\n",
      "100%|██████████| 20/20 [00:08<00:00,  2.39it/s]\n"
     ]
    },
    {
     "name": "stdout",
     "output_type": "stream",
     "text": [
      "11.895325623950809\n"
     ]
    },
    {
     "name": "stderr",
     "output_type": "stream",
     "text": [
      "100%|██████████| 20/20 [00:08<00:00,  2.45it/s]\n",
      "100%|██████████| 20/20 [00:07<00:00,  2.51it/s]\n",
      "100%|██████████| 20/20 [00:08<00:00,  2.45it/s]\n",
      "100%|██████████| 20/20 [00:08<00:00,  2.42it/s]\n",
      "100%|██████████| 20/20 [00:08<00:00,  2.42it/s]\n",
      "100%|██████████| 20/20 [00:08<00:00,  2.43it/s]\n",
      "100%|██████████| 20/20 [00:08<00:00,  2.42it/s]\n",
      "100%|██████████| 20/20 [00:08<00:00,  2.38it/s]\n",
      "100%|██████████| 20/20 [00:07<00:00,  2.55it/s]\n",
      "100%|██████████| 20/20 [00:08<00:00,  2.50it/s]\n"
     ]
    },
    {
     "name": "stdout",
     "output_type": "stream",
     "text": [
      "7.7451128073335065\n"
     ]
    },
    {
     "name": "stderr",
     "output_type": "stream",
     "text": [
      "100%|██████████| 20/20 [00:08<00:00,  2.43it/s]\n",
      "100%|██████████| 20/20 [00:08<00:00,  2.40it/s]\n",
      "100%|██████████| 20/20 [00:08<00:00,  2.40it/s]\n",
      "100%|██████████| 20/20 [00:08<00:00,  2.40it/s]\n",
      "100%|██████████| 20/20 [00:08<00:00,  2.40it/s]\n",
      "100%|██████████| 20/20 [00:08<00:00,  2.40it/s]\n",
      "100%|██████████| 20/20 [00:08<00:00,  2.40it/s]\n",
      "100%|██████████| 20/20 [00:08<00:00,  2.40it/s]\n",
      "100%|██████████| 20/20 [00:08<00:00,  2.40it/s]\n",
      "100%|██████████| 20/20 [00:08<00:00,  2.40it/s]\n"
     ]
    },
    {
     "name": "stdout",
     "output_type": "stream",
     "text": [
      "14.64521257217817\n"
     ]
    },
    {
     "name": "stderr",
     "output_type": "stream",
     "text": [
      "100%|██████████| 20/20 [00:08<00:00,  2.41it/s]\n",
      "100%|██████████| 20/20 [00:08<00:00,  2.38it/s]\n",
      "100%|██████████| 20/20 [00:08<00:00,  2.41it/s]\n",
      "100%|██████████| 20/20 [00:08<00:00,  2.43it/s]\n",
      "100%|██████████| 20/20 [00:08<00:00,  2.41it/s]\n",
      "100%|██████████| 20/20 [00:08<00:00,  2.38it/s]\n",
      "100%|██████████| 20/20 [00:07<00:00,  2.51it/s]\n",
      "100%|██████████| 20/20 [00:07<00:00,  2.55it/s]\n",
      "100%|██████████| 20/20 [00:07<00:00,  2.56it/s]\n",
      "100%|██████████| 20/20 [00:07<00:00,  2.56it/s]\n"
     ]
    },
    {
     "name": "stdout",
     "output_type": "stream",
     "text": [
      "12.792322454189081\n"
     ]
    },
    {
     "name": "stderr",
     "output_type": "stream",
     "text": [
      "100%|██████████| 20/20 [00:07<00:00,  2.60it/s]\n",
      "100%|██████████| 20/20 [00:07<00:00,  2.57it/s]\n",
      "100%|██████████| 20/20 [00:07<00:00,  2.56it/s]\n",
      "100%|██████████| 20/20 [00:07<00:00,  2.57it/s]\n",
      "100%|██████████| 20/20 [00:07<00:00,  2.57it/s]\n",
      "100%|██████████| 20/20 [00:07<00:00,  2.57it/s]\n",
      "100%|██████████| 20/20 [00:07<00:00,  2.61it/s]\n",
      "100%|██████████| 20/20 [00:07<00:00,  2.62it/s]\n",
      "100%|██████████| 20/20 [00:07<00:00,  2.60it/s]\n",
      "100%|██████████| 20/20 [00:07<00:00,  2.59it/s]\n"
     ]
    },
    {
     "name": "stdout",
     "output_type": "stream",
     "text": [
      "23.23955159180466\n"
     ]
    }
   ],
   "source": [
    "train_loaders, test_dataloaders, train_dataloader_all, test_dataloader_all = load_cifar10()\n",
    "all_totals = list()\n",
    "for i in range(10):\n",
    "#     all_totals.append(attack(train_loaders[i], all_param_names,\n",
    "#                       load_cifar10_resnet50,train_dataloader_all, alpha=0.00001, num_steps=4, op=\"add\",clz=i))\n",
    "    all_totals.append(attack(model, train_loaders, all_param_names,train_dataloader_all, alpha=0.00003, num_steps=2, op=\"add\",clz=i))\n"
   ]
  },
  {
   "cell_type": "code",
   "execution_count": 7,
   "metadata": {},
   "outputs": [],
   "source": [
    "# pkl.dump(all_totals, open(\"weights/totals_copy.pkl\", \"wb\"))\n",
    "all_totals = pkl.load(open(\"weights/totals_copy.pkl\", \"rb\"))"
   ]
  },
  {
   "cell_type": "code",
   "execution_count": 38,
   "metadata": {},
   "outputs": [
    {
     "name": "stderr",
     "output_type": "stream",
     "text": [
      "C:\\Users\\Zhang\\AppData\\Local\\Temp\\ipykernel_43996\\3676196457.py:13: VisibleDeprecationWarning: Creating an ndarray from ragged nested sequences (which is a list-or-tuple of lists-or-tuples-or ndarrays with different lengths or shapes) is deprecated. If you meant to do this, you must specify 'dtype=object' when creating the ndarray.\n",
      "  combine = np.array(combine)\n"
     ]
    }
   ],
   "source": [
    "thre = 0.1\n",
    "net = load_cifar10_resnet50()\n",
    "param_remove = dict()\n",
    "for param in all_param_names:\n",
    "    param_remove[param] = None\n",
    "for i in range(len(all_totals)):\n",
    "    totals = all_totals[i]\n",
    "    totals = [totals[param] for param in all_param_names]\n",
    "    param_weights = [eval(\"net.\" + parse_param(param) + \".cpu().detach().numpy()\")\n",
    "                     for param in all_param_names]\n",
    "    combine = [np.abs(total * weight)\n",
    "               for total, weight in zip(totals, param_weights)]\n",
    "    combine = np.array(combine)\n",
    "    combine_flatten = np.concatenate(\n",
    "        [combine_.flatten() for combine_ in combine], axis=0)\n",
    "    threshold = np.sort(combine_flatten)[\n",
    "        ::-1][int(len(combine_flatten) * thre)]\n",
    "    for idx, param in enumerate(all_param_names):\n",
    "        if param_remove[param] is None:\n",
    "            param_remove[param] = combine[idx] > threshold\n",
    "        else:\n",
    "            t = combine[idx] > threshold\n",
    "            param_remove[param] = param_remove[param] | t\n"
   ]
  },
  {
   "cell_type": "code",
   "execution_count": 39,
   "metadata": {},
   "outputs": [
    {
     "name": "stdout",
     "output_type": "stream",
     "text": [
      "conv1.weight 0.9901620370370371\n",
      "layer1.0.conv1.weight 0.863037109375\n",
      "layer1.0.conv2.weight 0.6993815104166666\n",
      "layer1.0.conv3.weight 0.79901123046875\n",
      "layer1.0.shortcut.0.weight 0.77581787109375\n",
      "layer1.1.conv1.weight 0.61553955078125\n",
      "layer1.1.conv2.weight 0.7137586805555556\n",
      "layer1.1.conv3.weight 0.76641845703125\n",
      "layer1.2.conv1.weight 0.6905517578125\n",
      "layer1.2.conv2.weight 0.7470160590277778\n",
      "layer1.2.conv3.weight 0.697265625\n",
      "layer2.0.conv1.weight 0.884246826171875\n",
      "layer2.0.conv2.weight 0.6812811957465278\n",
      "layer2.0.conv3.weight 0.758636474609375\n",
      "layer2.0.shortcut.0.weight 0.66748046875\n",
      "layer2.1.conv1.weight 0.4094390869140625\n",
      "layer2.1.conv2.weight 0.5862630208333334\n",
      "layer2.1.conv3.weight 0.677215576171875\n",
      "layer2.2.conv1.weight 0.5778656005859375\n",
      "layer2.2.conv2.weight 0.6144476996527778\n",
      "layer2.2.conv3.weight 0.628021240234375\n",
      "layer2.3.conv1.weight 0.64520263671875\n",
      "layer2.3.conv2.weight 0.6556939019097222\n",
      "layer2.3.conv3.weight 0.5778045654296875\n",
      "layer3.0.conv1.weight 0.8221282958984375\n",
      "layer3.0.conv2.weight 0.5405849880642362\n",
      "layer3.0.conv3.weight 0.691619873046875\n",
      "layer3.0.shortcut.0.weight 0.3698158264160156\n",
      "layer3.1.conv1.weight 0.23178482055664062\n",
      "layer3.1.conv2.weight 0.3727806939019097\n",
      "layer3.1.conv3.weight 0.6041412353515625\n",
      "layer3.2.conv1.weight 0.3872642517089844\n",
      "layer3.2.conv2.weight 0.4420572916666667\n",
      "layer3.2.conv3.weight 0.5806617736816406\n",
      "layer3.3.conv1.weight 0.46843719482421875\n",
      "layer3.3.conv2.weight 0.4881744384765625\n",
      "layer3.3.conv3.weight 0.5295028686523438\n",
      "layer3.4.conv1.weight 0.5547409057617188\n",
      "layer3.4.conv2.weight 0.5303361680772569\n",
      "layer3.4.conv3.weight 0.472259521484375\n",
      "layer3.5.conv1.weight 0.7173614501953125\n",
      "layer3.5.conv2.weight 0.6433970133463541\n",
      "layer3.5.conv3.weight 0.4615898132324219\n",
      "layer4.0.conv1.weight 0.5825958251953125\n",
      "layer4.0.conv2.weight 0.1045027838812934\n",
      "layer4.0.conv3.weight 0.11812400817871094\n",
      "layer4.0.shortcut.0.weight 0.018251419067382812\n",
      "layer4.1.conv1.weight 0.14979171752929688\n",
      "layer4.1.conv2.weight 0.10128063625759548\n",
      "layer4.1.conv3.weight 0.08136367797851562\n",
      "layer4.2.conv1.weight 0.11185932159423828\n",
      "layer4.2.conv2.weight 0.029667324490017362\n",
      "layer4.2.conv3.weight 0.06307697296142578\n"
     ]
    }
   ],
   "source": [
    "temp = 0\n",
    "all_num = 0\n",
    "for param in param_remove:\n",
    "    temp += param_remove[param].sum()\n",
    "    all_num += param_remove[param].size\n",
    "    print(param, param_remove[param].mean())\n"
   ]
  },
  {
   "cell_type": "code",
   "execution_count": 40,
   "metadata": {},
   "outputs": [
    {
     "data": {
      "text/plain": [
       "0.25380953282673197"
      ]
     },
     "execution_count": 40,
     "metadata": {},
     "output_type": "execute_result"
    }
   ],
   "source": [
    "temp / all_num\n"
   ]
  },
  {
   "cell_type": "code",
   "execution_count": 41,
   "metadata": {},
   "outputs": [
    {
     "name": "stdout",
     "output_type": "stream",
     "text": [
      "现在准确率 0.1036\n"
     ]
    }
   ],
   "source": [
    "with torch.no_grad():\n",
    "    net = load_cifar10_resnet50()\n",
    "    for param in all_param_names:\n",
    "        param_ = parse_param(param)\n",
    "        try:\n",
    "            exec(\"net.\" + param_ + \"[~param_remove[param]] = 0\")\n",
    "        except:\n",
    "            exec(\"net.\" + param_ + \"[~param_remove[param],:] = 0\")\n",
    "    preds, labels = test_model(net, test_dataloader_all)\n",
    "    print(\"现在准确率\", (preds.argmax(-1) == labels).mean())\n"
   ]
  },
  {
   "cell_type": "code",
   "execution_count": null,
   "metadata": {},
   "outputs": [],
   "source": []
  },
  {
   "cell_type": "code",
   "execution_count": null,
   "metadata": {},
   "outputs": [],
   "source": []
  },
  {
   "cell_type": "code",
   "execution_count": null,
   "metadata": {},
   "outputs": [],
   "source": []
  },
  {
   "cell_type": "code",
   "execution_count": null,
   "metadata": {},
   "outputs": [],
   "source": []
  },
  {
   "cell_type": "code",
   "execution_count": null,
   "metadata": {},
   "outputs": [],
   "source": []
  },
  {
   "cell_type": "code",
   "execution_count": null,
   "metadata": {},
   "outputs": [],
   "source": []
  },
  {
   "cell_type": "code",
   "execution_count": 48,
   "metadata": {},
   "outputs": [
    {
     "name": "stdout",
     "output_type": "stream",
     "text": [
      "[0, 1, 2, 4, 5, 6, 7, 8, 9, 3]\n"
     ]
    },
    {
     "name": "stderr",
     "output_type": "stream",
     "text": [
      "C:\\Users\\Zhang\\AppData\\Local\\Temp\\ipykernel_43996\\3855037731.py:19: VisibleDeprecationWarning: Creating an ndarray from ragged nested sequences (which is a list-or-tuple of lists-or-tuples-or ndarrays with different lengths or shapes) is deprecated. If you meant to do this, you must specify 'dtype=object' when creating the ndarray.\n",
      "  combine = np.array(combine)\n"
     ]
    }
   ],
   "source": [
    "thre = 0.2\n",
    "other_thre = 0.2\n",
    "choose_class = 3\n",
    "net = load_cifar10_resnet50()\n",
    "param_remove = dict()\n",
    "for param in all_param_names:\n",
    "    param_remove[param] = None\n",
    "all_classes = list(range(10))\n",
    "all_classes.remove(choose_class)\n",
    "all_classes.append(choose_class)\n",
    "print(all_classes)\n",
    "# for i in range(len(all_totals)):\n",
    "for i,class_ in enumerate(all_classes):\n",
    "    totals = all_totals[class_]\n",
    "    totals = [totals[param] for param in all_param_names]\n",
    "    param_weights = [eval(\"net.\" + parse_param(param) + \".cpu().detach().numpy()\")\n",
    "                    for param in all_param_names]\n",
    "    combine = [np.abs(total * weight) for total, weight in zip(totals, param_weights)]\n",
    "    combine = np.array(combine)\n",
    "    combine_flatten = np.concatenate([combine_.flatten() for combine_ in combine],axis=0)\n",
    "    if i == 9:\n",
    "        threshold = np.sort(combine_flatten)[::-1][int(len(combine_flatten) * thre)]\n",
    "    else:\n",
    "        threshold = np.sort(combine_flatten)[::-1][int(len(combine_flatten) * other_thre)]\n",
    "    for idx,param in enumerate(all_param_names):\n",
    "        if param_remove[param] is None:\n",
    "            param_remove[param] = combine[idx] > threshold\n",
    "        else:\n",
    "            t = combine[idx] > threshold\n",
    "            if i == 9:\n",
    "                param_remove[param] = ~param_remove[param] & t\n",
    "            else:\n",
    "                param_remove[param] = param_remove[param] | t\n"
   ]
  },
  {
   "cell_type": "code",
   "execution_count": 49,
   "metadata": {},
   "outputs": [
    {
     "name": "stdout",
     "output_type": "stream",
     "text": [
      "conv1.weight 0.0\n",
      "layer1.0.conv1.weight 0.000244140625\n",
      "layer1.0.conv2.weight 0.00035264756944444444\n",
      "layer1.0.conv3.weight 0.00018310546875\n",
      "layer1.0.shortcut.0.weight 0.00018310546875\n",
      "layer1.1.conv1.weight 0.00054931640625\n",
      "layer1.1.conv2.weight 0.0006510416666666666\n",
      "layer1.1.conv3.weight 0.000244140625\n",
      "layer1.2.conv1.weight 6.103515625e-05\n",
      "layer1.2.conv2.weight 0.00010850694444444444\n",
      "layer1.2.conv3.weight 0.00042724609375\n",
      "layer2.0.conv1.weight 0.0\n",
      "layer2.0.conv2.weight 0.00035264756944444444\n",
      "layer2.0.conv3.weight 0.000213623046875\n",
      "layer2.0.shortcut.0.weight 0.0004119873046875\n",
      "layer2.1.conv1.weight 0.0006103515625\n",
      "layer2.1.conv2.weight 0.00035942925347222225\n",
      "layer2.1.conv3.weight 0.0006256103515625\n",
      "layer2.2.conv1.weight 0.000152587890625\n",
      "layer2.2.conv2.weight 0.00023057725694444444\n",
      "layer2.2.conv3.weight 0.0003204345703125\n",
      "layer2.3.conv1.weight 0.0001373291015625\n",
      "layer2.3.conv2.weight 0.00031195746527777775\n",
      "layer2.3.conv3.weight 0.00067138671875\n",
      "layer3.0.conv1.weight 0.00040435791015625\n",
      "layer3.0.conv2.weight 0.0020395914713541665\n",
      "layer3.0.conv3.weight 0.001453399658203125\n",
      "layer3.0.shortcut.0.weight 0.001743316650390625\n",
      "layer3.1.conv1.weight 0.001617431640625\n",
      "layer3.1.conv2.weight 0.002692328559027778\n",
      "layer3.1.conv3.weight 0.00211334228515625\n",
      "layer3.2.conv1.weight 0.001186370849609375\n",
      "layer3.2.conv2.weight 0.001666598849826389\n",
      "layer3.2.conv3.weight 0.002288818359375\n",
      "layer3.3.conv1.weight 0.002613067626953125\n",
      "layer3.3.conv2.weight 0.0021379258897569445\n",
      "layer3.3.conv3.weight 0.002651214599609375\n",
      "layer3.4.conv1.weight 0.00226593017578125\n",
      "layer3.4.conv2.weight 0.005354139539930556\n",
      "layer3.4.conv3.weight 0.00308990478515625\n",
      "layer3.5.conv1.weight 0.002696990966796875\n",
      "layer3.5.conv2.weight 0.007731119791666667\n",
      "layer3.5.conv3.weight 0.00330352783203125\n",
      "layer4.0.conv1.weight 0.0036067962646484375\n",
      "layer4.0.conv2.weight 0.0024083455403645835\n",
      "layer4.0.conv3.weight 0.0017375946044921875\n",
      "layer4.0.shortcut.0.weight 0.00020313262939453125\n",
      "layer4.1.conv1.weight 0.0017671585083007812\n",
      "layer4.1.conv2.weight 0.0019120110405815972\n",
      "layer4.1.conv3.weight 0.0011005401611328125\n",
      "layer4.2.conv1.weight 0.00174713134765625\n",
      "layer4.2.conv2.weight 0.0006582472059461805\n",
      "layer4.2.conv3.weight 0.0014467239379882812\n"
     ]
    }
   ],
   "source": [
    "temp = 0\n",
    "all_num = 0\n",
    "for param in param_remove:\n",
    "    temp += param_remove[param].sum()\n",
    "    all_num += param_remove[param].size\n",
    "    print(param, param_remove[param].mean())\n"
   ]
  },
  {
   "cell_type": "code",
   "execution_count": 50,
   "metadata": {},
   "outputs": [
    {
     "data": {
      "text/plain": [
       "0.0018371038423639942"
      ]
     },
     "execution_count": 50,
     "metadata": {},
     "output_type": "execute_result"
    }
   ],
   "source": [
    "temp / all_num\n"
   ]
  },
  {
   "cell_type": "code",
   "execution_count": 33,
   "metadata": {},
   "outputs": [
    {
     "name": "stdout",
     "output_type": "stream",
     "text": [
      "原始准确率 0.954\n"
     ]
    }
   ],
   "source": [
    "with torch.no_grad():\n",
    "    net = load_cifar10_resnet50()\n",
    "    preds, labels = test_model(net, test_dataloader_all)\n",
    "    print(\"原始准确率\", (preds.argmax(-1) == labels).mean())\n"
   ]
  },
  {
   "cell_type": "code",
   "execution_count": 33,
   "metadata": {},
   "outputs": [
    {
     "name": "stdout",
     "output_type": "stream",
     "text": [
      "现在准确率 0.8106\n",
      "[[724  11   4  38   1   0 192   0  28   2]\n",
      " [  0 983   0   3   0   0  10   0   1   3]\n",
      " [  5   1 810  43   6   0 132   0   3   0]\n",
      " [  1   3   3 892   7   4  87   0   3   0]\n",
      " [  0   0   9  24 838   0 124   1   4   0]\n",
      " [  2   8  11 324   9 466 177   0   3   0]\n",
      " [  0   0   1   9   0   0 990   0   0   0]\n",
      " [  1   3   8  48   8   0 208 723   1   0]\n",
      " [  3   9   1   5   0   0  51   0 931   0]\n",
      " [  1 118   0  11   1   0 108   0  12 749]]\n"
     ]
    }
   ],
   "source": [
    "from sklearn.metrics import confusion_matrix\n",
    "with torch.no_grad():\n",
    "    net = load_cifar10_resnet50()\n",
    "    for param in all_param_names:\n",
    "        param_ = parse_param(param)\n",
    "        try:\n",
    "            exec(\"net.\" + param_ + \"[param_remove[param]] = 0\")\n",
    "        except:\n",
    "            exec(\"net.\" + param_ + \"[param_remove[param],:] = 0\")\n",
    "    preds, labels = test_model(net, test_dataloader_all)\n",
    "    print(\"现在准确率\", (preds.argmax(-1) == labels).mean())\n",
    "    print(confusion_matrix(labels,preds.argmax(-1)))\n"
   ]
  },
  {
   "cell_type": "code",
   "execution_count": 35,
   "metadata": {},
   "outputs": [
    {
     "name": "stdout",
     "output_type": "stream",
     "text": [
      "对比实验准确率 0.1\n"
     ]
    }
   ],
   "source": [
    "with torch.no_grad():\n",
    "    net = load_cifar10_resnet50()\n",
    "    for param in all_param_names:\n",
    "        param_ = parse_param(param)\n",
    "        keep_rate = param_remove[param].sum() / param_remove[param].size\n",
    "        weight_flatten = eval(\n",
    "            \"net.\" + param_ + \".cpu().detach().numpy()\").flatten()\n",
    "        threshold = np.sort(weight_flatten)[int(\n",
    "            len(weight_flatten) * (1 - keep_rate))]\n",
    "        try:\n",
    "            exec(\"net.\" + param_ +\n",
    "                 \"[eval('net.' + param_ + '.cpu().detach().numpy()') < threshold] = 0\")\n",
    "        except:\n",
    "            exec(\"net.\" + param_ +\n",
    "                 \"[eval('net.' + param_ + '.cpu().detach().numpy()') < threshold,:] = 0\")\n",
    "    preds, labels = test_model(net, test_dataloader_all)\n",
    "    print(\"对比实验准确率\", (preds.argmax(-1) == labels).mean())\n"
   ]
  },
  {
   "cell_type": "code",
   "execution_count": null,
   "metadata": {},
   "outputs": [],
   "source": []
  },
  {
   "cell_type": "code",
   "execution_count": null,
   "metadata": {},
   "outputs": [],
   "source": []
  }
 ],
 "metadata": {
  "kernelspec": {
   "display_name": "Python 3",
   "language": "python",
   "name": "python3"
  },
  "language_info": {
   "codemirror_mode": {
    "name": "ipython",
    "version": 3
   },
   "file_extension": ".py",
   "mimetype": "text/x-python",
   "name": "python",
   "nbconvert_exporter": "python",
   "pygments_lexer": "ipython3",
   "version": "3.10.8"
  },
  "orig_nbformat": 4,
  "vscode": {
   "interpreter": {
    "hash": "c1050a06cbaeed8b46d187604389f32b45fa537b377a0b8f76b38e0c23b5abbd"
   }
  }
 },
 "nbformat": 4,
 "nbformat_minor": 2
}
