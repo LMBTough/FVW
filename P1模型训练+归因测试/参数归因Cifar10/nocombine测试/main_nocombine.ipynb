{
 "cells": [
  {
   "cell_type": "code",
   "execution_count": 1,
   "metadata": {},
   "outputs": [],
   "source": [
    "import torch\n",
    "import torch.nn as nn\n",
    "from torch.utils.data import DataLoader, TensorDataset\n",
    "import numpy as np\n",
    "import torch.optim as optim\n",
    "import matplotlib.pyplot as plt\n",
    "import torch.nn.functional as F\n",
    "import torchvision\n",
    "import pickle as pkl\n",
    "from attack import attack, test_model,parse_param\n",
    "import random"
   ]
  },
  {
   "cell_type": "code",
   "execution_count": 2,
   "metadata": {},
   "outputs": [],
   "source": [
    "def setup_seed(seed):\n",
    "    torch.manual_seed(seed)\n",
    "    torch.cuda.manual_seed_all(seed)\n",
    "    np.random.seed(seed)\n",
    "    random.seed(seed)\n",
    "    torch.backends.cudnn.deterministic = True\n",
    "\n",
    "\n",
    "setup_seed(3407)"
   ]
  },
  {
   "cell_type": "code",
   "execution_count": 3,
   "metadata": {},
   "outputs": [],
   "source": [
    "from datasets import load_cifar10, load_cifar100\n",
    "from models.resnet import load_cifar10_resnet50, load_cifar100_resnet50\n",
    "model = load_cifar10_resnet50()\n"
   ]
  },
  {
   "cell_type": "code",
   "execution_count": 4,
   "metadata": {},
   "outputs": [],
   "source": [
    "all_param_names = list()\n",
    "for name, param in model.named_parameters():\n",
    "    if not \"bn\" in name and not \"shortcut.1\" in name:\n",
    "        all_param_names.append(name)"
   ]
  },
  {
   "cell_type": "code",
   "execution_count": 5,
   "metadata": {},
   "outputs": [],
   "source": [
    "all_param_names = all_param_names[:-2]"
   ]
  },
  {
   "cell_type": "code",
   "execution_count": 6,
   "metadata": {},
   "outputs": [
    {
     "name": "stdout",
     "output_type": "stream",
     "text": [
      "Files already downloaded and verified\n",
      "Files already downloaded and verified\n"
     ]
    },
    {
     "name": "stderr",
     "output_type": "stream",
     "text": [
      "100%|██████████| 20/20 [00:20<00:00,  1.02s/it]\n"
     ]
    },
    {
     "name": "stdout",
     "output_type": "stream",
     "text": [
      "0.0006625839769840241\n"
     ]
    },
    {
     "name": "stderr",
     "output_type": "stream",
     "text": [
      "100%|██████████| 20/20 [00:09<00:00,  2.09it/s]\n"
     ]
    },
    {
     "name": "stdout",
     "output_type": "stream",
     "text": [
      "0.02401313738822937\n"
     ]
    },
    {
     "name": "stderr",
     "output_type": "stream",
     "text": [
      "100%|██████████| 20/20 [00:09<00:00,  2.17it/s]\n"
     ]
    },
    {
     "name": "stdout",
     "output_type": "stream",
     "text": [
      "0.3929096221923828\n"
     ]
    },
    {
     "name": "stderr",
     "output_type": "stream",
     "text": [
      "d:\\Documents\\GitHub\\Neural-importance\\P1模型训练+归因测试\\参数归因Cifar10\\attack.py:79: VisibleDeprecationWarning: Creating an ndarray from ragged nested sequences (which is a list-or-tuple of lists-or-tuples-or ndarrays with different lengths or shapes) is deprecated. If you meant to do this, you must specify 'dtype=object' when creating the ndarray.\n",
      "  param_totals = np.array(param_totals)\n",
      "d:\\Documents\\GitHub\\Neural-importance\\P1模型训练+归因测试\\参数归因Cifar10\\utils.py:15: VisibleDeprecationWarning: Creating an ndarray from ragged nested sequences (which is a list-or-tuple of lists-or-tuples-or ndarrays with different lengths or shapes) is deprecated. If you meant to do this, you must specify 'dtype=object' when creating the ndarray.\n",
      "  x = np.array(x)\n",
      "100%|██████████| 20/20 [00:09<00:00,  2.14it/s]\n"
     ]
    },
    {
     "name": "stdout",
     "output_type": "stream",
     "text": [
      "0.00046284100264310836\n"
     ]
    },
    {
     "name": "stderr",
     "output_type": "stream",
     "text": [
      "100%|██████████| 20/20 [00:09<00:00,  2.13it/s]\n"
     ]
    },
    {
     "name": "stdout",
     "output_type": "stream",
     "text": [
      "0.00942666541337967\n"
     ]
    },
    {
     "name": "stderr",
     "output_type": "stream",
     "text": [
      "100%|██████████| 20/20 [00:09<00:00,  2.08it/s]\n"
     ]
    },
    {
     "name": "stdout",
     "output_type": "stream",
     "text": [
      "0.16735419273376465\n"
     ]
    },
    {
     "name": "stderr",
     "output_type": "stream",
     "text": [
      "100%|██████████| 20/20 [00:09<00:00,  2.07it/s]\n"
     ]
    },
    {
     "name": "stdout",
     "output_type": "stream",
     "text": [
      "0.0005848659977316856\n"
     ]
    },
    {
     "name": "stderr",
     "output_type": "stream",
     "text": [
      "100%|██████████| 20/20 [00:09<00:00,  2.04it/s]\n"
     ]
    },
    {
     "name": "stdout",
     "output_type": "stream",
     "text": [
      "0.0158255264043808\n"
     ]
    },
    {
     "name": "stderr",
     "output_type": "stream",
     "text": [
      "100%|██████████| 20/20 [00:10<00:00,  1.94it/s]\n"
     ]
    },
    {
     "name": "stdout",
     "output_type": "stream",
     "text": [
      "0.21922230644226073\n"
     ]
    },
    {
     "name": "stderr",
     "output_type": "stream",
     "text": [
      "100%|██████████| 20/20 [00:09<00:00,  2.01it/s]\n"
     ]
    },
    {
     "name": "stdout",
     "output_type": "stream",
     "text": [
      "0.000786997240781784\n"
     ]
    },
    {
     "name": "stderr",
     "output_type": "stream",
     "text": [
      "100%|██████████| 20/20 [00:09<00:00,  2.09it/s]\n"
     ]
    },
    {
     "name": "stdout",
     "output_type": "stream",
     "text": [
      "0.026806430077552797\n"
     ]
    },
    {
     "name": "stderr",
     "output_type": "stream",
     "text": [
      "100%|██████████| 20/20 [00:09<00:00,  2.12it/s]\n"
     ]
    },
    {
     "name": "stdout",
     "output_type": "stream",
     "text": [
      "0.40782703857421876\n"
     ]
    },
    {
     "name": "stderr",
     "output_type": "stream",
     "text": [
      "100%|██████████| 20/20 [00:09<00:00,  2.08it/s]\n"
     ]
    },
    {
     "name": "stdout",
     "output_type": "stream",
     "text": [
      "0.0006073593527078628\n"
     ]
    },
    {
     "name": "stderr",
     "output_type": "stream",
     "text": [
      "100%|██████████| 20/20 [00:09<00:00,  2.03it/s]\n"
     ]
    },
    {
     "name": "stdout",
     "output_type": "stream",
     "text": [
      "0.011670439040660858\n"
     ]
    },
    {
     "name": "stderr",
     "output_type": "stream",
     "text": [
      "100%|██████████| 20/20 [00:09<00:00,  2.05it/s]\n"
     ]
    },
    {
     "name": "stdout",
     "output_type": "stream",
     "text": [
      "0.18673768348693848\n"
     ]
    },
    {
     "name": "stderr",
     "output_type": "stream",
     "text": [
      "100%|██████████| 20/20 [00:09<00:00,  2.16it/s]\n"
     ]
    },
    {
     "name": "stdout",
     "output_type": "stream",
     "text": [
      "0.0005955943539738655\n"
     ]
    },
    {
     "name": "stderr",
     "output_type": "stream",
     "text": [
      "100%|██████████| 20/20 [00:09<00:00,  2.20it/s]\n"
     ]
    },
    {
     "name": "stdout",
     "output_type": "stream",
     "text": [
      "0.018226849114894868\n"
     ]
    },
    {
     "name": "stderr",
     "output_type": "stream",
     "text": [
      "100%|██████████| 20/20 [00:09<00:00,  2.18it/s]\n"
     ]
    },
    {
     "name": "stdout",
     "output_type": "stream",
     "text": [
      "0.3045005058288574\n"
     ]
    },
    {
     "name": "stderr",
     "output_type": "stream",
     "text": [
      "100%|██████████| 20/20 [00:09<00:00,  2.14it/s]\n"
     ]
    },
    {
     "name": "stdout",
     "output_type": "stream",
     "text": [
      "0.0006207883909344674\n"
     ]
    },
    {
     "name": "stderr",
     "output_type": "stream",
     "text": [
      "100%|██████████| 20/20 [00:09<00:00,  2.02it/s]\n"
     ]
    },
    {
     "name": "stdout",
     "output_type": "stream",
     "text": [
      "0.011072832882404328\n"
     ]
    },
    {
     "name": "stderr",
     "output_type": "stream",
     "text": [
      "100%|██████████| 20/20 [00:09<00:00,  2.09it/s]\n"
     ]
    },
    {
     "name": "stdout",
     "output_type": "stream",
     "text": [
      "0.20568238143920897\n"
     ]
    },
    {
     "name": "stderr",
     "output_type": "stream",
     "text": [
      "100%|██████████| 20/20 [00:09<00:00,  2.15it/s]\n"
     ]
    },
    {
     "name": "stdout",
     "output_type": "stream",
     "text": [
      "0.0004760829672217369\n"
     ]
    },
    {
     "name": "stderr",
     "output_type": "stream",
     "text": [
      "100%|██████████| 20/20 [00:09<00:00,  2.13it/s]\n"
     ]
    },
    {
     "name": "stdout",
     "output_type": "stream",
     "text": [
      "0.011725876915454864\n"
     ]
    },
    {
     "name": "stderr",
     "output_type": "stream",
     "text": [
      "100%|██████████| 20/20 [00:09<00:00,  2.12it/s]\n"
     ]
    },
    {
     "name": "stdout",
     "output_type": "stream",
     "text": [
      "0.18064193229675293\n"
     ]
    },
    {
     "name": "stderr",
     "output_type": "stream",
     "text": [
      "100%|██████████| 20/20 [00:09<00:00,  2.11it/s]\n"
     ]
    },
    {
     "name": "stdout",
     "output_type": "stream",
     "text": [
      "0.0004115740329027176\n"
     ]
    },
    {
     "name": "stderr",
     "output_type": "stream",
     "text": [
      "100%|██████████| 20/20 [00:09<00:00,  2.14it/s]\n"
     ]
    },
    {
     "name": "stdout",
     "output_type": "stream",
     "text": [
      "0.010544984757900238\n"
     ]
    },
    {
     "name": "stderr",
     "output_type": "stream",
     "text": [
      "100%|██████████| 20/20 [00:09<00:00,  2.14it/s]\n"
     ]
    },
    {
     "name": "stdout",
     "output_type": "stream",
     "text": [
      "0.22035617218017578\n"
     ]
    },
    {
     "name": "stderr",
     "output_type": "stream",
     "text": [
      "100%|██████████| 20/20 [00:09<00:00,  2.09it/s]\n"
     ]
    },
    {
     "name": "stdout",
     "output_type": "stream",
     "text": [
      "0.0005323756381869317\n"
     ]
    },
    {
     "name": "stderr",
     "output_type": "stream",
     "text": [
      "100%|██████████| 20/20 [00:09<00:00,  2.08it/s]\n"
     ]
    },
    {
     "name": "stdout",
     "output_type": "stream",
     "text": [
      "0.01674596917629242\n"
     ]
    },
    {
     "name": "stderr",
     "output_type": "stream",
     "text": [
      "100%|██████████| 20/20 [00:09<00:00,  2.12it/s]\n"
     ]
    },
    {
     "name": "stdout",
     "output_type": "stream",
     "text": [
      "0.335018994140625\n"
     ]
    }
   ],
   "source": [
    "train_loaders, test_dataloaders, test_dataloader_all = load_cifar10()\n",
    "all_totals = list()\n",
    "for i in range(10):\n",
    "    all_totals.append(attack(train_loaders[i], all_param_names, load_cifar10_resnet50, alpha=0.00001,num_steps=3,op=\"add\"))\n"
   ]
  },
  {
   "cell_type": "code",
   "execution_count": 7,
   "metadata": {},
   "outputs": [],
   "source": [
    "# pkl.dump(all_totals, open(\"weights/totals.pkl\", \"wb\"))\n",
    "# all_totals = pkl.load(open(\"weights/totals.pkl\", \"rb\"))"
   ]
  },
  {
   "cell_type": "code",
   "execution_count": 12,
   "metadata": {},
   "outputs": [
    {
     "name": "stderr",
     "output_type": "stream",
     "text": [
      "C:\\Users\\Zhang\\AppData\\Local\\Temp\\ipykernel_41380\\3497767910.py:12: VisibleDeprecationWarning: Creating an ndarray from ragged nested sequences (which is a list-or-tuple of lists-or-tuples-or ndarrays with different lengths or shapes) is deprecated. If you meant to do this, you must specify 'dtype=object' when creating the ndarray.\n",
      "  combine = np.array(combine)\n"
     ]
    }
   ],
   "source": [
    "thre = 0.1\n",
    "net = load_cifar10_resnet50()\n",
    "param_remove = dict()\n",
    "for param in all_param_names:\n",
    "    param_remove[param] = None\n",
    "for i in range(len(all_totals)):\n",
    "    totals = all_totals[i]\n",
    "    totals = [totals[param] for param in all_param_names]\n",
    "    param_weights = [eval(\"net.\" + parse_param(param) + \".cpu().detach().numpy()\")\n",
    "                     for param in all_param_names]\n",
    "    combine = [total for total, weight in zip(totals, param_weights)]\n",
    "    combine = np.array(combine)\n",
    "    combine_flatten = np.concatenate([combine_.flatten() for combine_ in combine],axis=0)\n",
    "    threshold = np.sort(combine_flatten)[::-1][int(len(combine_flatten) * thre)]\n",
    "    for idx,param in enumerate(all_param_names):\n",
    "        if param_remove[param] is None:\n",
    "            param_remove[param] = combine[idx] > threshold\n",
    "        else:\n",
    "            t = combine[idx] > threshold\n",
    "            param_remove[param] = param_remove[param] | t"
   ]
  },
  {
   "cell_type": "code",
   "execution_count": 13,
   "metadata": {},
   "outputs": [
    {
     "name": "stdout",
     "output_type": "stream",
     "text": [
      "conv1.weight 0.9936342592592593\n",
      "layer1.0.conv1.weight 0.783203125\n",
      "layer1.0.conv2.weight 0.5836046006944444\n",
      "layer1.0.conv3.weight 0.75164794921875\n",
      "layer1.0.shortcut.0.weight 0.7431640625\n",
      "layer1.1.conv1.weight 0.41241455078125\n",
      "layer1.1.conv2.weight 0.5375434027777778\n",
      "layer1.1.conv3.weight 0.74359130859375\n",
      "layer1.2.conv1.weight 0.5316162109375\n",
      "layer1.2.conv2.weight 0.6970757378472222\n",
      "layer1.2.conv3.weight 0.686279296875\n",
      "layer2.0.conv1.weight 0.881134033203125\n",
      "layer2.0.conv2.weight 0.5897962782118056\n",
      "layer2.0.conv3.weight 0.7638092041015625\n",
      "layer2.0.shortcut.0.weight 0.6974945068359375\n",
      "layer2.1.conv1.weight 0.2981109619140625\n",
      "layer2.1.conv2.weight 0.5779351128472222\n",
      "layer2.1.conv3.weight 0.6712799072265625\n",
      "layer2.2.conv1.weight 0.443450927734375\n",
      "layer2.2.conv2.weight 0.5477769639756944\n",
      "layer2.2.conv3.weight 0.5927581787109375\n",
      "layer2.3.conv1.weight 0.549774169921875\n",
      "layer2.3.conv2.weight 0.6331515842013888\n",
      "layer2.3.conv3.weight 0.5400238037109375\n",
      "layer3.0.conv1.weight 0.8659820556640625\n",
      "layer3.0.conv2.weight 0.5350986056857638\n",
      "layer3.0.conv3.weight 0.7447471618652344\n",
      "layer3.0.shortcut.0.weight 0.42093658447265625\n",
      "layer3.1.conv1.weight 0.28858184814453125\n",
      "layer3.1.conv2.weight 0.4279700385199653\n",
      "layer3.1.conv3.weight 0.6414909362792969\n",
      "layer3.2.conv1.weight 0.41222381591796875\n",
      "layer3.2.conv2.weight 0.4352773030598958\n",
      "layer3.2.conv3.weight 0.5967178344726562\n",
      "layer3.3.conv1.weight 0.4931182861328125\n",
      "layer3.3.conv2.weight 0.4878980848524306\n",
      "layer3.3.conv3.weight 0.5740089416503906\n",
      "layer3.4.conv1.weight 0.6078071594238281\n",
      "layer3.4.conv2.weight 0.5585140652126737\n",
      "layer3.4.conv3.weight 0.5501594543457031\n",
      "layer3.5.conv1.weight 0.7546539306640625\n",
      "layer3.5.conv2.weight 0.7925448947482638\n",
      "layer3.5.conv3.weight 0.67718505859375\n",
      "layer4.0.conv1.weight 0.7877674102783203\n",
      "layer4.0.conv2.weight 0.3800133599175347\n",
      "layer4.0.conv3.weight 0.5440664291381836\n",
      "layer4.0.shortcut.0.weight 0.12856626510620117\n",
      "layer4.1.conv1.weight 0.6584453582763672\n",
      "layer4.1.conv2.weight 0.5838851928710938\n",
      "layer4.1.conv3.weight 0.5478906631469727\n",
      "layer4.2.conv1.weight 0.6782655715942383\n",
      "layer4.2.conv2.weight 0.6258366902669271\n",
      "layer4.2.conv3.weight 0.3934288024902344\n"
     ]
    }
   ],
   "source": [
    "temp = 0\n",
    "all_num = 0\n",
    "for param in param_remove:\n",
    "    temp += param_remove[param].sum()\n",
    "    all_num += param_remove[param].size\n",
    "    print(param, param_remove[param].mean())"
   ]
  },
  {
   "cell_type": "code",
   "execution_count": 14,
   "metadata": {},
   "outputs": [
    {
     "data": {
      "text/plain": [
       "0.5183197743767793"
      ]
     },
     "execution_count": 14,
     "metadata": {},
     "output_type": "execute_result"
    }
   ],
   "source": [
    "temp / all_num"
   ]
  },
  {
   "cell_type": "code",
   "execution_count": 18,
   "metadata": {},
   "outputs": [
    {
     "name": "stdout",
     "output_type": "stream",
     "text": [
      "原始准确率 0.954\n"
     ]
    }
   ],
   "source": [
    "with torch.no_grad():\n",
    "    net = load_cifar10_resnet50()\n",
    "    preds, labels = test_model(net, test_dataloader_all)\n",
    "    print(\"原始准确率\", (preds.argmax(-1) == labels).mean())"
   ]
  },
  {
   "cell_type": "code",
   "execution_count": 19,
   "metadata": {},
   "outputs": [
    {
     "name": "stdout",
     "output_type": "stream",
     "text": [
      "现在准确率 0.1\n"
     ]
    }
   ],
   "source": [
    "with torch.no_grad():\n",
    "    net = load_cifar10_resnet50()\n",
    "    for param in all_param_names:\n",
    "        param_ = parse_param(param)\n",
    "        try:\n",
    "            exec(\"net.\" + param_ + \"[~param_remove[param]] = 0\")\n",
    "        except:\n",
    "            exec(\"net.\" + param_ + \"[~param_remove[param],:] = 0\")\n",
    "    preds, labels = test_model(net, test_dataloader_all)\n",
    "    print(\"现在准确率\", (preds.argmax(-1) == labels).mean())"
   ]
  },
  {
   "cell_type": "code",
   "execution_count": 20,
   "metadata": {},
   "outputs": [
    {
     "name": "stdout",
     "output_type": "stream",
     "text": [
      "对比实验准确率 0.1\n"
     ]
    }
   ],
   "source": [
    "with torch.no_grad():\n",
    "    net = load_cifar10_resnet50()\n",
    "    for param in all_param_names:\n",
    "        param_ = parse_param(param)\n",
    "        keep_rate = param_remove[param].sum() / param_remove[param].size\n",
    "        weight_flatten = eval(\"net.\" + param_ + \".cpu().detach().numpy()\").flatten()\n",
    "        threshold = np.sort(weight_flatten)[int(len(weight_flatten) * (1 - keep_rate))]\n",
    "        try:\n",
    "            exec(\"net.\" + param_ + \"[eval('net.' + param_ + '.cpu().detach().numpy()') < threshold] = 0\")\n",
    "        except:\n",
    "            exec(\"net.\" + param_ + \"[eval('net.' + param_ + '.cpu().detach().numpy()') < threshold,:] = 0\")\n",
    "    preds, labels = test_model(net, test_dataloader_all)\n",
    "    print(\"对比实验准确率\", (preds.argmax(-1) == labels).mean())"
   ]
  },
  {
   "cell_type": "code",
   "execution_count": null,
   "metadata": {},
   "outputs": [],
   "source": []
  },
  {
   "cell_type": "code",
   "execution_count": null,
   "metadata": {},
   "outputs": [],
   "source": []
  }
 ],
 "metadata": {
  "kernelspec": {
   "display_name": "Python 3",
   "language": "python",
   "name": "python3"
  },
  "language_info": {
   "codemirror_mode": {
    "name": "ipython",
    "version": 3
   },
   "file_extension": ".py",
   "mimetype": "text/x-python",
   "name": "python",
   "nbconvert_exporter": "python",
   "pygments_lexer": "ipython3",
   "version": "3.10.8"
  },
  "orig_nbformat": 4,
  "vscode": {
   "interpreter": {
    "hash": "c1050a06cbaeed8b46d187604389f32b45fa537b377a0b8f76b38e0c23b5abbd"
   }
  }
 },
 "nbformat": 4,
 "nbformat_minor": 2
}
