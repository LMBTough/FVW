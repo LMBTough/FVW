{
 "cells": [
  {
   "cell_type": "code",
   "execution_count": 3,
   "metadata": {},
   "outputs": [],
   "source": [
    "import torch\n",
    "import torch.nn as nn\n",
    "from torch.utils.data import DataLoader, TensorDataset\n",
    "import numpy as np\n",
    "import torch.optim as optim\n",
    "import matplotlib.pyplot as plt\n",
    "import torch.nn.functional as F\n",
    "import torchvision\n",
    "import pickle as pkl\n",
    "from attack import attack, test_model, parse_param\n",
    "import random\n"
   ]
  },
  {
   "cell_type": "code",
   "execution_count": 4,
   "metadata": {},
   "outputs": [],
   "source": [
    "def setup_seed(seed):\n",
    "    torch.manual_seed(seed)\n",
    "    torch.cuda.manual_seed_all(seed)\n",
    "    np.random.seed(seed)\n",
    "    random.seed(seed)\n",
    "    torch.backends.cudnn.deterministic = True\n",
    "\n",
    "\n",
    "setup_seed(3407)\n"
   ]
  },
  {
   "cell_type": "code",
   "execution_count": 5,
   "metadata": {},
   "outputs": [],
   "source": [
    "from datasets import load_cifar10, load_cifar100\n",
    "from models.resnet import load_cifar10_resnet50, load_cifar100_resnet50\n",
    "model = load_cifar10_resnet50()\n"
   ]
  },
  {
   "cell_type": "code",
   "execution_count": 6,
   "metadata": {},
   "outputs": [],
   "source": [
    "all_param_names = list()\n",
    "for name, param in model.named_parameters():\n",
    "    if not \"bn\" in name and not \"shortcut.1\" in name:\n",
    "        all_param_names.append(name)\n"
   ]
  },
  {
   "cell_type": "code",
   "execution_count": 7,
   "metadata": {},
   "outputs": [],
   "source": [
    "all_param_names = all_param_names[:-2]\n"
   ]
  },
  {
   "cell_type": "code",
   "execution_count": 8,
   "metadata": {},
   "outputs": [
    {
     "name": "stdout",
     "output_type": "stream",
     "text": [
      "Files already downloaded and verified\n",
      "Files already downloaded and verified\n"
     ]
    }
   ],
   "source": [
    "train_loaders, test_dataloaders, train_dataloader_all, test_dataloader_all = load_cifar10()\n",
    "# all_totals = list()\n",
    "# for i in range(10):\n",
    "#     all_totals.append(attack(train_loaders[i], all_param_names,\n",
    "#                       load_cifar10_resnet50,train_dataloader_all, alpha=0.00001, num_steps=4, op=\"add\"))\n"
   ]
  },
  {
   "cell_type": "code",
   "execution_count": 9,
   "metadata": {},
   "outputs": [],
   "source": [
    "# pkl.dump(all_totals, open(\"weights/totals.pkl\", \"wb\"))\n",
    "all_totals = pkl.load(open(\"weights/totals.pkl\", \"rb\"))"
   ]
  },
  {
   "cell_type": "code",
   "execution_count": 10,
   "metadata": {},
   "outputs": [
    {
     "name": "stderr",
     "output_type": "stream",
     "text": [
      "C:\\Users\\Zhang\\AppData\\Local\\Temp\\ipykernel_33408\\3518398074.py:13: VisibleDeprecationWarning: Creating an ndarray from ragged nested sequences (which is a list-or-tuple of lists-or-tuples-or ndarrays with different lengths or shapes) is deprecated. If you meant to do this, you must specify 'dtype=object' when creating the ndarray.\n",
      "  combine = np.array(combine)\n"
     ]
    }
   ],
   "source": [
    "thre = 0.25\n",
    "net = load_cifar10_resnet50()\n",
    "param_remove = dict()\n",
    "for param in all_param_names:\n",
    "    param_remove[param] = None\n",
    "for i in range(len(all_totals)):\n",
    "    totals = all_totals[i]\n",
    "    totals = [totals[param] for param in all_param_names]\n",
    "    param_weights = [eval(\"net.\" + parse_param(param) + \".cpu().detach().numpy()\")\n",
    "                     for param in all_param_names]\n",
    "    combine = [np.abs(total * weight)\n",
    "               for total, weight in zip(totals, param_weights)]\n",
    "    combine = np.array(combine)\n",
    "    combine_flatten = np.concatenate(\n",
    "        [combine_.flatten() for combine_ in combine], axis=0)\n",
    "    threshold = np.sort(combine_flatten)[\n",
    "        ::-1][int(len(combine_flatten) * thre)]\n",
    "    for idx, param in enumerate(all_param_names):\n",
    "        if param_remove[param] is None:\n",
    "            param_remove[param] = combine[idx] > threshold\n",
    "        else:\n",
    "            t = combine[idx] > threshold\n",
    "            param_remove[param] = param_remove[param] | t\n"
   ]
  },
  {
   "cell_type": "code",
   "execution_count": 11,
   "metadata": {},
   "outputs": [
    {
     "name": "stdout",
     "output_type": "stream",
     "text": [
      "conv1.weight 0.9976851851851852\n",
      "layer1.0.conv1.weight 0.943359375\n",
      "layer1.0.conv2.weight 0.8700900607638888\n",
      "layer1.0.conv3.weight 0.89874267578125\n",
      "layer1.0.shortcut.0.weight 0.8687744140625\n",
      "layer1.1.conv1.weight 0.8094482421875\n",
      "layer1.1.conv2.weight 0.8846842447916666\n",
      "layer1.1.conv3.weight 0.8861083984375\n",
      "layer1.2.conv1.weight 0.84033203125\n",
      "layer1.2.conv2.weight 0.870361328125\n",
      "layer1.2.conv3.weight 0.84906005859375\n",
      "layer2.0.conv1.weight 0.963531494140625\n",
      "layer2.0.conv2.weight 0.8958875868055556\n",
      "layer2.0.conv3.weight 0.9161529541015625\n",
      "layer2.0.shortcut.0.weight 0.8838653564453125\n",
      "layer2.1.conv1.weight 0.7527923583984375\n",
      "layer2.1.conv2.weight 0.8577677408854166\n",
      "layer2.1.conv3.weight 0.86981201171875\n",
      "layer2.2.conv1.weight 0.8435211181640625\n",
      "layer2.2.conv2.weight 0.8680826822916666\n",
      "layer2.2.conv3.weight 0.8392791748046875\n",
      "layer2.3.conv1.weight 0.88409423828125\n",
      "layer2.3.conv2.weight 0.8778483072916666\n",
      "layer2.3.conv3.weight 0.791015625\n",
      "layer3.0.conv1.weight 0.9491806030273438\n",
      "layer3.0.conv2.weight 0.8537512885199653\n",
      "layer3.0.conv3.weight 0.9042282104492188\n",
      "layer3.0.shortcut.0.weight 0.7298507690429688\n",
      "layer3.1.conv1.weight 0.5912055969238281\n",
      "layer3.1.conv2.weight 0.7630428738064237\n",
      "layer3.1.conv3.weight 0.8689994812011719\n",
      "layer3.2.conv1.weight 0.749114990234375\n",
      "layer3.2.conv2.weight 0.7933993869357638\n",
      "layer3.2.conv3.weight 0.8514595031738281\n",
      "layer3.3.conv1.weight 0.8162155151367188\n",
      "layer3.3.conv2.weight 0.8302171495225694\n",
      "layer3.3.conv3.weight 0.8235931396484375\n",
      "layer3.4.conv1.weight 0.8639068603515625\n",
      "layer3.4.conv2.weight 0.8499484592013888\n",
      "layer3.4.conv3.weight 0.7637367248535156\n",
      "layer3.5.conv1.weight 0.9209518432617188\n",
      "layer3.5.conv2.weight 0.8999803331163194\n",
      "layer3.5.conv3.weight 0.7276458740234375\n",
      "layer4.0.conv1.weight 0.8635711669921875\n",
      "layer4.0.conv2.weight 0.3802926805284288\n",
      "layer4.0.conv3.weight 0.3419065475463867\n",
      "layer4.0.shortcut.0.weight 0.11868047714233398\n",
      "layer4.1.conv1.weight 0.3958549499511719\n",
      "layer4.1.conv2.weight 0.28025860256618923\n",
      "layer4.1.conv3.weight 0.20473098754882812\n",
      "layer4.2.conv1.weight 0.28107643127441406\n",
      "layer4.2.conv2.weight 0.09997304280598958\n",
      "layer4.2.conv3.weight 0.16113948822021484\n"
     ]
    }
   ],
   "source": [
    "temp = 0\n",
    "all_num = 0\n",
    "for param in param_remove:\n",
    "    temp += param_remove[param].sum()\n",
    "    all_num += param_remove[param].size\n",
    "    print(param, param_remove[param].mean())\n"
   ]
  },
  {
   "cell_type": "code",
   "execution_count": 12,
   "metadata": {},
   "outputs": [
    {
     "data": {
      "text/plain": [
       "0.4675693489107797"
      ]
     },
     "execution_count": 12,
     "metadata": {},
     "output_type": "execute_result"
    }
   ],
   "source": [
    "temp / all_num\n"
   ]
  },
  {
   "cell_type": "code",
   "execution_count": 13,
   "metadata": {},
   "outputs": [
    {
     "name": "stdout",
     "output_type": "stream",
     "text": [
      "原始准确率 0.954\n"
     ]
    }
   ],
   "source": [
    "with torch.no_grad():\n",
    "    net = load_cifar10_resnet50()\n",
    "    preds, labels = test_model(net, test_dataloader_all)\n",
    "    print(\"原始准确率\", (preds.argmax(-1) == labels).mean())\n"
   ]
  },
  {
   "cell_type": "code",
   "execution_count": 14,
   "metadata": {},
   "outputs": [
    {
     "name": "stdout",
     "output_type": "stream",
     "text": [
      "现在准确率 0.9446\n"
     ]
    }
   ],
   "source": [
    "with torch.no_grad():\n",
    "    net = load_cifar10_resnet50()\n",
    "    for param in all_param_names:\n",
    "        param_ = parse_param(param)\n",
    "        try:\n",
    "            exec(\"net.\" + param_ + \"[~param_remove[param]] = 0\")\n",
    "        except:\n",
    "            exec(\"net.\" + param_ + \"[~param_remove[param],:] = 0\")\n",
    "    preds, labels = test_model(net, test_dataloader_all)\n",
    "    print(\"现在准确率\", (preds.argmax(-1) == labels).mean())\n"
   ]
  },
  {
   "cell_type": "code",
   "execution_count": 15,
   "metadata": {},
   "outputs": [
    {
     "name": "stdout",
     "output_type": "stream",
     "text": [
      "对比实验准确率 0.1\n"
     ]
    }
   ],
   "source": [
    "with torch.no_grad():\n",
    "    net = load_cifar10_resnet50()\n",
    "    for param in all_param_names:\n",
    "        param_ = parse_param(param)\n",
    "        keep_rate = param_remove[param].sum() / param_remove[param].size\n",
    "        weight_flatten = eval(\n",
    "            \"net.\" + param_ + \".cpu().detach().numpy()\").flatten()\n",
    "        threshold = np.sort(weight_flatten)[int(\n",
    "            len(weight_flatten) * (1 - keep_rate))]\n",
    "        try:\n",
    "            exec(\"net.\" + param_ +\n",
    "                 \"[eval('net.' + param_ + '.cpu().detach().numpy()') < threshold] = 0\")\n",
    "        except:\n",
    "            exec(\"net.\" + param_ +\n",
    "                 \"[eval('net.' + param_ + '.cpu().detach().numpy()') < threshold,:] = 0\")\n",
    "    preds, labels = test_model(net, test_dataloader_all)\n",
    "    print(\"对比实验准确率\", (preds.argmax(-1) == labels).mean())\n"
   ]
  },
  {
   "cell_type": "code",
   "execution_count": null,
   "metadata": {},
   "outputs": [],
   "source": []
  },
  {
   "cell_type": "code",
   "execution_count": null,
   "metadata": {},
   "outputs": [],
   "source": []
  }
 ],
 "metadata": {
  "kernelspec": {
   "display_name": "Python 3",
   "language": "python",
   "name": "python3"
  },
  "language_info": {
   "codemirror_mode": {
    "name": "ipython",
    "version": 3
   },
   "file_extension": ".py",
   "mimetype": "text/x-python",
   "name": "python",
   "nbconvert_exporter": "python",
   "pygments_lexer": "ipython3",
   "version": "3.10.8"
  },
  "orig_nbformat": 4,
  "vscode": {
   "interpreter": {
    "hash": "c1050a06cbaeed8b46d187604389f32b45fa537b377a0b8f76b38e0c23b5abbd"
   }
  }
 },
 "nbformat": 4,
 "nbformat_minor": 2
}
