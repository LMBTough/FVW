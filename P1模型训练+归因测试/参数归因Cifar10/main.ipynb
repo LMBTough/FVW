{
 "cells": [
  {
   "cell_type": "code",
   "execution_count": 6,
   "metadata": {},
   "outputs": [],
   "source": [
    "import torch\n",
    "import torch.nn as nn\n",
    "from torch.utils.data import DataLoader, TensorDataset\n",
    "import numpy as np\n",
    "import torch.optim as optim\n",
    "import matplotlib.pyplot as plt\n",
    "import torch.nn.functional as F\n",
    "import torchvision\n",
    "import pickle as pkl\n",
    "from tqdm.notebook import tqdm\n",
    "from attack import attack, test_model, parse_param\n",
    "import random\n",
    "device = \"cuda\" if torch.cuda.is_available() else \"cpu\"\n"
   ]
  },
  {
   "cell_type": "code",
   "execution_count": 34,
   "metadata": {},
   "outputs": [],
   "source": [
    "def setup_seed(seed):\n",
    "    torch.manual_seed(seed)\n",
    "    torch.cuda.manual_seed_all(seed)\n",
    "    np.random.seed(seed)\n",
    "    random.seed(seed)\n",
    "    torch.backends.cudnn.deterministic = True\n",
    "\n",
    "\n",
    "setup_seed(3407)\n"
   ]
  },
  {
   "cell_type": "code",
   "execution_count": 35,
   "metadata": {},
   "outputs": [],
   "source": [
    "from datasets import load_cifar10, load_cifar100\n",
    "from models.resnet import load_cifar10_resnet50, load_cifar100_resnet50\n",
    "model = load_cifar10_resnet50()\n"
   ]
  },
  {
   "cell_type": "code",
   "execution_count": 13,
   "metadata": {},
   "outputs": [],
   "source": [
    "all_param_names = list()\n",
    "for name, param in model.named_parameters():\n",
    "    if not \"bn\" in name and not \"shortcut.1\" in name:\n",
    "        all_param_names.append(name)\n"
   ]
  },
  {
   "cell_type": "code",
   "execution_count": 14,
   "metadata": {},
   "outputs": [],
   "source": [
    "all_param_names = all_param_names[:-2]\n"
   ]
  },
  {
   "cell_type": "code",
   "execution_count": 15,
   "metadata": {},
   "outputs": [
    {
     "name": "stdout",
     "output_type": "stream",
     "text": [
      "Files already downloaded and verified\n",
      "Files already downloaded and verified\n"
     ]
    }
   ],
   "source": [
    "train_loaders, test_dataloaders, train_dataloader_all, test_dataloader_all = load_cifar10()\n",
    "all_totals = list()\n",
    "for i in range(10):\n",
    "    all_totals.append(attack(train_loaders[i], all_param_names,\n",
    "                      load_cifar10_resnet50,train_dataloader_all, alpha=0.00001, num_steps=4, op=\"add\"))\n"
   ]
  },
  {
   "cell_type": "code",
   "execution_count": 16,
   "metadata": {},
   "outputs": [],
   "source": [
    "pkl.dump(all_totals, open(\"weights/totals.pkl\", \"wb\"))\n",
    "# all_totals = pkl.load(open(\"weights/totals.pkl\", \"rb\"))\n"
   ]
  },
  {
   "cell_type": "code",
   "execution_count": 17,
   "metadata": {},
   "outputs": [
    {
     "name": "stderr",
     "output_type": "stream",
     "text": [
      "C:\\Users\\Zhang\\AppData\\Local\\Temp\\ipykernel_40140\\1713885912.py:13: VisibleDeprecationWarning: Creating an ndarray from ragged nested sequences (which is a list-or-tuple of lists-or-tuples-or ndarrays with different lengths or shapes) is deprecated. If you meant to do this, you must specify 'dtype=object' when creating the ndarray.\n",
      "  combine = np.array(combine)\n"
     ]
    }
   ],
   "source": [
    "thre = 0.25\n",
    "net = load_cifar10_resnet50()\n",
    "param_remove = dict()\n",
    "for param in all_param_names:\n",
    "    param_remove[param] = None\n",
    "for i in range(len(all_totals)):\n",
    "    totals = all_totals[i]\n",
    "    totals = [totals[param] for param in all_param_names]\n",
    "    param_weights = [eval(\"net.\" + parse_param(param) + \".cpu().detach().numpy()\")\n",
    "                     for param in all_param_names]\n",
    "    combine = [np.abs(total * weight)\n",
    "               for total, weight in zip(totals, param_weights)]\n",
    "    combine = np.array(combine)\n",
    "    combine_flatten = np.concatenate(\n",
    "        [combine_.flatten() for combine_ in combine], axis=0)\n",
    "    threshold = np.sort(combine_flatten)[\n",
    "        ::-1][int(len(combine_flatten) * thre)]\n",
    "    for idx, param in enumerate(all_param_names):\n",
    "        if param_remove[param] is None:\n",
    "            param_remove[param] = combine[idx] > threshold\n",
    "        else:\n",
    "            t = combine[idx] > threshold\n",
    "            param_remove[param] = param_remove[param] | t\n"
   ]
  },
  {
   "cell_type": "code",
   "execution_count": 18,
   "metadata": {},
   "outputs": [
    {
     "name": "stdout",
     "output_type": "stream",
     "text": [
      "conv1.weight 0.9797453703703703\n",
      "layer1.0.conv1.weight 0.761962890625\n",
      "layer1.0.conv2.weight 0.5234375\n",
      "layer1.0.conv3.weight 0.68951416015625\n",
      "layer1.0.shortcut.0.weight 0.67645263671875\n",
      "layer1.1.conv1.weight 0.46636962890625\n",
      "layer1.1.conv2.weight 0.5396864149305556\n",
      "layer1.1.conv3.weight 0.64544677734375\n",
      "layer1.2.conv1.weight 0.5447998046875\n",
      "layer1.2.conv2.weight 0.634765625\n",
      "layer1.2.conv3.weight 0.5819091796875\n",
      "layer2.0.conv1.weight 0.777557373046875\n",
      "layer2.0.conv2.weight 0.4875691731770833\n",
      "layer2.0.conv3.weight 0.618011474609375\n",
      "layer2.0.shortcut.0.weight 0.5057907104492188\n",
      "layer2.1.conv1.weight 0.221160888671875\n",
      "layer2.1.conv2.weight 0.3875935872395833\n",
      "layer2.1.conv3.weight 0.521728515625\n",
      "layer2.2.conv1.weight 0.363433837890625\n",
      "layer2.2.conv2.weight 0.4190673828125\n",
      "layer2.2.conv3.weight 0.4657745361328125\n",
      "layer2.3.conv1.weight 0.432037353515625\n",
      "layer2.3.conv2.weight 0.4587741427951389\n",
      "layer2.3.conv3.weight 0.413116455078125\n",
      "layer3.0.conv1.weight 0.6927871704101562\n",
      "layer3.0.conv2.weight 0.3247934977213542\n",
      "layer3.0.conv3.weight 0.5247306823730469\n",
      "layer3.0.shortcut.0.weight 0.20766448974609375\n",
      "layer3.1.conv1.weight 0.083404541015625\n",
      "layer3.1.conv2.weight 0.17415873209635416\n",
      "layer3.1.conv3.weight 0.4145164489746094\n",
      "layer3.2.conv1.weight 0.17284011840820312\n",
      "layer3.2.conv2.weight 0.21997578938802084\n",
      "layer3.2.conv3.weight 0.3745574951171875\n",
      "layer3.3.conv1.weight 0.25214385986328125\n",
      "layer3.3.conv2.weight 0.2865922715928819\n",
      "layer3.3.conv3.weight 0.33852386474609375\n",
      "layer3.4.conv1.weight 0.34654998779296875\n",
      "layer3.4.conv2.weight 0.3451622856987847\n",
      "layer3.4.conv3.weight 0.2954292297363281\n",
      "layer3.5.conv1.weight 0.5455093383789062\n",
      "layer3.5.conv2.weight 0.482452392578125\n",
      "layer3.5.conv3.weight 0.2832908630371094\n",
      "layer4.0.conv1.weight 0.3894634246826172\n",
      "layer4.0.conv2.weight 0.023555331759982638\n",
      "layer4.0.conv3.weight 0.022853851318359375\n",
      "layer4.0.shortcut.0.weight 0.0010590553283691406\n",
      "layer4.1.conv1.weight 0.030977249145507812\n",
      "layer4.1.conv2.weight 0.014656914605034722\n",
      "layer4.1.conv3.weight 0.009520530700683594\n",
      "layer4.2.conv1.weight 0.024125099182128906\n",
      "layer4.2.conv2.weight 0.0026257832845052085\n",
      "layer4.2.conv3.weight 0.0066013336181640625\n"
     ]
    }
   ],
   "source": [
    "temp = 0\n",
    "all_num = 0\n",
    "for param in param_remove:\n",
    "    temp += param_remove[param].sum()\n",
    "    all_num += param_remove[param].size\n",
    "    print(param, param_remove[param].mean())\n"
   ]
  },
  {
   "cell_type": "code",
   "execution_count": 19,
   "metadata": {},
   "outputs": [
    {
     "data": {
      "text/plain": [
       "0.14116536229095186"
      ]
     },
     "execution_count": 19,
     "metadata": {},
     "output_type": "execute_result"
    }
   ],
   "source": [
    "temp / all_num\n"
   ]
  },
  {
   "cell_type": "code",
   "execution_count": 28,
   "metadata": {},
   "outputs": [],
   "source": [
    "# with torch.no_grad():\n",
    "#     net = load_cifar10_resnet50()\n",
    "#     for param in all_param_names:\n",
    "#         param_ = parse_param(param)\n",
    "#         try:\n",
    "#             exec(\"net.\" + param_ + \"[~param_remove[param]] = 0\")\n",
    "#         except:\n",
    "#             exec(\"net.\" + param_ + \"[~param_remove[param],:] = 0\")\n"
   ]
  },
  {
   "cell_type": "code",
   "execution_count": 31,
   "metadata": {},
   "outputs": [],
   "source": [
    "# def train_model(train_dataloader, test_dataloader, model, epochs=10, lr=0.001, masks=None, save_path=\"weights/best_model.pth\"):\n",
    "#     loss_func = nn.CrossEntropyLoss(reduction=\"sum\")\n",
    "#     best_acc = -np.inf\n",
    "#     for epoch in range(epochs):\n",
    "#         model.train()\n",
    "#         all_preds = []\n",
    "#         all_labels = []\n",
    "#         num = 0\n",
    "#         for x, y in tqdm(train_dataloader):\n",
    "#             x, y = x.to(device), y.to(device)\n",
    "#             output = model(x)\n",
    "#             loss = loss_func(output, y)\n",
    "#             # regularization_loss = 0\n",
    "#             # for param in model.parameters():\n",
    "#             #     regularization_loss += torch.norm(param)\n",
    "#             # loss = loss + 0.1 * regularization_loss\n",
    "#             loss.backward()\n",
    "#             for name, param in model.named_parameters():\n",
    "#                 if masks is not None:\n",
    "#                     name = parse_param(name)\n",
    "#                     if name in masks.keys():\n",
    "#                         param.grad = param.grad * torch.BoolTensor(masks[name]).to(device)\n",
    "#                         # print(name)\n",
    "#                         # print(name, param.grad)\n",
    "#                 # print(name, param.shape)\n",
    "#                 param.data -= lr * param.grad\n",
    "#                 param.grad.zero_()\n",
    "#         model.eval()\n",
    "#         train_pred, train_label = test_model(model, train_dataloader)\n",
    "#         test_pred, test_label = test_model(model, test_dataloader)\n",
    "#         print(\n",
    "#             f\"Epoch {epoch + 1} train acc: {(train_pred.argmax(-1) == train_label).mean()}\")\n",
    "#         print(\n",
    "#             f\"Epoch {epoch + 1} test acc: {(test_pred.argmax(-1) == test_label).mean()}\")\n",
    "#         if (test_pred.argmax(-1) == test_label).mean() > best_acc:\n",
    "#             best_acc = (test_pred.argmax(-1) == test_label).mean()\n",
    "#             torch.save(model.state_dict(), save_path)\n"
   ]
  },
  {
   "cell_type": "code",
   "execution_count": 32,
   "metadata": {},
   "outputs": [
    {
     "data": {
      "application/vnd.jupyter.widget-view+json": {
       "model_id": "5d78cfe13e5e46a983f06478784c2bfd",
       "version_major": 2,
       "version_minor": 0
      },
      "text/plain": [
       "  0%|          | 0/196 [00:00<?, ?it/s]"
      ]
     },
     "metadata": {},
     "output_type": "display_data"
    },
    {
     "name": "stdout",
     "output_type": "stream",
     "text": [
      "Epoch 1 train acc: 0.82574\n",
      "Epoch 1 test acc: 0.7765\n"
     ]
    },
    {
     "data": {
      "application/vnd.jupyter.widget-view+json": {
       "model_id": "44b35426b70d4348b9c6549600da75a2",
       "version_major": 2,
       "version_minor": 0
      },
      "text/plain": [
       "  0%|          | 0/196 [00:00<?, ?it/s]"
      ]
     },
     "metadata": {},
     "output_type": "display_data"
    },
    {
     "name": "stdout",
     "output_type": "stream",
     "text": [
      "Epoch 2 train acc: 0.91788\n",
      "Epoch 2 test acc: 0.8568\n"
     ]
    },
    {
     "data": {
      "application/vnd.jupyter.widget-view+json": {
       "model_id": "de6514c3bdb94f478bd0167b05b5eb4e",
       "version_major": 2,
       "version_minor": 0
      },
      "text/plain": [
       "  0%|          | 0/196 [00:00<?, ?it/s]"
      ]
     },
     "metadata": {},
     "output_type": "display_data"
    },
    {
     "name": "stdout",
     "output_type": "stream",
     "text": [
      "Epoch 3 train acc: 0.9532\n",
      "Epoch 3 test acc: 0.8821\n"
     ]
    },
    {
     "data": {
      "application/vnd.jupyter.widget-view+json": {
       "model_id": "12f046db192a400f8e8e03ae805b3386",
       "version_major": 2,
       "version_minor": 0
      },
      "text/plain": [
       "  0%|          | 0/196 [00:00<?, ?it/s]"
      ]
     },
     "metadata": {},
     "output_type": "display_data"
    },
    {
     "name": "stdout",
     "output_type": "stream",
     "text": [
      "Epoch 4 train acc: 0.95648\n",
      "Epoch 4 test acc: 0.886\n"
     ]
    },
    {
     "data": {
      "application/vnd.jupyter.widget-view+json": {
       "model_id": "a262e4c688424dd0b12c0266a44a003c",
       "version_major": 2,
       "version_minor": 0
      },
      "text/plain": [
       "  0%|          | 0/196 [00:00<?, ?it/s]"
      ]
     },
     "metadata": {},
     "output_type": "display_data"
    },
    {
     "name": "stdout",
     "output_type": "stream",
     "text": [
      "Epoch 5 train acc: 0.94438\n",
      "Epoch 5 test acc: 0.8735\n"
     ]
    },
    {
     "data": {
      "application/vnd.jupyter.widget-view+json": {
       "model_id": "74a5abe37392487ab43796676c4de742",
       "version_major": 2,
       "version_minor": 0
      },
      "text/plain": [
       "  0%|          | 0/196 [00:00<?, ?it/s]"
      ]
     },
     "metadata": {},
     "output_type": "display_data"
    },
    {
     "name": "stdout",
     "output_type": "stream",
     "text": [
      "Epoch 6 train acc: 0.97504\n",
      "Epoch 6 test acc: 0.9051\n"
     ]
    },
    {
     "data": {
      "application/vnd.jupyter.widget-view+json": {
       "model_id": "9596c9a3a684453aa73d4bc4c8715fb3",
       "version_major": 2,
       "version_minor": 0
      },
      "text/plain": [
       "  0%|          | 0/196 [00:00<?, ?it/s]"
      ]
     },
     "metadata": {},
     "output_type": "display_data"
    },
    {
     "name": "stdout",
     "output_type": "stream",
     "text": [
      "Epoch 7 train acc: 0.99574\n",
      "Epoch 7 test acc: 0.9226\n"
     ]
    },
    {
     "data": {
      "application/vnd.jupyter.widget-view+json": {
       "model_id": "d9ada5fcefe04336ae5606bba361a4ba",
       "version_major": 2,
       "version_minor": 0
      },
      "text/plain": [
       "  0%|          | 0/196 [00:00<?, ?it/s]"
      ]
     },
     "metadata": {},
     "output_type": "display_data"
    },
    {
     "name": "stdout",
     "output_type": "stream",
     "text": [
      "Epoch 8 train acc: 0.99334\n",
      "Epoch 8 test acc: 0.926\n"
     ]
    },
    {
     "data": {
      "application/vnd.jupyter.widget-view+json": {
       "model_id": "612ad9e01fca465a93f727963b97ae82",
       "version_major": 2,
       "version_minor": 0
      },
      "text/plain": [
       "  0%|          | 0/196 [00:00<?, ?it/s]"
      ]
     },
     "metadata": {},
     "output_type": "display_data"
    },
    {
     "name": "stdout",
     "output_type": "stream",
     "text": [
      "Epoch 9 train acc: 0.99394\n",
      "Epoch 9 test acc: 0.9205\n"
     ]
    },
    {
     "data": {
      "application/vnd.jupyter.widget-view+json": {
       "model_id": "b6432b9eb9eb4f6aa2ed8279395f9593",
       "version_major": 2,
       "version_minor": 0
      },
      "text/plain": [
       "  0%|          | 0/196 [00:00<?, ?it/s]"
      ]
     },
     "metadata": {},
     "output_type": "display_data"
    },
    {
     "name": "stdout",
     "output_type": "stream",
     "text": [
      "Epoch 10 train acc: 0.99838\n",
      "Epoch 10 test acc: 0.9303\n"
     ]
    }
   ],
   "source": [
    "# train_model(train_dataloader_all, test_dataloader_all, net, epochs=10, lr=0.001, masks=param_remove)"
   ]
  },
  {
   "cell_type": "code",
   "execution_count": 13,
   "metadata": {},
   "outputs": [
    {
     "name": "stdout",
     "output_type": "stream",
     "text": [
      "原始准确率 0.954\n"
     ]
    }
   ],
   "source": [
    "with torch.no_grad():\n",
    "    net = load_cifar10_resnet50()\n",
    "    preds, labels = test_model(net, test_dataloader_all)\n",
    "    print(\"原始准确率\", (preds.argmax(-1) == labels).mean())\n"
   ]
  },
  {
   "cell_type": "code",
   "execution_count": 16,
   "metadata": {},
   "outputs": [
    {
     "name": "stdout",
     "output_type": "stream",
     "text": [
      "现在准确率 0.1\n"
     ]
    }
   ],
   "source": [
    "with torch.no_grad():\n",
    "    net = load_cifar10_resnet50()\n",
    "    for param in all_param_names:\n",
    "        param_ = parse_param(param)\n",
    "        try:\n",
    "            exec(\"net.\" + param_ + \"[~param_remove[param]] = 0\")\n",
    "        except:\n",
    "            exec(\"net.\" + param_ + \"[~param_remove[param],:] = 0\")\n",
    "    preds, labels = test_model(net, test_dataloader_all)\n",
    "    print(\"现在准确率\", (preds.argmax(-1) == labels).mean())\n"
   ]
  },
  {
   "cell_type": "code",
   "execution_count": 15,
   "metadata": {},
   "outputs": [
    {
     "name": "stdout",
     "output_type": "stream",
     "text": [
      "对比实验准确率 0.1\n"
     ]
    }
   ],
   "source": [
    "with torch.no_grad():\n",
    "    net = load_cifar10_resnet50()\n",
    "    for param in all_param_names:\n",
    "        param_ = parse_param(param)\n",
    "        keep_rate = param_remove[param].sum() / param_remove[param].size\n",
    "        weight_flatten = eval(\n",
    "            \"net.\" + param_ + \".cpu().detach().numpy()\").flatten()\n",
    "        threshold = np.sort(weight_flatten)[int(\n",
    "            len(weight_flatten) * (1 - keep_rate))]\n",
    "        try:\n",
    "            exec(\"net.\" + param_ +\n",
    "                 \"[eval('net.' + param_ + '.cpu().detach().numpy()') < threshold] = 0\")\n",
    "        except:\n",
    "            exec(\"net.\" + param_ +\n",
    "                 \"[eval('net.' + param_ + '.cpu().detach().numpy()') < threshold,:] = 0\")\n",
    "    preds, labels = test_model(net, test_dataloader_all)\n",
    "    print(\"对比实验准确率\", (preds.argmax(-1) == labels).mean())\n"
   ]
  },
  {
   "cell_type": "code",
   "execution_count": null,
   "metadata": {},
   "outputs": [],
   "source": []
  },
  {
   "cell_type": "code",
   "execution_count": null,
   "metadata": {},
   "outputs": [],
   "source": []
  }
 ],
 "metadata": {
  "kernelspec": {
   "display_name": "Python 3",
   "language": "python",
   "name": "python3"
  },
  "language_info": {
   "codemirror_mode": {
    "name": "ipython",
    "version": 3
   },
   "file_extension": ".py",
   "mimetype": "text/x-python",
   "name": "python",
   "nbconvert_exporter": "python",
   "pygments_lexer": "ipython3",
   "version": "3.10.8 (tags/v3.10.8:aaaf517, Oct 11 2022, 16:50:30) [MSC v.1933 64 bit (AMD64)]"
  },
  "orig_nbformat": 4,
  "vscode": {
   "interpreter": {
    "hash": "c1050a06cbaeed8b46d187604389f32b45fa537b377a0b8f76b38e0c23b5abbd"
   }
  }
 },
 "nbformat": 4,
 "nbformat_minor": 2
}
