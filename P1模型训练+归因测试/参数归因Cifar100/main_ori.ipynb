{
 "cells": [
  {
   "cell_type": "code",
   "execution_count": 1,
   "metadata": {},
   "outputs": [],
   "source": [
    "import torch\n",
    "import torch.nn as nn\n",
    "from torch.utils.data import DataLoader, TensorDataset\n",
    "import numpy as np\n",
    "import torch.optim as optim\n",
    "import matplotlib.pyplot as plt\n",
    "import torch.nn.functional as F\n",
    "import pickle as pkl\n",
    "import torchvision\n",
    "from attack import attack, test_model,parse_param\n"
   ]
  },
  {
   "cell_type": "code",
   "execution_count": 2,
   "metadata": {},
   "outputs": [],
   "source": [
    "from datasets import load_cifar10, load_cifar100\n",
    "from models.resnet import load_cifar10_resnet50, load_cifar100_resnet50\n",
    "model = load_cifar100_resnet50()"
   ]
  },
  {
   "cell_type": "code",
   "execution_count": 3,
   "metadata": {},
   "outputs": [],
   "source": [
    "all_param_names = list()\n",
    "for name, param in model.named_parameters():\n",
    "    all_param_names.append(name)"
   ]
  },
  {
   "cell_type": "code",
   "execution_count": 4,
   "metadata": {},
   "outputs": [
    {
     "name": "stdout",
     "output_type": "stream",
     "text": [
      "Files already downloaded and verified\n",
      "Files already downloaded and verified\n"
     ]
    },
    {
     "name": "stderr",
     "output_type": "stream",
     "text": [
      "  0%|          | 0/2 [00:00<?, ?it/s]"
     ]
    }
   ],
   "source": [
    "train_loaders, test_dataloaders, test_dataloader_all = load_cifar100()\n",
    "all_totals = list()\n",
    "for i in range(100):\n",
    "    all_totals.append(attack(train_loaders[i], all_param_names, load_cifar100_resnet50, alpha=0.00002))\n"
   ]
  },
  {
   "cell_type": "code",
   "execution_count": null,
   "metadata": {},
   "outputs": [],
   "source": [
    "pkl.dump(all_totals, open(\"weights/cifar100_resnet50_totals.pkl\", \"wb\"))"
   ]
  },
  {
   "cell_type": "code",
   "execution_count": null,
   "metadata": {},
   "outputs": [
    {
     "name": "stderr",
     "output_type": "stream",
     "text": [
      "C:\\Users\\Zhang\\AppData\\Local\\Temp\\ipykernel_14060\\525773870.py:12: VisibleDeprecationWarning: Creating an ndarray from ragged nested sequences (which is a list-or-tuple of lists-or-tuples-or ndarrays with different lengths or shapes) is deprecated. If you meant to do this, you must specify 'dtype=object' when creating the ndarray.\n",
      "  combine = np.array(combine)\n"
     ]
    }
   ],
   "source": [
    "thre = 0.1\n",
    "net = load_cifar100_resnet50()\n",
    "param_remove = dict()\n",
    "for param in all_param_names:\n",
    "    param_remove[param] = None\n",
    "for i in range(len(all_totals)):\n",
    "    totals = all_totals[i]\n",
    "    totals = [totals[param] for param in all_param_names]\n",
    "    param_weights = [eval(\"net.\" + parse_param(param) + \".cpu().detach().numpy()\")\n",
    "                     for param in all_param_names]\n",
    "    combine = [np.abs(total * weight) for total, weight in zip(totals, param_weights)]\n",
    "    combine = np.array(combine)\n",
    "    combine_flatten = np.concatenate([combine_.flatten() for combine_ in combine],axis=0)\n",
    "    threshold = np.sort(combine_flatten)[::-1][int(len(combine_flatten) * thre)]\n",
    "    for idx,param in enumerate(all_param_names):\n",
    "        if param_remove[param] is None:\n",
    "            param_remove[param] = combine[idx] > threshold\n",
    "        else:\n",
    "            t = combine[idx] > threshold\n",
    "            param_remove[param] = param_remove[param] | t"
   ]
  },
  {
   "cell_type": "code",
   "execution_count": null,
   "metadata": {},
   "outputs": [
    {
     "name": "stdout",
     "output_type": "stream",
     "text": [
      "conv1.weight 0.9965277777777778\n",
      "layer1.0.conv1.weight 0.912841796875\n",
      "layer1.0.conv2.weight 0.7533094618055556\n",
      "layer1.0.conv3.weight 0.81182861328125\n",
      "layer1.0.shortcut.0.weight 0.837890625\n",
      "layer1.1.conv1.weight 0.71002197265625\n",
      "layer1.1.conv2.weight 0.7708333333333334\n",
      "layer1.1.conv3.weight 0.77099609375\n",
      "layer1.2.conv1.weight 0.71893310546875\n",
      "layer1.2.conv2.weight 0.7283799913194444\n",
      "layer1.2.conv3.weight 0.57537841796875\n",
      "layer2.0.conv1.weight 0.901153564453125\n",
      "layer2.0.conv2.weight 0.7180650499131944\n",
      "layer2.0.conv3.weight 0.8049774169921875\n",
      "layer2.0.shortcut.0.weight 0.709259033203125\n",
      "layer2.1.conv1.weight 0.4111480712890625\n",
      "layer2.1.conv2.weight 0.5914849175347222\n",
      "layer2.1.conv3.weight 0.677459716796875\n",
      "layer2.2.conv1.weight 0.5162811279296875\n",
      "layer2.2.conv2.weight 0.6452297634548612\n",
      "layer2.2.conv3.weight 0.68939208984375\n",
      "layer2.3.conv1.weight 0.6061248779296875\n",
      "layer2.3.conv2.weight 0.66510009765625\n",
      "layer2.3.conv3.weight 0.634124755859375\n",
      "layer3.0.conv1.weight 0.8852996826171875\n",
      "layer3.0.conv2.weight 0.6663835313585069\n",
      "layer3.0.conv3.weight 0.8455085754394531\n",
      "layer3.0.shortcut.0.weight 0.5464210510253906\n",
      "layer3.1.conv1.weight 0.3308830261230469\n",
      "layer3.1.conv2.weight 0.5132395426432291\n",
      "layer3.1.conv3.weight 0.7457923889160156\n",
      "layer3.2.conv1.weight 0.4851341247558594\n",
      "layer3.2.conv2.weight 0.55267333984375\n",
      "layer3.2.conv3.weight 0.7433128356933594\n",
      "layer3.3.conv1.weight 0.5988807678222656\n",
      "layer3.3.conv2.weight 0.59246826171875\n",
      "layer3.3.conv3.weight 0.7311592102050781\n",
      "layer3.4.conv1.weight 0.7066574096679688\n",
      "layer3.4.conv2.weight 0.6357642279730903\n",
      "layer3.4.conv3.weight 0.7165565490722656\n",
      "layer3.5.conv1.weight 0.8072433471679688\n",
      "layer3.5.conv2.weight 0.7326592339409722\n",
      "layer3.5.conv3.weight 0.7423820495605469\n",
      "layer4.0.conv1.weight 0.8977775573730469\n",
      "layer4.0.conv2.weight 0.5764952765570747\n",
      "layer4.0.conv3.weight 0.6864423751831055\n",
      "layer4.0.shortcut.0.weight 0.25714969635009766\n",
      "layer4.1.conv1.weight 0.7200164794921875\n",
      "layer4.1.conv2.weight 0.6996375189887153\n",
      "layer4.1.conv3.weight 0.7785530090332031\n",
      "layer4.2.conv1.weight 0.8126535415649414\n",
      "layer4.2.conv2.weight 0.4916852315266927\n",
      "layer4.2.conv3.weight 0.5410184860229492\n"
     ]
    }
   ],
   "source": [
    "temp = 0\n",
    "all_num = 0\n",
    "for param in param_remove:\n",
    "    temp += param_remove[param].sum()\n",
    "    all_num += param_remove[param].size\n",
    "    print(param, param_remove[param].mean())"
   ]
  },
  {
   "cell_type": "code",
   "execution_count": null,
   "metadata": {},
   "outputs": [
    {
     "data": {
      "text/plain": [
       "0.6133051014294566"
      ]
     },
     "execution_count": 56,
     "metadata": {},
     "output_type": "execute_result"
    }
   ],
   "source": [
    "temp / all_num"
   ]
  },
  {
   "cell_type": "code",
   "execution_count": null,
   "metadata": {},
   "outputs": [
    {
     "name": "stdout",
     "output_type": "stream",
     "text": [
      "原始准确率 0.7931\n"
     ]
    }
   ],
   "source": [
    "with torch.no_grad():\n",
    "    net = load_cifar100_resnet50()\n",
    "    correct, all = test_model(net, test_dataloader_all)\n",
    "    print(\"原始准确率\", correct / all)\n"
   ]
  },
  {
   "cell_type": "code",
   "execution_count": null,
   "metadata": {},
   "outputs": [
    {
     "name": "stdout",
     "output_type": "stream",
     "text": [
      "现在准确率 0.7012\n"
     ]
    }
   ],
   "source": [
    "with torch.no_grad():\n",
    "    net = load_cifar100_resnet50()\n",
    "    for param in all_param_names:\n",
    "        param_ = parse_param(param)\n",
    "        try:\n",
    "            exec(\"net.\" + param_ + \"[~param_remove[param]] = 0\")\n",
    "        except:\n",
    "            exec(\"net.\" + param_ + \"[~param_remove[param],:] = 0\")\n",
    "    correct, all = test_model(net, test_dataloader_all)\n",
    "    print(\"现在准确率\", correct / all)"
   ]
  },
  {
   "cell_type": "code",
   "execution_count": null,
   "metadata": {},
   "outputs": [
    {
     "name": "stdout",
     "output_type": "stream",
     "text": [
      "对比实验准确率 0.01\n"
     ]
    }
   ],
   "source": [
    "with torch.no_grad():\n",
    "    net = load_cifar100_resnet50()\n",
    "    for param in all_param_names:\n",
    "        param_ = parse_param(param)\n",
    "        keep_rate = param_remove[param].sum() / param_remove[param].size\n",
    "        weight_flatten = eval(\"net.\" + param_ + \".cpu().detach().numpy()\").flatten()\n",
    "        threshold = np.sort(weight_flatten)[int(len(weight_flatten) * (1 - keep_rate))]\n",
    "        try:\n",
    "            exec(\"net.\" + param_ + \"[eval('net.' + param_ + '.cpu().detach().numpy()') < threshold] = 0\")\n",
    "        except:\n",
    "            exec(\"net.\" + param_ + \"[eval('net.' + param_ + '.cpu().detach().numpy()') < threshold,:] = 0\")\n",
    "    correct, all = test_model(net, test_dataloader_all)\n",
    "    print(\"对比实验准确率\", correct / all)"
   ]
  },
  {
   "cell_type": "code",
   "execution_count": null,
   "metadata": {},
   "outputs": [],
   "source": []
  }
 ],
 "metadata": {
  "kernelspec": {
   "display_name": "Python 3",
   "language": "python",
   "name": "python3"
  },
  "language_info": {
   "codemirror_mode": {
    "name": "ipython",
    "version": 3
   },
   "file_extension": ".py",
   "mimetype": "text/x-python",
   "name": "python",
   "nbconvert_exporter": "python",
   "pygments_lexer": "ipython3",
   "version": "3.10.8"
  },
  "orig_nbformat": 4,
  "vscode": {
   "interpreter": {
    "hash": "c1050a06cbaeed8b46d187604389f32b45fa537b377a0b8f76b38e0c23b5abbd"
   }
  }
 },
 "nbformat": 4,
 "nbformat_minor": 2
}
