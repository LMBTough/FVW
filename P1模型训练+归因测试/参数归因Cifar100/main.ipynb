{
 "cells": [
  {
   "cell_type": "code",
   "execution_count": 1,
   "metadata": {},
   "outputs": [],
   "source": [
    "import torch\n",
    "import torch.nn as nn\n",
    "from torch.utils.data import DataLoader, TensorDataset\n",
    "import numpy as np\n",
    "import torch.optim as optim\n",
    "import matplotlib.pyplot as plt\n",
    "import torch.nn.functional as F\n",
    "import torchvision\n",
    "from attack import attack, test_model\n"
   ]
  },
  {
   "cell_type": "code",
   "execution_count": 2,
   "metadata": {},
   "outputs": [],
   "source": [
    "from datasets import load_cifar10, load_cifar100\n",
    "from models.resnet import load_cifar10_resnet50, load_cifar100_resnet50"
   ]
  },
  {
   "cell_type": "code",
   "execution_count": 3,
   "metadata": {},
   "outputs": [],
   "source": [
    "# all_param_names = list()\n",
    "# for name, param in model.named_parameters():\n",
    "    \n",
    "#     name = name.replace(\".0.\", \"[0].\")\n",
    "#     name = name.replace(\".1.\", \"[1].\")\n",
    "#     name = name.replace(\".2.\", \"[2].\")\n",
    "#     name = name.replace(\".3.\", \"[3].\")\n",
    "#     name = name.replace(\".4.\", \"[4].\")\n",
    "#     name = name.replace(\".5.\", \"[5].\")\n",
    "#     name = name.replace(\".6.\", \"[6].\")\n",
    "#     name = name.replace(\".7.\", \"[7].\")\n",
    "#     name = name.replace(\".8.\", \"[8].\")\n",
    "#     name = name.replace(\".9.\", \"[9].\") \n",
    "#     if name.endswith(\"weight\"):\n",
    "#         all_param_names.append(name[:-7])\n",
    "# all_param_names"
   ]
  },
  {
   "cell_type": "code",
   "execution_count": 4,
   "metadata": {},
   "outputs": [],
   "source": [
    "# for name in all_param_names:\n",
    "#     print(eval(\"model.\" + name + \".weight.shape\"))"
   ]
  },
  {
   "cell_type": "code",
   "execution_count": 5,
   "metadata": {},
   "outputs": [
    {
     "name": "stdout",
     "output_type": "stream",
     "text": [
      "Files already downloaded and verified\n",
      "Files already downloaded and verified\n"
     ]
    },
    {
     "name": "stderr",
     "output_type": "stream",
     "text": [
      "100%|██████████| 2/2 [00:07<00:00,  3.69s/it]\n"
     ]
    },
    {
     "name": "stdout",
     "output_type": "stream",
     "text": [
      "0.003181528031826019\n"
     ]
    },
    {
     "name": "stderr",
     "output_type": "stream",
     "text": [
      "100%|██████████| 2/2 [00:00<00:00,  3.50it/s]\n"
     ]
    },
    {
     "name": "stdout",
     "output_type": "stream",
     "text": [
      "0.02240026378631592\n"
     ]
    },
    {
     "name": "stderr",
     "output_type": "stream",
     "text": [
      "100%|██████████| 2/2 [00:00<00:00,  3.51it/s]\n"
     ]
    },
    {
     "name": "stdout",
     "output_type": "stream",
     "text": [
      "0.3287841339111328\n"
     ]
    },
    {
     "name": "stderr",
     "output_type": "stream",
     "text": [
      "100%|██████████| 2/2 [00:00<00:00,  3.52it/s]\n"
     ]
    },
    {
     "name": "stdout",
     "output_type": "stream",
     "text": [
      "1.843763671875\n"
     ]
    },
    {
     "name": "stderr",
     "output_type": "stream",
     "text": [
      "100%|██████████| 2/2 [00:00<00:00,  3.49it/s]\n"
     ]
    },
    {
     "name": "stdout",
     "output_type": "stream",
     "text": [
      "4.548979248046875\n"
     ]
    },
    {
     "name": "stderr",
     "output_type": "stream",
     "text": [
      "100%|██████████| 2/2 [00:00<00:00,  3.48it/s]\n"
     ]
    },
    {
     "name": "stdout",
     "output_type": "stream",
     "text": [
      "0.0016323487758636475\n"
     ]
    },
    {
     "name": "stderr",
     "output_type": "stream",
     "text": [
      "100%|██████████| 2/2 [00:00<00:00,  3.52it/s]\n"
     ]
    },
    {
     "name": "stdout",
     "output_type": "stream",
     "text": [
      "0.015268060207366943\n"
     ]
    },
    {
     "name": "stderr",
     "output_type": "stream",
     "text": [
      "100%|██████████| 2/2 [00:00<00:00,  3.49it/s]\n"
     ]
    },
    {
     "name": "stdout",
     "output_type": "stream",
     "text": [
      "0.2121801300048828\n"
     ]
    },
    {
     "name": "stderr",
     "output_type": "stream",
     "text": [
      "100%|██████████| 2/2 [00:00<00:00,  3.45it/s]\n"
     ]
    },
    {
     "name": "stdout",
     "output_type": "stream",
     "text": [
      "1.41524462890625\n"
     ]
    },
    {
     "name": "stderr",
     "output_type": "stream",
     "text": [
      "100%|██████████| 2/2 [00:00<00:00,  3.52it/s]\n"
     ]
    },
    {
     "name": "stdout",
     "output_type": "stream",
     "text": [
      "3.6898480224609376\n"
     ]
    },
    {
     "name": "stderr",
     "output_type": "stream",
     "text": [
      "100%|██████████| 2/2 [00:00<00:00,  3.41it/s]\n"
     ]
    },
    {
     "name": "stdout",
     "output_type": "stream",
     "text": [
      "0.00391558027267456\n"
     ]
    },
    {
     "name": "stderr",
     "output_type": "stream",
     "text": [
      "100%|██████████| 2/2 [00:00<00:00,  3.52it/s]\n"
     ]
    },
    {
     "name": "stdout",
     "output_type": "stream",
     "text": [
      "0.037089442253112795\n"
     ]
    },
    {
     "name": "stderr",
     "output_type": "stream",
     "text": [
      "100%|██████████| 2/2 [00:00<00:00,  3.44it/s]\n"
     ]
    },
    {
     "name": "stdout",
     "output_type": "stream",
     "text": [
      "0.7751344604492187\n"
     ]
    },
    {
     "name": "stderr",
     "output_type": "stream",
     "text": [
      "100%|██████████| 2/2 [00:00<00:00,  3.43it/s]\n"
     ]
    },
    {
     "name": "stdout",
     "output_type": "stream",
     "text": [
      "3.7347103271484374\n"
     ]
    },
    {
     "name": "stderr",
     "output_type": "stream",
     "text": [
      "100%|██████████| 2/2 [00:00<00:00,  3.48it/s]\n"
     ]
    },
    {
     "name": "stdout",
     "output_type": "stream",
     "text": [
      "6.767798095703125\n"
     ]
    },
    {
     "name": "stderr",
     "output_type": "stream",
     "text": [
      "100%|██████████| 2/2 [00:00<00:00,  3.47it/s]\n"
     ]
    },
    {
     "name": "stdout",
     "output_type": "stream",
     "text": [
      "0.0024575923681259154\n"
     ]
    },
    {
     "name": "stderr",
     "output_type": "stream",
     "text": [
      "100%|██████████| 2/2 [00:00<00:00,  3.36it/s]\n"
     ]
    },
    {
     "name": "stdout",
     "output_type": "stream",
     "text": [
      "0.03853562927246094\n"
     ]
    },
    {
     "name": "stderr",
     "output_type": "stream",
     "text": [
      "100%|██████████| 2/2 [00:00<00:00,  3.54it/s]\n"
     ]
    },
    {
     "name": "stdout",
     "output_type": "stream",
     "text": [
      "0.42837818908691405\n"
     ]
    },
    {
     "name": "stderr",
     "output_type": "stream",
     "text": [
      "100%|██████████| 2/2 [00:00<00:00,  3.47it/s]\n"
     ]
    },
    {
     "name": "stdout",
     "output_type": "stream",
     "text": [
      "2.072367431640625\n"
     ]
    },
    {
     "name": "stderr",
     "output_type": "stream",
     "text": [
      "100%|██████████| 2/2 [00:00<00:00,  3.66it/s]\n"
     ]
    },
    {
     "name": "stdout",
     "output_type": "stream",
     "text": [
      "4.4742939453125\n"
     ]
    },
    {
     "name": "stderr",
     "output_type": "stream",
     "text": [
      "100%|██████████| 2/2 [00:00<00:00,  3.71it/s]\n"
     ]
    },
    {
     "name": "stdout",
     "output_type": "stream",
     "text": [
      "0.00284549343585968\n"
     ]
    },
    {
     "name": "stderr",
     "output_type": "stream",
     "text": [
      "100%|██████████| 2/2 [00:00<00:00,  3.68it/s]\n"
     ]
    },
    {
     "name": "stdout",
     "output_type": "stream",
     "text": [
      "0.03332869148254394\n"
     ]
    },
    {
     "name": "stderr",
     "output_type": "stream",
     "text": [
      "100%|██████████| 2/2 [00:00<00:00,  3.68it/s]\n"
     ]
    },
    {
     "name": "stdout",
     "output_type": "stream",
     "text": [
      "0.46768406677246094\n"
     ]
    },
    {
     "name": "stderr",
     "output_type": "stream",
     "text": [
      "100%|██████████| 2/2 [00:00<00:00,  3.64it/s]\n"
     ]
    },
    {
     "name": "stdout",
     "output_type": "stream",
     "text": [
      "2.4903914794921875\n"
     ]
    },
    {
     "name": "stderr",
     "output_type": "stream",
     "text": [
      "100%|██████████| 2/2 [00:00<00:00,  3.65it/s]\n"
     ]
    },
    {
     "name": "stdout",
     "output_type": "stream",
     "text": [
      "5.0988447265625\n"
     ]
    },
    {
     "name": "stderr",
     "output_type": "stream",
     "text": [
      "100%|██████████| 2/2 [00:00<00:00,  3.62it/s]\n"
     ]
    },
    {
     "name": "stdout",
     "output_type": "stream",
     "text": [
      "0.0020534541606903075\n"
     ]
    },
    {
     "name": "stderr",
     "output_type": "stream",
     "text": [
      "100%|██████████| 2/2 [00:00<00:00,  3.65it/s]\n"
     ]
    },
    {
     "name": "stdout",
     "output_type": "stream",
     "text": [
      "0.0291268310546875\n"
     ]
    },
    {
     "name": "stderr",
     "output_type": "stream",
     "text": [
      "100%|██████████| 2/2 [00:00<00:00,  3.63it/s]\n"
     ]
    },
    {
     "name": "stdout",
     "output_type": "stream",
     "text": [
      "0.41627146911621093\n"
     ]
    },
    {
     "name": "stderr",
     "output_type": "stream",
     "text": [
      "100%|██████████| 2/2 [00:00<00:00,  3.58it/s]\n"
     ]
    },
    {
     "name": "stdout",
     "output_type": "stream",
     "text": [
      "2.043658935546875\n"
     ]
    },
    {
     "name": "stderr",
     "output_type": "stream",
     "text": [
      "100%|██████████| 2/2 [00:00<00:00,  3.63it/s]\n"
     ]
    },
    {
     "name": "stdout",
     "output_type": "stream",
     "text": [
      "4.475246337890625\n"
     ]
    },
    {
     "name": "stderr",
     "output_type": "stream",
     "text": [
      "100%|██████████| 2/2 [00:00<00:00,  3.59it/s]\n"
     ]
    },
    {
     "name": "stdout",
     "output_type": "stream",
     "text": [
      "0.0015250637531280518\n"
     ]
    },
    {
     "name": "stderr",
     "output_type": "stream",
     "text": [
      "100%|██████████| 2/2 [00:00<00:00,  3.56it/s]\n"
     ]
    },
    {
     "name": "stdout",
     "output_type": "stream",
     "text": [
      "0.024580729484558105\n"
     ]
    },
    {
     "name": "stderr",
     "output_type": "stream",
     "text": [
      "100%|██████████| 2/2 [00:00<00:00,  3.41it/s]\n"
     ]
    },
    {
     "name": "stdout",
     "output_type": "stream",
     "text": [
      "0.4504571990966797\n"
     ]
    },
    {
     "name": "stderr",
     "output_type": "stream",
     "text": [
      "100%|██████████| 2/2 [00:00<00:00,  3.29it/s]\n"
     ]
    },
    {
     "name": "stdout",
     "output_type": "stream",
     "text": [
      "2.4754981689453124\n"
     ]
    },
    {
     "name": "stderr",
     "output_type": "stream",
     "text": [
      "100%|██████████| 2/2 [00:00<00:00,  3.39it/s]\n"
     ]
    },
    {
     "name": "stdout",
     "output_type": "stream",
     "text": [
      "4.94100341796875\n"
     ]
    },
    {
     "name": "stderr",
     "output_type": "stream",
     "text": [
      "100%|██████████| 2/2 [00:00<00:00,  3.41it/s]\n"
     ]
    },
    {
     "name": "stdout",
     "output_type": "stream",
     "text": [
      "0.0024353160262107847\n"
     ]
    },
    {
     "name": "stderr",
     "output_type": "stream",
     "text": [
      "100%|██████████| 2/2 [00:00<00:00,  3.41it/s]\n"
     ]
    },
    {
     "name": "stdout",
     "output_type": "stream",
     "text": [
      "0.023817800045013427\n"
     ]
    },
    {
     "name": "stderr",
     "output_type": "stream",
     "text": [
      "100%|██████████| 2/2 [00:00<00:00,  3.46it/s]\n"
     ]
    },
    {
     "name": "stdout",
     "output_type": "stream",
     "text": [
      "0.11959633636474609\n"
     ]
    },
    {
     "name": "stderr",
     "output_type": "stream",
     "text": [
      "100%|██████████| 2/2 [00:00<00:00,  3.42it/s]\n"
     ]
    },
    {
     "name": "stdout",
     "output_type": "stream",
     "text": [
      "0.6444710998535156\n"
     ]
    },
    {
     "name": "stderr",
     "output_type": "stream",
     "text": [
      "100%|██████████| 2/2 [00:00<00:00,  3.49it/s]\n"
     ]
    },
    {
     "name": "stdout",
     "output_type": "stream",
     "text": [
      "2.1361470947265624\n"
     ]
    },
    {
     "name": "stderr",
     "output_type": "stream",
     "text": [
      "100%|██████████| 2/2 [00:00<00:00,  3.43it/s]\n"
     ]
    },
    {
     "name": "stdout",
     "output_type": "stream",
     "text": [
      "0.0016140685081481934\n"
     ]
    },
    {
     "name": "stderr",
     "output_type": "stream",
     "text": [
      "100%|██████████| 2/2 [00:00<00:00,  3.46it/s]\n"
     ]
    },
    {
     "name": "stdout",
     "output_type": "stream",
     "text": [
      "0.007322076559066772\n"
     ]
    },
    {
     "name": "stderr",
     "output_type": "stream",
     "text": [
      "100%|██████████| 2/2 [00:00<00:00,  3.45it/s]\n"
     ]
    },
    {
     "name": "stdout",
     "output_type": "stream",
     "text": [
      "0.20990239715576173\n"
     ]
    },
    {
     "name": "stderr",
     "output_type": "stream",
     "text": [
      "100%|██████████| 2/2 [00:00<00:00,  3.46it/s]\n"
     ]
    },
    {
     "name": "stdout",
     "output_type": "stream",
     "text": [
      "1.3888040771484376\n"
     ]
    },
    {
     "name": "stderr",
     "output_type": "stream",
     "text": [
      "100%|██████████| 2/2 [00:00<00:00,  3.43it/s]\n"
     ]
    },
    {
     "name": "stdout",
     "output_type": "stream",
     "text": [
      "3.4135225830078126\n"
     ]
    },
    {
     "name": "stderr",
     "output_type": "stream",
     "text": [
      "100%|██████████| 2/2 [00:00<00:00,  3.48it/s]\n"
     ]
    },
    {
     "name": "stdout",
     "output_type": "stream",
     "text": [
      "0.001857134997844696\n"
     ]
    },
    {
     "name": "stderr",
     "output_type": "stream",
     "text": [
      "100%|██████████| 2/2 [00:00<00:00,  3.46it/s]\n"
     ]
    },
    {
     "name": "stdout",
     "output_type": "stream",
     "text": [
      "0.010690025806427002\n"
     ]
    },
    {
     "name": "stderr",
     "output_type": "stream",
     "text": [
      "100%|██████████| 2/2 [00:00<00:00,  3.46it/s]\n"
     ]
    },
    {
     "name": "stdout",
     "output_type": "stream",
     "text": [
      "0.0885236930847168\n"
     ]
    },
    {
     "name": "stderr",
     "output_type": "stream",
     "text": [
      "100%|██████████| 2/2 [00:00<00:00,  3.48it/s]\n"
     ]
    },
    {
     "name": "stdout",
     "output_type": "stream",
     "text": [
      "0.4482085571289062\n"
     ]
    },
    {
     "name": "stderr",
     "output_type": "stream",
     "text": [
      "100%|██████████| 2/2 [00:00<00:00,  3.49it/s]\n"
     ]
    },
    {
     "name": "stdout",
     "output_type": "stream",
     "text": [
      "1.488323486328125\n"
     ]
    },
    {
     "name": "stderr",
     "output_type": "stream",
     "text": [
      "100%|██████████| 2/2 [00:00<00:00,  3.51it/s]\n"
     ]
    },
    {
     "name": "stdout",
     "output_type": "stream",
     "text": [
      "0.0017004924416542052\n"
     ]
    },
    {
     "name": "stderr",
     "output_type": "stream",
     "text": [
      "100%|██████████| 2/2 [00:00<00:00,  3.47it/s]\n"
     ]
    },
    {
     "name": "stdout",
     "output_type": "stream",
     "text": [
      "0.021443153858184814\n"
     ]
    },
    {
     "name": "stderr",
     "output_type": "stream",
     "text": [
      "100%|██████████| 2/2 [00:00<00:00,  3.45it/s]\n"
     ]
    },
    {
     "name": "stdout",
     "output_type": "stream",
     "text": [
      "0.1868829574584961\n"
     ]
    },
    {
     "name": "stderr",
     "output_type": "stream",
     "text": [
      "100%|██████████| 2/2 [00:00<00:00,  3.47it/s]\n"
     ]
    },
    {
     "name": "stdout",
     "output_type": "stream",
     "text": [
      "1.22368310546875\n"
     ]
    },
    {
     "name": "stderr",
     "output_type": "stream",
     "text": [
      "100%|██████████| 2/2 [00:00<00:00,  3.47it/s]\n"
     ]
    },
    {
     "name": "stdout",
     "output_type": "stream",
     "text": [
      "3.6327618408203124\n"
     ]
    },
    {
     "name": "stderr",
     "output_type": "stream",
     "text": [
      "100%|██████████| 2/2 [00:00<00:00,  3.45it/s]\n"
     ]
    },
    {
     "name": "stdout",
     "output_type": "stream",
     "text": [
      "0.003961883068084717\n"
     ]
    },
    {
     "name": "stderr",
     "output_type": "stream",
     "text": [
      "100%|██████████| 2/2 [00:00<00:00,  3.44it/s]\n"
     ]
    },
    {
     "name": "stdout",
     "output_type": "stream",
     "text": [
      "0.041488271713256836\n"
     ]
    },
    {
     "name": "stderr",
     "output_type": "stream",
     "text": [
      "100%|██████████| 2/2 [00:00<00:00,  3.43it/s]\n"
     ]
    },
    {
     "name": "stdout",
     "output_type": "stream",
     "text": [
      "0.27636688232421874\n"
     ]
    },
    {
     "name": "stderr",
     "output_type": "stream",
     "text": [
      "100%|██████████| 2/2 [00:00<00:00,  3.40it/s]\n"
     ]
    },
    {
     "name": "stdout",
     "output_type": "stream",
     "text": [
      "2.009106628417969\n"
     ]
    },
    {
     "name": "stderr",
     "output_type": "stream",
     "text": [
      "100%|██████████| 2/2 [00:00<00:00,  3.52it/s]\n"
     ]
    },
    {
     "name": "stdout",
     "output_type": "stream",
     "text": [
      "5.3960361328125\n"
     ]
    },
    {
     "name": "stderr",
     "output_type": "stream",
     "text": [
      "100%|██████████| 2/2 [00:00<00:00,  3.45it/s]\n"
     ]
    },
    {
     "name": "stdout",
     "output_type": "stream",
     "text": [
      "0.002111474514007568\n"
     ]
    },
    {
     "name": "stderr",
     "output_type": "stream",
     "text": [
      "100%|██████████| 2/2 [00:00<00:00,  3.42it/s]\n"
     ]
    },
    {
     "name": "stdout",
     "output_type": "stream",
     "text": [
      "0.03131862354278565\n"
     ]
    },
    {
     "name": "stderr",
     "output_type": "stream",
     "text": [
      "100%|██████████| 2/2 [00:00<00:00,  3.39it/s]\n"
     ]
    },
    {
     "name": "stdout",
     "output_type": "stream",
     "text": [
      "0.17359188842773438\n"
     ]
    },
    {
     "name": "stderr",
     "output_type": "stream",
     "text": [
      "100%|██████████| 2/2 [00:00<00:00,  3.46it/s]\n"
     ]
    },
    {
     "name": "stdout",
     "output_type": "stream",
     "text": [
      "1.0837290649414062\n"
     ]
    },
    {
     "name": "stderr",
     "output_type": "stream",
     "text": [
      "100%|██████████| 2/2 [00:00<00:00,  3.42it/s]\n"
     ]
    },
    {
     "name": "stdout",
     "output_type": "stream",
     "text": [
      "3.0041287841796875\n"
     ]
    },
    {
     "name": "stderr",
     "output_type": "stream",
     "text": [
      "100%|██████████| 2/2 [00:00<00:00,  3.46it/s]\n"
     ]
    },
    {
     "name": "stdout",
     "output_type": "stream",
     "text": [
      "0.002274130940437317\n"
     ]
    },
    {
     "name": "stderr",
     "output_type": "stream",
     "text": [
      "100%|██████████| 2/2 [00:00<00:00,  3.43it/s]\n"
     ]
    },
    {
     "name": "stdout",
     "output_type": "stream",
     "text": [
      "0.03428915309906006\n"
     ]
    },
    {
     "name": "stderr",
     "output_type": "stream",
     "text": [
      "100%|██████████| 2/2 [00:00<00:00,  3.44it/s]\n"
     ]
    },
    {
     "name": "stdout",
     "output_type": "stream",
     "text": [
      "0.5430345458984375\n"
     ]
    },
    {
     "name": "stderr",
     "output_type": "stream",
     "text": [
      "100%|██████████| 2/2 [00:00<00:00,  3.43it/s]\n"
     ]
    },
    {
     "name": "stdout",
     "output_type": "stream",
     "text": [
      "2.9564486083984374\n"
     ]
    },
    {
     "name": "stderr",
     "output_type": "stream",
     "text": [
      "100%|██████████| 2/2 [00:00<00:00,  3.38it/s]\n"
     ]
    },
    {
     "name": "stdout",
     "output_type": "stream",
     "text": [
      "6.231117431640625\n"
     ]
    },
    {
     "name": "stderr",
     "output_type": "stream",
     "text": [
      "100%|██████████| 2/2 [00:00<00:00,  3.46it/s]\n"
     ]
    },
    {
     "name": "stdout",
     "output_type": "stream",
     "text": [
      "0.0027606462240219115\n"
     ]
    },
    {
     "name": "stderr",
     "output_type": "stream",
     "text": [
      "100%|██████████| 2/2 [00:00<00:00,  3.39it/s]\n"
     ]
    },
    {
     "name": "stdout",
     "output_type": "stream",
     "text": [
      "0.05147582626342773\n"
     ]
    },
    {
     "name": "stderr",
     "output_type": "stream",
     "text": [
      "100%|██████████| 2/2 [00:00<00:00,  3.43it/s]\n"
     ]
    },
    {
     "name": "stdout",
     "output_type": "stream",
     "text": [
      "0.5538850708007812\n"
     ]
    },
    {
     "name": "stderr",
     "output_type": "stream",
     "text": [
      "100%|██████████| 2/2 [00:00<00:00,  3.39it/s]\n"
     ]
    },
    {
     "name": "stdout",
     "output_type": "stream",
     "text": [
      "2.5368250732421873\n"
     ]
    },
    {
     "name": "stderr",
     "output_type": "stream",
     "text": [
      "100%|██████████| 2/2 [00:00<00:00,  3.39it/s]\n"
     ]
    },
    {
     "name": "stdout",
     "output_type": "stream",
     "text": [
      "4.979098388671875\n"
     ]
    },
    {
     "name": "stderr",
     "output_type": "stream",
     "text": [
      "100%|██████████| 2/2 [00:00<00:00,  3.44it/s]\n"
     ]
    },
    {
     "name": "stdout",
     "output_type": "stream",
     "text": [
      "0.0018906970620155335\n"
     ]
    },
    {
     "name": "stderr",
     "output_type": "stream",
     "text": [
      "100%|██████████| 2/2 [00:00<00:00,  3.39it/s]\n"
     ]
    },
    {
     "name": "stdout",
     "output_type": "stream",
     "text": [
      "0.022456331253051756\n"
     ]
    },
    {
     "name": "stderr",
     "output_type": "stream",
     "text": [
      "100%|██████████| 2/2 [00:00<00:00,  3.35it/s]\n"
     ]
    },
    {
     "name": "stdout",
     "output_type": "stream",
     "text": [
      "0.36085133361816407\n"
     ]
    },
    {
     "name": "stderr",
     "output_type": "stream",
     "text": [
      "100%|██████████| 2/2 [00:00<00:00,  3.37it/s]\n"
     ]
    },
    {
     "name": "stdout",
     "output_type": "stream",
     "text": [
      "1.8842803955078125\n"
     ]
    },
    {
     "name": "stderr",
     "output_type": "stream",
     "text": [
      "100%|██████████| 2/2 [00:00<00:00,  3.30it/s]\n"
     ]
    },
    {
     "name": "stdout",
     "output_type": "stream",
     "text": [
      "4.219775024414062\n"
     ]
    },
    {
     "name": "stderr",
     "output_type": "stream",
     "text": [
      "100%|██████████| 2/2 [00:00<00:00,  3.37it/s]\n"
     ]
    },
    {
     "name": "stdout",
     "output_type": "stream",
     "text": [
      "0.00155389404296875\n"
     ]
    },
    {
     "name": "stderr",
     "output_type": "stream",
     "text": [
      "100%|██████████| 2/2 [00:00<00:00,  3.37it/s]\n"
     ]
    },
    {
     "name": "stdout",
     "output_type": "stream",
     "text": [
      "0.016302308559417725\n"
     ]
    },
    {
     "name": "stderr",
     "output_type": "stream",
     "text": [
      "100%|██████████| 2/2 [00:00<00:00,  3.24it/s]\n"
     ]
    },
    {
     "name": "stdout",
     "output_type": "stream",
     "text": [
      "0.22339377593994142\n"
     ]
    },
    {
     "name": "stderr",
     "output_type": "stream",
     "text": [
      "100%|██████████| 2/2 [00:00<00:00,  3.30it/s]\n"
     ]
    },
    {
     "name": "stdout",
     "output_type": "stream",
     "text": [
      "1.2646773681640624\n"
     ]
    },
    {
     "name": "stderr",
     "output_type": "stream",
     "text": [
      "100%|██████████| 2/2 [00:00<00:00,  3.36it/s]\n"
     ]
    },
    {
     "name": "stdout",
     "output_type": "stream",
     "text": [
      "3.3625477294921877\n"
     ]
    },
    {
     "name": "stderr",
     "output_type": "stream",
     "text": [
      "100%|██████████| 2/2 [00:00<00:00,  3.47it/s]\n"
     ]
    },
    {
     "name": "stdout",
     "output_type": "stream",
     "text": [
      "0.0018331736922264099\n"
     ]
    },
    {
     "name": "stderr",
     "output_type": "stream",
     "text": [
      "100%|██████████| 2/2 [00:00<00:00,  3.25it/s]\n"
     ]
    },
    {
     "name": "stdout",
     "output_type": "stream",
     "text": [
      "0.0168393440246582\n"
     ]
    },
    {
     "name": "stderr",
     "output_type": "stream",
     "text": [
      "100%|██████████| 2/2 [00:00<00:00,  3.24it/s]\n"
     ]
    },
    {
     "name": "stdout",
     "output_type": "stream",
     "text": [
      "0.3383228302001953\n"
     ]
    },
    {
     "name": "stderr",
     "output_type": "stream",
     "text": [
      "100%|██████████| 2/2 [00:00<00:00,  3.30it/s]\n"
     ]
    },
    {
     "name": "stdout",
     "output_type": "stream",
     "text": [
      "2.2048485107421874\n"
     ]
    },
    {
     "name": "stderr",
     "output_type": "stream",
     "text": [
      "100%|██████████| 2/2 [00:00<00:00,  3.28it/s]\n"
     ]
    },
    {
     "name": "stdout",
     "output_type": "stream",
     "text": [
      "5.00849072265625\n"
     ]
    },
    {
     "name": "stderr",
     "output_type": "stream",
     "text": [
      "100%|██████████| 2/2 [00:00<00:00,  3.41it/s]\n"
     ]
    },
    {
     "name": "stdout",
     "output_type": "stream",
     "text": [
      "0.0017890899181365967\n"
     ]
    },
    {
     "name": "stderr",
     "output_type": "stream",
     "text": [
      "100%|██████████| 2/2 [00:00<00:00,  3.23it/s]\n"
     ]
    },
    {
     "name": "stdout",
     "output_type": "stream",
     "text": [
      "0.018582056999206543\n"
     ]
    },
    {
     "name": "stderr",
     "output_type": "stream",
     "text": [
      "100%|██████████| 2/2 [00:00<00:00,  3.23it/s]\n"
     ]
    },
    {
     "name": "stdout",
     "output_type": "stream",
     "text": [
      "0.304910888671875\n"
     ]
    },
    {
     "name": "stderr",
     "output_type": "stream",
     "text": [
      "100%|██████████| 2/2 [00:00<00:00,  3.28it/s]\n"
     ]
    },
    {
     "name": "stdout",
     "output_type": "stream",
     "text": [
      "1.6969667358398437\n"
     ]
    },
    {
     "name": "stderr",
     "output_type": "stream",
     "text": [
      "100%|██████████| 2/2 [00:00<00:00,  3.30it/s]\n"
     ]
    },
    {
     "name": "stdout",
     "output_type": "stream",
     "text": [
      "4.127422973632813\n"
     ]
    },
    {
     "name": "stderr",
     "output_type": "stream",
     "text": [
      "100%|██████████| 2/2 [00:00<00:00,  3.32it/s]\n"
     ]
    },
    {
     "name": "stdout",
     "output_type": "stream",
     "text": [
      "0.002049540162086487\n"
     ]
    },
    {
     "name": "stderr",
     "output_type": "stream",
     "text": [
      "100%|██████████| 2/2 [00:00<00:00,  3.29it/s]\n"
     ]
    },
    {
     "name": "stdout",
     "output_type": "stream",
     "text": [
      "0.03493815898895264\n"
     ]
    },
    {
     "name": "stderr",
     "output_type": "stream",
     "text": [
      "100%|██████████| 2/2 [00:00<00:00,  3.27it/s]\n"
     ]
    },
    {
     "name": "stdout",
     "output_type": "stream",
     "text": [
      "0.6218495788574219\n"
     ]
    },
    {
     "name": "stderr",
     "output_type": "stream",
     "text": [
      "100%|██████████| 2/2 [00:00<00:00,  3.27it/s]\n"
     ]
    },
    {
     "name": "stdout",
     "output_type": "stream",
     "text": [
      "2.9160677490234375\n"
     ]
    },
    {
     "name": "stderr",
     "output_type": "stream",
     "text": [
      "100%|██████████| 2/2 [00:00<00:00,  3.22it/s]\n"
     ]
    },
    {
     "name": "stdout",
     "output_type": "stream",
     "text": [
      "5.53770703125\n"
     ]
    },
    {
     "name": "stderr",
     "output_type": "stream",
     "text": [
      "100%|██████████| 2/2 [00:00<00:00,  3.37it/s]\n"
     ]
    },
    {
     "name": "stdout",
     "output_type": "stream",
     "text": [
      "0.0027037155628204346\n"
     ]
    },
    {
     "name": "stderr",
     "output_type": "stream",
     "text": [
      "100%|██████████| 2/2 [00:00<00:00,  3.34it/s]\n"
     ]
    },
    {
     "name": "stdout",
     "output_type": "stream",
     "text": [
      "0.026876970291137694\n"
     ]
    },
    {
     "name": "stderr",
     "output_type": "stream",
     "text": [
      "100%|██████████| 2/2 [00:00<00:00,  3.22it/s]\n"
     ]
    },
    {
     "name": "stdout",
     "output_type": "stream",
     "text": [
      "0.18433055114746094\n"
     ]
    },
    {
     "name": "stderr",
     "output_type": "stream",
     "text": [
      "100%|██████████| 2/2 [00:00<00:00,  3.16it/s]\n"
     ]
    },
    {
     "name": "stdout",
     "output_type": "stream",
     "text": [
      "1.1136854248046875\n"
     ]
    },
    {
     "name": "stderr",
     "output_type": "stream",
     "text": [
      "100%|██████████| 2/2 [00:00<00:00,  3.25it/s]\n"
     ]
    },
    {
     "name": "stdout",
     "output_type": "stream",
     "text": [
      "3.26058203125\n"
     ]
    },
    {
     "name": "stderr",
     "output_type": "stream",
     "text": [
      "100%|██████████| 2/2 [00:00<00:00,  3.36it/s]\n"
     ]
    },
    {
     "name": "stdout",
     "output_type": "stream",
     "text": [
      "0.0019246717095375062\n"
     ]
    },
    {
     "name": "stderr",
     "output_type": "stream",
     "text": [
      "100%|██████████| 2/2 [00:00<00:00,  3.30it/s]\n"
     ]
    },
    {
     "name": "stdout",
     "output_type": "stream",
     "text": [
      "0.0338114595413208\n"
     ]
    },
    {
     "name": "stderr",
     "output_type": "stream",
     "text": [
      "100%|██████████| 2/2 [00:00<00:00,  3.20it/s]\n"
     ]
    },
    {
     "name": "stdout",
     "output_type": "stream",
     "text": [
      "0.7002794494628907\n"
     ]
    },
    {
     "name": "stderr",
     "output_type": "stream",
     "text": [
      "100%|██████████| 2/2 [00:00<00:00,  3.11it/s]\n"
     ]
    },
    {
     "name": "stdout",
     "output_type": "stream",
     "text": [
      "3.2152762451171877\n"
     ]
    },
    {
     "name": "stderr",
     "output_type": "stream",
     "text": [
      "100%|██████████| 2/2 [00:00<00:00,  3.23it/s]\n"
     ]
    },
    {
     "name": "stdout",
     "output_type": "stream",
     "text": [
      "6.010896484375\n"
     ]
    },
    {
     "name": "stderr",
     "output_type": "stream",
     "text": [
      "100%|██████████| 2/2 [00:00<00:00,  3.42it/s]\n"
     ]
    },
    {
     "name": "stdout",
     "output_type": "stream",
     "text": [
      "0.0021577593088150026\n"
     ]
    },
    {
     "name": "stderr",
     "output_type": "stream",
     "text": [
      "100%|██████████| 2/2 [00:00<00:00,  3.36it/s]\n"
     ]
    },
    {
     "name": "stdout",
     "output_type": "stream",
     "text": [
      "0.01507340955734253\n"
     ]
    },
    {
     "name": "stderr",
     "output_type": "stream",
     "text": [
      "100%|██████████| 2/2 [00:00<00:00,  3.14it/s]\n"
     ]
    },
    {
     "name": "stdout",
     "output_type": "stream",
     "text": [
      "0.2366615447998047\n"
     ]
    },
    {
     "name": "stderr",
     "output_type": "stream",
     "text": [
      "100%|██████████| 2/2 [00:00<00:00,  3.14it/s]\n"
     ]
    },
    {
     "name": "stdout",
     "output_type": "stream",
     "text": [
      "1.553442138671875\n"
     ]
    },
    {
     "name": "stderr",
     "output_type": "stream",
     "text": [
      "100%|██████████| 2/2 [00:00<00:00,  3.24it/s]\n"
     ]
    },
    {
     "name": "stdout",
     "output_type": "stream",
     "text": [
      "3.844299560546875\n"
     ]
    },
    {
     "name": "stderr",
     "output_type": "stream",
     "text": [
      "100%|██████████| 2/2 [00:00<00:00,  3.40it/s]\n"
     ]
    },
    {
     "name": "stdout",
     "output_type": "stream",
     "text": [
      "0.002304125666618347\n"
     ]
    },
    {
     "name": "stderr",
     "output_type": "stream",
     "text": [
      "100%|██████████| 2/2 [00:00<00:00,  3.20it/s]\n"
     ]
    },
    {
     "name": "stdout",
     "output_type": "stream",
     "text": [
      "0.015858940601348875\n"
     ]
    },
    {
     "name": "stderr",
     "output_type": "stream",
     "text": [
      "100%|██████████| 2/2 [00:00<00:00,  3.24it/s]\n"
     ]
    },
    {
     "name": "stdout",
     "output_type": "stream",
     "text": [
      "0.16786631393432616\n"
     ]
    },
    {
     "name": "stderr",
     "output_type": "stream",
     "text": [
      "100%|██████████| 2/2 [00:00<00:00,  3.21it/s]\n"
     ]
    },
    {
     "name": "stdout",
     "output_type": "stream",
     "text": [
      "1.0790327758789062\n"
     ]
    },
    {
     "name": "stderr",
     "output_type": "stream",
     "text": [
      "100%|██████████| 2/2 [00:00<00:00,  3.22it/s]\n"
     ]
    },
    {
     "name": "stdout",
     "output_type": "stream",
     "text": [
      "3.2814454345703123\n"
     ]
    },
    {
     "name": "stderr",
     "output_type": "stream",
     "text": [
      "100%|██████████| 2/2 [00:00<00:00,  3.38it/s]\n"
     ]
    },
    {
     "name": "stdout",
     "output_type": "stream",
     "text": [
      "0.0022338848114013673\n"
     ]
    },
    {
     "name": "stderr",
     "output_type": "stream",
     "text": [
      "100%|██████████| 2/2 [00:00<00:00,  3.24it/s]\n"
     ]
    },
    {
     "name": "stdout",
     "output_type": "stream",
     "text": [
      "0.020820568084716797\n"
     ]
    },
    {
     "name": "stderr",
     "output_type": "stream",
     "text": [
      "100%|██████████| 2/2 [00:00<00:00,  3.15it/s]\n"
     ]
    },
    {
     "name": "stdout",
     "output_type": "stream",
     "text": [
      "0.3653177490234375\n"
     ]
    },
    {
     "name": "stderr",
     "output_type": "stream",
     "text": [
      "100%|██████████| 2/2 [00:00<00:00,  3.24it/s]\n"
     ]
    },
    {
     "name": "stdout",
     "output_type": "stream",
     "text": [
      "2.21272314453125\n"
     ]
    },
    {
     "name": "stderr",
     "output_type": "stream",
     "text": [
      "100%|██████████| 2/2 [00:00<00:00,  3.23it/s]\n"
     ]
    },
    {
     "name": "stdout",
     "output_type": "stream",
     "text": [
      "5.362840087890625\n"
     ]
    },
    {
     "name": "stderr",
     "output_type": "stream",
     "text": [
      "100%|██████████| 2/2 [00:00<00:00,  2.91it/s]\n"
     ]
    },
    {
     "name": "stdout",
     "output_type": "stream",
     "text": [
      "0.0024580413103103636\n"
     ]
    },
    {
     "name": "stderr",
     "output_type": "stream",
     "text": [
      "100%|██████████| 2/2 [00:00<00:00,  3.23it/s]\n"
     ]
    },
    {
     "name": "stdout",
     "output_type": "stream",
     "text": [
      "0.035595495223999025\n"
     ]
    },
    {
     "name": "stderr",
     "output_type": "stream",
     "text": [
      "100%|██████████| 2/2 [00:00<00:00,  3.16it/s]\n"
     ]
    },
    {
     "name": "stdout",
     "output_type": "stream",
     "text": [
      "0.4262415313720703\n"
     ]
    },
    {
     "name": "stderr",
     "output_type": "stream",
     "text": [
      "100%|██████████| 2/2 [00:00<00:00,  3.20it/s]\n"
     ]
    },
    {
     "name": "stdout",
     "output_type": "stream",
     "text": [
      "2.282953125\n"
     ]
    },
    {
     "name": "stderr",
     "output_type": "stream",
     "text": [
      "100%|██████████| 2/2 [00:00<00:00,  3.22it/s]\n"
     ]
    },
    {
     "name": "stdout",
     "output_type": "stream",
     "text": [
      "5.357814453125\n"
     ]
    },
    {
     "name": "stderr",
     "output_type": "stream",
     "text": [
      "100%|██████████| 2/2 [00:00<00:00,  3.37it/s]\n"
     ]
    },
    {
     "name": "stdout",
     "output_type": "stream",
     "text": [
      "0.004600684762001038\n"
     ]
    },
    {
     "name": "stderr",
     "output_type": "stream",
     "text": [
      "100%|██████████| 2/2 [00:00<00:00,  3.10it/s]\n"
     ]
    },
    {
     "name": "stdout",
     "output_type": "stream",
     "text": [
      "0.01356567120552063\n"
     ]
    },
    {
     "name": "stderr",
     "output_type": "stream",
     "text": [
      "100%|██████████| 2/2 [00:00<00:00,  3.18it/s]\n"
     ]
    },
    {
     "name": "stdout",
     "output_type": "stream",
     "text": [
      "0.11713100051879882\n"
     ]
    },
    {
     "name": "stderr",
     "output_type": "stream",
     "text": [
      "100%|██████████| 2/2 [00:00<00:00,  3.23it/s]\n"
     ]
    },
    {
     "name": "stdout",
     "output_type": "stream",
     "text": [
      "0.8965670166015625\n"
     ]
    },
    {
     "name": "stderr",
     "output_type": "stream",
     "text": [
      "100%|██████████| 2/2 [00:00<00:00,  3.21it/s]\n"
     ]
    },
    {
     "name": "stdout",
     "output_type": "stream",
     "text": [
      "2.7616826171875\n"
     ]
    },
    {
     "name": "stderr",
     "output_type": "stream",
     "text": [
      "100%|██████████| 2/2 [00:00<00:00,  3.30it/s]\n"
     ]
    },
    {
     "name": "stdout",
     "output_type": "stream",
     "text": [
      "0.0018751255869865417\n"
     ]
    },
    {
     "name": "stderr",
     "output_type": "stream",
     "text": [
      "100%|██████████| 2/2 [00:00<00:00,  3.25it/s]\n"
     ]
    },
    {
     "name": "stdout",
     "output_type": "stream",
     "text": [
      "0.042680967330932615\n"
     ]
    },
    {
     "name": "stderr",
     "output_type": "stream",
     "text": [
      "100%|██████████| 2/2 [00:00<00:00,  3.19it/s]\n"
     ]
    },
    {
     "name": "stdout",
     "output_type": "stream",
     "text": [
      "0.7418905029296875\n"
     ]
    },
    {
     "name": "stderr",
     "output_type": "stream",
     "text": [
      "100%|██████████| 2/2 [00:00<00:00,  3.15it/s]\n"
     ]
    },
    {
     "name": "stdout",
     "output_type": "stream",
     "text": [
      "3.124995361328125\n"
     ]
    },
    {
     "name": "stderr",
     "output_type": "stream",
     "text": [
      "100%|██████████| 2/2 [00:00<00:00,  3.15it/s]\n"
     ]
    },
    {
     "name": "stdout",
     "output_type": "stream",
     "text": [
      "5.637068115234375\n"
     ]
    },
    {
     "name": "stderr",
     "output_type": "stream",
     "text": [
      "100%|██████████| 2/2 [00:00<00:00,  3.31it/s]\n"
     ]
    },
    {
     "name": "stdout",
     "output_type": "stream",
     "text": [
      "0.0022436041831970215\n"
     ]
    },
    {
     "name": "stderr",
     "output_type": "stream",
     "text": [
      "100%|██████████| 2/2 [00:00<00:00,  3.20it/s]\n"
     ]
    },
    {
     "name": "stdout",
     "output_type": "stream",
     "text": [
      "0.016045950889587404\n"
     ]
    },
    {
     "name": "stderr",
     "output_type": "stream",
     "text": [
      "100%|██████████| 2/2 [00:00<00:00,  3.17it/s]\n"
     ]
    },
    {
     "name": "stdout",
     "output_type": "stream",
     "text": [
      "0.15370230865478515\n"
     ]
    },
    {
     "name": "stderr",
     "output_type": "stream",
     "text": [
      "100%|██████████| 2/2 [00:00<00:00,  3.21it/s]\n"
     ]
    },
    {
     "name": "stdout",
     "output_type": "stream",
     "text": [
      "1.1069381103515625\n"
     ]
    },
    {
     "name": "stderr",
     "output_type": "stream",
     "text": [
      "100%|██████████| 2/2 [00:00<00:00,  3.16it/s]\n"
     ]
    },
    {
     "name": "stdout",
     "output_type": "stream",
     "text": [
      "3.4342982177734376\n"
     ]
    },
    {
     "name": "stderr",
     "output_type": "stream",
     "text": [
      "100%|██████████| 2/2 [00:00<00:00,  3.15it/s]\n"
     ]
    },
    {
     "name": "stdout",
     "output_type": "stream",
     "text": [
      "0.0017810427546501159\n"
     ]
    },
    {
     "name": "stderr",
     "output_type": "stream",
     "text": [
      "100%|██████████| 2/2 [00:00<00:00,  3.12it/s]\n"
     ]
    },
    {
     "name": "stdout",
     "output_type": "stream",
     "text": [
      "0.023596075057983397\n"
     ]
    },
    {
     "name": "stderr",
     "output_type": "stream",
     "text": [
      "100%|██████████| 2/2 [00:00<00:00,  3.14it/s]\n"
     ]
    },
    {
     "name": "stdout",
     "output_type": "stream",
     "text": [
      "0.199733154296875\n"
     ]
    },
    {
     "name": "stderr",
     "output_type": "stream",
     "text": [
      "100%|██████████| 2/2 [00:00<00:00,  3.18it/s]\n"
     ]
    },
    {
     "name": "stdout",
     "output_type": "stream",
     "text": [
      "1.2847587890625\n"
     ]
    },
    {
     "name": "stderr",
     "output_type": "stream",
     "text": [
      "100%|██████████| 2/2 [00:00<00:00,  3.16it/s]\n"
     ]
    },
    {
     "name": "stdout",
     "output_type": "stream",
     "text": [
      "3.5472557373046874\n"
     ]
    },
    {
     "name": "stderr",
     "output_type": "stream",
     "text": [
      "100%|██████████| 2/2 [00:00<00:00,  3.19it/s]\n"
     ]
    },
    {
     "name": "stdout",
     "output_type": "stream",
     "text": [
      "0.0026141685247421265\n"
     ]
    },
    {
     "name": "stderr",
     "output_type": "stream",
     "text": [
      "100%|██████████| 2/2 [00:00<00:00,  3.20it/s]\n"
     ]
    },
    {
     "name": "stdout",
     "output_type": "stream",
     "text": [
      "0.03525079536437988\n"
     ]
    },
    {
     "name": "stderr",
     "output_type": "stream",
     "text": [
      "100%|██████████| 2/2 [00:00<00:00,  3.24it/s]\n"
     ]
    },
    {
     "name": "stdout",
     "output_type": "stream",
     "text": [
      "0.6031332702636719\n"
     ]
    },
    {
     "name": "stderr",
     "output_type": "stream",
     "text": [
      "100%|██████████| 2/2 [00:00<00:00,  3.16it/s]\n"
     ]
    },
    {
     "name": "stdout",
     "output_type": "stream",
     "text": [
      "3.128443359375\n"
     ]
    },
    {
     "name": "stderr",
     "output_type": "stream",
     "text": [
      "100%|██████████| 2/2 [00:00<00:00,  3.09it/s]\n"
     ]
    },
    {
     "name": "stdout",
     "output_type": "stream",
     "text": [
      "6.21614892578125\n"
     ]
    },
    {
     "name": "stderr",
     "output_type": "stream",
     "text": [
      "100%|██████████| 2/2 [00:00<00:00,  3.27it/s]\n"
     ]
    },
    {
     "name": "stdout",
     "output_type": "stream",
     "text": [
      "0.002335523962974548\n"
     ]
    },
    {
     "name": "stderr",
     "output_type": "stream",
     "text": [
      "100%|██████████| 2/2 [00:00<00:00,  3.27it/s]\n"
     ]
    },
    {
     "name": "stdout",
     "output_type": "stream",
     "text": [
      "0.04531523704528809\n"
     ]
    },
    {
     "name": "stderr",
     "output_type": "stream",
     "text": [
      "100%|██████████| 2/2 [00:00<00:00,  3.16it/s]\n"
     ]
    },
    {
     "name": "stdout",
     "output_type": "stream",
     "text": [
      "0.8550775146484375\n"
     ]
    },
    {
     "name": "stderr",
     "output_type": "stream",
     "text": [
      "100%|██████████| 2/2 [00:00<00:00,  3.12it/s]\n"
     ]
    },
    {
     "name": "stdout",
     "output_type": "stream",
     "text": [
      "3.9056160888671876\n"
     ]
    },
    {
     "name": "stderr",
     "output_type": "stream",
     "text": [
      "100%|██████████| 2/2 [00:00<00:00,  3.16it/s]\n"
     ]
    },
    {
     "name": "stdout",
     "output_type": "stream",
     "text": [
      "6.7042353515625\n"
     ]
    },
    {
     "name": "stderr",
     "output_type": "stream",
     "text": [
      "100%|██████████| 2/2 [00:00<00:00,  3.27it/s]\n"
     ]
    },
    {
     "name": "stdout",
     "output_type": "stream",
     "text": [
      "0.002063043177127838\n"
     ]
    },
    {
     "name": "stderr",
     "output_type": "stream",
     "text": [
      "100%|██████████| 2/2 [00:00<00:00,  3.12it/s]\n"
     ]
    },
    {
     "name": "stdout",
     "output_type": "stream",
     "text": [
      "0.02506298542022705\n"
     ]
    },
    {
     "name": "stderr",
     "output_type": "stream",
     "text": [
      "100%|██████████| 2/2 [00:00<00:00,  3.15it/s]\n"
     ]
    },
    {
     "name": "stdout",
     "output_type": "stream",
     "text": [
      "0.19010155487060548\n"
     ]
    },
    {
     "name": "stderr",
     "output_type": "stream",
     "text": [
      "100%|██████████| 2/2 [00:00<00:00,  3.16it/s]\n"
     ]
    },
    {
     "name": "stdout",
     "output_type": "stream",
     "text": [
      "1.073890350341797\n"
     ]
    },
    {
     "name": "stderr",
     "output_type": "stream",
     "text": [
      "100%|██████████| 2/2 [00:00<00:00,  3.20it/s]\n"
     ]
    },
    {
     "name": "stdout",
     "output_type": "stream",
     "text": [
      "3.0576156005859376\n"
     ]
    },
    {
     "name": "stderr",
     "output_type": "stream",
     "text": [
      "100%|██████████| 2/2 [00:00<00:00,  3.29it/s]\n"
     ]
    },
    {
     "name": "stdout",
     "output_type": "stream",
     "text": [
      "0.0020510082840919496\n"
     ]
    },
    {
     "name": "stderr",
     "output_type": "stream",
     "text": [
      "100%|██████████| 2/2 [00:00<00:00,  3.19it/s]\n"
     ]
    },
    {
     "name": "stdout",
     "output_type": "stream",
     "text": [
      "0.02552391815185547\n"
     ]
    },
    {
     "name": "stderr",
     "output_type": "stream",
     "text": [
      "100%|██████████| 2/2 [00:00<00:00,  3.07it/s]\n"
     ]
    },
    {
     "name": "stdout",
     "output_type": "stream",
     "text": [
      "0.2182583236694336\n"
     ]
    },
    {
     "name": "stderr",
     "output_type": "stream",
     "text": [
      "100%|██████████| 2/2 [00:00<00:00,  3.13it/s]\n"
     ]
    },
    {
     "name": "stdout",
     "output_type": "stream",
     "text": [
      "1.4205789794921875\n"
     ]
    },
    {
     "name": "stderr",
     "output_type": "stream",
     "text": [
      "100%|██████████| 2/2 [00:00<00:00,  3.15it/s]\n"
     ]
    },
    {
     "name": "stdout",
     "output_type": "stream",
     "text": [
      "3.715916259765625\n"
     ]
    },
    {
     "name": "stderr",
     "output_type": "stream",
     "text": [
      "100%|██████████| 2/2 [00:00<00:00,  3.23it/s]\n"
     ]
    },
    {
     "name": "stdout",
     "output_type": "stream",
     "text": [
      "0.0017987060546875\n"
     ]
    },
    {
     "name": "stderr",
     "output_type": "stream",
     "text": [
      "100%|██████████| 2/2 [00:00<00:00,  2.97it/s]\n"
     ]
    },
    {
     "name": "stdout",
     "output_type": "stream",
     "text": [
      "0.011064609050750733\n"
     ]
    },
    {
     "name": "stderr",
     "output_type": "stream",
     "text": [
      "100%|██████████| 2/2 [00:00<00:00,  3.01it/s]\n"
     ]
    },
    {
     "name": "stdout",
     "output_type": "stream",
     "text": [
      "0.17885728454589844\n"
     ]
    },
    {
     "name": "stderr",
     "output_type": "stream",
     "text": [
      "100%|██████████| 2/2 [00:00<00:00,  2.44it/s]\n"
     ]
    },
    {
     "name": "stdout",
     "output_type": "stream",
     "text": [
      "1.4785889282226563\n"
     ]
    },
    {
     "name": "stderr",
     "output_type": "stream",
     "text": [
      "100%|██████████| 2/2 [00:00<00:00,  2.43it/s]\n"
     ]
    },
    {
     "name": "stdout",
     "output_type": "stream",
     "text": [
      "4.26060107421875\n"
     ]
    },
    {
     "name": "stderr",
     "output_type": "stream",
     "text": [
      "100%|██████████| 2/2 [00:00<00:00,  3.18it/s]\n"
     ]
    },
    {
     "name": "stdout",
     "output_type": "stream",
     "text": [
      "0.004099973917007446\n"
     ]
    },
    {
     "name": "stderr",
     "output_type": "stream",
     "text": [
      "100%|██████████| 2/2 [00:00<00:00,  3.15it/s]\n"
     ]
    },
    {
     "name": "stdout",
     "output_type": "stream",
     "text": [
      "0.055810403823852536\n"
     ]
    },
    {
     "name": "stderr",
     "output_type": "stream",
     "text": [
      "100%|██████████| 2/2 [00:00<00:00,  2.98it/s]\n"
     ]
    },
    {
     "name": "stdout",
     "output_type": "stream",
     "text": [
      "1.0882476806640624\n"
     ]
    },
    {
     "name": "stderr",
     "output_type": "stream",
     "text": [
      "100%|██████████| 2/2 [00:00<00:00,  3.14it/s]\n"
     ]
    },
    {
     "name": "stdout",
     "output_type": "stream",
     "text": [
      "4.87366455078125\n"
     ]
    },
    {
     "name": "stderr",
     "output_type": "stream",
     "text": [
      "100%|██████████| 2/2 [00:00<00:00,  3.20it/s]\n"
     ]
    },
    {
     "name": "stdout",
     "output_type": "stream",
     "text": [
      "8.26785546875\n"
     ]
    },
    {
     "name": "stderr",
     "output_type": "stream",
     "text": [
      "100%|██████████| 2/2 [00:00<00:00,  3.10it/s]\n"
     ]
    },
    {
     "name": "stdout",
     "output_type": "stream",
     "text": [
      "0.0020922034978866576\n"
     ]
    },
    {
     "name": "stderr",
     "output_type": "stream",
     "text": [
      "100%|██████████| 2/2 [00:00<00:00,  3.01it/s]\n"
     ]
    },
    {
     "name": "stdout",
     "output_type": "stream",
     "text": [
      "0.021170632362365722\n"
     ]
    },
    {
     "name": "stderr",
     "output_type": "stream",
     "text": [
      "100%|██████████| 2/2 [00:00<00:00,  3.00it/s]\n"
     ]
    },
    {
     "name": "stdout",
     "output_type": "stream",
     "text": [
      "0.3771910095214844\n"
     ]
    },
    {
     "name": "stderr",
     "output_type": "stream",
     "text": [
      "100%|██████████| 2/2 [00:00<00:00,  3.06it/s]\n"
     ]
    },
    {
     "name": "stdout",
     "output_type": "stream",
     "text": [
      "2.252351806640625\n"
     ]
    },
    {
     "name": "stderr",
     "output_type": "stream",
     "text": [
      "100%|██████████| 2/2 [00:00<00:00,  3.20it/s]\n"
     ]
    },
    {
     "name": "stdout",
     "output_type": "stream",
     "text": [
      "5.287754150390625\n"
     ]
    },
    {
     "name": "stderr",
     "output_type": "stream",
     "text": [
      "100%|██████████| 2/2 [00:00<00:00,  3.25it/s]\n"
     ]
    },
    {
     "name": "stdout",
     "output_type": "stream",
     "text": [
      "0.0019019556641578675\n"
     ]
    },
    {
     "name": "stderr",
     "output_type": "stream",
     "text": [
      "100%|██████████| 2/2 [00:00<00:00,  3.18it/s]\n"
     ]
    },
    {
     "name": "stdout",
     "output_type": "stream",
     "text": [
      "0.01826038455963135\n"
     ]
    },
    {
     "name": "stderr",
     "output_type": "stream",
     "text": [
      "100%|██████████| 2/2 [00:00<00:00,  3.06it/s]\n"
     ]
    },
    {
     "name": "stdout",
     "output_type": "stream",
     "text": [
      "0.31174269104003904\n"
     ]
    },
    {
     "name": "stderr",
     "output_type": "stream",
     "text": [
      "100%|██████████| 2/2 [00:00<00:00,  3.18it/s]\n"
     ]
    },
    {
     "name": "stdout",
     "output_type": "stream",
     "text": [
      "1.7606522216796876\n"
     ]
    },
    {
     "name": "stderr",
     "output_type": "stream",
     "text": [
      "100%|██████████| 2/2 [00:00<00:00,  3.04it/s]\n"
     ]
    },
    {
     "name": "stdout",
     "output_type": "stream",
     "text": [
      "4.448415283203125\n"
     ]
    },
    {
     "name": "stderr",
     "output_type": "stream",
     "text": [
      "100%|██████████| 2/2 [00:00<00:00,  3.12it/s]\n"
     ]
    },
    {
     "name": "stdout",
     "output_type": "stream",
     "text": [
      "0.0011853650212287903\n"
     ]
    },
    {
     "name": "stderr",
     "output_type": "stream",
     "text": [
      "100%|██████████| 2/2 [00:00<00:00,  3.12it/s]\n"
     ]
    },
    {
     "name": "stdout",
     "output_type": "stream",
     "text": [
      "0.024285664558410646\n"
     ]
    },
    {
     "name": "stderr",
     "output_type": "stream",
     "text": [
      "100%|██████████| 2/2 [00:00<00:00,  3.06it/s]\n"
     ]
    },
    {
     "name": "stdout",
     "output_type": "stream",
     "text": [
      "0.38505667114257813\n"
     ]
    },
    {
     "name": "stderr",
     "output_type": "stream",
     "text": [
      "100%|██████████| 2/2 [00:00<00:00,  3.05it/s]\n"
     ]
    },
    {
     "name": "stdout",
     "output_type": "stream",
     "text": [
      "2.099023681640625\n"
     ]
    },
    {
     "name": "stderr",
     "output_type": "stream",
     "text": [
      "100%|██████████| 2/2 [00:00<00:00,  3.10it/s]\n"
     ]
    },
    {
     "name": "stdout",
     "output_type": "stream",
     "text": [
      "4.4958759765625\n"
     ]
    },
    {
     "name": "stderr",
     "output_type": "stream",
     "text": [
      "100%|██████████| 2/2 [00:00<00:00,  3.15it/s]\n"
     ]
    },
    {
     "name": "stdout",
     "output_type": "stream",
     "text": [
      "0.0014040371775627136\n"
     ]
    },
    {
     "name": "stderr",
     "output_type": "stream",
     "text": [
      "100%|██████████| 2/2 [00:00<00:00,  3.02it/s]\n"
     ]
    },
    {
     "name": "stdout",
     "output_type": "stream",
     "text": [
      "0.011706448554992676\n"
     ]
    },
    {
     "name": "stderr",
     "output_type": "stream",
     "text": [
      "100%|██████████| 2/2 [00:00<00:00,  3.11it/s]\n"
     ]
    },
    {
     "name": "stdout",
     "output_type": "stream",
     "text": [
      "0.13948750686645509\n"
     ]
    },
    {
     "name": "stderr",
     "output_type": "stream",
     "text": [
      "100%|██████████| 2/2 [00:00<00:00,  2.90it/s]\n"
     ]
    },
    {
     "name": "stdout",
     "output_type": "stream",
     "text": [
      "0.914338134765625\n"
     ]
    },
    {
     "name": "stderr",
     "output_type": "stream",
     "text": [
      "100%|██████████| 2/2 [00:00<00:00,  3.13it/s]\n"
     ]
    },
    {
     "name": "stdout",
     "output_type": "stream",
     "text": [
      "2.6031143798828125\n"
     ]
    },
    {
     "name": "stderr",
     "output_type": "stream",
     "text": [
      "100%|██████████| 2/2 [00:00<00:00,  3.15it/s]\n"
     ]
    },
    {
     "name": "stdout",
     "output_type": "stream",
     "text": [
      "0.0019435288906097413\n"
     ]
    },
    {
     "name": "stderr",
     "output_type": "stream",
     "text": [
      "100%|██████████| 2/2 [00:00<00:00,  3.05it/s]\n"
     ]
    },
    {
     "name": "stdout",
     "output_type": "stream",
     "text": [
      "0.015372152328491212\n"
     ]
    },
    {
     "name": "stderr",
     "output_type": "stream",
     "text": [
      "100%|██████████| 2/2 [00:00<00:00,  3.04it/s]\n"
     ]
    },
    {
     "name": "stdout",
     "output_type": "stream",
     "text": [
      "0.12487296295166016\n"
     ]
    },
    {
     "name": "stderr",
     "output_type": "stream",
     "text": [
      "100%|██████████| 2/2 [00:00<00:00,  3.15it/s]\n"
     ]
    },
    {
     "name": "stdout",
     "output_type": "stream",
     "text": [
      "0.607923095703125\n"
     ]
    },
    {
     "name": "stderr",
     "output_type": "stream",
     "text": [
      "100%|██████████| 2/2 [00:00<00:00,  3.05it/s]\n"
     ]
    },
    {
     "name": "stdout",
     "output_type": "stream",
     "text": [
      "1.8496956787109375\n"
     ]
    },
    {
     "name": "stderr",
     "output_type": "stream",
     "text": [
      "100%|██████████| 2/2 [00:00<00:00,  3.08it/s]\n"
     ]
    },
    {
     "name": "stdout",
     "output_type": "stream",
     "text": [
      "0.002039798438549042\n"
     ]
    },
    {
     "name": "stderr",
     "output_type": "stream",
     "text": [
      "100%|██████████| 2/2 [00:00<00:00,  3.04it/s]\n"
     ]
    },
    {
     "name": "stdout",
     "output_type": "stream",
     "text": [
      "0.01906131362915039\n"
     ]
    },
    {
     "name": "stderr",
     "output_type": "stream",
     "text": [
      "100%|██████████| 2/2 [00:00<00:00,  3.10it/s]\n"
     ]
    },
    {
     "name": "stdout",
     "output_type": "stream",
     "text": [
      "0.22939350128173827\n"
     ]
    },
    {
     "name": "stderr",
     "output_type": "stream",
     "text": [
      "100%|██████████| 2/2 [00:00<00:00,  3.13it/s]\n"
     ]
    },
    {
     "name": "stdout",
     "output_type": "stream",
     "text": [
      "1.1628250732421874\n"
     ]
    },
    {
     "name": "stderr",
     "output_type": "stream",
     "text": [
      "100%|██████████| 2/2 [00:00<00:00,  3.10it/s]\n"
     ]
    },
    {
     "name": "stdout",
     "output_type": "stream",
     "text": [
      "2.8019605712890625\n"
     ]
    },
    {
     "name": "stderr",
     "output_type": "stream",
     "text": [
      "100%|██████████| 2/2 [00:00<00:00,  3.16it/s]\n"
     ]
    },
    {
     "name": "stdout",
     "output_type": "stream",
     "text": [
      "0.002509737968444824\n"
     ]
    },
    {
     "name": "stderr",
     "output_type": "stream",
     "text": [
      "100%|██████████| 2/2 [00:00<00:00,  3.15it/s]\n"
     ]
    },
    {
     "name": "stdout",
     "output_type": "stream",
     "text": [
      "0.030429448127746582\n"
     ]
    },
    {
     "name": "stderr",
     "output_type": "stream",
     "text": [
      "100%|██████████| 2/2 [00:00<00:00,  3.09it/s]\n"
     ]
    },
    {
     "name": "stdout",
     "output_type": "stream",
     "text": [
      "0.39142781066894533\n"
     ]
    },
    {
     "name": "stderr",
     "output_type": "stream",
     "text": [
      "100%|██████████| 2/2 [00:00<00:00,  3.03it/s]\n"
     ]
    },
    {
     "name": "stdout",
     "output_type": "stream",
     "text": [
      "1.9951015625\n"
     ]
    },
    {
     "name": "stderr",
     "output_type": "stream",
     "text": [
      "100%|██████████| 2/2 [00:00<00:00,  3.06it/s]\n"
     ]
    },
    {
     "name": "stdout",
     "output_type": "stream",
     "text": [
      "4.50966259765625\n"
     ]
    },
    {
     "name": "stderr",
     "output_type": "stream",
     "text": [
      "100%|██████████| 2/2 [00:00<00:00,  3.16it/s]\n"
     ]
    },
    {
     "name": "stdout",
     "output_type": "stream",
     "text": [
      "0.0026001812219619753\n"
     ]
    },
    {
     "name": "stderr",
     "output_type": "stream",
     "text": [
      "100%|██████████| 2/2 [00:00<00:00,  3.14it/s]\n"
     ]
    },
    {
     "name": "stdout",
     "output_type": "stream",
     "text": [
      "0.01692477607727051\n"
     ]
    },
    {
     "name": "stderr",
     "output_type": "stream",
     "text": [
      "100%|██████████| 2/2 [00:00<00:00,  3.00it/s]\n"
     ]
    },
    {
     "name": "stdout",
     "output_type": "stream",
     "text": [
      "0.19118083953857423\n"
     ]
    },
    {
     "name": "stderr",
     "output_type": "stream",
     "text": [
      "100%|██████████| 2/2 [00:00<00:00,  2.92it/s]\n"
     ]
    },
    {
     "name": "stdout",
     "output_type": "stream",
     "text": [
      "1.4875137939453125\n"
     ]
    },
    {
     "name": "stderr",
     "output_type": "stream",
     "text": [
      "100%|██████████| 2/2 [00:00<00:00,  2.97it/s]\n"
     ]
    },
    {
     "name": "stdout",
     "output_type": "stream",
     "text": [
      "3.84914111328125\n"
     ]
    },
    {
     "name": "stderr",
     "output_type": "stream",
     "text": [
      "100%|██████████| 2/2 [00:00<00:00,  3.22it/s]\n"
     ]
    },
    {
     "name": "stdout",
     "output_type": "stream",
     "text": [
      "0.003365620732307434\n"
     ]
    },
    {
     "name": "stderr",
     "output_type": "stream",
     "text": [
      "100%|██████████| 2/2 [00:00<00:00,  3.00it/s]\n"
     ]
    },
    {
     "name": "stdout",
     "output_type": "stream",
     "text": [
      "0.04764458465576172\n"
     ]
    },
    {
     "name": "stderr",
     "output_type": "stream",
     "text": [
      "100%|██████████| 2/2 [00:00<00:00,  2.94it/s]\n"
     ]
    },
    {
     "name": "stdout",
     "output_type": "stream",
     "text": [
      "0.44494325256347655\n"
     ]
    },
    {
     "name": "stderr",
     "output_type": "stream",
     "text": [
      "100%|██████████| 2/2 [00:00<00:00,  2.91it/s]\n"
     ]
    },
    {
     "name": "stdout",
     "output_type": "stream",
     "text": [
      "2.0719039306640625\n"
     ]
    },
    {
     "name": "stderr",
     "output_type": "stream",
     "text": [
      "100%|██████████| 2/2 [00:00<00:00,  3.04it/s]\n"
     ]
    },
    {
     "name": "stdout",
     "output_type": "stream",
     "text": [
      "4.52444091796875\n"
     ]
    },
    {
     "name": "stderr",
     "output_type": "stream",
     "text": [
      "100%|██████████| 2/2 [00:00<00:00,  3.17it/s]\n"
     ]
    },
    {
     "name": "stdout",
     "output_type": "stream",
     "text": [
      "0.0013988396525382995\n"
     ]
    },
    {
     "name": "stderr",
     "output_type": "stream",
     "text": [
      "100%|██████████| 2/2 [00:00<00:00,  3.10it/s]\n"
     ]
    },
    {
     "name": "stdout",
     "output_type": "stream",
     "text": [
      "0.016001957416534422\n"
     ]
    },
    {
     "name": "stderr",
     "output_type": "stream",
     "text": [
      "100%|██████████| 2/2 [00:00<00:00,  3.09it/s]\n"
     ]
    },
    {
     "name": "stdout",
     "output_type": "stream",
     "text": [
      "0.29873731994628905\n"
     ]
    },
    {
     "name": "stderr",
     "output_type": "stream",
     "text": [
      "100%|██████████| 2/2 [00:00<00:00,  3.10it/s]\n"
     ]
    },
    {
     "name": "stdout",
     "output_type": "stream",
     "text": [
      "1.7096427001953125\n"
     ]
    },
    {
     "name": "stderr",
     "output_type": "stream",
     "text": [
      "100%|██████████| 2/2 [00:00<00:00,  2.87it/s]\n"
     ]
    },
    {
     "name": "stdout",
     "output_type": "stream",
     "text": [
      "4.16263818359375\n"
     ]
    },
    {
     "name": "stderr",
     "output_type": "stream",
     "text": [
      "100%|██████████| 2/2 [00:00<00:00,  3.21it/s]\n"
     ]
    },
    {
     "name": "stdout",
     "output_type": "stream",
     "text": [
      "0.0032795472145080566\n"
     ]
    },
    {
     "name": "stderr",
     "output_type": "stream",
     "text": [
      "100%|██████████| 2/2 [00:00<00:00,  3.18it/s]\n"
     ]
    },
    {
     "name": "stdout",
     "output_type": "stream",
     "text": [
      "0.045079804420471194\n"
     ]
    },
    {
     "name": "stderr",
     "output_type": "stream",
     "text": [
      "100%|██████████| 2/2 [00:00<00:00,  3.03it/s]\n"
     ]
    },
    {
     "name": "stdout",
     "output_type": "stream",
     "text": [
      "0.4723647613525391\n"
     ]
    },
    {
     "name": "stderr",
     "output_type": "stream",
     "text": [
      "100%|██████████| 2/2 [00:00<00:00,  2.96it/s]\n"
     ]
    },
    {
     "name": "stdout",
     "output_type": "stream",
     "text": [
      "2.6002315673828127\n"
     ]
    },
    {
     "name": "stderr",
     "output_type": "stream",
     "text": [
      "100%|██████████| 2/2 [00:00<00:00,  3.01it/s]\n"
     ]
    },
    {
     "name": "stdout",
     "output_type": "stream",
     "text": [
      "5.436864013671875\n"
     ]
    },
    {
     "name": "stderr",
     "output_type": "stream",
     "text": [
      "100%|██████████| 2/2 [00:00<00:00,  3.17it/s]\n"
     ]
    },
    {
     "name": "stdout",
     "output_type": "stream",
     "text": [
      "0.0037096821069717407\n"
     ]
    },
    {
     "name": "stderr",
     "output_type": "stream",
     "text": [
      "100%|██████████| 2/2 [00:00<00:00,  3.04it/s]\n"
     ]
    },
    {
     "name": "stdout",
     "output_type": "stream",
     "text": [
      "0.06358702850341796\n"
     ]
    },
    {
     "name": "stderr",
     "output_type": "stream",
     "text": [
      "100%|██████████| 2/2 [00:00<00:00,  2.96it/s]\n"
     ]
    },
    {
     "name": "stdout",
     "output_type": "stream",
     "text": [
      "0.6185337219238282\n"
     ]
    },
    {
     "name": "stderr",
     "output_type": "stream",
     "text": [
      "100%|██████████| 2/2 [00:00<00:00,  2.83it/s]\n"
     ]
    },
    {
     "name": "stdout",
     "output_type": "stream",
     "text": [
      "2.648566162109375\n"
     ]
    },
    {
     "name": "stderr",
     "output_type": "stream",
     "text": [
      "100%|██████████| 2/2 [00:00<00:00,  3.10it/s]\n"
     ]
    },
    {
     "name": "stdout",
     "output_type": "stream",
     "text": [
      "5.153962890625\n"
     ]
    },
    {
     "name": "stderr",
     "output_type": "stream",
     "text": [
      "100%|██████████| 2/2 [00:00<00:00,  3.04it/s]\n"
     ]
    },
    {
     "name": "stdout",
     "output_type": "stream",
     "text": [
      "0.00253508996963501\n"
     ]
    },
    {
     "name": "stderr",
     "output_type": "stream",
     "text": [
      "100%|██████████| 2/2 [00:00<00:00,  2.95it/s]\n"
     ]
    },
    {
     "name": "stdout",
     "output_type": "stream",
     "text": [
      "0.07249640274047851\n"
     ]
    },
    {
     "name": "stderr",
     "output_type": "stream",
     "text": [
      "100%|██████████| 2/2 [00:00<00:00,  2.92it/s]\n"
     ]
    },
    {
     "name": "stdout",
     "output_type": "stream",
     "text": [
      "1.7224889526367186\n"
     ]
    },
    {
     "name": "stderr",
     "output_type": "stream",
     "text": [
      "100%|██████████| 2/2 [00:00<00:00,  3.06it/s]\n"
     ]
    },
    {
     "name": "stdout",
     "output_type": "stream",
     "text": [
      "5.622554931640625\n"
     ]
    },
    {
     "name": "stderr",
     "output_type": "stream",
     "text": [
      "100%|██████████| 2/2 [00:00<00:00,  2.93it/s]\n"
     ]
    },
    {
     "name": "stdout",
     "output_type": "stream",
     "text": [
      "8.871294921875\n"
     ]
    },
    {
     "name": "stderr",
     "output_type": "stream",
     "text": [
      "100%|██████████| 2/2 [00:00<00:00,  3.14it/s]\n"
     ]
    },
    {
     "name": "stdout",
     "output_type": "stream",
     "text": [
      "0.0016908111572265625\n"
     ]
    },
    {
     "name": "stderr",
     "output_type": "stream",
     "text": [
      "100%|██████████| 2/2 [00:00<00:00,  2.96it/s]\n"
     ]
    },
    {
     "name": "stdout",
     "output_type": "stream",
     "text": [
      "0.009982473373413086\n"
     ]
    },
    {
     "name": "stderr",
     "output_type": "stream",
     "text": [
      "100%|██████████| 2/2 [00:00<00:00,  2.87it/s]\n"
     ]
    },
    {
     "name": "stdout",
     "output_type": "stream",
     "text": [
      "0.18049124908447264\n"
     ]
    },
    {
     "name": "stderr",
     "output_type": "stream",
     "text": [
      "100%|██████████| 2/2 [00:00<00:00,  3.09it/s]\n"
     ]
    },
    {
     "name": "stdout",
     "output_type": "stream",
     "text": [
      "1.346327392578125\n"
     ]
    },
    {
     "name": "stderr",
     "output_type": "stream",
     "text": [
      "100%|██████████| 2/2 [00:00<00:00,  3.00it/s]\n"
     ]
    },
    {
     "name": "stdout",
     "output_type": "stream",
     "text": [
      "3.673715087890625\n"
     ]
    },
    {
     "name": "stderr",
     "output_type": "stream",
     "text": [
      "100%|██████████| 2/2 [00:00<00:00,  3.03it/s]\n"
     ]
    },
    {
     "name": "stdout",
     "output_type": "stream",
     "text": [
      "0.003399572253227234\n"
     ]
    },
    {
     "name": "stderr",
     "output_type": "stream",
     "text": [
      "100%|██████████| 2/2 [00:00<00:00,  2.85it/s]\n"
     ]
    },
    {
     "name": "stdout",
     "output_type": "stream",
     "text": [
      "0.015569748878479004\n"
     ]
    },
    {
     "name": "stderr",
     "output_type": "stream",
     "text": [
      "100%|██████████| 2/2 [00:00<00:00,  3.15it/s]\n"
     ]
    },
    {
     "name": "stdout",
     "output_type": "stream",
     "text": [
      "0.11576729965209961\n"
     ]
    },
    {
     "name": "stderr",
     "output_type": "stream",
     "text": [
      "100%|██████████| 2/2 [00:00<00:00,  2.97it/s]\n"
     ]
    },
    {
     "name": "stdout",
     "output_type": "stream",
     "text": [
      "0.8882256164550781\n"
     ]
    },
    {
     "name": "stderr",
     "output_type": "stream",
     "text": [
      "100%|██████████| 2/2 [00:00<00:00,  3.02it/s]\n"
     ]
    },
    {
     "name": "stdout",
     "output_type": "stream",
     "text": [
      "2.9990877685546873\n"
     ]
    },
    {
     "name": "stderr",
     "output_type": "stream",
     "text": [
      "100%|██████████| 2/2 [00:00<00:00,  3.11it/s]\n"
     ]
    },
    {
     "name": "stdout",
     "output_type": "stream",
     "text": [
      "0.001269589900970459\n"
     ]
    },
    {
     "name": "stderr",
     "output_type": "stream",
     "text": [
      "100%|██████████| 2/2 [00:00<00:00,  3.03it/s]\n"
     ]
    },
    {
     "name": "stdout",
     "output_type": "stream",
     "text": [
      "0.02425668430328369\n"
     ]
    },
    {
     "name": "stderr",
     "output_type": "stream",
     "text": [
      "100%|██████████| 2/2 [00:00<00:00,  3.11it/s]\n"
     ]
    },
    {
     "name": "stdout",
     "output_type": "stream",
     "text": [
      "0.341260986328125\n"
     ]
    },
    {
     "name": "stderr",
     "output_type": "stream",
     "text": [
      "100%|██████████| 2/2 [00:00<00:00,  3.21it/s]\n"
     ]
    },
    {
     "name": "stdout",
     "output_type": "stream",
     "text": [
      "2.035647216796875\n"
     ]
    },
    {
     "name": "stderr",
     "output_type": "stream",
     "text": [
      "100%|██████████| 2/2 [00:00<00:00,  3.14it/s]\n"
     ]
    },
    {
     "name": "stdout",
     "output_type": "stream",
     "text": [
      "4.615123779296875\n"
     ]
    },
    {
     "name": "stderr",
     "output_type": "stream",
     "text": [
      "100%|██████████| 2/2 [00:00<00:00,  3.25it/s]\n"
     ]
    },
    {
     "name": "stdout",
     "output_type": "stream",
     "text": [
      "0.0027716856002807616\n"
     ]
    },
    {
     "name": "stderr",
     "output_type": "stream",
     "text": [
      "100%|██████████| 2/2 [00:00<00:00,  3.11it/s]\n"
     ]
    },
    {
     "name": "stdout",
     "output_type": "stream",
     "text": [
      "0.03350973892211914\n"
     ]
    },
    {
     "name": "stderr",
     "output_type": "stream",
     "text": [
      "100%|██████████| 2/2 [00:00<00:00,  3.00it/s]\n"
     ]
    },
    {
     "name": "stdout",
     "output_type": "stream",
     "text": [
      "0.4495125885009766\n"
     ]
    },
    {
     "name": "stderr",
     "output_type": "stream",
     "text": [
      "100%|██████████| 2/2 [00:00<00:00,  3.07it/s]\n"
     ]
    },
    {
     "name": "stdout",
     "output_type": "stream",
     "text": [
      "2.5982906494140625\n"
     ]
    },
    {
     "name": "stderr",
     "output_type": "stream",
     "text": [
      "100%|██████████| 2/2 [00:00<00:00,  3.09it/s]\n"
     ]
    },
    {
     "name": "stdout",
     "output_type": "stream",
     "text": [
      "5.489306884765625\n"
     ]
    },
    {
     "name": "stderr",
     "output_type": "stream",
     "text": [
      "100%|██████████| 2/2 [00:00<00:00,  3.12it/s]\n"
     ]
    },
    {
     "name": "stdout",
     "output_type": "stream",
     "text": [
      "0.001658963680267334\n"
     ]
    },
    {
     "name": "stderr",
     "output_type": "stream",
     "text": [
      "100%|██████████| 2/2 [00:00<00:00,  3.05it/s]\n"
     ]
    },
    {
     "name": "stdout",
     "output_type": "stream",
     "text": [
      "0.007397199153900146\n"
     ]
    },
    {
     "name": "stderr",
     "output_type": "stream",
     "text": [
      "100%|██████████| 2/2 [00:00<00:00,  3.19it/s]\n"
     ]
    },
    {
     "name": "stdout",
     "output_type": "stream",
     "text": [
      "0.20893058013916016\n"
     ]
    },
    {
     "name": "stderr",
     "output_type": "stream",
     "text": [
      "100%|██████████| 2/2 [00:00<00:00,  2.96it/s]\n"
     ]
    },
    {
     "name": "stdout",
     "output_type": "stream",
     "text": [
      "1.5010908813476562\n"
     ]
    },
    {
     "name": "stderr",
     "output_type": "stream",
     "text": [
      "100%|██████████| 2/2 [00:00<00:00,  3.08it/s]\n"
     ]
    },
    {
     "name": "stdout",
     "output_type": "stream",
     "text": [
      "4.059852783203125\n"
     ]
    },
    {
     "name": "stderr",
     "output_type": "stream",
     "text": [
      "100%|██████████| 2/2 [00:00<00:00,  3.06it/s]\n"
     ]
    },
    {
     "name": "stdout",
     "output_type": "stream",
     "text": [
      "0.0019476327896118164\n"
     ]
    },
    {
     "name": "stderr",
     "output_type": "stream",
     "text": [
      "100%|██████████| 2/2 [00:00<00:00,  3.02it/s]\n"
     ]
    },
    {
     "name": "stdout",
     "output_type": "stream",
     "text": [
      "0.013180204391479492\n"
     ]
    },
    {
     "name": "stderr",
     "output_type": "stream",
     "text": [
      "100%|██████████| 2/2 [00:00<00:00,  3.06it/s]\n"
     ]
    },
    {
     "name": "stdout",
     "output_type": "stream",
     "text": [
      "0.38084814453125\n"
     ]
    },
    {
     "name": "stderr",
     "output_type": "stream",
     "text": [
      "100%|██████████| 2/2 [00:00<00:00,  3.02it/s]\n"
     ]
    },
    {
     "name": "stdout",
     "output_type": "stream",
     "text": [
      "2.538864501953125\n"
     ]
    },
    {
     "name": "stderr",
     "output_type": "stream",
     "text": [
      "100%|██████████| 2/2 [00:00<00:00,  2.98it/s]\n"
     ]
    },
    {
     "name": "stdout",
     "output_type": "stream",
     "text": [
      "5.510345458984375\n"
     ]
    },
    {
     "name": "stderr",
     "output_type": "stream",
     "text": [
      "100%|██████████| 2/2 [00:00<00:00,  3.18it/s]\n"
     ]
    },
    {
     "name": "stdout",
     "output_type": "stream",
     "text": [
      "0.00723625385761261\n"
     ]
    },
    {
     "name": "stderr",
     "output_type": "stream",
     "text": [
      "100%|██████████| 2/2 [00:00<00:00,  3.04it/s]\n"
     ]
    },
    {
     "name": "stdout",
     "output_type": "stream",
     "text": [
      "0.038014504432678224\n"
     ]
    },
    {
     "name": "stderr",
     "output_type": "stream",
     "text": [
      "100%|██████████| 2/2 [00:00<00:00,  3.12it/s]\n"
     ]
    },
    {
     "name": "stdout",
     "output_type": "stream",
     "text": [
      "0.2532130126953125\n"
     ]
    },
    {
     "name": "stderr",
     "output_type": "stream",
     "text": [
      "100%|██████████| 2/2 [00:00<00:00,  3.15it/s]\n"
     ]
    },
    {
     "name": "stdout",
     "output_type": "stream",
     "text": [
      "1.4043048706054688\n"
     ]
    },
    {
     "name": "stderr",
     "output_type": "stream",
     "text": [
      "100%|██████████| 2/2 [00:00<00:00,  3.08it/s]\n"
     ]
    },
    {
     "name": "stdout",
     "output_type": "stream",
     "text": [
      "3.5350355224609373\n"
     ]
    },
    {
     "name": "stderr",
     "output_type": "stream",
     "text": [
      "100%|██████████| 2/2 [00:00<00:00,  3.08it/s]\n"
     ]
    },
    {
     "name": "stdout",
     "output_type": "stream",
     "text": [
      "0.0023019564151763915\n"
     ]
    },
    {
     "name": "stderr",
     "output_type": "stream",
     "text": [
      "100%|██████████| 2/2 [00:00<00:00,  3.29it/s]\n"
     ]
    },
    {
     "name": "stdout",
     "output_type": "stream",
     "text": [
      "0.041484901428222656\n"
     ]
    },
    {
     "name": "stderr",
     "output_type": "stream",
     "text": [
      "100%|██████████| 2/2 [00:00<00:00,  3.05it/s]\n"
     ]
    },
    {
     "name": "stdout",
     "output_type": "stream",
     "text": [
      "0.3216555480957031\n"
     ]
    },
    {
     "name": "stderr",
     "output_type": "stream",
     "text": [
      "100%|██████████| 2/2 [00:00<00:00,  3.09it/s]\n"
     ]
    },
    {
     "name": "stdout",
     "output_type": "stream",
     "text": [
      "1.6356697998046874\n"
     ]
    },
    {
     "name": "stderr",
     "output_type": "stream",
     "text": [
      "100%|██████████| 2/2 [00:00<00:00,  2.81it/s]\n"
     ]
    },
    {
     "name": "stdout",
     "output_type": "stream",
     "text": [
      "3.7921519775390626\n"
     ]
    },
    {
     "name": "stderr",
     "output_type": "stream",
     "text": [
      "100%|██████████| 2/2 [00:00<00:00,  3.05it/s]\n"
     ]
    },
    {
     "name": "stdout",
     "output_type": "stream",
     "text": [
      "0.0023627027869224547\n"
     ]
    },
    {
     "name": "stderr",
     "output_type": "stream",
     "text": [
      "100%|██████████| 2/2 [00:00<00:00,  3.02it/s]\n"
     ]
    },
    {
     "name": "stdout",
     "output_type": "stream",
     "text": [
      "0.01650805950164795\n"
     ]
    },
    {
     "name": "stderr",
     "output_type": "stream",
     "text": [
      "100%|██████████| 2/2 [00:00<00:00,  3.06it/s]\n"
     ]
    },
    {
     "name": "stdout",
     "output_type": "stream",
     "text": [
      "0.21459059143066406\n"
     ]
    },
    {
     "name": "stderr",
     "output_type": "stream",
     "text": [
      "100%|██████████| 2/2 [00:00<00:00,  2.97it/s]\n"
     ]
    },
    {
     "name": "stdout",
     "output_type": "stream",
     "text": [
      "1.3650625\n"
     ]
    },
    {
     "name": "stderr",
     "output_type": "stream",
     "text": [
      "100%|██████████| 2/2 [00:00<00:00,  2.94it/s]\n"
     ]
    },
    {
     "name": "stdout",
     "output_type": "stream",
     "text": [
      "3.45565625\n"
     ]
    },
    {
     "name": "stderr",
     "output_type": "stream",
     "text": [
      "100%|██████████| 2/2 [00:00<00:00,  3.16it/s]\n"
     ]
    },
    {
     "name": "stdout",
     "output_type": "stream",
     "text": [
      "0.001683605968952179\n"
     ]
    },
    {
     "name": "stderr",
     "output_type": "stream",
     "text": [
      "100%|██████████| 2/2 [00:00<00:00,  3.08it/s]\n"
     ]
    },
    {
     "name": "stdout",
     "output_type": "stream",
     "text": [
      "0.007805050134658814\n"
     ]
    },
    {
     "name": "stderr",
     "output_type": "stream",
     "text": [
      "100%|██████████| 2/2 [00:00<00:00,  3.07it/s]\n"
     ]
    },
    {
     "name": "stdout",
     "output_type": "stream",
     "text": [
      "0.1643656921386719\n"
     ]
    },
    {
     "name": "stderr",
     "output_type": "stream",
     "text": [
      "100%|██████████| 2/2 [00:00<00:00,  3.03it/s]\n"
     ]
    },
    {
     "name": "stdout",
     "output_type": "stream",
     "text": [
      "1.2002960815429689\n"
     ]
    },
    {
     "name": "stderr",
     "output_type": "stream",
     "text": [
      "100%|██████████| 2/2 [00:00<00:00,  3.04it/s]\n"
     ]
    },
    {
     "name": "stdout",
     "output_type": "stream",
     "text": [
      "3.5125032958984375\n"
     ]
    },
    {
     "name": "stderr",
     "output_type": "stream",
     "text": [
      "100%|██████████| 2/2 [00:00<00:00,  3.16it/s]\n"
     ]
    },
    {
     "name": "stdout",
     "output_type": "stream",
     "text": [
      "0.0024609756469726562\n"
     ]
    },
    {
     "name": "stderr",
     "output_type": "stream",
     "text": [
      "100%|██████████| 2/2 [00:00<00:00,  3.04it/s]\n"
     ]
    },
    {
     "name": "stdout",
     "output_type": "stream",
     "text": [
      "0.03416878175735474\n"
     ]
    },
    {
     "name": "stderr",
     "output_type": "stream",
     "text": [
      "100%|██████████| 2/2 [00:00<00:00,  2.94it/s]\n"
     ]
    },
    {
     "name": "stdout",
     "output_type": "stream",
     "text": [
      "0.26352304077148436\n"
     ]
    },
    {
     "name": "stderr",
     "output_type": "stream",
     "text": [
      "100%|██████████| 2/2 [00:00<00:00,  2.96it/s]\n"
     ]
    },
    {
     "name": "stdout",
     "output_type": "stream",
     "text": [
      "1.8970760498046875\n"
     ]
    },
    {
     "name": "stderr",
     "output_type": "stream",
     "text": [
      "100%|██████████| 2/2 [00:00<00:00,  3.15it/s]\n"
     ]
    },
    {
     "name": "stdout",
     "output_type": "stream",
     "text": [
      "4.975566162109375\n"
     ]
    },
    {
     "name": "stderr",
     "output_type": "stream",
     "text": [
      "100%|██████████| 2/2 [00:00<00:00,  3.17it/s]\n"
     ]
    },
    {
     "name": "stdout",
     "output_type": "stream",
     "text": [
      "0.0028954139947891234\n"
     ]
    },
    {
     "name": "stderr",
     "output_type": "stream",
     "text": [
      "100%|██████████| 2/2 [00:00<00:00,  3.06it/s]\n"
     ]
    },
    {
     "name": "stdout",
     "output_type": "stream",
     "text": [
      "0.02371995210647583\n"
     ]
    },
    {
     "name": "stderr",
     "output_type": "stream",
     "text": [
      "100%|██████████| 2/2 [00:00<00:00,  3.15it/s]\n"
     ]
    },
    {
     "name": "stdout",
     "output_type": "stream",
     "text": [
      "0.13596965408325196\n"
     ]
    },
    {
     "name": "stderr",
     "output_type": "stream",
     "text": [
      "100%|██████████| 2/2 [00:00<00:00,  3.12it/s]\n"
     ]
    },
    {
     "name": "stdout",
     "output_type": "stream",
     "text": [
      "0.8359931945800781\n"
     ]
    },
    {
     "name": "stderr",
     "output_type": "stream",
     "text": [
      "100%|██████████| 2/2 [00:00<00:00,  3.14it/s]\n"
     ]
    },
    {
     "name": "stdout",
     "output_type": "stream",
     "text": [
      "2.593693115234375\n"
     ]
    },
    {
     "name": "stderr",
     "output_type": "stream",
     "text": [
      "100%|██████████| 2/2 [00:00<00:00,  3.19it/s]\n"
     ]
    },
    {
     "name": "stdout",
     "output_type": "stream",
     "text": [
      "0.0025112303495407103\n"
     ]
    },
    {
     "name": "stderr",
     "output_type": "stream",
     "text": [
      "100%|██████████| 2/2 [00:00<00:00,  3.01it/s]\n"
     ]
    },
    {
     "name": "stdout",
     "output_type": "stream",
     "text": [
      "0.03982706642150879\n"
     ]
    },
    {
     "name": "stderr",
     "output_type": "stream",
     "text": [
      "100%|██████████| 2/2 [00:00<00:00,  2.99it/s]\n"
     ]
    },
    {
     "name": "stdout",
     "output_type": "stream",
     "text": [
      "0.8542296752929688\n"
     ]
    },
    {
     "name": "stderr",
     "output_type": "stream",
     "text": [
      "100%|██████████| 2/2 [00:00<00:00,  3.14it/s]\n"
     ]
    },
    {
     "name": "stdout",
     "output_type": "stream",
     "text": [
      "3.7323912353515625\n"
     ]
    },
    {
     "name": "stderr",
     "output_type": "stream",
     "text": [
      "100%|██████████| 2/2 [00:00<00:00,  2.88it/s]\n"
     ]
    },
    {
     "name": "stdout",
     "output_type": "stream",
     "text": [
      "6.969307861328125\n"
     ]
    },
    {
     "name": "stderr",
     "output_type": "stream",
     "text": [
      "100%|██████████| 2/2 [00:00<00:00,  2.97it/s]\n"
     ]
    },
    {
     "name": "stdout",
     "output_type": "stream",
     "text": [
      "0.0018911489844322205\n"
     ]
    },
    {
     "name": "stderr",
     "output_type": "stream",
     "text": [
      "100%|██████████| 2/2 [00:00<00:00,  2.99it/s]\n"
     ]
    },
    {
     "name": "stdout",
     "output_type": "stream",
     "text": [
      "0.04049717712402344\n"
     ]
    },
    {
     "name": "stderr",
     "output_type": "stream",
     "text": [
      "100%|██████████| 2/2 [00:00<00:00,  2.88it/s]\n"
     ]
    },
    {
     "name": "stdout",
     "output_type": "stream",
     "text": [
      "1.1669322814941405\n"
     ]
    },
    {
     "name": "stderr",
     "output_type": "stream",
     "text": [
      "100%|██████████| 2/2 [00:00<00:00,  2.91it/s]\n"
     ]
    },
    {
     "name": "stdout",
     "output_type": "stream",
     "text": [
      "4.57517236328125\n"
     ]
    },
    {
     "name": "stderr",
     "output_type": "stream",
     "text": [
      "100%|██████████| 2/2 [00:00<00:00,  2.86it/s]\n"
     ]
    },
    {
     "name": "stdout",
     "output_type": "stream",
     "text": [
      "8.05519873046875\n"
     ]
    },
    {
     "name": "stderr",
     "output_type": "stream",
     "text": [
      "100%|██████████| 2/2 [00:00<00:00,  3.04it/s]\n"
     ]
    },
    {
     "name": "stdout",
     "output_type": "stream",
     "text": [
      "0.0045089654922485355\n"
     ]
    },
    {
     "name": "stderr",
     "output_type": "stream",
     "text": [
      "100%|██████████| 2/2 [00:00<00:00,  2.93it/s]\n"
     ]
    },
    {
     "name": "stdout",
     "output_type": "stream",
     "text": [
      "0.028969961166381834\n"
     ]
    },
    {
     "name": "stderr",
     "output_type": "stream",
     "text": [
      "100%|██████████| 2/2 [00:00<00:00,  2.79it/s]\n"
     ]
    },
    {
     "name": "stdout",
     "output_type": "stream",
     "text": [
      "0.20514666748046875\n"
     ]
    },
    {
     "name": "stderr",
     "output_type": "stream",
     "text": [
      "100%|██████████| 2/2 [00:00<00:00,  2.89it/s]\n"
     ]
    },
    {
     "name": "stdout",
     "output_type": "stream",
     "text": [
      "1.39250341796875\n"
     ]
    },
    {
     "name": "stderr",
     "output_type": "stream",
     "text": [
      "100%|██████████| 2/2 [00:00<00:00,  2.96it/s]\n"
     ]
    },
    {
     "name": "stdout",
     "output_type": "stream",
     "text": [
      "3.5687967529296873\n"
     ]
    },
    {
     "name": "stderr",
     "output_type": "stream",
     "text": [
      "100%|██████████| 2/2 [00:00<00:00,  3.14it/s]\n"
     ]
    },
    {
     "name": "stdout",
     "output_type": "stream",
     "text": [
      "0.0018519643545150757\n"
     ]
    },
    {
     "name": "stderr",
     "output_type": "stream",
     "text": [
      "100%|██████████| 2/2 [00:00<00:00,  2.95it/s]\n"
     ]
    },
    {
     "name": "stdout",
     "output_type": "stream",
     "text": [
      "0.02806942844390869\n"
     ]
    },
    {
     "name": "stderr",
     "output_type": "stream",
     "text": [
      "100%|██████████| 2/2 [00:00<00:00,  3.04it/s]\n"
     ]
    },
    {
     "name": "stdout",
     "output_type": "stream",
     "text": [
      "0.5468533630371094\n"
     ]
    },
    {
     "name": "stderr",
     "output_type": "stream",
     "text": [
      "100%|██████████| 2/2 [00:00<00:00,  3.04it/s]\n"
     ]
    },
    {
     "name": "stdout",
     "output_type": "stream",
     "text": [
      "2.62084716796875\n"
     ]
    },
    {
     "name": "stderr",
     "output_type": "stream",
     "text": [
      "100%|██████████| 2/2 [00:00<00:00,  2.93it/s]\n"
     ]
    },
    {
     "name": "stdout",
     "output_type": "stream",
     "text": [
      "5.19920947265625\n"
     ]
    },
    {
     "name": "stderr",
     "output_type": "stream",
     "text": [
      "100%|██████████| 2/2 [00:00<00:00,  2.99it/s]\n"
     ]
    },
    {
     "name": "stdout",
     "output_type": "stream",
     "text": [
      "0.0019629478454589845\n"
     ]
    },
    {
     "name": "stderr",
     "output_type": "stream",
     "text": [
      "100%|██████████| 2/2 [00:00<00:00,  2.94it/s]\n"
     ]
    },
    {
     "name": "stdout",
     "output_type": "stream",
     "text": [
      "0.0435606632232666\n"
     ]
    },
    {
     "name": "stderr",
     "output_type": "stream",
     "text": [
      "100%|██████████| 2/2 [00:00<00:00,  2.89it/s]\n"
     ]
    },
    {
     "name": "stdout",
     "output_type": "stream",
     "text": [
      "0.5785155029296875\n"
     ]
    },
    {
     "name": "stderr",
     "output_type": "stream",
     "text": [
      "100%|██████████| 2/2 [00:00<00:00,  2.80it/s]\n"
     ]
    },
    {
     "name": "stdout",
     "output_type": "stream",
     "text": [
      "2.4129312744140625\n"
     ]
    },
    {
     "name": "stderr",
     "output_type": "stream",
     "text": [
      "100%|██████████| 2/2 [00:00<00:00,  2.75it/s]\n"
     ]
    },
    {
     "name": "stdout",
     "output_type": "stream",
     "text": [
      "4.806489990234375\n"
     ]
    },
    {
     "name": "stderr",
     "output_type": "stream",
     "text": [
      "100%|██████████| 2/2 [00:00<00:00,  2.95it/s]\n"
     ]
    },
    {
     "name": "stdout",
     "output_type": "stream",
     "text": [
      "0.0020535187721252442\n"
     ]
    },
    {
     "name": "stderr",
     "output_type": "stream",
     "text": [
      "100%|██████████| 2/2 [00:00<00:00,  2.83it/s]\n"
     ]
    },
    {
     "name": "stdout",
     "output_type": "stream",
     "text": [
      "0.0296248779296875\n"
     ]
    },
    {
     "name": "stderr",
     "output_type": "stream",
     "text": [
      "100%|██████████| 2/2 [00:00<00:00,  2.78it/s]\n"
     ]
    },
    {
     "name": "stdout",
     "output_type": "stream",
     "text": [
      "0.3656203918457031\n"
     ]
    },
    {
     "name": "stderr",
     "output_type": "stream",
     "text": [
      "100%|██████████| 2/2 [00:00<00:00,  2.82it/s]\n"
     ]
    },
    {
     "name": "stdout",
     "output_type": "stream",
     "text": [
      "2.1499915771484375\n"
     ]
    },
    {
     "name": "stderr",
     "output_type": "stream",
     "text": [
      "100%|██████████| 2/2 [00:00<00:00,  2.84it/s]\n"
     ]
    },
    {
     "name": "stdout",
     "output_type": "stream",
     "text": [
      "4.703607177734375\n"
     ]
    },
    {
     "name": "stderr",
     "output_type": "stream",
     "text": [
      "100%|██████████| 2/2 [00:00<00:00,  2.96it/s]\n"
     ]
    },
    {
     "name": "stdout",
     "output_type": "stream",
     "text": [
      "0.001645224928855896\n"
     ]
    },
    {
     "name": "stderr",
     "output_type": "stream",
     "text": [
      "100%|██████████| 2/2 [00:00<00:00,  2.99it/s]\n"
     ]
    },
    {
     "name": "stdout",
     "output_type": "stream",
     "text": [
      "0.02370148515701294\n"
     ]
    },
    {
     "name": "stderr",
     "output_type": "stream",
     "text": [
      "100%|██████████| 2/2 [00:00<00:00,  2.96it/s]\n"
     ]
    },
    {
     "name": "stdout",
     "output_type": "stream",
     "text": [
      "0.28053041076660157\n"
     ]
    },
    {
     "name": "stderr",
     "output_type": "stream",
     "text": [
      "100%|██████████| 2/2 [00:00<00:00,  2.74it/s]\n"
     ]
    },
    {
     "name": "stdout",
     "output_type": "stream",
     "text": [
      "1.5501270751953125\n"
     ]
    },
    {
     "name": "stderr",
     "output_type": "stream",
     "text": [
      "100%|██████████| 2/2 [00:00<00:00,  2.75it/s]\n"
     ]
    },
    {
     "name": "stdout",
     "output_type": "stream",
     "text": [
      "3.83155078125\n"
     ]
    },
    {
     "name": "stderr",
     "output_type": "stream",
     "text": [
      "100%|██████████| 2/2 [00:00<00:00,  3.00it/s]\n"
     ]
    },
    {
     "name": "stdout",
     "output_type": "stream",
     "text": [
      "0.002746005058288574\n"
     ]
    },
    {
     "name": "stderr",
     "output_type": "stream",
     "text": [
      "100%|██████████| 2/2 [00:00<00:00,  3.17it/s]\n"
     ]
    },
    {
     "name": "stdout",
     "output_type": "stream",
     "text": [
      "0.017351648330688477\n"
     ]
    },
    {
     "name": "stderr",
     "output_type": "stream",
     "text": [
      "100%|██████████| 2/2 [00:00<00:00,  2.94it/s]\n"
     ]
    },
    {
     "name": "stdout",
     "output_type": "stream",
     "text": [
      "0.23830186462402345\n"
     ]
    },
    {
     "name": "stderr",
     "output_type": "stream",
     "text": [
      "100%|██████████| 2/2 [00:00<00:00,  2.73it/s]\n"
     ]
    },
    {
     "name": "stdout",
     "output_type": "stream",
     "text": [
      "1.3702442626953124\n"
     ]
    },
    {
     "name": "stderr",
     "output_type": "stream",
     "text": [
      "100%|██████████| 2/2 [00:00<00:00,  2.72it/s]\n"
     ]
    },
    {
     "name": "stdout",
     "output_type": "stream",
     "text": [
      "3.6180025634765625\n"
     ]
    },
    {
     "name": "stderr",
     "output_type": "stream",
     "text": [
      "100%|██████████| 2/2 [00:00<00:00,  2.91it/s]\n"
     ]
    },
    {
     "name": "stdout",
     "output_type": "stream",
     "text": [
      "0.0026378464698791505\n"
     ]
    },
    {
     "name": "stderr",
     "output_type": "stream",
     "text": [
      "100%|██████████| 2/2 [00:00<00:00,  2.97it/s]\n"
     ]
    },
    {
     "name": "stdout",
     "output_type": "stream",
     "text": [
      "0.02459720802307129\n"
     ]
    },
    {
     "name": "stderr",
     "output_type": "stream",
     "text": [
      "100%|██████████| 2/2 [00:00<00:00,  2.81it/s]\n"
     ]
    },
    {
     "name": "stdout",
     "output_type": "stream",
     "text": [
      "0.33594947814941406\n"
     ]
    },
    {
     "name": "stderr",
     "output_type": "stream",
     "text": [
      "100%|██████████| 2/2 [00:00<00:00,  2.97it/s]\n"
     ]
    },
    {
     "name": "stdout",
     "output_type": "stream",
     "text": [
      "1.5569136962890624\n"
     ]
    },
    {
     "name": "stderr",
     "output_type": "stream",
     "text": [
      "100%|██████████| 2/2 [00:00<00:00,  2.74it/s]\n"
     ]
    },
    {
     "name": "stdout",
     "output_type": "stream",
     "text": [
      "3.5444036865234376\n"
     ]
    },
    {
     "name": "stderr",
     "output_type": "stream",
     "text": [
      "100%|██████████| 2/2 [00:00<00:00,  2.65it/s]\n"
     ]
    },
    {
     "name": "stdout",
     "output_type": "stream",
     "text": [
      "0.003764383435249329\n"
     ]
    },
    {
     "name": "stderr",
     "output_type": "stream",
     "text": [
      "100%|██████████| 2/2 [00:00<00:00,  2.55it/s]\n"
     ]
    },
    {
     "name": "stdout",
     "output_type": "stream",
     "text": [
      "0.03806774425506592\n"
     ]
    },
    {
     "name": "stderr",
     "output_type": "stream",
     "text": [
      "100%|██████████| 2/2 [00:00<00:00,  2.25it/s]\n"
     ]
    },
    {
     "name": "stdout",
     "output_type": "stream",
     "text": [
      "0.37617007446289064\n"
     ]
    },
    {
     "name": "stderr",
     "output_type": "stream",
     "text": [
      "100%|██████████| 2/2 [00:00<00:00,  2.47it/s]\n"
     ]
    },
    {
     "name": "stdout",
     "output_type": "stream",
     "text": [
      "2.4814281005859375\n"
     ]
    },
    {
     "name": "stderr",
     "output_type": "stream",
     "text": [
      "100%|██████████| 2/2 [00:00<00:00,  2.26it/s]\n"
     ]
    },
    {
     "name": "stdout",
     "output_type": "stream",
     "text": [
      "5.701682373046875\n"
     ]
    },
    {
     "name": "stderr",
     "output_type": "stream",
     "text": [
      "100%|██████████| 2/2 [00:00<00:00,  2.84it/s]\n"
     ]
    },
    {
     "name": "stdout",
     "output_type": "stream",
     "text": [
      "0.0023479795455932616\n"
     ]
    },
    {
     "name": "stderr",
     "output_type": "stream",
     "text": [
      "100%|██████████| 2/2 [00:00<00:00,  2.70it/s]\n"
     ]
    },
    {
     "name": "stdout",
     "output_type": "stream",
     "text": [
      "0.015207779407501221\n"
     ]
    },
    {
     "name": "stderr",
     "output_type": "stream",
     "text": [
      "100%|██████████| 2/2 [00:00<00:00,  2.67it/s]\n"
     ]
    },
    {
     "name": "stdout",
     "output_type": "stream",
     "text": [
      "0.12347148895263672\n"
     ]
    },
    {
     "name": "stderr",
     "output_type": "stream",
     "text": [
      "100%|██████████| 2/2 [00:00<00:00,  2.82it/s]\n"
     ]
    },
    {
     "name": "stdout",
     "output_type": "stream",
     "text": [
      "0.63950048828125\n"
     ]
    },
    {
     "name": "stderr",
     "output_type": "stream",
     "text": [
      "100%|██████████| 2/2 [00:00<00:00,  2.87it/s]\n"
     ]
    },
    {
     "name": "stdout",
     "output_type": "stream",
     "text": [
      "2.022070739746094\n"
     ]
    },
    {
     "name": "stderr",
     "output_type": "stream",
     "text": [
      "100%|██████████| 2/2 [00:00<00:00,  2.92it/s]\n"
     ]
    },
    {
     "name": "stdout",
     "output_type": "stream",
     "text": [
      "0.007597933292388916\n"
     ]
    },
    {
     "name": "stderr",
     "output_type": "stream",
     "text": [
      "100%|██████████| 2/2 [00:00<00:00,  2.46it/s]\n"
     ]
    },
    {
     "name": "stdout",
     "output_type": "stream",
     "text": [
      "0.03649641036987305\n"
     ]
    },
    {
     "name": "stderr",
     "output_type": "stream",
     "text": [
      "100%|██████████| 2/2 [00:00<00:00,  2.81it/s]\n"
     ]
    },
    {
     "name": "stdout",
     "output_type": "stream",
     "text": [
      "0.29294216918945315\n"
     ]
    },
    {
     "name": "stderr",
     "output_type": "stream",
     "text": [
      "100%|██████████| 2/2 [00:00<00:00,  2.96it/s]\n"
     ]
    },
    {
     "name": "stdout",
     "output_type": "stream",
     "text": [
      "1.6367199096679688\n"
     ]
    },
    {
     "name": "stderr",
     "output_type": "stream",
     "text": [
      "100%|██████████| 2/2 [00:00<00:00,  2.98it/s]\n"
     ]
    },
    {
     "name": "stdout",
     "output_type": "stream",
     "text": [
      "4.01141259765625\n"
     ]
    },
    {
     "name": "stderr",
     "output_type": "stream",
     "text": [
      "100%|██████████| 2/2 [00:00<00:00,  2.86it/s]\n"
     ]
    },
    {
     "name": "stdout",
     "output_type": "stream",
     "text": [
      "0.0037455695867538454\n"
     ]
    },
    {
     "name": "stderr",
     "output_type": "stream",
     "text": [
      "100%|██████████| 2/2 [00:00<00:00,  2.99it/s]\n"
     ]
    },
    {
     "name": "stdout",
     "output_type": "stream",
     "text": [
      "0.016723769664764403\n"
     ]
    },
    {
     "name": "stderr",
     "output_type": "stream",
     "text": [
      "100%|██████████| 2/2 [00:00<00:00,  2.96it/s]\n"
     ]
    },
    {
     "name": "stdout",
     "output_type": "stream",
     "text": [
      "0.13583401870727538\n"
     ]
    },
    {
     "name": "stderr",
     "output_type": "stream",
     "text": [
      "100%|██████████| 2/2 [00:00<00:00,  2.75it/s]\n"
     ]
    },
    {
     "name": "stdout",
     "output_type": "stream",
     "text": [
      "0.7717800903320312\n"
     ]
    },
    {
     "name": "stderr",
     "output_type": "stream",
     "text": [
      "100%|██████████| 2/2 [00:00<00:00,  2.79it/s]\n"
     ]
    },
    {
     "name": "stdout",
     "output_type": "stream",
     "text": [
      "2.477494873046875\n"
     ]
    },
    {
     "name": "stderr",
     "output_type": "stream",
     "text": [
      "100%|██████████| 2/2 [00:00<00:00,  3.07it/s]\n"
     ]
    },
    {
     "name": "stdout",
     "output_type": "stream",
     "text": [
      "0.004996772766113281\n"
     ]
    },
    {
     "name": "stderr",
     "output_type": "stream",
     "text": [
      "100%|██████████| 2/2 [00:00<00:00,  2.99it/s]\n"
     ]
    },
    {
     "name": "stdout",
     "output_type": "stream",
     "text": [
      "0.026491519927978515\n"
     ]
    },
    {
     "name": "stderr",
     "output_type": "stream",
     "text": [
      "100%|██████████| 2/2 [00:00<00:00,  2.79it/s]\n"
     ]
    },
    {
     "name": "stdout",
     "output_type": "stream",
     "text": [
      "0.23177590179443358\n"
     ]
    },
    {
     "name": "stderr",
     "output_type": "stream",
     "text": [
      "100%|██████████| 2/2 [00:00<00:00,  2.92it/s]\n"
     ]
    },
    {
     "name": "stdout",
     "output_type": "stream",
     "text": [
      "1.3669131469726563\n"
     ]
    },
    {
     "name": "stderr",
     "output_type": "stream",
     "text": [
      "100%|██████████| 2/2 [00:00<00:00,  2.95it/s]\n"
     ]
    },
    {
     "name": "stdout",
     "output_type": "stream",
     "text": [
      "3.74116943359375\n"
     ]
    },
    {
     "name": "stderr",
     "output_type": "stream",
     "text": [
      "100%|██████████| 2/2 [00:00<00:00,  3.08it/s]\n"
     ]
    },
    {
     "name": "stdout",
     "output_type": "stream",
     "text": [
      "0.0016976065039634705\n"
     ]
    },
    {
     "name": "stderr",
     "output_type": "stream",
     "text": [
      "100%|██████████| 2/2 [00:00<00:00,  3.00it/s]\n"
     ]
    },
    {
     "name": "stdout",
     "output_type": "stream",
     "text": [
      "0.019917221546173095\n"
     ]
    },
    {
     "name": "stderr",
     "output_type": "stream",
     "text": [
      "100%|██████████| 2/2 [00:00<00:00,  2.98it/s]\n"
     ]
    },
    {
     "name": "stdout",
     "output_type": "stream",
     "text": [
      "0.24736219787597657\n"
     ]
    },
    {
     "name": "stderr",
     "output_type": "stream",
     "text": [
      "100%|██████████| 2/2 [00:00<00:00,  3.01it/s]\n"
     ]
    },
    {
     "name": "stdout",
     "output_type": "stream",
     "text": [
      "1.7792063598632812\n"
     ]
    },
    {
     "name": "stderr",
     "output_type": "stream",
     "text": [
      "100%|██████████| 2/2 [00:00<00:00,  2.99it/s]\n"
     ]
    },
    {
     "name": "stdout",
     "output_type": "stream",
     "text": [
      "4.4394375\n"
     ]
    },
    {
     "name": "stderr",
     "output_type": "stream",
     "text": [
      "100%|██████████| 2/2 [00:00<00:00,  3.01it/s]\n"
     ]
    },
    {
     "name": "stdout",
     "output_type": "stream",
     "text": [
      "0.0020919797420501708\n"
     ]
    },
    {
     "name": "stderr",
     "output_type": "stream",
     "text": [
      "100%|██████████| 2/2 [00:00<00:00,  3.03it/s]\n"
     ]
    },
    {
     "name": "stdout",
     "output_type": "stream",
     "text": [
      "0.017340568542480467\n"
     ]
    },
    {
     "name": "stderr",
     "output_type": "stream",
     "text": [
      "100%|██████████| 2/2 [00:00<00:00,  2.93it/s]\n"
     ]
    },
    {
     "name": "stdout",
     "output_type": "stream",
     "text": [
      "0.26616226959228517\n"
     ]
    },
    {
     "name": "stderr",
     "output_type": "stream",
     "text": [
      "100%|██████████| 2/2 [00:00<00:00,  3.03it/s]\n"
     ]
    },
    {
     "name": "stdout",
     "output_type": "stream",
     "text": [
      "1.5968079223632812\n"
     ]
    },
    {
     "name": "stderr",
     "output_type": "stream",
     "text": [
      "100%|██████████| 2/2 [00:00<00:00,  2.94it/s]\n"
     ]
    },
    {
     "name": "stdout",
     "output_type": "stream",
     "text": [
      "3.882599609375\n"
     ]
    },
    {
     "name": "stderr",
     "output_type": "stream",
     "text": [
      "100%|██████████| 2/2 [00:00<00:00,  3.28it/s]\n"
     ]
    },
    {
     "name": "stdout",
     "output_type": "stream",
     "text": [
      "0.0019912809133529664\n"
     ]
    },
    {
     "name": "stderr",
     "output_type": "stream",
     "text": [
      "100%|██████████| 2/2 [00:00<00:00,  3.01it/s]\n"
     ]
    },
    {
     "name": "stdout",
     "output_type": "stream",
     "text": [
      "0.03051782703399658\n"
     ]
    },
    {
     "name": "stderr",
     "output_type": "stream",
     "text": [
      "100%|██████████| 2/2 [00:00<00:00,  2.95it/s]\n"
     ]
    },
    {
     "name": "stdout",
     "output_type": "stream",
     "text": [
      "0.5048724365234375\n"
     ]
    },
    {
     "name": "stderr",
     "output_type": "stream",
     "text": [
      "100%|██████████| 2/2 [00:00<00:00,  2.86it/s]\n"
     ]
    },
    {
     "name": "stdout",
     "output_type": "stream",
     "text": [
      "2.2182451171875\n"
     ]
    },
    {
     "name": "stderr",
     "output_type": "stream",
     "text": [
      "100%|██████████| 2/2 [00:00<00:00,  2.99it/s]\n"
     ]
    },
    {
     "name": "stdout",
     "output_type": "stream",
     "text": [
      "4.3110673828125\n"
     ]
    },
    {
     "name": "stderr",
     "output_type": "stream",
     "text": [
      "100%|██████████| 2/2 [00:00<00:00,  3.08it/s]\n"
     ]
    },
    {
     "name": "stdout",
     "output_type": "stream",
     "text": [
      "0.006525907874107361\n"
     ]
    },
    {
     "name": "stderr",
     "output_type": "stream",
     "text": [
      "100%|██████████| 2/2 [00:00<00:00,  3.00it/s]\n"
     ]
    },
    {
     "name": "stdout",
     "output_type": "stream",
     "text": [
      "0.028761309623718263\n"
     ]
    },
    {
     "name": "stderr",
     "output_type": "stream",
     "text": [
      "100%|██████████| 2/2 [00:00<00:00,  2.99it/s]\n"
     ]
    },
    {
     "name": "stdout",
     "output_type": "stream",
     "text": [
      "0.3531923370361328\n"
     ]
    },
    {
     "name": "stderr",
     "output_type": "stream",
     "text": [
      "100%|██████████| 2/2 [00:00<00:00,  2.71it/s]\n"
     ]
    },
    {
     "name": "stdout",
     "output_type": "stream",
     "text": [
      "1.9272119750976562\n"
     ]
    },
    {
     "name": "stderr",
     "output_type": "stream",
     "text": [
      "100%|██████████| 2/2 [00:00<00:00,  2.83it/s]\n"
     ]
    },
    {
     "name": "stdout",
     "output_type": "stream",
     "text": [
      "4.20029248046875\n"
     ]
    },
    {
     "name": "stderr",
     "output_type": "stream",
     "text": [
      "100%|██████████| 2/2 [00:00<00:00,  3.05it/s]\n"
     ]
    },
    {
     "name": "stdout",
     "output_type": "stream",
     "text": [
      "0.0036013132333755494\n"
     ]
    },
    {
     "name": "stderr",
     "output_type": "stream",
     "text": [
      "100%|██████████| 2/2 [00:00<00:00,  3.02it/s]\n"
     ]
    },
    {
     "name": "stdout",
     "output_type": "stream",
     "text": [
      "0.03712349128723145\n"
     ]
    },
    {
     "name": "stderr",
     "output_type": "stream",
     "text": [
      "100%|██████████| 2/2 [00:00<00:00,  2.98it/s]\n"
     ]
    },
    {
     "name": "stdout",
     "output_type": "stream",
     "text": [
      "0.3219458160400391\n"
     ]
    },
    {
     "name": "stderr",
     "output_type": "stream",
     "text": [
      "100%|██████████| 2/2 [00:00<00:00,  2.97it/s]\n"
     ]
    },
    {
     "name": "stdout",
     "output_type": "stream",
     "text": [
      "1.6768184814453124\n"
     ]
    },
    {
     "name": "stderr",
     "output_type": "stream",
     "text": [
      "100%|██████████| 2/2 [00:00<00:00,  2.91it/s]\n"
     ]
    },
    {
     "name": "stdout",
     "output_type": "stream",
     "text": [
      "4.0456845703125\n"
     ]
    },
    {
     "name": "stderr",
     "output_type": "stream",
     "text": [
      "100%|██████████| 2/2 [00:00<00:00,  3.07it/s]\n"
     ]
    },
    {
     "name": "stdout",
     "output_type": "stream",
     "text": [
      "0.0013744840621948242\n"
     ]
    },
    {
     "name": "stderr",
     "output_type": "stream",
     "text": [
      "100%|██████████| 2/2 [00:00<00:00,  3.02it/s]\n"
     ]
    },
    {
     "name": "stdout",
     "output_type": "stream",
     "text": [
      "0.019348501205444336\n"
     ]
    },
    {
     "name": "stderr",
     "output_type": "stream",
     "text": [
      "100%|██████████| 2/2 [00:00<00:00,  2.81it/s]\n"
     ]
    },
    {
     "name": "stdout",
     "output_type": "stream",
     "text": [
      "0.29674404907226565\n"
     ]
    },
    {
     "name": "stderr",
     "output_type": "stream",
     "text": [
      "100%|██████████| 2/2 [00:00<00:00,  2.81it/s]\n"
     ]
    },
    {
     "name": "stdout",
     "output_type": "stream",
     "text": [
      "1.8425444946289062\n"
     ]
    },
    {
     "name": "stderr",
     "output_type": "stream",
     "text": [
      "100%|██████████| 2/2 [00:00<00:00,  2.78it/s]\n"
     ]
    },
    {
     "name": "stdout",
     "output_type": "stream",
     "text": [
      "4.35703125\n"
     ]
    },
    {
     "name": "stderr",
     "output_type": "stream",
     "text": [
      "100%|██████████| 2/2 [00:00<00:00,  3.15it/s]\n"
     ]
    },
    {
     "name": "stdout",
     "output_type": "stream",
     "text": [
      "0.0022918498516082764\n"
     ]
    },
    {
     "name": "stderr",
     "output_type": "stream",
     "text": [
      "100%|██████████| 2/2 [00:00<00:00,  2.85it/s]\n"
     ]
    },
    {
     "name": "stdout",
     "output_type": "stream",
     "text": [
      "0.04215526580810547\n"
     ]
    },
    {
     "name": "stderr",
     "output_type": "stream",
     "text": [
      "100%|██████████| 2/2 [00:00<00:00,  2.84it/s]\n"
     ]
    },
    {
     "name": "stdout",
     "output_type": "stream",
     "text": [
      "0.7564337158203125\n"
     ]
    },
    {
     "name": "stderr",
     "output_type": "stream",
     "text": [
      "100%|██████████| 2/2 [00:00<00:00,  2.94it/s]\n"
     ]
    },
    {
     "name": "stdout",
     "output_type": "stream",
     "text": [
      "3.430338134765625\n"
     ]
    },
    {
     "name": "stderr",
     "output_type": "stream",
     "text": [
      "100%|██████████| 2/2 [00:00<00:00,  3.06it/s]\n"
     ]
    },
    {
     "name": "stdout",
     "output_type": "stream",
     "text": [
      "6.27459912109375\n"
     ]
    },
    {
     "name": "stderr",
     "output_type": "stream",
     "text": [
      "100%|██████████| 2/2 [00:00<00:00,  3.13it/s]\n"
     ]
    },
    {
     "name": "stdout",
     "output_type": "stream",
     "text": [
      "0.0022333909273147584\n"
     ]
    },
    {
     "name": "stderr",
     "output_type": "stream",
     "text": [
      "100%|██████████| 2/2 [00:00<00:00,  2.90it/s]\n"
     ]
    },
    {
     "name": "stdout",
     "output_type": "stream",
     "text": [
      "0.014999250411987304\n"
     ]
    },
    {
     "name": "stderr",
     "output_type": "stream",
     "text": [
      "100%|██████████| 2/2 [00:00<00:00,  3.01it/s]\n"
     ]
    },
    {
     "name": "stdout",
     "output_type": "stream",
     "text": [
      "0.25745809173583983\n"
     ]
    },
    {
     "name": "stderr",
     "output_type": "stream",
     "text": [
      "100%|██████████| 2/2 [00:00<00:00,  2.94it/s]\n"
     ]
    },
    {
     "name": "stdout",
     "output_type": "stream",
     "text": [
      "1.37332177734375\n"
     ]
    },
    {
     "name": "stderr",
     "output_type": "stream",
     "text": [
      "100%|██████████| 2/2 [00:00<00:00,  2.87it/s]\n"
     ]
    },
    {
     "name": "stdout",
     "output_type": "stream",
     "text": [
      "3.33344775390625\n"
     ]
    },
    {
     "name": "stderr",
     "output_type": "stream",
     "text": [
      "100%|██████████| 2/2 [00:00<00:00,  3.18it/s]\n"
     ]
    },
    {
     "name": "stdout",
     "output_type": "stream",
     "text": [
      "0.0014082950353622437\n"
     ]
    },
    {
     "name": "stderr",
     "output_type": "stream",
     "text": [
      "100%|██████████| 2/2 [00:00<00:00,  3.08it/s]\n"
     ]
    },
    {
     "name": "stdout",
     "output_type": "stream",
     "text": [
      "0.02218348217010498\n"
     ]
    },
    {
     "name": "stderr",
     "output_type": "stream",
     "text": [
      "100%|██████████| 2/2 [00:00<00:00,  2.88it/s]\n"
     ]
    },
    {
     "name": "stdout",
     "output_type": "stream",
     "text": [
      "0.5761117248535156\n"
     ]
    },
    {
     "name": "stderr",
     "output_type": "stream",
     "text": [
      "100%|██████████| 2/2 [00:00<00:00,  2.95it/s]\n"
     ]
    },
    {
     "name": "stdout",
     "output_type": "stream",
     "text": [
      "3.266643798828125\n"
     ]
    },
    {
     "name": "stderr",
     "output_type": "stream",
     "text": [
      "100%|██████████| 2/2 [00:00<00:00,  3.02it/s]\n"
     ]
    },
    {
     "name": "stdout",
     "output_type": "stream",
     "text": [
      "6.55427734375\n"
     ]
    },
    {
     "name": "stderr",
     "output_type": "stream",
     "text": [
      "100%|██████████| 2/2 [00:00<00:00,  2.95it/s]\n"
     ]
    },
    {
     "name": "stdout",
     "output_type": "stream",
     "text": [
      "0.0014320252537727356\n"
     ]
    },
    {
     "name": "stderr",
     "output_type": "stream",
     "text": [
      "100%|██████████| 2/2 [00:00<00:00,  3.00it/s]\n"
     ]
    },
    {
     "name": "stdout",
     "output_type": "stream",
     "text": [
      "0.015211761951446533\n"
     ]
    },
    {
     "name": "stderr",
     "output_type": "stream",
     "text": [
      "100%|██████████| 2/2 [00:00<00:00,  2.96it/s]\n"
     ]
    },
    {
     "name": "stdout",
     "output_type": "stream",
     "text": [
      "0.27080889129638674\n"
     ]
    },
    {
     "name": "stderr",
     "output_type": "stream",
     "text": [
      "100%|██████████| 2/2 [00:00<00:00,  3.02it/s]\n"
     ]
    },
    {
     "name": "stdout",
     "output_type": "stream",
     "text": [
      "1.4498388671875\n"
     ]
    },
    {
     "name": "stderr",
     "output_type": "stream",
     "text": [
      "100%|██████████| 2/2 [00:00<00:00,  2.88it/s]\n"
     ]
    },
    {
     "name": "stdout",
     "output_type": "stream",
     "text": [
      "3.270430419921875\n"
     ]
    },
    {
     "name": "stderr",
     "output_type": "stream",
     "text": [
      "100%|██████████| 2/2 [00:00<00:00,  3.07it/s]\n"
     ]
    },
    {
     "name": "stdout",
     "output_type": "stream",
     "text": [
      "0.002093725323677063\n"
     ]
    },
    {
     "name": "stderr",
     "output_type": "stream",
     "text": [
      "100%|██████████| 2/2 [00:00<00:00,  3.06it/s]\n"
     ]
    },
    {
     "name": "stdout",
     "output_type": "stream",
     "text": [
      "0.01624217176437378\n"
     ]
    },
    {
     "name": "stderr",
     "output_type": "stream",
     "text": [
      "100%|██████████| 2/2 [00:00<00:00,  2.73it/s]\n"
     ]
    },
    {
     "name": "stdout",
     "output_type": "stream",
     "text": [
      "0.23881553649902343\n"
     ]
    },
    {
     "name": "stderr",
     "output_type": "stream",
     "text": [
      "100%|██████████| 2/2 [00:00<00:00,  2.89it/s]\n"
     ]
    },
    {
     "name": "stdout",
     "output_type": "stream",
     "text": [
      "1.64681103515625\n"
     ]
    },
    {
     "name": "stderr",
     "output_type": "stream",
     "text": [
      "100%|██████████| 2/2 [00:00<00:00,  2.88it/s]\n"
     ]
    },
    {
     "name": "stdout",
     "output_type": "stream",
     "text": [
      "4.038966796875\n"
     ]
    },
    {
     "name": "stderr",
     "output_type": "stream",
     "text": [
      "100%|██████████| 2/2 [00:00<00:00,  3.10it/s]\n"
     ]
    },
    {
     "name": "stdout",
     "output_type": "stream",
     "text": [
      "0.001985010743141174\n"
     ]
    },
    {
     "name": "stderr",
     "output_type": "stream",
     "text": [
      "100%|██████████| 2/2 [00:00<00:00,  3.10it/s]\n"
     ]
    },
    {
     "name": "stdout",
     "output_type": "stream",
     "text": [
      "0.009339736461639405\n"
     ]
    },
    {
     "name": "stderr",
     "output_type": "stream",
     "text": [
      "100%|██████████| 2/2 [00:00<00:00,  2.99it/s]\n"
     ]
    },
    {
     "name": "stdout",
     "output_type": "stream",
     "text": [
      "0.12894314193725587\n"
     ]
    },
    {
     "name": "stderr",
     "output_type": "stream",
     "text": [
      "100%|██████████| 2/2 [00:00<00:00,  2.96it/s]\n"
     ]
    },
    {
     "name": "stdout",
     "output_type": "stream",
     "text": [
      "0.8015431518554688\n"
     ]
    },
    {
     "name": "stderr",
     "output_type": "stream",
     "text": [
      "100%|██████████| 2/2 [00:00<00:00,  3.05it/s]\n"
     ]
    },
    {
     "name": "stdout",
     "output_type": "stream",
     "text": [
      "2.51594482421875\n"
     ]
    },
    {
     "name": "stderr",
     "output_type": "stream",
     "text": [
      "100%|██████████| 2/2 [00:00<00:00,  3.17it/s]\n"
     ]
    },
    {
     "name": "stdout",
     "output_type": "stream",
     "text": [
      "0.0018528990745544434\n"
     ]
    },
    {
     "name": "stderr",
     "output_type": "stream",
     "text": [
      "100%|██████████| 2/2 [00:00<00:00,  3.09it/s]\n"
     ]
    },
    {
     "name": "stdout",
     "output_type": "stream",
     "text": [
      "0.021291850090026855\n"
     ]
    },
    {
     "name": "stderr",
     "output_type": "stream",
     "text": [
      "100%|██████████| 2/2 [00:00<00:00,  2.98it/s]\n"
     ]
    },
    {
     "name": "stdout",
     "output_type": "stream",
     "text": [
      "0.3925179138183594\n"
     ]
    },
    {
     "name": "stderr",
     "output_type": "stream",
     "text": [
      "100%|██████████| 2/2 [00:00<00:00,  3.08it/s]\n"
     ]
    },
    {
     "name": "stdout",
     "output_type": "stream",
     "text": [
      "2.172835388183594\n"
     ]
    },
    {
     "name": "stderr",
     "output_type": "stream",
     "text": [
      "100%|██████████| 2/2 [00:00<00:00,  2.91it/s]\n"
     ]
    },
    {
     "name": "stdout",
     "output_type": "stream",
     "text": [
      "4.603350341796875\n"
     ]
    },
    {
     "name": "stderr",
     "output_type": "stream",
     "text": [
      "100%|██████████| 2/2 [00:00<00:00,  3.08it/s]\n"
     ]
    },
    {
     "name": "stdout",
     "output_type": "stream",
     "text": [
      "0.0019441431760787965\n"
     ]
    },
    {
     "name": "stderr",
     "output_type": "stream",
     "text": [
      "100%|██████████| 2/2 [00:00<00:00,  2.97it/s]\n"
     ]
    },
    {
     "name": "stdout",
     "output_type": "stream",
     "text": [
      "0.013315210103988647\n"
     ]
    },
    {
     "name": "stderr",
     "output_type": "stream",
     "text": [
      "100%|██████████| 2/2 [00:00<00:00,  2.95it/s]\n"
     ]
    },
    {
     "name": "stdout",
     "output_type": "stream",
     "text": [
      "0.24954557800292967\n"
     ]
    },
    {
     "name": "stderr",
     "output_type": "stream",
     "text": [
      "100%|██████████| 2/2 [00:00<00:00,  2.98it/s]\n"
     ]
    },
    {
     "name": "stdout",
     "output_type": "stream",
     "text": [
      "1.9625639038085938\n"
     ]
    },
    {
     "name": "stderr",
     "output_type": "stream",
     "text": [
      "100%|██████████| 2/2 [00:00<00:00,  3.07it/s]\n"
     ]
    },
    {
     "name": "stdout",
     "output_type": "stream",
     "text": [
      "4.601021728515625\n"
     ]
    },
    {
     "name": "stderr",
     "output_type": "stream",
     "text": [
      "100%|██████████| 2/2 [00:00<00:00,  3.10it/s]\n"
     ]
    },
    {
     "name": "stdout",
     "output_type": "stream",
     "text": [
      "0.0019007964134216309\n"
     ]
    },
    {
     "name": "stderr",
     "output_type": "stream",
     "text": [
      "100%|██████████| 2/2 [00:00<00:00,  3.02it/s]\n"
     ]
    },
    {
     "name": "stdout",
     "output_type": "stream",
     "text": [
      "0.023829150199890136\n"
     ]
    },
    {
     "name": "stderr",
     "output_type": "stream",
     "text": [
      "100%|██████████| 2/2 [00:00<00:00,  3.03it/s]\n"
     ]
    },
    {
     "name": "stdout",
     "output_type": "stream",
     "text": [
      "0.38563426208496093\n"
     ]
    },
    {
     "name": "stderr",
     "output_type": "stream",
     "text": [
      "100%|██████████| 2/2 [00:00<00:00,  3.11it/s]\n"
     ]
    },
    {
     "name": "stdout",
     "output_type": "stream",
     "text": [
      "1.9970065307617189\n"
     ]
    },
    {
     "name": "stderr",
     "output_type": "stream",
     "text": [
      "100%|██████████| 2/2 [00:00<00:00,  2.94it/s]\n"
     ]
    },
    {
     "name": "stdout",
     "output_type": "stream",
     "text": [
      "4.211510009765625\n"
     ]
    },
    {
     "name": "stderr",
     "output_type": "stream",
     "text": [
      "100%|██████████| 2/2 [00:00<00:00,  3.13it/s]\n"
     ]
    },
    {
     "name": "stdout",
     "output_type": "stream",
     "text": [
      "0.002275265097618103\n"
     ]
    },
    {
     "name": "stderr",
     "output_type": "stream",
     "text": [
      "100%|██████████| 2/2 [00:00<00:00,  2.96it/s]\n"
     ]
    },
    {
     "name": "stdout",
     "output_type": "stream",
     "text": [
      "0.02765610218048096\n"
     ]
    },
    {
     "name": "stderr",
     "output_type": "stream",
     "text": [
      "100%|██████████| 2/2 [00:00<00:00,  3.00it/s]\n"
     ]
    },
    {
     "name": "stdout",
     "output_type": "stream",
     "text": [
      "0.3132019958496094\n"
     ]
    },
    {
     "name": "stderr",
     "output_type": "stream",
     "text": [
      "100%|██████████| 2/2 [00:00<00:00,  3.02it/s]\n"
     ]
    },
    {
     "name": "stdout",
     "output_type": "stream",
     "text": [
      "1.6980859985351562\n"
     ]
    },
    {
     "name": "stderr",
     "output_type": "stream",
     "text": [
      "100%|██████████| 2/2 [00:00<00:00,  3.10it/s]\n"
     ]
    },
    {
     "name": "stdout",
     "output_type": "stream",
     "text": [
      "4.067100341796875\n"
     ]
    },
    {
     "name": "stderr",
     "output_type": "stream",
     "text": [
      "100%|██████████| 2/2 [00:00<00:00,  3.40it/s]\n"
     ]
    },
    {
     "name": "stdout",
     "output_type": "stream",
     "text": [
      "0.002490869641304016\n"
     ]
    },
    {
     "name": "stderr",
     "output_type": "stream",
     "text": [
      "100%|██████████| 2/2 [00:00<00:00,  2.98it/s]\n"
     ]
    },
    {
     "name": "stdout",
     "output_type": "stream",
     "text": [
      "0.016510942935943605\n"
     ]
    },
    {
     "name": "stderr",
     "output_type": "stream",
     "text": [
      "100%|██████████| 2/2 [00:00<00:00,  2.96it/s]\n"
     ]
    },
    {
     "name": "stdout",
     "output_type": "stream",
     "text": [
      "0.1751732940673828\n"
     ]
    },
    {
     "name": "stderr",
     "output_type": "stream",
     "text": [
      "100%|██████████| 2/2 [00:00<00:00,  3.08it/s]\n"
     ]
    },
    {
     "name": "stdout",
     "output_type": "stream",
     "text": [
      "1.1116427001953124\n"
     ]
    },
    {
     "name": "stderr",
     "output_type": "stream",
     "text": [
      "100%|██████████| 2/2 [00:00<00:00,  3.02it/s]\n"
     ]
    },
    {
     "name": "stdout",
     "output_type": "stream",
     "text": [
      "3.0248099365234373\n"
     ]
    },
    {
     "name": "stderr",
     "output_type": "stream",
     "text": [
      "100%|██████████| 2/2 [00:00<00:00,  3.03it/s]\n"
     ]
    },
    {
     "name": "stdout",
     "output_type": "stream",
     "text": [
      "0.002062955617904663\n"
     ]
    },
    {
     "name": "stderr",
     "output_type": "stream",
     "text": [
      "100%|██████████| 2/2 [00:00<00:00,  3.10it/s]\n"
     ]
    },
    {
     "name": "stdout",
     "output_type": "stream",
     "text": [
      "0.03182649803161621\n"
     ]
    },
    {
     "name": "stderr",
     "output_type": "stream",
     "text": [
      "100%|██████████| 2/2 [00:00<00:00,  2.70it/s]\n"
     ]
    },
    {
     "name": "stdout",
     "output_type": "stream",
     "text": [
      "0.5530645446777344\n"
     ]
    },
    {
     "name": "stderr",
     "output_type": "stream",
     "text": [
      "100%|██████████| 2/2 [00:00<00:00,  3.07it/s]\n"
     ]
    },
    {
     "name": "stdout",
     "output_type": "stream",
     "text": [
      "2.84745361328125\n"
     ]
    },
    {
     "name": "stderr",
     "output_type": "stream",
     "text": [
      "100%|██████████| 2/2 [00:00<00:00,  2.86it/s]\n"
     ]
    },
    {
     "name": "stdout",
     "output_type": "stream",
     "text": [
      "5.9326328125\n"
     ]
    },
    {
     "name": "stderr",
     "output_type": "stream",
     "text": [
      "100%|██████████| 2/2 [00:00<00:00,  3.06it/s]\n"
     ]
    },
    {
     "name": "stdout",
     "output_type": "stream",
     "text": [
      "0.002228115975856781\n"
     ]
    },
    {
     "name": "stderr",
     "output_type": "stream",
     "text": [
      "100%|██████████| 2/2 [00:00<00:00,  2.48it/s]\n"
     ]
    },
    {
     "name": "stdout",
     "output_type": "stream",
     "text": [
      "0.029417789459228516\n"
     ]
    },
    {
     "name": "stderr",
     "output_type": "stream",
     "text": [
      "100%|██████████| 2/2 [00:00<00:00,  2.89it/s]\n"
     ]
    },
    {
     "name": "stdout",
     "output_type": "stream",
     "text": [
      "0.38427345275878905\n"
     ]
    },
    {
     "name": "stderr",
     "output_type": "stream",
     "text": [
      "100%|██████████| 2/2 [00:00<00:00,  2.87it/s]\n"
     ]
    },
    {
     "name": "stdout",
     "output_type": "stream",
     "text": [
      "1.9589203491210938\n"
     ]
    },
    {
     "name": "stderr",
     "output_type": "stream",
     "text": [
      "100%|██████████| 2/2 [00:00<00:00,  3.06it/s]\n"
     ]
    },
    {
     "name": "stdout",
     "output_type": "stream",
     "text": [
      "4.24998583984375\n"
     ]
    },
    {
     "name": "stderr",
     "output_type": "stream",
     "text": [
      "100%|██████████| 2/2 [00:00<00:00,  3.08it/s]\n"
     ]
    },
    {
     "name": "stdout",
     "output_type": "stream",
     "text": [
      "0.002759176731109619\n"
     ]
    },
    {
     "name": "stderr",
     "output_type": "stream",
     "text": [
      "100%|██████████| 2/2 [00:00<00:00,  2.86it/s]\n"
     ]
    },
    {
     "name": "stdout",
     "output_type": "stream",
     "text": [
      "0.034367671966552736\n"
     ]
    },
    {
     "name": "stderr",
     "output_type": "stream",
     "text": [
      "100%|██████████| 2/2 [00:00<00:00,  2.88it/s]\n"
     ]
    },
    {
     "name": "stdout",
     "output_type": "stream",
     "text": [
      "0.38151197814941407\n"
     ]
    },
    {
     "name": "stderr",
     "output_type": "stream",
     "text": [
      "100%|██████████| 2/2 [00:00<00:00,  2.87it/s]\n"
     ]
    },
    {
     "name": "stdout",
     "output_type": "stream",
     "text": [
      "1.6211870727539062\n"
     ]
    },
    {
     "name": "stderr",
     "output_type": "stream",
     "text": [
      "100%|██████████| 2/2 [00:00<00:00,  2.88it/s]\n"
     ]
    },
    {
     "name": "stdout",
     "output_type": "stream",
     "text": [
      "3.76638818359375\n"
     ]
    },
    {
     "name": "stderr",
     "output_type": "stream",
     "text": [
      "100%|██████████| 2/2 [00:00<00:00,  2.95it/s]\n"
     ]
    },
    {
     "name": "stdout",
     "output_type": "stream",
     "text": [
      "0.004253639936447144\n"
     ]
    },
    {
     "name": "stderr",
     "output_type": "stream",
     "text": [
      "100%|██████████| 2/2 [00:00<00:00,  2.99it/s]\n"
     ]
    },
    {
     "name": "stdout",
     "output_type": "stream",
     "text": [
      "0.013027925491333008\n"
     ]
    },
    {
     "name": "stderr",
     "output_type": "stream",
     "text": [
      "100%|██████████| 2/2 [00:00<00:00,  2.95it/s]\n"
     ]
    },
    {
     "name": "stdout",
     "output_type": "stream",
     "text": [
      "0.1389824752807617\n"
     ]
    },
    {
     "name": "stderr",
     "output_type": "stream",
     "text": [
      "100%|██████████| 2/2 [00:00<00:00,  3.04it/s]\n"
     ]
    },
    {
     "name": "stdout",
     "output_type": "stream",
     "text": [
      "1.1188594360351563\n"
     ]
    },
    {
     "name": "stderr",
     "output_type": "stream",
     "text": [
      "100%|██████████| 2/2 [00:00<00:00,  2.84it/s]\n"
     ]
    },
    {
     "name": "stdout",
     "output_type": "stream",
     "text": [
      "3.2708465576171877\n"
     ]
    },
    {
     "name": "stderr",
     "output_type": "stream",
     "text": [
      "100%|██████████| 2/2 [00:00<00:00,  3.10it/s]\n"
     ]
    },
    {
     "name": "stdout",
     "output_type": "stream",
     "text": [
      "0.0023946541547775267\n"
     ]
    },
    {
     "name": "stderr",
     "output_type": "stream",
     "text": [
      "100%|██████████| 2/2 [00:00<00:00,  2.72it/s]\n"
     ]
    },
    {
     "name": "stdout",
     "output_type": "stream",
     "text": [
      "0.03708450698852539\n"
     ]
    },
    {
     "name": "stderr",
     "output_type": "stream",
     "text": [
      "100%|██████████| 2/2 [00:00<00:00,  2.63it/s]\n"
     ]
    },
    {
     "name": "stdout",
     "output_type": "stream",
     "text": [
      "0.5394561157226563\n"
     ]
    },
    {
     "name": "stderr",
     "output_type": "stream",
     "text": [
      "100%|██████████| 2/2 [00:00<00:00,  2.75it/s]\n"
     ]
    },
    {
     "name": "stdout",
     "output_type": "stream",
     "text": [
      "2.3159244384765625\n"
     ]
    },
    {
     "name": "stderr",
     "output_type": "stream",
     "text": [
      "100%|██████████| 2/2 [00:00<00:00,  2.75it/s]\n"
     ]
    },
    {
     "name": "stdout",
     "output_type": "stream",
     "text": [
      "4.958746826171875\n"
     ]
    },
    {
     "name": "stderr",
     "output_type": "stream",
     "text": [
      "100%|██████████| 2/2 [00:00<00:00,  2.80it/s]\n"
     ]
    },
    {
     "name": "stdout",
     "output_type": "stream",
     "text": [
      "0.0014395386576652527\n"
     ]
    },
    {
     "name": "stderr",
     "output_type": "stream",
     "text": [
      "100%|██████████| 2/2 [00:00<00:00,  2.79it/s]\n"
     ]
    },
    {
     "name": "stdout",
     "output_type": "stream",
     "text": [
      "0.011189432621002197\n"
     ]
    },
    {
     "name": "stderr",
     "output_type": "stream",
     "text": [
      "100%|██████████| 2/2 [00:00<00:00,  2.78it/s]\n"
     ]
    },
    {
     "name": "stdout",
     "output_type": "stream",
     "text": [
      "0.2455276184082031\n"
     ]
    },
    {
     "name": "stderr",
     "output_type": "stream",
     "text": [
      "100%|██████████| 2/2 [00:00<00:00,  2.90it/s]\n"
     ]
    },
    {
     "name": "stdout",
     "output_type": "stream",
     "text": [
      "1.529680419921875\n"
     ]
    },
    {
     "name": "stderr",
     "output_type": "stream",
     "text": [
      "100%|██████████| 2/2 [00:00<00:00,  2.68it/s]\n"
     ]
    },
    {
     "name": "stdout",
     "output_type": "stream",
     "text": [
      "3.859117919921875\n"
     ]
    },
    {
     "name": "stderr",
     "output_type": "stream",
     "text": [
      "100%|██████████| 2/2 [00:00<00:00,  3.13it/s]\n"
     ]
    },
    {
     "name": "stdout",
     "output_type": "stream",
     "text": [
      "0.0014470110535621643\n"
     ]
    },
    {
     "name": "stderr",
     "output_type": "stream",
     "text": [
      "100%|██████████| 2/2 [00:00<00:00,  3.10it/s]\n"
     ]
    },
    {
     "name": "stdout",
     "output_type": "stream",
     "text": [
      "0.02868303108215332\n"
     ]
    },
    {
     "name": "stderr",
     "output_type": "stream",
     "text": [
      "100%|██████████| 2/2 [00:00<00:00,  3.09it/s]\n"
     ]
    },
    {
     "name": "stdout",
     "output_type": "stream",
     "text": [
      "0.6404333190917969\n"
     ]
    },
    {
     "name": "stderr",
     "output_type": "stream",
     "text": [
      "100%|██████████| 2/2 [00:00<00:00,  3.12it/s]\n"
     ]
    },
    {
     "name": "stdout",
     "output_type": "stream",
     "text": [
      "3.83387890625\n"
     ]
    },
    {
     "name": "stderr",
     "output_type": "stream",
     "text": [
      "100%|██████████| 2/2 [00:00<00:00,  3.11it/s]\n"
     ]
    },
    {
     "name": "stdout",
     "output_type": "stream",
     "text": [
      "7.615052490234375\n"
     ]
    },
    {
     "name": "stderr",
     "output_type": "stream",
     "text": [
      "100%|██████████| 2/2 [00:00<00:00,  3.17it/s]\n"
     ]
    },
    {
     "name": "stdout",
     "output_type": "stream",
     "text": [
      "0.008623627305030824\n"
     ]
    },
    {
     "name": "stderr",
     "output_type": "stream",
     "text": [
      "100%|██████████| 2/2 [00:00<00:00,  3.14it/s]\n"
     ]
    },
    {
     "name": "stdout",
     "output_type": "stream",
     "text": [
      "0.027620491027832032\n"
     ]
    },
    {
     "name": "stderr",
     "output_type": "stream",
     "text": [
      "100%|██████████| 2/2 [00:00<00:00,  3.11it/s]\n"
     ]
    },
    {
     "name": "stdout",
     "output_type": "stream",
     "text": [
      "0.28749224853515626\n"
     ]
    },
    {
     "name": "stderr",
     "output_type": "stream",
     "text": [
      "100%|██████████| 2/2 [00:00<00:00,  2.92it/s]\n"
     ]
    },
    {
     "name": "stdout",
     "output_type": "stream",
     "text": [
      "1.57789990234375\n"
     ]
    },
    {
     "name": "stderr",
     "output_type": "stream",
     "text": [
      "100%|██████████| 2/2 [00:00<00:00,  2.79it/s]\n"
     ]
    },
    {
     "name": "stdout",
     "output_type": "stream",
     "text": [
      "3.6540731201171877\n"
     ]
    }
   ],
   "source": [
    "train_loaders, test_dataloaders, test_dataloader_all = load_cifar100()\n",
    "all_totals = list()\n",
    "for i in range(100):\n",
    "    all_totals.append(attack(train_loaders[i], [\n",
    "                      \"layer3[0].conv2\", \"layer3[1].conv2\", \"layer3[5].conv2\"], load_cifar100_resnet50, alpha=0.0001))\n"
   ]
  },
  {
   "cell_type": "code",
   "execution_count": 6,
   "metadata": {},
   "outputs": [
    {
     "data": {
      "text/plain": [
       "[{'layer3[0].conv2': array([[[[ 3.62769254e-02,  4.12382334e-02,  3.34943086e-02],\n",
       "           [ 5.23275658e-02,  5.13777919e-02,  4.32103351e-02],\n",
       "           [ 2.95602214e-02,  3.62053029e-02,  3.73052694e-02]],\n",
       "  \n",
       "          [[ 1.15797222e-02,  2.81663984e-03,  7.71191623e-03],\n",
       "           [ 1.13691194e-02,  8.90747830e-03,  2.65709646e-02],\n",
       "           [ 1.98247675e-02,  3.03863678e-02,  4.87300344e-02]],\n",
       "  \n",
       "          [[ 9.19141341e-03,  5.80929685e-03,  6.61946880e-03],\n",
       "           [ 1.01074874e-02,  6.38099760e-03,  7.92755187e-03],\n",
       "           [ 1.00167748e-02,  1.88687313e-02,  2.18746811e-02]],\n",
       "  \n",
       "          ...,\n",
       "  \n",
       "          [[ 8.07200209e-04,  2.26998629e-04, -2.56352105e-05],\n",
       "           [ 1.74963544e-03,  1.06185884e-03,  8.15076870e-04],\n",
       "           [ 2.21354188e-03,  1.72713224e-03,  9.05235880e-04]],\n",
       "  \n",
       "          [[ 1.24635091e-02,  7.78935850e-03,  8.75623990e-03],\n",
       "           [ 2.24809125e-02,  1.77765433e-02,  1.25280004e-02],\n",
       "           [ 2.05659997e-02,  2.13544779e-02,  1.41761918e-02]],\n",
       "  \n",
       "          [[ 7.28237480e-02,  7.36903623e-02,  8.00976232e-02],\n",
       "           [ 7.66899139e-02,  8.32737312e-02,  9.21095908e-02],\n",
       "           [ 6.89873323e-02,  7.24642649e-02,  7.95737803e-02]]],\n",
       "  \n",
       "  \n",
       "         [[[ 2.23403312e-02,  2.71120034e-02,  1.97943207e-03],\n",
       "           [ 1.47857117e-02,  5.52091841e-03,  4.01702002e-02],\n",
       "           [ 7.34518422e-03,  1.82763580e-02,  5.45379557e-02]],\n",
       "  \n",
       "          [[ 4.58446965e-02,  1.18929828e-02,  2.15035118e-02],\n",
       "           [ 2.25189775e-02,  6.30622208e-02,  5.05178869e-02],\n",
       "           [ 4.68550324e-02,  5.55795692e-02,  3.65239419e-02]],\n",
       "  \n",
       "          [[ 4.50541899e-02,  2.27405000e-02,  4.90730861e-03],\n",
       "           [ 1.17392400e-02,  3.30987051e-02,  6.70142546e-02],\n",
       "           [ 1.41670397e-02,  5.61648346e-02,  7.80547857e-02]],\n",
       "  \n",
       "          ...,\n",
       "  \n",
       "          [[ 4.38419636e-03,  2.09001941e-03,  6.87050924e-04],\n",
       "           [ 2.30514142e-03,  1.45895919e-03,  1.92175782e-03],\n",
       "           [ 9.99373617e-04,  2.37249350e-03,  4.57889866e-04]],\n",
       "  \n",
       "          [[ 1.24010369e-02,  1.70103810e-03,  2.31486070e-03],\n",
       "           [ 7.21323723e-03,  1.09571861e-02,  1.68800857e-02],\n",
       "           [ 1.40257031e-02,  1.84405819e-02,  1.17298625e-02]],\n",
       "  \n",
       "          [[ 1.40678706e-02,  3.32560278e-02,  2.90901773e-02],\n",
       "           [ 2.16208324e-02,  2.69854832e-02,  5.07651735e-03],\n",
       "           [ 6.01969846e-03,  1.87104102e-02,  3.90872844e-02]]],\n",
       "  \n",
       "  \n",
       "         [[[ 7.53892511e-02,  8.42647329e-02,  8.63333419e-02],\n",
       "           [ 7.35416412e-02,  8.35200623e-02,  8.59934017e-02],\n",
       "           [ 5.34080304e-02,  6.34628087e-02,  7.48366788e-02]],\n",
       "  \n",
       "          [[ 7.23654628e-02,  9.20088664e-02,  1.03040658e-01],\n",
       "           [ 6.97086230e-02,  9.88732353e-02,  1.03815496e-01],\n",
       "           [ 9.31781754e-02,  1.12454474e-01,  1.06085159e-01]],\n",
       "  \n",
       "          [[ 9.75333303e-02,  1.07075050e-01,  1.05408654e-01],\n",
       "           [ 8.08100328e-02,  7.89400637e-02,  8.28592181e-02],\n",
       "           [ 4.64990325e-02,  4.49405648e-02,  6.83901981e-02]],\n",
       "  \n",
       "          ...,\n",
       "  \n",
       "          [[ 2.98073888e-03,  3.99493845e-03,  9.43883881e-03],\n",
       "           [ 4.64426074e-03,  5.07482514e-03,  7.26398779e-03],\n",
       "           [ 8.08870420e-03,  9.20879561e-03,  9.51929670e-03]],\n",
       "  \n",
       "          [[ 3.74253765e-02,  4.14531864e-02,  3.98447812e-02],\n",
       "           [ 1.84393153e-02,  1.78308673e-02,  1.96943022e-02],\n",
       "           [ 1.12241330e-02,  9.44412872e-03,  2.66147014e-02]],\n",
       "  \n",
       "          [[ 8.63729194e-02,  8.55034441e-02,  8.89690295e-02],\n",
       "           [ 7.95759112e-02,  7.85344243e-02,  8.27360153e-02],\n",
       "           [ 9.48442072e-02,  9.61361751e-02,  9.95515063e-02]]],\n",
       "  \n",
       "  \n",
       "         ...,\n",
       "  \n",
       "  \n",
       "         [[[ 4.31993194e-02,  5.60586043e-02,  7.28898048e-02],\n",
       "           [ 6.10918812e-02,  7.53748491e-02,  8.68972614e-02],\n",
       "           [ 5.71096614e-02,  5.92750087e-02,  7.26949275e-02]],\n",
       "  \n",
       "          [[ 1.22602530e-01,  1.26053169e-01,  7.80209377e-02],\n",
       "           [ 9.92961973e-02,  7.86845684e-02,  6.73815385e-02],\n",
       "           [ 8.34550858e-02,  8.28447938e-02,  8.59772786e-02]],\n",
       "  \n",
       "          [[ 8.22014213e-02,  1.02904975e-01,  1.29710525e-01],\n",
       "           [ 9.38634872e-02,  1.11201644e-01,  1.40771419e-01],\n",
       "           [ 8.18266124e-02,  8.38918611e-02,  1.06262781e-01]],\n",
       "  \n",
       "          ...,\n",
       "  \n",
       "          [[ 9.62494034e-03,  1.08943451e-02,  1.42931519e-02],\n",
       "           [ 9.70877521e-03,  1.05294101e-02,  1.74844526e-02],\n",
       "           [ 1.20375622e-02,  1.36970980e-02,  1.79713350e-02]],\n",
       "  \n",
       "          [[ 5.25686443e-02,  6.83996677e-02,  1.00581318e-01],\n",
       "           [ 5.07856235e-02,  5.84921725e-02,  7.70846233e-02],\n",
       "           [ 4.61931936e-02,  4.29657213e-02,  4.89898883e-02]],\n",
       "  \n",
       "          [[ 8.13231245e-02,  8.99693221e-02,  7.11416528e-02],\n",
       "           [ 5.53601794e-02,  4.22008932e-02,  3.37509885e-02],\n",
       "           [ 5.53043522e-02,  4.90901470e-02,  4.87235934e-02]]],\n",
       "  \n",
       "  \n",
       "         [[[ 4.34762314e-02,  4.94745299e-02,  8.31757486e-02],\n",
       "           [ 2.79656928e-02,  3.88312712e-02,  6.87835142e-02],\n",
       "           [ 3.10463980e-02,  3.04877013e-02,  5.50095178e-02]],\n",
       "  \n",
       "          [[ 2.19332539e-02,  3.33485305e-02,  4.20473479e-02],\n",
       "           [ 2.70210430e-02,  3.45786177e-02,  3.28596756e-02],\n",
       "           [ 2.22237427e-02,  2.22033747e-02,  1.81842949e-02]],\n",
       "  \n",
       "          [[ 3.71293724e-02,  4.47495952e-02,  5.52565716e-02],\n",
       "           [ 2.53307391e-02,  2.64744386e-02,  3.35824564e-02],\n",
       "           [ 2.36533154e-02,  1.44895976e-02,  2.88965907e-02]],\n",
       "  \n",
       "          ...,\n",
       "  \n",
       "          [[ 3.77133745e-03,  3.63857020e-03,  8.17592908e-03],\n",
       "           [ 5.87998610e-03,  6.58735959e-03,  9.32887755e-03],\n",
       "           [ 5.29343216e-03,  5.80277527e-03,  9.62067116e-03]],\n",
       "  \n",
       "          [[ 4.33618873e-02,  5.18251359e-02,  6.64946809e-02],\n",
       "           [ 2.17678845e-02,  2.26840954e-02,  2.52177697e-02],\n",
       "           [ 9.83965769e-03,  1.03352219e-02,  1.01669859e-02]],\n",
       "  \n",
       "          [[ 3.93757373e-02,  3.54156382e-02,  2.44249739e-02],\n",
       "           [ 3.06542795e-02,  1.91331375e-02,  1.14275431e-02],\n",
       "           [ 2.40251645e-02,  1.75813623e-02,  1.58003476e-02]]],\n",
       "  \n",
       "  \n",
       "         [[[ 3.62319909e-02,  4.27693166e-02,  6.35572970e-02],\n",
       "           [ 4.90916297e-02,  4.83834259e-02,  5.98541610e-02],\n",
       "           [ 4.90187593e-02,  4.34705466e-02,  4.38595451e-02]],\n",
       "  \n",
       "          [[ 6.35100827e-02,  6.44939542e-02,  8.78260806e-02],\n",
       "           [ 3.91093716e-02,  3.56972367e-02,  5.53592481e-02],\n",
       "           [ 2.69053876e-02,  3.29341181e-02,  4.50081602e-02]],\n",
       "  \n",
       "          [[ 8.91234353e-02,  9.48384255e-02,  1.02672905e-01],\n",
       "           [ 1.02010593e-01,  8.23627114e-02,  7.36401379e-02],\n",
       "           [ 5.96754998e-02,  3.87367308e-02,  2.47697383e-02]],\n",
       "  \n",
       "          ...,\n",
       "  \n",
       "          [[ 2.17037685e-02,  2.50154529e-02,  1.95410848e-02],\n",
       "           [ 1.09725734e-02,  1.04153343e-02,  7.16212345e-03],\n",
       "           [ 5.13307843e-03,  5.30264806e-03,  2.05671438e-03]],\n",
       "  \n",
       "          [[ 9.83165503e-02,  9.45339352e-02,  6.81043267e-02],\n",
       "           [ 7.85503164e-02,  7.27251545e-02,  4.46535535e-02],\n",
       "           [ 3.84822302e-02,  3.23283523e-02,  1.35225300e-02]],\n",
       "  \n",
       "          [[ 6.53592721e-02,  7.09274784e-02,  5.78892753e-02],\n",
       "           [ 2.84032524e-02,  1.93236470e-02,  1.17971906e-02],\n",
       "           [ 2.10720822e-02,  1.80701539e-02,  2.21517738e-02]]]],\n",
       "        dtype=float32),\n",
       "  'layer3[1].conv2': array([[[[0.03148589, 0.02839628, 0.01976159],\n",
       "           [0.03181966, 0.02461413, 0.02274811],\n",
       "           [0.05860728, 0.04755084, 0.04350648]],\n",
       "  \n",
       "          [[0.02215322, 0.01350924, 0.00966267],\n",
       "           [0.03582252, 0.05981873, 0.06647184],\n",
       "           [0.08240429, 0.10570875, 0.08645455]],\n",
       "  \n",
       "          [[0.00305516, 0.00482735, 0.00865514],\n",
       "           [0.00525768, 0.01098289, 0.01241729],\n",
       "           [0.01635824, 0.01900134, 0.01650161]],\n",
       "  \n",
       "          ...,\n",
       "  \n",
       "          [[0.01085353, 0.00746728, 0.00707614],\n",
       "           [0.04398955, 0.02138528, 0.00550605],\n",
       "           [0.05531545, 0.03007552, 0.01302345]],\n",
       "  \n",
       "          [[0.03433742, 0.01876731, 0.01784538],\n",
       "           [0.07504381, 0.0534045 , 0.03001195],\n",
       "           [0.09642657, 0.07333751, 0.04086535]],\n",
       "  \n",
       "          [[0.07544233, 0.05761405, 0.03774017],\n",
       "           [0.06564326, 0.06032379, 0.04553046],\n",
       "           [0.07238602, 0.03602972, 0.04420428]]],\n",
       "  \n",
       "  \n",
       "         [[[0.00559697, 0.008889  , 0.00181347],\n",
       "           [0.01797915, 0.02735194, 0.00271448],\n",
       "           [0.00770245, 0.00286034, 0.00793431]],\n",
       "  \n",
       "          [[0.03216429, 0.01622793, 0.03951997],\n",
       "           [0.01959263, 0.01264632, 0.01020244],\n",
       "           [0.02698114, 0.04035041, 0.0411263 ]],\n",
       "  \n",
       "          [[0.00144971, 0.00184514, 0.00598368],\n",
       "           [0.00320376, 0.00623261, 0.01142928],\n",
       "           [0.01507788, 0.01293805, 0.01334094]],\n",
       "  \n",
       "          ...,\n",
       "  \n",
       "          [[0.00687346, 0.01538259, 0.00568856],\n",
       "           [0.01425805, 0.02534063, 0.00719255],\n",
       "           [0.00968513, 0.00546915, 0.00898998]],\n",
       "  \n",
       "          [[0.0009053 , 0.01046125, 0.00723041],\n",
       "           [0.00913376, 0.00411587, 0.01743479],\n",
       "           [0.00248821, 0.01043226, 0.02692545]],\n",
       "  \n",
       "          [[0.01506069, 0.02127332, 0.02081829],\n",
       "           [0.00870139, 0.045784  , 0.01794794],\n",
       "           [0.01562375, 0.00684565, 0.01375244]]],\n",
       "  \n",
       "  \n",
       "         [[[0.0808832 , 0.11167654, 0.13055092],\n",
       "           [0.04456815, 0.0710932 , 0.07485507],\n",
       "           [0.02612832, 0.04025727, 0.0373065 ]],\n",
       "  \n",
       "          [[0.11445219, 0.13460341, 0.14522213],\n",
       "           [0.12653525, 0.1089637 , 0.12321323],\n",
       "           [0.08027635, 0.06690723, 0.07615888]],\n",
       "  \n",
       "          [[0.01611119, 0.01731703, 0.0205678 ],\n",
       "           [0.01428077, 0.00736022, 0.01862906],\n",
       "           [0.02532762, 0.02153347, 0.02571122]],\n",
       "  \n",
       "          ...,\n",
       "  \n",
       "          [[0.06163219, 0.05996373, 0.08367132],\n",
       "           [0.1044693 , 0.12321862, 0.1440313 ],\n",
       "           [0.06907815, 0.11048407, 0.11770439]],\n",
       "  \n",
       "          [[0.09063251, 0.10519847, 0.1287985 ],\n",
       "           [0.1052091 , 0.1187548 , 0.1535492 ],\n",
       "           [0.08005406, 0.10505697, 0.11122223]],\n",
       "  \n",
       "          [[0.13688883, 0.18054476, 0.20276812],\n",
       "           [0.10900133, 0.14806792, 0.15866382],\n",
       "           [0.08789532, 0.13146108, 0.12611446]]],\n",
       "  \n",
       "  \n",
       "         ...,\n",
       "  \n",
       "  \n",
       "         [[[0.06761864, 0.06176604, 0.06629509],\n",
       "           [0.06525023, 0.04832825, 0.04928246],\n",
       "           [0.04021316, 0.03628194, 0.03742822]],\n",
       "  \n",
       "          [[0.08047289, 0.11619684, 0.12384456],\n",
       "           [0.0539727 , 0.0680375 , 0.08137785],\n",
       "           [0.02008174, 0.00836127, 0.01122133]],\n",
       "  \n",
       "          [[0.01638246, 0.00927748, 0.00532471],\n",
       "           [0.01211149, 0.00621932, 0.00419267],\n",
       "           [0.01029563, 0.01014029, 0.00699738]],\n",
       "  \n",
       "          ...,\n",
       "  \n",
       "          [[0.03121326, 0.0219401 , 0.01613601],\n",
       "           [0.01375564, 0.00886951, 0.01023443],\n",
       "           [0.02342973, 0.00384756, 0.01418664]],\n",
       "  \n",
       "          [[0.09493572, 0.08814869, 0.07004094],\n",
       "           [0.10499112, 0.1156359 , 0.09253882],\n",
       "           [0.06279931, 0.08443671, 0.08696432]],\n",
       "  \n",
       "          [[0.07223529, 0.07623423, 0.09223532],\n",
       "           [0.06456015, 0.05220564, 0.08539554],\n",
       "           [0.05120926, 0.0323358 , 0.06676039]]],\n",
       "  \n",
       "  \n",
       "         [[[0.01562175, 0.00697172, 0.0083178 ],\n",
       "           [0.03312253, 0.02067235, 0.01388321],\n",
       "           [0.03920501, 0.03871977, 0.02711014]],\n",
       "  \n",
       "          [[0.00592548, 0.01863901, 0.0379791 ],\n",
       "           [0.0117118 , 0.03989009, 0.06769685],\n",
       "           [0.02255079, 0.03678987, 0.05722753]],\n",
       "  \n",
       "          [[0.00272931, 0.00152142, 0.00380569],\n",
       "           [0.00606784, 0.00437597, 0.00681786],\n",
       "           [0.00520875, 0.00507309, 0.00533133]],\n",
       "  \n",
       "          ...,\n",
       "  \n",
       "          [[0.01712379, 0.01678595, 0.01133409],\n",
       "           [0.01220122, 0.01727488, 0.01483832],\n",
       "           [0.00843493, 0.00492936, 0.01650986]],\n",
       "  \n",
       "          [[0.0236395 , 0.01897024, 0.00979644],\n",
       "           [0.03476224, 0.03335256, 0.01160207],\n",
       "           [0.0292995 , 0.03133079, 0.02403323]],\n",
       "  \n",
       "          [[0.02617606, 0.03194808, 0.03208805],\n",
       "           [0.02854986, 0.02810853, 0.03706483],\n",
       "           [0.03169634, 0.0241307 , 0.03131638]]],\n",
       "  \n",
       "  \n",
       "         [[[0.11289795, 0.08148576, 0.00997859],\n",
       "           [0.07159649, 0.03505084, 0.0045097 ],\n",
       "           [0.03254637, 0.02123507, 0.00880947]],\n",
       "  \n",
       "          [[0.14304088, 0.11249589, 0.04777873],\n",
       "           [0.13704006, 0.14143533, 0.05669688],\n",
       "           [0.09503566, 0.11106765, 0.05238899]],\n",
       "  \n",
       "          [[0.01461235, 0.01477931, 0.00609219],\n",
       "           [0.02420053, 0.01910423, 0.00540196],\n",
       "           [0.01056656, 0.01472124, 0.00769644]],\n",
       "  \n",
       "          ...,\n",
       "  \n",
       "          [[0.08076249, 0.07772163, 0.02983883],\n",
       "           [0.11651678, 0.09673741, 0.02557925],\n",
       "           [0.11686041, 0.0826957 , 0.0143564 ]],\n",
       "  \n",
       "          [[0.11614951, 0.10172346, 0.02964785],\n",
       "           [0.127605  , 0.09939515, 0.02088828],\n",
       "           [0.08202362, 0.05020216, 0.00775867]],\n",
       "  \n",
       "          [[0.17596024, 0.17720796, 0.05005943],\n",
       "           [0.16128606, 0.14480293, 0.03527663],\n",
       "           [0.11791657, 0.1183403 , 0.02984751]]]], dtype=float32),\n",
       "  'layer3[5].conv2': array([[[[0.07416227, 0.09384966, 0.07271264],\n",
       "           [0.10981765, 0.12187362, 0.06880324],\n",
       "           [0.1061562 , 0.10999901, 0.04848943]],\n",
       "  \n",
       "          [[0.02893654, 0.03365161, 0.03917482],\n",
       "           [0.03925141, 0.02806122, 0.02785162],\n",
       "           [0.05571938, 0.03476372, 0.02835203]],\n",
       "  \n",
       "          [[0.07457623, 0.05960613, 0.08015502],\n",
       "           [0.03654463, 0.07996275, 0.1378818 ],\n",
       "           [0.04450607, 0.11091923, 0.12467338]],\n",
       "  \n",
       "          ...,\n",
       "  \n",
       "          [[0.07470147, 0.1658796 , 0.19595574],\n",
       "           [0.09906027, 0.20015264, 0.1764665 ],\n",
       "           [0.07876182, 0.1116323 , 0.09439922]],\n",
       "  \n",
       "          [[0.08246873, 0.08786202, 0.06230101],\n",
       "           [0.05883017, 0.08175459, 0.05277147],\n",
       "           [0.02727127, 0.05772573, 0.04847547]],\n",
       "  \n",
       "          [[0.06462254, 0.11959003, 0.08588193],\n",
       "           [0.0494615 , 0.09136768, 0.07327251],\n",
       "           [0.05822193, 0.1068704 , 0.08602684]]],\n",
       "  \n",
       "  \n",
       "         [[[0.03129345, 0.02525033, 0.02021851],\n",
       "           [0.0218675 , 0.027951  , 0.02606916],\n",
       "           [0.01510582, 0.01469907, 0.01618666]],\n",
       "  \n",
       "          [[0.00755915, 0.00474412, 0.00588972],\n",
       "           [0.00512977, 0.01027134, 0.01742159],\n",
       "           [0.01875989, 0.02680348, 0.02536273]],\n",
       "  \n",
       "          [[0.03187526, 0.03417074, 0.03060686],\n",
       "           [0.02191024, 0.02226741, 0.01012278],\n",
       "           [0.01278359, 0.01069621, 0.01234627]],\n",
       "  \n",
       "          ...,\n",
       "  \n",
       "          [[0.01398348, 0.00741172, 0.01885127],\n",
       "           [0.01606339, 0.04184502, 0.0839404 ],\n",
       "           [0.01956212, 0.06550948, 0.07715859]],\n",
       "  \n",
       "          [[0.0114122 , 0.00878089, 0.00887381],\n",
       "           [0.02877718, 0.03971838, 0.02492928],\n",
       "           [0.04973198, 0.06305793, 0.04350011]],\n",
       "  \n",
       "          [[0.03154771, 0.02071499, 0.01392743],\n",
       "           [0.0326288 , 0.0266688 , 0.02660153],\n",
       "           [0.02311452, 0.02801541, 0.02678459]]],\n",
       "  \n",
       "  \n",
       "         [[[0.04149206, 0.04775731, 0.04271495],\n",
       "           [0.04074986, 0.05385887, 0.02991626],\n",
       "           [0.02978974, 0.05071593, 0.03380398]],\n",
       "  \n",
       "          [[0.0339566 , 0.04441965, 0.03604731],\n",
       "           [0.06988231, 0.0624569 , 0.01912457],\n",
       "           [0.07090575, 0.05229928, 0.01853156]],\n",
       "  \n",
       "          [[0.04079876, 0.0544949 , 0.04006616],\n",
       "           [0.06011209, 0.04985839, 0.03206641],\n",
       "           [0.02033322, 0.03451819, 0.06615553]],\n",
       "  \n",
       "          ...,\n",
       "  \n",
       "          [[0.0286116 , 0.05311198, 0.06606304],\n",
       "           [0.06240928, 0.15409316, 0.17380793],\n",
       "           [0.05711545, 0.14344431, 0.16856866]],\n",
       "  \n",
       "          [[0.06511886, 0.09194539, 0.09380437],\n",
       "           [0.03992538, 0.0504875 , 0.06660152],\n",
       "           [0.02344208, 0.02646333, 0.0260044 ]],\n",
       "  \n",
       "          [[0.04885297, 0.0645922 , 0.0505147 ],\n",
       "           [0.04464542, 0.06546731, 0.05471395],\n",
       "           [0.04561995, 0.05440532, 0.03752902]]],\n",
       "  \n",
       "  \n",
       "         ...,\n",
       "  \n",
       "  \n",
       "         [[[0.17927128, 0.1289017 , 0.09577931],\n",
       "           [0.1637121 , 0.12457271, 0.09118528],\n",
       "           [0.14899999, 0.13077942, 0.07952079]],\n",
       "  \n",
       "          [[0.10666929, 0.07427353, 0.06182743],\n",
       "           [0.10162526, 0.07430234, 0.05504108],\n",
       "           [0.10680265, 0.06557908, 0.04942543]],\n",
       "  \n",
       "          [[0.21633305, 0.19255234, 0.1088902 ],\n",
       "           [0.18231964, 0.13430431, 0.09995624],\n",
       "           [0.07497905, 0.09866636, 0.10670589]],\n",
       "  \n",
       "          ...,\n",
       "  \n",
       "          [[0.09100564, 0.13558288, 0.20474702],\n",
       "           [0.10907206, 0.18603504, 0.29066765],\n",
       "           [0.14312069, 0.23058473, 0.26503408]],\n",
       "  \n",
       "          [[0.21269742, 0.20118171, 0.1471021 ],\n",
       "           [0.17348704, 0.17471926, 0.12431359],\n",
       "           [0.07498454, 0.06674507, 0.06185067]],\n",
       "  \n",
       "          [[0.13234559, 0.20449278, 0.17953084],\n",
       "           [0.11296231, 0.162958  , 0.15061793],\n",
       "           [0.09719837, 0.12409163, 0.11472189]]],\n",
       "  \n",
       "  \n",
       "         [[[0.1047624 , 0.14251073, 0.14288189],\n",
       "           [0.062686  , 0.09127439, 0.10746223],\n",
       "           [0.01183741, 0.00693671, 0.00588525]],\n",
       "  \n",
       "          [[0.01870067, 0.01743026, 0.00639669],\n",
       "           [0.01406661, 0.00285174, 0.01067778],\n",
       "           [0.00750251, 0.00679443, 0.01824305]],\n",
       "  \n",
       "          [[0.11365399, 0.08999972, 0.09466282],\n",
       "           [0.08787432, 0.0679952 , 0.0740449 ],\n",
       "           [0.0298975 , 0.01865183, 0.01594941]],\n",
       "  \n",
       "          ...,\n",
       "  \n",
       "          [[0.02509413, 0.03814146, 0.07146718],\n",
       "           [0.02657454, 0.01875003, 0.00833062],\n",
       "           [0.01741558, 0.00601339, 0.0277155 ]],\n",
       "  \n",
       "          [[0.02199595, 0.0242214 , 0.02353995],\n",
       "           [0.00633055, 0.01488727, 0.02936085],\n",
       "           [0.04334487, 0.03749358, 0.025538  ]],\n",
       "  \n",
       "          [[0.01662663, 0.01818992, 0.04011708],\n",
       "           [0.07514447, 0.06303255, 0.05789184],\n",
       "           [0.07690814, 0.06428289, 0.05436008]]],\n",
       "  \n",
       "  \n",
       "         [[[0.0695121 , 0.1509228 , 0.16587098],\n",
       "           [0.04253805, 0.0789567 , 0.10026637],\n",
       "           [0.04961844, 0.06483607, 0.06003135]],\n",
       "  \n",
       "          [[0.05008287, 0.10967229, 0.08959007],\n",
       "           [0.04986637, 0.10563102, 0.09405047],\n",
       "           [0.04622647, 0.07247743, 0.07460314]],\n",
       "  \n",
       "          [[0.10232964, 0.0903537 , 0.1126552 ],\n",
       "           [0.06945176, 0.0634306 , 0.11697586],\n",
       "           [0.04903582, 0.06129747, 0.12408064]],\n",
       "  \n",
       "          ...,\n",
       "  \n",
       "          [[0.05418304, 0.0512375 , 0.06209067],\n",
       "           [0.08356062, 0.1000663 , 0.10180172],\n",
       "           [0.12509876, 0.17921475, 0.1824847 ]],\n",
       "  \n",
       "          [[0.04611656, 0.05421655, 0.05205151],\n",
       "           [0.08886356, 0.10693073, 0.08994022],\n",
       "           [0.1365379 , 0.15167159, 0.12127893]],\n",
       "  \n",
       "          [[0.09924266, 0.16980661, 0.19730228],\n",
       "           [0.11682944, 0.18316433, 0.17116982],\n",
       "           [0.09489661, 0.12548922, 0.11141732]]]], dtype=float32)},\n",
       " {'layer3[0].conv2': array([[[[0.01573758, 0.02266999, 0.02881009],\n",
       "           [0.02102338, 0.0290539 , 0.03842849],\n",
       "           [0.02640044, 0.02890596, 0.03945984]],\n",
       "  \n",
       "          [[0.01439947, 0.01601792, 0.01921163],\n",
       "           [0.02242945, 0.0222575 , 0.03358519],\n",
       "           [0.02308653, 0.02287013, 0.03875571]],\n",
       "  \n",
       "          [[0.01844808, 0.0199223 , 0.01925075],\n",
       "           [0.02992232, 0.03257322, 0.02951358],\n",
       "           [0.03510995, 0.03703969, 0.03563118]],\n",
       "  \n",
       "          ...,\n",
       "  \n",
       "          [[0.00446383, 0.00294821, 0.00351845],\n",
       "           [0.00864473, 0.00668295, 0.00702599],\n",
       "           [0.00825095, 0.01091624, 0.01195736]],\n",
       "  \n",
       "          [[0.03139236, 0.0430966 , 0.03915516],\n",
       "           [0.05812174, 0.07011847, 0.05530166],\n",
       "           [0.0638444 , 0.07190707, 0.04922207]],\n",
       "  \n",
       "          [[0.02181754, 0.0270407 , 0.02134559],\n",
       "           [0.03335217, 0.03322528, 0.02947879],\n",
       "           [0.03405621, 0.03002594, 0.02537731]]],\n",
       "  \n",
       "  \n",
       "         [[[0.05155396, 0.05266579, 0.05921349],\n",
       "           [0.08456971, 0.10378912, 0.14641601],\n",
       "           [0.13425738, 0.18425746, 0.21900639]],\n",
       "  \n",
       "          [[0.13789327, 0.19245823, 0.3039504 ],\n",
       "           [0.26623774, 0.38530186, 0.46758255],\n",
       "           [0.31818774, 0.39415967, 0.3398713 ]],\n",
       "  \n",
       "          [[0.04436742, 0.05862556, 0.10602605],\n",
       "           [0.11478027, 0.17923878, 0.24396053],\n",
       "           [0.20315297, 0.2813281 , 0.28005964]],\n",
       "  \n",
       "          ...,\n",
       "  \n",
       "          [[0.00968467, 0.01145115, 0.01266049],\n",
       "           [0.01326882, 0.01458754, 0.01712058],\n",
       "           [0.01446377, 0.01745441, 0.01641957]],\n",
       "  \n",
       "          [[0.05884562, 0.07645073, 0.07535147],\n",
       "           [0.12878662, 0.15139624, 0.16008125],\n",
       "           [0.17181888, 0.18680754, 0.19205627]],\n",
       "  \n",
       "          [[0.14246976, 0.16356711, 0.19118561],\n",
       "           [0.17299542, 0.18450342, 0.2077116 ],\n",
       "           [0.14267516, 0.13675983, 0.1543627 ]]],\n",
       "  \n",
       "  \n",
       "         [[[0.04920045, 0.05734668, 0.06300217],\n",
       "           [0.02755644, 0.03149788, 0.03494658],\n",
       "           [0.01650856, 0.01118032, 0.01554627]],\n",
       "  \n",
       "          [[0.07025079, 0.06693413, 0.07904401],\n",
       "           [0.04708474, 0.04042866, 0.04386692],\n",
       "           [0.05611859, 0.05329729, 0.07625504]],\n",
       "  \n",
       "          [[0.1279751 , 0.14382456, 0.15631777],\n",
       "           [0.10071953, 0.11257127, 0.1297587 ],\n",
       "           [0.04746399, 0.05895267, 0.09882145]],\n",
       "  \n",
       "          ...,\n",
       "  \n",
       "          [[0.0188907 , 0.02127319, 0.02217601],\n",
       "           [0.01696465, 0.01703679, 0.02099322],\n",
       "           [0.01608811, 0.01664813, 0.02176374]],\n",
       "  \n",
       "          [[0.05541742, 0.06173075, 0.09468345],\n",
       "           [0.02456979, 0.01588031, 0.04255636],\n",
       "           [0.01157672, 0.0062701 , 0.02928863]],\n",
       "  \n",
       "          [[0.03021627, 0.0330111 , 0.04044279],\n",
       "           [0.01201521, 0.01221209, 0.0207258 ],\n",
       "           [0.00686303, 0.00710682, 0.01661001]]],\n",
       "  \n",
       "  \n",
       "         ...,\n",
       "  \n",
       "  \n",
       "         [[[0.05643361, 0.06761468, 0.08064207],\n",
       "           [0.04164401, 0.05627519, 0.06959649],\n",
       "           [0.04427716, 0.0487937 , 0.07724345]],\n",
       "  \n",
       "          [[0.09440076, 0.12369248, 0.10660215],\n",
       "           [0.12304123, 0.13513923, 0.13419627],\n",
       "           [0.13789375, 0.15555693, 0.15489085]],\n",
       "  \n",
       "          [[0.09542798, 0.13900205, 0.17090558],\n",
       "           [0.10658205, 0.14356746, 0.19274147],\n",
       "           [0.11028804, 0.12474837, 0.17786618]],\n",
       "  \n",
       "          ...,\n",
       "  \n",
       "          [[0.00963196, 0.01690059, 0.0229772 ],\n",
       "           [0.01611338, 0.01907745, 0.02498329],\n",
       "           [0.02113516, 0.02867345, 0.03137529]],\n",
       "  \n",
       "          [[0.08033458, 0.11759165, 0.10633056],\n",
       "           [0.15212542, 0.19393608, 0.21654223],\n",
       "           [0.2619275 , 0.2852612 , 0.29613712]],\n",
       "  \n",
       "          [[0.06474295, 0.0766163 , 0.06121789],\n",
       "           [0.09545676, 0.08821534, 0.09028691],\n",
       "           [0.13360342, 0.11360066, 0.1060411 ]]],\n",
       "  \n",
       "  \n",
       "         [[[0.07785757, 0.0620819 , 0.11619872],\n",
       "           [0.06616572, 0.05821702, 0.13280073],\n",
       "           [0.08765997, 0.07940191, 0.12838845]],\n",
       "  \n",
       "          [[0.10181249, 0.08894263, 0.13187282],\n",
       "           [0.11660976, 0.12025231, 0.13575351],\n",
       "           [0.1532839 , 0.14848149, 0.12605496]],\n",
       "  \n",
       "          [[0.04396849, 0.10496496, 0.17095783],\n",
       "           [0.05637198, 0.14147969, 0.23118667],\n",
       "           [0.09629907, 0.13704164, 0.1959128 ]],\n",
       "  \n",
       "          ...,\n",
       "  \n",
       "          [[0.00733175, 0.01318436, 0.02107233],\n",
       "           [0.01230054, 0.01978477, 0.0337702 ],\n",
       "           [0.00992584, 0.01467227, 0.02285913]],\n",
       "  \n",
       "          [[0.01557601, 0.10449781, 0.07446979],\n",
       "           [0.04519367, 0.01678652, 0.03952711],\n",
       "           [0.12611653, 0.09791618, 0.10822102]],\n",
       "  \n",
       "          [[0.11204835, 0.05711606, 0.0795069 ],\n",
       "           [0.16038337, 0.11043172, 0.09370035],\n",
       "           [0.1796778 , 0.1412376 , 0.10142526]]],\n",
       "  \n",
       "  \n",
       "         [[[0.08291971, 0.08291442, 0.10463034],\n",
       "           [0.11057268, 0.10513271, 0.10442296],\n",
       "           [0.11143085, 0.11310636, 0.09138259]],\n",
       "  \n",
       "          [[0.13370913, 0.13026844, 0.15368693],\n",
       "           [0.10694186, 0.10274619, 0.09595501],\n",
       "           [0.07963821, 0.07122099, 0.06236308]],\n",
       "  \n",
       "          [[0.1171826 , 0.1241843 , 0.14009352],\n",
       "           [0.14461358, 0.13229212, 0.12833078],\n",
       "           [0.14868008, 0.14719583, 0.1190585 ]],\n",
       "  \n",
       "          ...,\n",
       "  \n",
       "          [[0.01474774, 0.01613939, 0.01850559],\n",
       "           [0.01004435, 0.00658805, 0.00975186],\n",
       "           [0.00529569, 0.00419656, 0.00597635]],\n",
       "  \n",
       "          [[0.15778768, 0.12900856, 0.15780255],\n",
       "           [0.16096109, 0.15056056, 0.16601701],\n",
       "           [0.11836849, 0.12226319, 0.13514946]],\n",
       "  \n",
       "          [[0.12825516, 0.11437669, 0.13886504],\n",
       "           [0.10382804, 0.08843804, 0.10233921],\n",
       "           [0.08523938, 0.07026802, 0.07575759]]]], dtype=float32),\n",
       "  'layer3[1].conv2': array([[[[0.03862275, 0.03511744, 0.03531738],\n",
       "           [0.04914749, 0.04318833, 0.03799484],\n",
       "           [0.05031767, 0.05357539, 0.04001816]],\n",
       "  \n",
       "          [[0.04290401, 0.05094192, 0.05972591],\n",
       "           [0.06147983, 0.07220782, 0.08099086],\n",
       "           [0.07086435, 0.07826088, 0.10421333]],\n",
       "  \n",
       "          [[0.02163668, 0.02328279, 0.01227814],\n",
       "           [0.02773461, 0.02659325, 0.00933506],\n",
       "           [0.01945656, 0.01382665, 0.00979272]],\n",
       "  \n",
       "          ...,\n",
       "  \n",
       "          [[0.02735406, 0.03053771, 0.02562839],\n",
       "           [0.02683638, 0.03675945, 0.04145477],\n",
       "           [0.03844344, 0.04657656, 0.04478304]],\n",
       "  \n",
       "          [[0.05535588, 0.04834637, 0.04261042],\n",
       "           [0.06012669, 0.04721273, 0.05070123],\n",
       "           [0.06097687, 0.06386934, 0.06542829]],\n",
       "  \n",
       "          [[0.05505002, 0.05020456, 0.04806684],\n",
       "           [0.05192738, 0.03525779, 0.05230533],\n",
       "           [0.06706058, 0.07651675, 0.07733853]]],\n",
       "  \n",
       "  \n",
       "         [[[0.03844261, 0.04809295, 0.04411822],\n",
       "           [0.03745624, 0.04825097, 0.03608327],\n",
       "           [0.01581853, 0.01496149, 0.00939695]],\n",
       "  \n",
       "          [[0.02998516, 0.07934743, 0.10050648],\n",
       "           [0.01122552, 0.08376347, 0.12430938],\n",
       "           [0.01651582, 0.11806718, 0.1849808 ]],\n",
       "  \n",
       "          [[0.01013105, 0.0333131 , 0.01912119],\n",
       "           [0.00215664, 0.05066691, 0.00932183],\n",
       "           [0.03571206, 0.01001116, 0.01502498]],\n",
       "  \n",
       "          ...,\n",
       "  \n",
       "          [[0.01549056, 0.02191866, 0.01611757],\n",
       "           [0.014429  , 0.0068412 , 0.00820575],\n",
       "           [0.01804913, 0.00686107, 0.00722595]],\n",
       "  \n",
       "          [[0.06479207, 0.06973451, 0.04163905],\n",
       "           [0.06573189, 0.07535157, 0.04246813],\n",
       "           [0.03860284, 0.04429975, 0.02909583]],\n",
       "  \n",
       "          [[0.08413248, 0.14200754, 0.11694589],\n",
       "           [0.11477492, 0.18996005, 0.15786025],\n",
       "           [0.06302603, 0.07497513, 0.07713515]]],\n",
       "  \n",
       "  \n",
       "         [[[0.06529752, 0.05387783, 0.07570893],\n",
       "           [0.04520565, 0.03459816, 0.05095415],\n",
       "           [0.04666254, 0.04820247, 0.05187416]],\n",
       "  \n",
       "          [[0.19712347, 0.24232832, 0.18271627],\n",
       "           [0.21741994, 0.20325918, 0.195606  ],\n",
       "           [0.13163234, 0.0632978 , 0.13977379]],\n",
       "  \n",
       "          [[0.01783285, 0.02435067, 0.01809616],\n",
       "           [0.03787053, 0.04049665, 0.01858713],\n",
       "           [0.06727152, 0.0923189 , 0.0465395 ]],\n",
       "  \n",
       "          ...,\n",
       "  \n",
       "          [[0.09811012, 0.07198737, 0.07439158],\n",
       "           [0.096344  , 0.10019547, 0.12891448],\n",
       "           [0.0727466 , 0.11975534, 0.10954589]],\n",
       "  \n",
       "          [[0.09873857, 0.08879581, 0.0819578 ],\n",
       "           [0.08580341, 0.087323  , 0.11614175],\n",
       "           [0.07163022, 0.10636161, 0.13039112]],\n",
       "  \n",
       "          [[0.18511492, 0.18686229, 0.23366831],\n",
       "           [0.13582742, 0.13033098, 0.24504289],\n",
       "           [0.15203394, 0.16405717, 0.22690538]]],\n",
       "  \n",
       "  \n",
       "         ...,\n",
       "  \n",
       "  \n",
       "         [[[0.02153009, 0.0223562 , 0.02990014],\n",
       "           [0.04085855, 0.03296192, 0.03686293],\n",
       "           [0.04170294, 0.03489214, 0.02937835]],\n",
       "  \n",
       "          [[0.02288443, 0.01642813, 0.05402435],\n",
       "           [0.02217224, 0.00686369, 0.04286749],\n",
       "           [0.0122822 , 0.01046315, 0.03329049]],\n",
       "  \n",
       "          [[0.03164622, 0.01758857, 0.00289707],\n",
       "           [0.06263994, 0.02963495, 0.0068332 ],\n",
       "           [0.01901749, 0.00987813, 0.00278615]],\n",
       "  \n",
       "          ...,\n",
       "  \n",
       "          [[0.01660734, 0.02538372, 0.02143748],\n",
       "           [0.01998991, 0.03394958, 0.0322266 ],\n",
       "           [0.06535391, 0.10884699, 0.0841366 ]],\n",
       "  \n",
       "          [[0.00742697, 0.0152144 , 0.01111626],\n",
       "           [0.0375196 , 0.04137458, 0.03952031],\n",
       "           [0.04313939, 0.05941837, 0.04342567]],\n",
       "  \n",
       "          [[0.02917526, 0.04589582, 0.03568381],\n",
       "           [0.03324285, 0.03568454, 0.03806546],\n",
       "           [0.05255397, 0.06730802, 0.08634572]]],\n",
       "  \n",
       "  \n",
       "         [[[0.02304149, 0.03537919, 0.03013585],\n",
       "           [0.03063907, 0.04755887, 0.03414586],\n",
       "           [0.01942141, 0.02032786, 0.01036851]],\n",
       "  \n",
       "          [[0.00584522, 0.00903867, 0.01647931],\n",
       "           [0.00619388, 0.0624059 , 0.06531482],\n",
       "           [0.01241368, 0.07498699, 0.06403573]],\n",
       "  \n",
       "          [[0.00328977, 0.00690195, 0.00419495],\n",
       "           [0.00239412, 0.02741451, 0.01892632],\n",
       "           [0.00384099, 0.01625993, 0.00468976]],\n",
       "  \n",
       "          ...,\n",
       "  \n",
       "          [[0.00589506, 0.01543246, 0.01032382],\n",
       "           [0.0070985 , 0.00254631, 0.01536223],\n",
       "           [0.01302265, 0.00379825, 0.00246361]],\n",
       "  \n",
       "          [[0.00816378, 0.01427511, 0.0129175 ],\n",
       "           [0.01908106, 0.04391759, 0.01898127],\n",
       "           [0.03412934, 0.03229129, 0.00724761]],\n",
       "  \n",
       "          [[0.0080829 , 0.0234476 , 0.02462046],\n",
       "           [0.04553814, 0.09065166, 0.0676077 ],\n",
       "           [0.06512356, 0.06642036, 0.05689601]]],\n",
       "  \n",
       "  \n",
       "         [[[0.05565964, 0.06362403, 0.07699387],\n",
       "           [0.04318416, 0.04495514, 0.04366781],\n",
       "           [0.04958772, 0.05102271, 0.03196271]],\n",
       "  \n",
       "          [[0.21381487, 0.19494295, 0.14967841],\n",
       "           [0.12102026, 0.09147431, 0.13152255],\n",
       "           [0.07340782, 0.08643823, 0.13993262]],\n",
       "  \n",
       "          [[0.04992624, 0.01885097, 0.00146957],\n",
       "           [0.04954329, 0.03637965, 0.00650137],\n",
       "           [0.02463525, 0.01501655, 0.00787635]],\n",
       "  \n",
       "          ...,\n",
       "  \n",
       "          [[0.07912019, 0.09643254, 0.06645511],\n",
       "           [0.09381025, 0.12225647, 0.07581981],\n",
       "           [0.12812015, 0.11894793, 0.07888187]],\n",
       "  \n",
       "          [[0.05631466, 0.07181393, 0.0859947 ],\n",
       "           [0.06652366, 0.13125362, 0.10786699],\n",
       "           [0.11031748, 0.1443309 , 0.09908676]],\n",
       "  \n",
       "          [[0.09861646, 0.13393718, 0.16428338],\n",
       "           [0.08410083, 0.13276353, 0.1642939 ],\n",
       "           [0.14215797, 0.14173038, 0.1428978 ]]]], dtype=float32),\n",
       "  'layer3[5].conv2': array([[[[0.01798183, 0.02283037, 0.01992151],\n",
       "           [0.01938767, 0.02139898, 0.01689904],\n",
       "           [0.00716127, 0.00510402, 0.00528305]],\n",
       "  \n",
       "          [[0.01029685, 0.01628297, 0.01545153],\n",
       "           [0.01447486, 0.01664313, 0.0118842 ],\n",
       "           [0.00789188, 0.00959184, 0.00887406]],\n",
       "  \n",
       "          [[0.00461386, 0.00146963, 0.0070674 ],\n",
       "           [0.00112331, 0.00566483, 0.014604  ],\n",
       "           [0.00755478, 0.01948773, 0.01653671]],\n",
       "  \n",
       "          ...,\n",
       "  \n",
       "          [[0.01195561, 0.02786735, 0.03465573],\n",
       "           [0.02220584, 0.03903934, 0.02762975],\n",
       "           [0.02307132, 0.0241369 , 0.01757915]],\n",
       "  \n",
       "          [[0.01413698, 0.01853061, 0.0115402 ],\n",
       "           [0.01207317, 0.01592343, 0.01025929],\n",
       "           [0.00440644, 0.00740338, 0.00555248]],\n",
       "  \n",
       "          [[0.01807779, 0.02413742, 0.01932179],\n",
       "           [0.00979818, 0.01133568, 0.01083644],\n",
       "           [0.00703261, 0.01033009, 0.00907344]]],\n",
       "  \n",
       "  \n",
       "         [[[0.1888584 , 0.15448943, 0.18890168],\n",
       "           [0.23697838, 0.1742033 , 0.21974523],\n",
       "           [0.31348553, 0.24076396, 0.22844878]],\n",
       "  \n",
       "          [[0.07564961, 0.0681962 , 0.07158783],\n",
       "           [0.0699337 , 0.06902704, 0.07289219],\n",
       "           [0.1295833 , 0.12678558, 0.12742876]],\n",
       "  \n",
       "          [[0.26005864, 0.2621952 , 0.17992397],\n",
       "           [0.20957227, 0.17334785, 0.11907332],\n",
       "           [0.11113192, 0.09800366, 0.10638382]],\n",
       "  \n",
       "          ...,\n",
       "  \n",
       "          [[0.17781101, 0.11909366, 0.10038055],\n",
       "           [0.2606735 , 0.21344635, 0.15635084],\n",
       "           [0.43545526, 0.47521448, 0.37737393]],\n",
       "  \n",
       "          [[0.15240565, 0.13875958, 0.09796909],\n",
       "           [0.17740947, 0.18601395, 0.115541  ],\n",
       "           [0.14953673, 0.1701052 , 0.14579175]],\n",
       "  \n",
       "          [[0.2383895 , 0.23284423, 0.21190454],\n",
       "           [0.20270716, 0.1756708 , 0.1589256 ],\n",
       "           [0.18269478, 0.1816075 , 0.19265375]]],\n",
       "  \n",
       "  \n",
       "         [[[0.15788968, 0.16469792, 0.08154538],\n",
       "           [0.1277654 , 0.13298264, 0.04017603],\n",
       "           [0.11849562, 0.1717032 , 0.08715371]],\n",
       "  \n",
       "          [[0.05502288, 0.03648822, 0.03090139],\n",
       "           [0.05553144, 0.0392268 , 0.02591456],\n",
       "           [0.05507844, 0.03325877, 0.0253394 ]],\n",
       "  \n",
       "          [[0.10510132, 0.10637332, 0.09225818],\n",
       "           [0.09654737, 0.11116635, 0.08290685],\n",
       "           [0.04805585, 0.05530456, 0.04323826]],\n",
       "  \n",
       "          ...,\n",
       "  \n",
       "          [[0.06441317, 0.04619137, 0.0535522 ],\n",
       "           [0.04729625, 0.1188665 , 0.05143077],\n",
       "           [0.06632156, 0.13787134, 0.06057326]],\n",
       "  \n",
       "          [[0.06475624, 0.04543105, 0.04739659],\n",
       "           [0.05853312, 0.03811481, 0.02767145],\n",
       "           [0.07537311, 0.04552134, 0.06627515]],\n",
       "  \n",
       "          [[0.10502673, 0.17386156, 0.15556799],\n",
       "           [0.04276542, 0.08706951, 0.12338661],\n",
       "           [0.03197375, 0.08031765, 0.08999711]]],\n",
       "  \n",
       "  \n",
       "         ...,\n",
       "  \n",
       "  \n",
       "         [[[0.0889647 , 0.07038379, 0.03554057],\n",
       "           [0.07410553, 0.06654143, 0.03646504],\n",
       "           [0.04450656, 0.04283213, 0.02835415]],\n",
       "  \n",
       "          [[0.02605323, 0.02305245, 0.02183876],\n",
       "           [0.03771026, 0.03078249, 0.02390328],\n",
       "           [0.04214268, 0.0298504 , 0.02428759]],\n",
       "  \n",
       "          [[0.05426507, 0.0392948 , 0.02362172],\n",
       "           [0.04546937, 0.02721153, 0.0220175 ],\n",
       "           [0.03041458, 0.03547421, 0.03632239]],\n",
       "  \n",
       "          ...,\n",
       "  \n",
       "          [[0.02342216, 0.0346297 , 0.05921858],\n",
       "           [0.02915854, 0.03830471, 0.08426485],\n",
       "           [0.05045187, 0.07555293, 0.11865398]],\n",
       "  \n",
       "          [[0.04309848, 0.03538447, 0.0304347 ],\n",
       "           [0.04463468, 0.04457946, 0.03423146],\n",
       "           [0.02705912, 0.02561608, 0.02280785]],\n",
       "  \n",
       "          [[0.04925799, 0.0791935 , 0.06269743],\n",
       "           [0.05277681, 0.085459  , 0.0637837 ],\n",
       "           [0.05055516, 0.06313808, 0.04214238]]],\n",
       "  \n",
       "  \n",
       "         [[[0.16631481, 0.2086781 , 0.16196595],\n",
       "           [0.18475541, 0.2596717 , 0.21024963],\n",
       "           [0.10056455, 0.12673187, 0.1031938 ]],\n",
       "  \n",
       "          [[0.08242759, 0.08569422, 0.07623447],\n",
       "           [0.09016595, 0.0973193 , 0.0687637 ],\n",
       "           [0.09030507, 0.09374838, 0.05740681]],\n",
       "  \n",
       "          [[0.1310783 , 0.15528995, 0.12090813],\n",
       "           [0.09670924, 0.12025455, 0.10989243],\n",
       "           [0.07288334, 0.09345443, 0.09697895]],\n",
       "  \n",
       "          ...,\n",
       "  \n",
       "          [[0.11624204, 0.16692878, 0.20567356],\n",
       "           [0.1071984 , 0.13185462, 0.15045284],\n",
       "           [0.07615692, 0.078222  , 0.07628623]],\n",
       "  \n",
       "          [[0.10479841, 0.12255806, 0.10666699],\n",
       "           [0.11062314, 0.12545726, 0.09807544],\n",
       "           [0.0868383 , 0.06795791, 0.05632353]],\n",
       "  \n",
       "          [[0.18475795, 0.19546543, 0.16354676],\n",
       "           [0.15902801, 0.1664723 , 0.15557066],\n",
       "           [0.11578291, 0.1456098 , 0.14428575]]],\n",
       "  \n",
       "  \n",
       "         [[[0.00988761, 0.0407921 , 0.03491544],\n",
       "           [0.00576401, 0.01829608, 0.03379722],\n",
       "           [0.00307635, 0.00410872, 0.01240167]],\n",
       "  \n",
       "          [[0.01696   , 0.03407051, 0.0208356 ],\n",
       "           [0.02172868, 0.04087418, 0.02882469],\n",
       "           [0.00310701, 0.01400977, 0.01682986]],\n",
       "  \n",
       "          [[0.00230829, 0.00187364, 0.00606101],\n",
       "           [0.00439442, 0.00621897, 0.01751561],\n",
       "           [0.00295653, 0.01500559, 0.02333406]],\n",
       "  \n",
       "          ...,\n",
       "  \n",
       "          [[0.02349017, 0.01843891, 0.02900779],\n",
       "           [0.01225297, 0.02505294, 0.03750698],\n",
       "           [0.00824272, 0.0203623 , 0.0245606 ]],\n",
       "  \n",
       "          [[0.00570192, 0.01210419, 0.0091158 ],\n",
       "           [0.01083305, 0.02350439, 0.0201654 ],\n",
       "           [0.00290909, 0.01061423, 0.00646101]],\n",
       "  \n",
       "          [[0.01561262, 0.03912755, 0.03568409],\n",
       "           [0.02535176, 0.04406033, 0.03018448],\n",
       "           [0.01272774, 0.02084314, 0.01065512]]]], dtype=float32)},\n",
       " {'layer3[0].conv2': array([[[[0.06216952, 0.07804788, 0.06313238],\n",
       "           [0.06330904, 0.07943611, 0.06276099],\n",
       "           [0.05221812, 0.05890678, 0.05181854]],\n",
       "  \n",
       "          [[0.05770591, 0.04988299, 0.04580356],\n",
       "           [0.05032921, 0.03745272, 0.04587269],\n",
       "           [0.0446277 , 0.03585165, 0.05412659]],\n",
       "  \n",
       "          [[0.05332852, 0.03781791, 0.03366919],\n",
       "           [0.05658392, 0.04056589, 0.03403865],\n",
       "           [0.05732193, 0.04342108, 0.03894326]],\n",
       "  \n",
       "          ...,\n",
       "  \n",
       "          [[0.01488401, 0.00746303, 0.00852112],\n",
       "           [0.0176619 , 0.0106922 , 0.00984444],\n",
       "           [0.01879292, 0.01858141, 0.01618394]],\n",
       "  \n",
       "          [[0.07117204, 0.06581075, 0.06458963],\n",
       "           [0.07582252, 0.07551258, 0.07254937],\n",
       "           [0.07139581, 0.08017937, 0.06470267]],\n",
       "  \n",
       "          [[0.02835075, 0.0278978 , 0.03073016],\n",
       "           [0.02588916, 0.02576428, 0.03327432],\n",
       "           [0.03245601, 0.0252357 , 0.03528049]]],\n",
       "  \n",
       "  \n",
       "         [[[0.05988578, 0.06074852, 0.07440071],\n",
       "           [0.07133953, 0.09203377, 0.13292079],\n",
       "           [0.08810611, 0.14356309, 0.17915624]],\n",
       "  \n",
       "          [[0.20270458, 0.27765366, 0.3997113 ],\n",
       "           [0.30386847, 0.4617957 , 0.56014746],\n",
       "           [0.38614076, 0.5346956 , 0.5429516 ]],\n",
       "  \n",
       "          [[0.06046173, 0.08349551, 0.13948189],\n",
       "           [0.09150871, 0.16353329, 0.23371553],\n",
       "           [0.1533786 , 0.2520985 , 0.29055673]],\n",
       "  \n",
       "          ...,\n",
       "  \n",
       "          [[0.01374477, 0.01877326, 0.02687711],\n",
       "           [0.01826073, 0.02479557, 0.0338771 ],\n",
       "           [0.02295393, 0.02889359, 0.03781698]],\n",
       "  \n",
       "          [[0.10172945, 0.13480316, 0.14885898],\n",
       "           [0.16733702, 0.19880132, 0.18865347],\n",
       "           [0.20095728, 0.21932188, 0.20313105]],\n",
       "  \n",
       "          [[0.1046846 , 0.13464743, 0.17689587],\n",
       "           [0.12383392, 0.16606498, 0.20353118],\n",
       "           [0.11825685, 0.16314688, 0.19654316]]],\n",
       "  \n",
       "  \n",
       "         [[[0.08632725, 0.08601493, 0.10282048],\n",
       "           [0.08696949, 0.09464322, 0.118781  ],\n",
       "           [0.08071119, 0.08875842, 0.103941  ]],\n",
       "  \n",
       "          [[0.2993517 , 0.3235124 , 0.342202  ],\n",
       "           [0.34082663, 0.35813165, 0.33249557],\n",
       "           [0.36508942, 0.33406729, 0.272621  ]],\n",
       "  \n",
       "          [[0.12263546, 0.12318935, 0.13866854],\n",
       "           [0.14081706, 0.1597949 , 0.17491373],\n",
       "           [0.14148206, 0.14977066, 0.16244416]],\n",
       "  \n",
       "          ...,\n",
       "  \n",
       "          [[0.0435755 , 0.04526972, 0.05043015],\n",
       "           [0.05357502, 0.05752304, 0.06044714],\n",
       "           [0.0586689 , 0.06087837, 0.05968392]],\n",
       "  \n",
       "          [[0.1768536 , 0.18361428, 0.16595419],\n",
       "           [0.15534051, 0.16103132, 0.15637751],\n",
       "           [0.132702  , 0.1314588 , 0.14042994]],\n",
       "  \n",
       "          [[0.12406708, 0.12279319, 0.12722377],\n",
       "           [0.13992482, 0.14395806, 0.1381149 ],\n",
       "           [0.16685076, 0.15380348, 0.14022978]]],\n",
       "  \n",
       "  \n",
       "         ...,\n",
       "  \n",
       "  \n",
       "         [[[0.01092942, 0.01040831, 0.03285016],\n",
       "           [0.01412485, 0.0104539 , 0.03420343],\n",
       "           [0.01246833, 0.01483066, 0.03852275]],\n",
       "  \n",
       "          [[0.11630247, 0.11566954, 0.05626114],\n",
       "           [0.0740163 , 0.07502192, 0.05634277],\n",
       "           [0.08126176, 0.08528786, 0.07621071]],\n",
       "  \n",
       "          [[0.0369968 , 0.07146687, 0.08572759],\n",
       "           [0.02201603, 0.05737594, 0.08674674],\n",
       "           [0.01873615, 0.04355473, 0.07026649]],\n",
       "  \n",
       "          ...,\n",
       "  \n",
       "          [[0.0135866 , 0.01587798, 0.01602884],\n",
       "           [0.01222627, 0.01618197, 0.01384085],\n",
       "           [0.00950911, 0.01437694, 0.01700277]],\n",
       "  \n",
       "          [[0.07296459, 0.07929053, 0.11431191],\n",
       "           [0.06156784, 0.08925072, 0.12129552],\n",
       "           [0.04798798, 0.06390191, 0.07806778]],\n",
       "  \n",
       "          [[0.04653999, 0.08027402, 0.07209393],\n",
       "           [0.03208258, 0.04628533, 0.03707333],\n",
       "           [0.0328246 , 0.03393584, 0.03306954]]],\n",
       "  \n",
       "  \n",
       "         [[[0.01283707, 0.02339833, 0.05298412],\n",
       "           [0.0085294 , 0.0067267 , 0.03169701],\n",
       "           [0.00719223, 0.00647798, 0.01682057]],\n",
       "  \n",
       "          [[0.01372414, 0.01469667, 0.0034484 ],\n",
       "           [0.00677244, 0.00824817, 0.02012436],\n",
       "           [0.01800561, 0.0368686 , 0.03407969]],\n",
       "  \n",
       "          [[0.01729782, 0.03587209, 0.06662802],\n",
       "           [0.00665326, 0.00613644, 0.02105627],\n",
       "           [0.00464718, 0.00767609, 0.00492297]],\n",
       "  \n",
       "          ...,\n",
       "  \n",
       "          [[0.00361144, 0.00890083, 0.00557279],\n",
       "           [0.00685972, 0.00868343, 0.00972912],\n",
       "           [0.00705525, 0.01016089, 0.00891805]],\n",
       "  \n",
       "          [[0.01194175, 0.02061782, 0.00940092],\n",
       "           [0.00837415, 0.01027222, 0.02168836],\n",
       "           [0.00887734, 0.01085077, 0.01437961]],\n",
       "  \n",
       "          [[0.04380031, 0.05865405, 0.05043517],\n",
       "           [0.03672119, 0.0458497 , 0.03544438],\n",
       "           [0.00767356, 0.01939153, 0.0150983 ]]],\n",
       "  \n",
       "  \n",
       "         [[[0.08479163, 0.09428498, 0.11979257],\n",
       "           [0.11836413, 0.13780731, 0.13651901],\n",
       "           [0.14557007, 0.16414511, 0.1347446 ]],\n",
       "  \n",
       "          [[0.17001912, 0.1984804 , 0.2602063 ],\n",
       "           [0.2075966 , 0.2313427 , 0.23483491],\n",
       "           [0.20264539, 0.20069215, 0.17475654]],\n",
       "  \n",
       "          [[0.15579222, 0.17282021, 0.18978168],\n",
       "           [0.2066941 , 0.22936118, 0.20601302],\n",
       "           [0.23128612, 0.2509847 , 0.20298548]],\n",
       "  \n",
       "          ...,\n",
       "  \n",
       "          [[0.04784913, 0.0542211 , 0.05422105],\n",
       "           [0.0342591 , 0.03925269, 0.03970135],\n",
       "           [0.02573003, 0.0279041 , 0.02639664]],\n",
       "  \n",
       "          [[0.15245116, 0.15314598, 0.13248822],\n",
       "           [0.14246736, 0.13391164, 0.11566814],\n",
       "           [0.12527213, 0.1178479 , 0.11360392]],\n",
       "  \n",
       "          [[0.13838018, 0.15315935, 0.15432605],\n",
       "           [0.128043  , 0.13467585, 0.12901382],\n",
       "           [0.1042818 , 0.10549871, 0.08726052]]]], dtype=float32),\n",
       "  'layer3[1].conv2': array([[[[0.02271318, 0.01264931, 0.00248194],\n",
       "           [0.0161755 , 0.00292106, 0.00280772],\n",
       "           [0.00706602, 0.01549545, 0.00395293]],\n",
       "  \n",
       "          [[0.00540975, 0.02029425, 0.02317828],\n",
       "           [0.01877936, 0.029714  , 0.01005736],\n",
       "           [0.04929161, 0.01728781, 0.02230649]],\n",
       "  \n",
       "          [[0.00876596, 0.01213536, 0.00596529],\n",
       "           [0.01390945, 0.01816106, 0.00528533],\n",
       "           [0.02002664, 0.01875198, 0.00598246]],\n",
       "  \n",
       "          ...,\n",
       "  \n",
       "          [[0.03618193, 0.03826245, 0.02853023],\n",
       "           [0.03196513, 0.02413623, 0.02936818],\n",
       "           [0.00827014, 0.00892625, 0.02461329]],\n",
       "  \n",
       "          [[0.03427795, 0.02941518, 0.00827132],\n",
       "           [0.03039463, 0.02622903, 0.01457811],\n",
       "           [0.00935484, 0.00443295, 0.01102706]],\n",
       "  \n",
       "          [[0.04755574, 0.04418662, 0.02607378],\n",
       "           [0.05280996, 0.02037532, 0.01042131],\n",
       "           [0.03180992, 0.01329843, 0.01401935]]],\n",
       "  \n",
       "  \n",
       "         [[[0.02012659, 0.03057827, 0.03035779],\n",
       "           [0.00808327, 0.03716224, 0.03397285],\n",
       "           [0.00487444, 0.00975603, 0.01029738]],\n",
       "  \n",
       "          [[0.01358923, 0.01517421, 0.01560631],\n",
       "           [0.01482384, 0.01905253, 0.01587808],\n",
       "           [0.0076604 , 0.02879104, 0.03331726]],\n",
       "  \n",
       "          [[0.0076061 , 0.00442459, 0.00454892],\n",
       "           [0.01495728, 0.02200996, 0.02749681],\n",
       "           [0.02000677, 0.03227522, 0.03473165]],\n",
       "  \n",
       "          ...,\n",
       "  \n",
       "          [[0.00999876, 0.01043047, 0.01451804],\n",
       "           [0.02048245, 0.02523741, 0.01972714],\n",
       "           [0.04074134, 0.04838757, 0.02849479]],\n",
       "  \n",
       "          [[0.01566887, 0.01424817, 0.02923137],\n",
       "           [0.0230117 , 0.01385331, 0.01464531],\n",
       "           [0.01873182, 0.012008  , 0.0215801 ]],\n",
       "  \n",
       "          [[0.047888  , 0.02579941, 0.02966154],\n",
       "           [0.01722601, 0.01271996, 0.01216052],\n",
       "           [0.00887363, 0.00822554, 0.01358941]]],\n",
       "  \n",
       "  \n",
       "         [[[0.03753534, 0.04034368, 0.03016546],\n",
       "           [0.03129677, 0.04268008, 0.03545063],\n",
       "           [0.0133783 , 0.03561346, 0.03314419]],\n",
       "  \n",
       "          [[0.07640239, 0.07205012, 0.05674445],\n",
       "           [0.09437428, 0.03946365, 0.03510264],\n",
       "           [0.07298812, 0.03060493, 0.02422408]],\n",
       "  \n",
       "          [[0.01740526, 0.01615038, 0.02559942],\n",
       "           [0.03713609, 0.03178222, 0.03613684],\n",
       "           [0.08904582, 0.09751375, 0.07736695]],\n",
       "  \n",
       "          ...,\n",
       "  \n",
       "          [[0.09568565, 0.1030307 , 0.15352237],\n",
       "           [0.07444499, 0.0781743 , 0.13569447],\n",
       "           [0.08606385, 0.10955594, 0.1351342 ]],\n",
       "  \n",
       "          [[0.03575795, 0.03851159, 0.05886203],\n",
       "           [0.03620379, 0.0418894 , 0.09569433],\n",
       "           [0.03460845, 0.06440047, 0.09243637]],\n",
       "  \n",
       "          [[0.03101382, 0.00847724, 0.03866955],\n",
       "           [0.04122747, 0.01625806, 0.04053376],\n",
       "           [0.04599118, 0.04726481, 0.05447838]]],\n",
       "  \n",
       "  \n",
       "         ...,\n",
       "  \n",
       "  \n",
       "         [[[0.0198871 , 0.01743217, 0.01682694],\n",
       "           [0.03458143, 0.02585697, 0.01893409],\n",
       "           [0.02518651, 0.02060826, 0.01736858]],\n",
       "  \n",
       "          [[0.01303223, 0.02270224, 0.0271645 ],\n",
       "           [0.01324358, 0.02265963, 0.03140343],\n",
       "           [0.00984529, 0.02704671, 0.05114486]],\n",
       "  \n",
       "          [[0.01457954, 0.01503407, 0.01924135],\n",
       "           [0.01763484, 0.01765274, 0.01603408],\n",
       "           [0.01704409, 0.0117056 , 0.00757306]],\n",
       "  \n",
       "          ...,\n",
       "  \n",
       "          [[0.02138223, 0.01954094, 0.01350375],\n",
       "           [0.02345426, 0.02528544, 0.02366203],\n",
       "           [0.03681765, 0.05018096, 0.04276203]],\n",
       "  \n",
       "          [[0.02601941, 0.03592691, 0.02397154],\n",
       "           [0.01948331, 0.0370922 , 0.03302183],\n",
       "           [0.0281118 , 0.03973893, 0.03326866]],\n",
       "  \n",
       "          [[0.01468842, 0.02573062, 0.03223002],\n",
       "           [0.02653006, 0.04100969, 0.02673299],\n",
       "           [0.02049734, 0.02467014, 0.01801236]]],\n",
       "  \n",
       "  \n",
       "         [[[0.01138479, 0.01295772, 0.01514344],\n",
       "           [0.01429211, 0.01372337, 0.00993993],\n",
       "           [0.02282535, 0.03001466, 0.01998948]],\n",
       "  \n",
       "          [[0.03489337, 0.03883706, 0.03751937],\n",
       "           [0.01254208, 0.04385568, 0.04877988],\n",
       "           [0.01084943, 0.02685782, 0.01911814]],\n",
       "  \n",
       "          [[0.00933099, 0.00952424, 0.01346119],\n",
       "           [0.00966766, 0.01187372, 0.00537518],\n",
       "           [0.00367202, 0.00368186, 0.00337742]],\n",
       "  \n",
       "          ...,\n",
       "  \n",
       "          [[0.02180104, 0.01947881, 0.01002359],\n",
       "           [0.03634946, 0.03721695, 0.01770364],\n",
       "           [0.02041521, 0.03102803, 0.01998898]],\n",
       "  \n",
       "          [[0.01398537, 0.00916732, 0.01097494],\n",
       "           [0.01101294, 0.01019053, 0.00471499],\n",
       "           [0.00978323, 0.01266838, 0.01092413]],\n",
       "  \n",
       "          [[0.00750717, 0.0096788 , 0.00972667],\n",
       "           [0.00403962, 0.00519935, 0.00349666],\n",
       "           [0.0188692 , 0.00699833, 0.01004981]]],\n",
       "  \n",
       "  \n",
       "         [[[0.01113738, 0.01199263, 0.02415743],\n",
       "           [0.01249086, 0.01046539, 0.02807479],\n",
       "           [0.01690614, 0.01000445, 0.03611738]],\n",
       "  \n",
       "          [[0.01590361, 0.04830912, 0.01315392],\n",
       "           [0.022317  , 0.04682321, 0.01427142],\n",
       "           [0.00544871, 0.00870356, 0.03163636]],\n",
       "  \n",
       "          [[0.00512635, 0.00790306, 0.01333166],\n",
       "           [0.01903472, 0.01008482, 0.02189192],\n",
       "           [0.00875782, 0.00373147, 0.01661292]],\n",
       "  \n",
       "          ...,\n",
       "  \n",
       "          [[0.03212088, 0.0159546 , 0.03939137],\n",
       "           [0.01023002, 0.00351938, 0.0470297 ],\n",
       "           [0.00772085, 0.00640302, 0.03160569]],\n",
       "  \n",
       "          [[0.03527568, 0.01156264, 0.03271621],\n",
       "           [0.03684254, 0.01649622, 0.04225372],\n",
       "           [0.0328994 , 0.01670279, 0.03350938]],\n",
       "  \n",
       "          [[0.01201182, 0.03318113, 0.02364342],\n",
       "           [0.01543876, 0.04815111, 0.01718648],\n",
       "           [0.0188485 , 0.04524942, 0.02000739]]]], dtype=float32),\n",
       "  'layer3[5].conv2': array([[[[0.3007717 , 0.3535289 , 0.3303424 ],\n",
       "           [0.5629143 , 0.6006578 , 0.3409529 ],\n",
       "           [0.7636288 , 0.7239902 , 0.32853058]],\n",
       "  \n",
       "          [[0.21612626, 0.23004556, 0.24999808],\n",
       "           [0.39854482, 0.28177604, 0.172817  ],\n",
       "           [0.58265674, 0.33917218, 0.15361197]],\n",
       "  \n",
       "          [[0.61505544, 0.3411397 , 0.3593599 ],\n",
       "           [0.3259459 , 0.3519535 , 0.61304694],\n",
       "           [0.20517676, 0.5004767 , 0.7330302 ]],\n",
       "  \n",
       "          ...,\n",
       "  \n",
       "          [[0.35115305, 0.46008497, 0.5541641 ],\n",
       "           [0.33756796, 0.56148356, 0.6163044 ],\n",
       "           [0.24278627, 0.39145076, 0.35848665]],\n",
       "  \n",
       "          [[0.47322366, 0.42526835, 0.26085204],\n",
       "           [0.44228774, 0.3941831 , 0.23242287],\n",
       "           [0.14699394, 0.16419858, 0.19546911]],\n",
       "  \n",
       "          [[0.29906484, 0.47340697, 0.48571756],\n",
       "           [0.2718749 , 0.42847747, 0.48933852],\n",
       "           [0.3551112 , 0.5419529 , 0.55142194]]],\n",
       "  \n",
       "  \n",
       "         [[[0.16032228, 0.14468592, 0.21256804],\n",
       "           [0.28139174, 0.2580355 , 0.29828838],\n",
       "           [0.5300793 , 0.61537576, 0.5483221 ]],\n",
       "  \n",
       "          [[0.13324016, 0.1279547 , 0.17649189],\n",
       "           [0.13118973, 0.1329375 , 0.15218975],\n",
       "           [0.31702974, 0.3066582 , 0.2365951 ]],\n",
       "  \n",
       "          [[0.5980488 , 0.5618421 , 0.29840437],\n",
       "           [0.47829133, 0.45513272, 0.28207874],\n",
       "           [0.18313803, 0.2357479 , 0.3092299 ]],\n",
       "  \n",
       "          ...,\n",
       "  \n",
       "          [[0.16697957, 0.13004859, 0.17955932],\n",
       "           [0.23518632, 0.23450199, 0.31954864],\n",
       "           [0.24951735, 0.27851084, 0.30921015]],\n",
       "  \n",
       "          [[0.20951909, 0.25822452, 0.23153786],\n",
       "           [0.36200592, 0.51633906, 0.42484665],\n",
       "           [0.2681111 , 0.35798466, 0.31625518]],\n",
       "  \n",
       "          [[0.29921758, 0.30620003, 0.31517446],\n",
       "           [0.2756016 , 0.2617766 , 0.29208943],\n",
       "           [0.22776859, 0.26804328, 0.3342553 ]]],\n",
       "  \n",
       "  \n",
       "         [[[0.02048166, 0.01442642, 0.00681514],\n",
       "           [0.02898152, 0.01009661, 0.01244839],\n",
       "           [0.03613286, 0.0151691 , 0.00486125]],\n",
       "  \n",
       "          [[0.04814072, 0.10696457, 0.07609548],\n",
       "           [0.02573569, 0.08373341, 0.05405842],\n",
       "           [0.04173839, 0.01087082, 0.00531112]],\n",
       "  \n",
       "          [[0.01160673, 0.01817024, 0.07793929],\n",
       "           [0.0155202 , 0.07022296, 0.16262682],\n",
       "           [0.01593622, 0.07253643, 0.11395834]],\n",
       "  \n",
       "          ...,\n",
       "  \n",
       "          [[0.0429087 , 0.07250425, 0.07592752],\n",
       "           [0.05159848, 0.09571479, 0.04800412],\n",
       "           [0.01298549, 0.01921153, 0.02079318]],\n",
       "  \n",
       "          [[0.0256825 , 0.04814541, 0.02943219],\n",
       "           [0.0274899 , 0.05313194, 0.03142935],\n",
       "           [0.02474616, 0.0360484 , 0.02735003]],\n",
       "  \n",
       "          [[0.11491608, 0.13265713, 0.03275445],\n",
       "           [0.11099909, 0.09929477, 0.00815107],\n",
       "           [0.03807562, 0.00985939, 0.03685789]]],\n",
       "  \n",
       "  \n",
       "         ...,\n",
       "  \n",
       "  \n",
       "         [[[0.1376821 , 0.09657924, 0.07049538],\n",
       "           [0.11890426, 0.08392014, 0.06650919],\n",
       "           [0.11596503, 0.0868168 , 0.05549438]],\n",
       "  \n",
       "          [[0.06219807, 0.04736117, 0.0405472 ],\n",
       "           [0.05832478, 0.03570243, 0.03402076],\n",
       "           [0.10065242, 0.05928555, 0.05209316]],\n",
       "  \n",
       "          [[0.21095107, 0.12795594, 0.07703143],\n",
       "           [0.20224012, 0.09503874, 0.08462271],\n",
       "           [0.10938402, 0.08175093, 0.10220381]],\n",
       "  \n",
       "          ...,\n",
       "  \n",
       "          [[0.06004034, 0.0690623 , 0.08750864],\n",
       "           [0.06089899, 0.08889508, 0.0997038 ],\n",
       "           [0.08716232, 0.12190451, 0.11266281]],\n",
       "  \n",
       "          [[0.07160973, 0.07988132, 0.05827809],\n",
       "           [0.0853706 , 0.07988889, 0.07096989],\n",
       "           [0.05680738, 0.04302882, 0.04507419]],\n",
       "  \n",
       "          [[0.06926275, 0.08666796, 0.1058054 ],\n",
       "           [0.08322504, 0.1056271 , 0.13240434],\n",
       "           [0.11467843, 0.14690334, 0.14644021]]],\n",
       "  \n",
       "  \n",
       "         [[[0.08346172, 0.08715881, 0.07003207],\n",
       "           [0.08695978, 0.09138862, 0.08900023],\n",
       "           [0.04391138, 0.04058431, 0.03263254]],\n",
       "  \n",
       "          [[0.0297195 , 0.04705699, 0.04333118],\n",
       "           [0.06480785, 0.08684702, 0.06820378],\n",
       "           [0.0579833 , 0.07302205, 0.06406137]],\n",
       "  \n",
       "          [[0.08040448, 0.13056374, 0.10473011],\n",
       "           [0.09598947, 0.12413488, 0.08949378],\n",
       "           [0.07108785, 0.07606006, 0.05808579]],\n",
       "  \n",
       "          ...,\n",
       "  \n",
       "          [[0.02473182, 0.04241124, 0.0430348 ],\n",
       "           [0.01483289, 0.0112497 , 0.00659885],\n",
       "           [0.019458  , 0.01490912, 0.01836005]],\n",
       "  \n",
       "          [[0.02493714, 0.03678792, 0.03764495],\n",
       "           [0.0111581 , 0.00291075, 0.00106152],\n",
       "           [0.03694897, 0.03452701, 0.0305072 ]],\n",
       "  \n",
       "          [[0.10284395, 0.09902863, 0.06694396],\n",
       "           [0.13009937, 0.12517895, 0.10248206],\n",
       "           [0.10094936, 0.10054679, 0.08927801]]],\n",
       "  \n",
       "  \n",
       "         [[[0.1076075 , 0.21117531, 0.2681145 ],\n",
       "           [0.07393867, 0.0972201 , 0.16168271],\n",
       "           [0.16280101, 0.18375368, 0.16071539]],\n",
       "  \n",
       "          [[0.29675895, 0.41841197, 0.3262727 ],\n",
       "           [0.18425304, 0.28945825, 0.2613954 ],\n",
       "           [0.12884985, 0.15756713, 0.1567566 ]],\n",
       "  \n",
       "          [[0.25720647, 0.20690763, 0.23232663],\n",
       "           [0.35583818, 0.27319592, 0.31612533],\n",
       "           [0.25907254, 0.21208218, 0.37470752]],\n",
       "  \n",
       "          ...,\n",
       "  \n",
       "          [[0.1665711 , 0.1317461 , 0.1429385 ],\n",
       "           [0.192307  , 0.19215414, 0.22220753],\n",
       "           [0.16800272, 0.24197036, 0.31287113]],\n",
       "  \n",
       "          [[0.16304915, 0.13762447, 0.16120593],\n",
       "           [0.2517955 , 0.22513022, 0.19720846],\n",
       "           [0.3091588 , 0.2943407 , 0.23309359]],\n",
       "  \n",
       "          [[0.1605407 , 0.32586285, 0.44678155],\n",
       "           [0.14858483, 0.25190637, 0.28482893],\n",
       "           [0.16583864, 0.19529097, 0.20272845]]]], dtype=float32)},\n",
       " {'layer3[0].conv2': array([[[[0.02679279, 0.03408527, 0.03675308],\n",
       "           [0.01739124, 0.02535242, 0.03616598],\n",
       "           [0.02359812, 0.03653882, 0.04581953]],\n",
       "  \n",
       "          [[0.03743344, 0.0421995 , 0.06238635],\n",
       "           [0.03844054, 0.04705571, 0.08153827],\n",
       "           [0.045705  , 0.05858282, 0.09173483]],\n",
       "  \n",
       "          [[0.02104584, 0.01479152, 0.02751819],\n",
       "           [0.01658483, 0.01445271, 0.02944059],\n",
       "           [0.02432447, 0.03044197, 0.04318135]],\n",
       "  \n",
       "          ...,\n",
       "  \n",
       "          [[0.01964499, 0.01290695, 0.01289185],\n",
       "           [0.02132926, 0.01873746, 0.01718445],\n",
       "           [0.02411284, 0.03351286, 0.0262916 ]],\n",
       "  \n",
       "          [[0.08378288, 0.09453269, 0.08574028],\n",
       "           [0.1010228 , 0.12209263, 0.10016917],\n",
       "           [0.10728986, 0.12574293, 0.1060639 ]],\n",
       "  \n",
       "          [[0.02222901, 0.02629286, 0.03004507],\n",
       "           [0.03219003, 0.03412433, 0.0372673 ],\n",
       "           [0.03500652, 0.03751439, 0.0449191 ]]],\n",
       "  \n",
       "  \n",
       "         [[[0.03667351, 0.0416237 , 0.01836811],\n",
       "           [0.05460073, 0.0723643 , 0.04336676],\n",
       "           [0.04871372, 0.06689513, 0.04643602]],\n",
       "  \n",
       "          [[0.1684314 , 0.13927387, 0.04665425],\n",
       "           [0.16171493, 0.13209835, 0.05603375],\n",
       "           [0.10026497, 0.08375573, 0.06803142]],\n",
       "  \n",
       "          [[0.06759022, 0.05672304, 0.04856281],\n",
       "           [0.10521948, 0.10679735, 0.09833347],\n",
       "           [0.10374476, 0.12284767, 0.11834704]],\n",
       "  \n",
       "          ...,\n",
       "  \n",
       "          [[0.03572198, 0.04933555, 0.04545538],\n",
       "           [0.03224916, 0.04819562, 0.05812062],\n",
       "           [0.02237394, 0.04801964, 0.05199854]],\n",
       "  \n",
       "          [[0.03664782, 0.03492675, 0.07067083],\n",
       "           [0.03929394, 0.05202965, 0.08713669],\n",
       "           [0.04227679, 0.09352659, 0.12175874]],\n",
       "  \n",
       "          [[0.11201571, 0.15071967, 0.17629348],\n",
       "           [0.09154243, 0.151221  , 0.18114488],\n",
       "           [0.09265158, 0.15946606, 0.18563482]]],\n",
       "  \n",
       "  \n",
       "         [[[0.11178768, 0.09925194, 0.09764782],\n",
       "           [0.08276626, 0.05752886, 0.0746376 ],\n",
       "           [0.08665524, 0.06920487, 0.08160368]],\n",
       "  \n",
       "          [[0.16992697, 0.11122973, 0.14848721],\n",
       "           [0.177011  , 0.14660099, 0.19771345],\n",
       "           [0.23122406, 0.22914484, 0.21890308]],\n",
       "  \n",
       "          [[0.15568359, 0.14455785, 0.15690754],\n",
       "           [0.14470387, 0.13552597, 0.149844  ],\n",
       "           [0.13844785, 0.14410265, 0.1563741 ]],\n",
       "  \n",
       "          ...,\n",
       "  \n",
       "          [[0.05311953, 0.05753905, 0.06208266],\n",
       "           [0.05726949, 0.05081055, 0.05518249],\n",
       "           [0.03609147, 0.0295951 , 0.02593284]],\n",
       "  \n",
       "          [[0.15119116, 0.18041635, 0.17030695],\n",
       "           [0.10329168, 0.11404957, 0.10850009],\n",
       "           [0.0789307 , 0.06507066, 0.07402638]],\n",
       "  \n",
       "          [[0.1038829 , 0.0987673 , 0.10887394],\n",
       "           [0.12368634, 0.11835705, 0.11998665],\n",
       "           [0.15017432, 0.14232281, 0.11623175]]],\n",
       "  \n",
       "  \n",
       "         ...,\n",
       "  \n",
       "  \n",
       "         [[[0.10352516, 0.09619338, 0.09148004],\n",
       "           [0.10163027, 0.06400547, 0.06349956],\n",
       "           [0.09976763, 0.06924223, 0.05865031]],\n",
       "  \n",
       "          [[0.20829587, 0.17410474, 0.11673167],\n",
       "           [0.1682906 , 0.12111261, 0.1322912 ],\n",
       "           [0.15600187, 0.14864469, 0.17087011]],\n",
       "  \n",
       "          [[0.14247294, 0.13006896, 0.12993705],\n",
       "           [0.13508514, 0.08875177, 0.09075338],\n",
       "           [0.1450729 , 0.10460193, 0.0930345 ]],\n",
       "  \n",
       "          ...,\n",
       "  \n",
       "          [[0.10141943, 0.09652651, 0.08787213],\n",
       "           [0.10205156, 0.08259878, 0.08443193],\n",
       "           [0.07306927, 0.05918612, 0.06031801]],\n",
       "  \n",
       "          [[0.153819  , 0.13806821, 0.13681479],\n",
       "           [0.09235722, 0.07798521, 0.07523184],\n",
       "           [0.09301395, 0.07120278, 0.07648131]],\n",
       "  \n",
       "          [[0.13559239, 0.13038652, 0.0926195 ],\n",
       "           [0.11092032, 0.10011872, 0.07235163],\n",
       "           [0.09710076, 0.08948551, 0.08043692]]],\n",
       "  \n",
       "  \n",
       "         [[[0.06304165, 0.13085146, 0.24456446],\n",
       "           [0.09777498, 0.16634691, 0.26286164],\n",
       "           [0.11191316, 0.15592733, 0.21011545]],\n",
       "  \n",
       "          [[0.33197632, 0.3104144 , 0.25773457],\n",
       "           [0.29581988, 0.2698586 , 0.24520153],\n",
       "           [0.23029026, 0.21603873, 0.2373928 ]],\n",
       "  \n",
       "          [[0.13665959, 0.3000867 , 0.40468055],\n",
       "           [0.18543327, 0.34724435, 0.41326454],\n",
       "           [0.1961025 , 0.28279573, 0.278168  ]],\n",
       "  \n",
       "          ...,\n",
       "  \n",
       "          [[0.08623236, 0.11097057, 0.13699897],\n",
       "           [0.1020905 , 0.11816705, 0.14798659],\n",
       "           [0.08393689, 0.10428761, 0.13095137]],\n",
       "  \n",
       "          [[0.19084413, 0.24838178, 0.23701301],\n",
       "           [0.20304713, 0.24929303, 0.20855476],\n",
       "           [0.16866928, 0.16062798, 0.1142464 ]],\n",
       "  \n",
       "          [[0.2707707 , 0.26827145, 0.17868535],\n",
       "           [0.24999166, 0.21848732, 0.10413035],\n",
       "           [0.19228661, 0.13825795, 0.05527316]]],\n",
       "  \n",
       "  \n",
       "         [[[0.1305166 , 0.15634285, 0.17829013],\n",
       "           [0.15974374, 0.17111792, 0.18246949],\n",
       "           [0.13517839, 0.15026326, 0.16703103]],\n",
       "  \n",
       "          [[0.24484885, 0.22662577, 0.22018199],\n",
       "           [0.23726259, 0.21432073, 0.20667973],\n",
       "           [0.23462829, 0.23863454, 0.23295671]],\n",
       "  \n",
       "          [[0.19568524, 0.23041804, 0.24402457],\n",
       "           [0.22159526, 0.25863957, 0.24276224],\n",
       "           [0.18150866, 0.21516787, 0.20415984]],\n",
       "  \n",
       "          ...,\n",
       "  \n",
       "          [[0.06751621, 0.06226262, 0.08599372],\n",
       "           [0.06672364, 0.06429043, 0.09365694],\n",
       "           [0.07702209, 0.0741851 , 0.09164591]],\n",
       "  \n",
       "          [[0.18921494, 0.19746828, 0.19780143],\n",
       "           [0.19594337, 0.1890872 , 0.19501634],\n",
       "           [0.18389517, 0.18950975, 0.18167523]],\n",
       "  \n",
       "          [[0.11340769, 0.09836914, 0.10183059],\n",
       "           [0.10884727, 0.09506576, 0.1002128 ],\n",
       "           [0.11972956, 0.11084961, 0.11813153]]]], dtype=float32),\n",
       "  'layer3[1].conv2': array([[[[0.06893411, 0.03626391, 0.0111096 ],\n",
       "           [0.07106728, 0.03267833, 0.00903686],\n",
       "           [0.04043756, 0.00537824, 0.03460358]],\n",
       "  \n",
       "          [[0.00872174, 0.00959373, 0.01239046],\n",
       "           [0.01090119, 0.01069857, 0.01830623],\n",
       "           [0.01727992, 0.06325909, 0.02973363]],\n",
       "  \n",
       "          [[0.07643912, 0.10646027, 0.06384366],\n",
       "           [0.02812474, 0.05401741, 0.01068359],\n",
       "           [0.01103795, 0.02295548, 0.006867  ]],\n",
       "  \n",
       "          ...,\n",
       "  \n",
       "          [[0.00913171, 0.03468638, 0.04571569],\n",
       "           [0.00920287, 0.03251885, 0.08237034],\n",
       "           [0.02749042, 0.01701898, 0.06318479]],\n",
       "  \n",
       "          [[0.03885683, 0.02332735, 0.00931391],\n",
       "           [0.05591374, 0.02881849, 0.00390868],\n",
       "           [0.0349816 , 0.00882894, 0.00637805]],\n",
       "  \n",
       "          [[0.01369914, 0.00314488, 0.00531494],\n",
       "           [0.00495875, 0.02494935, 0.01552417],\n",
       "           [0.00556061, 0.01136413, 0.0142064 ]]],\n",
       "  \n",
       "  \n",
       "         [[[0.00329294, 0.00523102, 0.00497008],\n",
       "           [0.01303621, 0.01238219, 0.01671211],\n",
       "           [0.01009037, 0.01237523, 0.01310078]],\n",
       "  \n",
       "          [[0.04397913, 0.03085635, 0.04345066],\n",
       "           [0.02928808, 0.00513916, 0.00458512],\n",
       "           [0.02948464, 0.00305661, 0.00606478]],\n",
       "  \n",
       "          [[0.00524663, 0.00218538, 0.00456368],\n",
       "           [0.02293318, 0.0307947 , 0.02589724],\n",
       "           [0.02501503, 0.02936781, 0.01120508]],\n",
       "  \n",
       "          ...,\n",
       "  \n",
       "          [[0.03369803, 0.02941691, 0.0467085 ],\n",
       "           [0.03764097, 0.02003068, 0.02413202],\n",
       "           [0.0340896 , 0.02285748, 0.03329402]],\n",
       "  \n",
       "          [[0.01369468, 0.0022491 , 0.01020691],\n",
       "           [0.00448837, 0.01245034, 0.00993935],\n",
       "           [0.00182386, 0.00430497, 0.00946758]],\n",
       "  \n",
       "          [[0.03058917, 0.01697328, 0.02456581],\n",
       "           [0.02018062, 0.00351406, 0.01271456],\n",
       "           [0.00685143, 0.0030078 , 0.00738882]]],\n",
       "  \n",
       "  \n",
       "         [[[0.02393086, 0.01284756, 0.05521652],\n",
       "           [0.07642807, 0.030232  , 0.02537814],\n",
       "           [0.07358298, 0.01855127, 0.02718529]],\n",
       "  \n",
       "          [[0.05626971, 0.02517439, 0.0171435 ],\n",
       "           [0.02384649, 0.01902541, 0.02481657],\n",
       "           [0.06271072, 0.00231842, 0.03653316]],\n",
       "  \n",
       "          [[0.0072026 , 0.01913947, 0.02021832],\n",
       "           [0.03077282, 0.10329951, 0.05855349],\n",
       "           [0.02566402, 0.11154758, 0.02766672]],\n",
       "  \n",
       "          ...,\n",
       "  \n",
       "          [[0.04714158, 0.00565825, 0.03065842],\n",
       "           [0.03851125, 0.06071538, 0.04366894],\n",
       "           [0.05007162, 0.00494351, 0.01475597]],\n",
       "  \n",
       "          [[0.02327831, 0.01483229, 0.01772215],\n",
       "           [0.05605373, 0.0398054 , 0.0100069 ],\n",
       "           [0.03660375, 0.02091835, 0.01083401]],\n",
       "  \n",
       "          [[0.03213175, 0.07219039, 0.06125741],\n",
       "           [0.03286812, 0.05273173, 0.07291468],\n",
       "           [0.02585431, 0.03050868, 0.02880466]]],\n",
       "  \n",
       "  \n",
       "         ...,\n",
       "  \n",
       "  \n",
       "         [[[0.0233392 , 0.03971679, 0.04148907],\n",
       "           [0.02278678, 0.03325173, 0.03632547],\n",
       "           [0.02308598, 0.02965752, 0.02662266]],\n",
       "  \n",
       "          [[0.0102288 , 0.01333719, 0.01386921],\n",
       "           [0.00236426, 0.01154576, 0.02951228],\n",
       "           [0.00494877, 0.03344931, 0.07062456]],\n",
       "  \n",
       "          [[0.04947694, 0.035572  , 0.03753955],\n",
       "           [0.06017785, 0.04385702, 0.03504109],\n",
       "           [0.0478301 , 0.02628603, 0.01862664]],\n",
       "  \n",
       "          ...,\n",
       "  \n",
       "          [[0.01312518, 0.02030092, 0.02180247],\n",
       "           [0.02430169, 0.05189655, 0.03850089],\n",
       "           [0.03964421, 0.08437295, 0.05872537]],\n",
       "  \n",
       "          [[0.01755762, 0.02425236, 0.0212582 ],\n",
       "           [0.0281465 , 0.04382848, 0.02636177],\n",
       "           [0.03763459, 0.06228443, 0.03476942]],\n",
       "  \n",
       "          [[0.02140513, 0.03285731, 0.02915451],\n",
       "           [0.01667404, 0.02649904, 0.03094681],\n",
       "           [0.0183843 , 0.02073159, 0.02594922]]],\n",
       "  \n",
       "  \n",
       "         [[[0.01248646, 0.01719556, 0.01175859],\n",
       "           [0.00904231, 0.00924987, 0.00379811],\n",
       "           [0.01174354, 0.00702307, 0.00120448]],\n",
       "  \n",
       "          [[0.0074969 , 0.01555408, 0.01146575],\n",
       "           [0.00181298, 0.01355438, 0.02478126],\n",
       "           [0.00236653, 0.01908896, 0.03536563]],\n",
       "  \n",
       "          [[0.0078514 , 0.00958932, 0.01667548],\n",
       "           [0.01546079, 0.0183029 , 0.02010259],\n",
       "           [0.00985101, 0.00989678, 0.01357396]],\n",
       "  \n",
       "          ...,\n",
       "  \n",
       "          [[0.01477301, 0.01521571, 0.00902238],\n",
       "           [0.01342518, 0.01856679, 0.011418  ],\n",
       "           [0.01192084, 0.01563768, 0.00873892]],\n",
       "  \n",
       "          [[0.01222461, 0.01142094, 0.00636431],\n",
       "           [0.02076793, 0.01627125, 0.00467213],\n",
       "           [0.01168767, 0.01312804, 0.00455855]],\n",
       "  \n",
       "          [[0.00454325, 0.00421463, 0.00555883],\n",
       "           [0.00082078, 0.00109737, 0.00193482],\n",
       "           [0.00172676, 0.00170635, 0.00294136]]],\n",
       "  \n",
       "  \n",
       "         [[[0.08871418, 0.15225652, 0.15916614],\n",
       "           [0.06624785, 0.18102385, 0.23579304],\n",
       "           [0.05027252, 0.16944376, 0.22852005]],\n",
       "  \n",
       "          [[0.16299552, 0.19577602, 0.22042167],\n",
       "           [0.0431851 , 0.03740951, 0.14385355],\n",
       "           [0.03398284, 0.08557249, 0.18006551]],\n",
       "  \n",
       "          [[0.13308841, 0.0279254 , 0.06865799],\n",
       "           [0.25636742, 0.12226368, 0.14603467],\n",
       "           [0.2206937 , 0.12458698, 0.16424729]],\n",
       "  \n",
       "          ...,\n",
       "  \n",
       "          [[0.16034573, 0.29736146, 0.31210938],\n",
       "           [0.12476747, 0.2175239 , 0.249556  ],\n",
       "           [0.16344993, 0.20430851, 0.2019236 ]],\n",
       "  \n",
       "          [[0.04878827, 0.08231314, 0.08732384],\n",
       "           [0.06496006, 0.16297601, 0.13344973],\n",
       "           [0.08428464, 0.18442573, 0.13655935]],\n",
       "  \n",
       "          [[0.08551291, 0.07302698, 0.13248858],\n",
       "           [0.05107733, 0.021298  , 0.110093  ],\n",
       "           [0.09353286, 0.0634912 , 0.10588471]]]], dtype=float32),\n",
       "  'layer3[5].conv2': array([[[[0.06235956, 0.04855401, 0.04747751],\n",
       "           [0.102617  , 0.0885596 , 0.0552846 ],\n",
       "           [0.12676136, 0.10674234, 0.05751969]],\n",
       "  \n",
       "          [[0.03492147, 0.0391199 , 0.03852502],\n",
       "           [0.06310628, 0.04008743, 0.02453029],\n",
       "           [0.08707977, 0.04364801, 0.02242622]],\n",
       "  \n",
       "          [[0.08281878, 0.05881577, 0.05213474],\n",
       "           [0.03186461, 0.05655108, 0.10133971],\n",
       "           [0.03575674, 0.08731733, 0.09639934]],\n",
       "  \n",
       "          ...,\n",
       "  \n",
       "          [[0.05687871, 0.09536471, 0.11679906],\n",
       "           [0.06192566, 0.12001801, 0.1125117 ],\n",
       "           [0.05860044, 0.073038  , 0.05893186]],\n",
       "  \n",
       "          [[0.06289437, 0.05796267, 0.04134189],\n",
       "           [0.06763909, 0.05503277, 0.04022973],\n",
       "           [0.03542577, 0.03509438, 0.03850619]],\n",
       "  \n",
       "          [[0.07656009, 0.07823128, 0.06589157],\n",
       "           [0.07967126, 0.08772892, 0.08373874],\n",
       "           [0.07224512, 0.103937  , 0.09859738]]],\n",
       "  \n",
       "  \n",
       "         [[[0.06128689, 0.03922004, 0.06856779],\n",
       "           [0.13749246, 0.10146659, 0.11731333],\n",
       "           [0.22284478, 0.18691853, 0.1643131 ]],\n",
       "  \n",
       "          [[0.02897802, 0.0441457 , 0.0641114 ],\n",
       "           [0.05663787, 0.07428684, 0.0775512 ],\n",
       "           [0.14202414, 0.132143  , 0.09188665]],\n",
       "  \n",
       "          [[0.20466197, 0.16204989, 0.07777456],\n",
       "           [0.11747056, 0.08908513, 0.06555969],\n",
       "           [0.0504456 , 0.06637696, 0.09128796]],\n",
       "  \n",
       "          ...,\n",
       "  \n",
       "          [[0.06493149, 0.0479454 , 0.06096149],\n",
       "           [0.08400624, 0.08461058, 0.09924345],\n",
       "           [0.12317784, 0.11985131, 0.09261914]],\n",
       "  \n",
       "          [[0.06638827, 0.08083133, 0.06660534],\n",
       "           [0.11811025, 0.13859788, 0.10480517],\n",
       "           [0.10727402, 0.12041341, 0.10042602]],\n",
       "  \n",
       "          [[0.13412207, 0.10139277, 0.09816425],\n",
       "           [0.16796133, 0.1363604 , 0.14238013],\n",
       "           [0.12158839, 0.138251  , 0.17231469]]],\n",
       "  \n",
       "  \n",
       "         [[[0.4470387 , 0.55187285, 0.43382576],\n",
       "           [0.4454572 , 0.66931576, 0.5575498 ],\n",
       "           [0.2509916 , 0.39665955, 0.42191303]],\n",
       "  \n",
       "          [[0.28572243, 0.20919055, 0.15417723],\n",
       "           [0.27059075, 0.16658711, 0.11856792],\n",
       "           [0.24631572, 0.15841237, 0.1187239 ]],\n",
       "  \n",
       "          [[0.2157303 , 0.24235588, 0.17732365],\n",
       "           [0.3597037 , 0.35075635, 0.31332162],\n",
       "           [0.37483507, 0.38232037, 0.44427848]],\n",
       "  \n",
       "          ...,\n",
       "  \n",
       "          [[0.11809759, 0.11527521, 0.11179371],\n",
       "           [0.15164281, 0.11715718, 0.17566504],\n",
       "           [0.24552363, 0.3121227 , 0.3208964 ]],\n",
       "  \n",
       "          [[0.20743056, 0.2412479 , 0.25189874],\n",
       "           [0.23645844, 0.25540257, 0.28145823],\n",
       "           [0.22364375, 0.20152885, 0.26696122]],\n",
       "  \n",
       "          [[0.1969028 , 0.33469847, 0.42614552],\n",
       "           [0.12110747, 0.17338647, 0.33240342],\n",
       "           [0.15430741, 0.22496079, 0.29233384]]],\n",
       "  \n",
       "  \n",
       "         ...,\n",
       "  \n",
       "  \n",
       "         [[[1.0408279 , 0.76412046, 0.41665807],\n",
       "           [0.6839086 , 0.57361984, 0.38970646],\n",
       "           [0.5712255 , 0.5024081 , 0.30661294]],\n",
       "  \n",
       "          [[0.36271247, 0.21592572, 0.17901824],\n",
       "           [0.33034268, 0.19172724, 0.15424614],\n",
       "           [0.46727127, 0.2584873 , 0.20748195]],\n",
       "  \n",
       "          [[1.0619595 , 0.5216217 , 0.2995607 ],\n",
       "           [1.1265491 , 0.42081764, 0.36673036],\n",
       "           [0.44882673, 0.31134668, 0.4534392 ]],\n",
       "  \n",
       "          ...,\n",
       "  \n",
       "          [[0.2388213 , 0.2776188 , 0.42259002],\n",
       "           [0.20858876, 0.32684   , 0.55038226],\n",
       "           [0.3574565 , 0.6130726 , 0.6805573 ]],\n",
       "  \n",
       "          [[0.6721123 , 0.70016974, 0.5069801 ],\n",
       "           [0.6830826 , 0.65756345, 0.49312484],\n",
       "           [0.36480242, 0.29770428, 0.30214942]],\n",
       "  \n",
       "          [[0.2770371 , 0.5551334 , 0.54660326],\n",
       "           [0.3709228 , 0.5833731 , 0.61833626],\n",
       "           [0.5353896 , 0.6927761 , 0.6816812 ]]],\n",
       "  \n",
       "  \n",
       "         [[[0.45690918, 0.5467543 , 0.5875812 ],\n",
       "           [0.34074387, 0.5023089 , 0.59242094],\n",
       "           [0.3386374 , 0.4644915 , 0.49873447]],\n",
       "  \n",
       "          [[0.22955403, 0.16158089, 0.18273696],\n",
       "           [0.29526556, 0.24407814, 0.19382797],\n",
       "           [0.4408933 , 0.45810655, 0.3372939 ]],\n",
       "  \n",
       "          [[1.022934  , 1.0445668 , 0.6851023 ],\n",
       "           [0.74043417, 0.63578063, 0.5001245 ],\n",
       "           [0.3639851 , 0.2718602 , 0.31311178]],\n",
       "  \n",
       "          ...,\n",
       "  \n",
       "          [[0.39635003, 0.3306946 , 0.38160044],\n",
       "           [0.3718565 , 0.27159664, 0.30336356],\n",
       "           [0.34649378, 0.2973243 , 0.3271596 ]],\n",
       "  \n",
       "          [[0.39261818, 0.4715981 , 0.46959776],\n",
       "           [0.33544087, 0.3743752 , 0.35907418],\n",
       "           [0.24509978, 0.21849371, 0.21325816]],\n",
       "  \n",
       "          [[0.3423613 , 0.35184327, 0.37649748],\n",
       "           [0.36801577, 0.3630825 , 0.4113392 ],\n",
       "           [0.42605752, 0.5037101 , 0.582908  ]]],\n",
       "  \n",
       "  \n",
       "         [[[0.06843724, 0.12178823, 0.12719741],\n",
       "           [0.05643404, 0.07359131, 0.09514841],\n",
       "           [0.08830451, 0.10252527, 0.09703855]],\n",
       "  \n",
       "          [[0.07527075, 0.11119441, 0.09803061],\n",
       "           [0.07317255, 0.09681684, 0.08813663],\n",
       "           [0.07741942, 0.10112326, 0.09635277]],\n",
       "  \n",
       "          [[0.14224613, 0.14123268, 0.17272724],\n",
       "           [0.13300891, 0.11589087, 0.1731251 ],\n",
       "           [0.08693062, 0.07493417, 0.14682995]],\n",
       "  \n",
       "          ...,\n",
       "  \n",
       "          [[0.11932666, 0.11101824, 0.10482201],\n",
       "           [0.10003205, 0.12180953, 0.13528137],\n",
       "           [0.09367616, 0.130351  , 0.1651089 ]],\n",
       "  \n",
       "          [[0.07616037, 0.07183198, 0.08203698],\n",
       "           [0.1130928 , 0.09662644, 0.09391072],\n",
       "           [0.12523173, 0.11420787, 0.09803595]],\n",
       "  \n",
       "          [[0.0797806 , 0.12325092, 0.14849454],\n",
       "           [0.11971171, 0.15842593, 0.1301147 ],\n",
       "           [0.13365608, 0.15860543, 0.12142644]]]], dtype=float32)},\n",
       " {'layer3[0].conv2': array([[[[0.06159998, 0.05635229, 0.04947789],\n",
       "           [0.07667406, 0.0803989 , 0.07337289],\n",
       "           [0.05582118, 0.06454762, 0.07829157]],\n",
       "  \n",
       "          [[0.09832335, 0.09543113, 0.08839797],\n",
       "           [0.09967373, 0.10038938, 0.12401644],\n",
       "           [0.10614361, 0.12789194, 0.16972135]],\n",
       "  \n",
       "          [[0.04410325, 0.03000086, 0.03084026],\n",
       "           [0.05913788, 0.05163354, 0.05162962],\n",
       "           [0.06440154, 0.07140984, 0.08928692]],\n",
       "  \n",
       "          ...,\n",
       "  \n",
       "          [[0.0200054 , 0.01086218, 0.01256652],\n",
       "           [0.03332173, 0.02186141, 0.02321294],\n",
       "           [0.04762277, 0.04605103, 0.04478791]],\n",
       "  \n",
       "          [[0.13014038, 0.12244754, 0.12639442],\n",
       "           [0.16603144, 0.1813651 , 0.17186886],\n",
       "           [0.18970935, 0.20583975, 0.18869132]],\n",
       "  \n",
       "          [[0.07366474, 0.07620679, 0.07770772],\n",
       "           [0.08358482, 0.08648136, 0.0879325 ],\n",
       "           [0.07965557, 0.07564158, 0.07679921]]],\n",
       "  \n",
       "  \n",
       "         [[[0.02135703, 0.0101027 , 0.01502354],\n",
       "           [0.02465887, 0.01067692, 0.0122813 ],\n",
       "           [0.03595811, 0.03232543, 0.01601712]],\n",
       "  \n",
       "          [[0.02996497, 0.01260449, 0.01405484],\n",
       "           [0.04618591, 0.01922167, 0.01730302],\n",
       "           [0.06844634, 0.0330567 , 0.01837855]],\n",
       "  \n",
       "          [[0.01769457, 0.00806966, 0.01095295],\n",
       "           [0.01119669, 0.00471273, 0.00603515],\n",
       "           [0.02332221, 0.01582978, 0.01150791]],\n",
       "  \n",
       "          ...,\n",
       "  \n",
       "          [[0.01803341, 0.01941656, 0.02031449],\n",
       "           [0.01900201, 0.01436268, 0.00771756],\n",
       "           [0.03053518, 0.01598842, 0.00416293]],\n",
       "  \n",
       "          [[0.03401754, 0.01973384, 0.0307788 ],\n",
       "           [0.03259207, 0.01113751, 0.01986327],\n",
       "           [0.04024038, 0.01930614, 0.00660519]],\n",
       "  \n",
       "          [[0.02528302, 0.02975705, 0.03081967],\n",
       "           [0.02979067, 0.02353596, 0.01957794],\n",
       "           [0.03869283, 0.02677173, 0.00571374]]],\n",
       "  \n",
       "  \n",
       "         [[[0.00648694, 0.01055405, 0.02206035],\n",
       "           [0.01196277, 0.01504153, 0.02624016],\n",
       "           [0.02428058, 0.02589276, 0.01838781]],\n",
       "  \n",
       "          [[0.01273483, 0.0296185 , 0.01053935],\n",
       "           [0.06801371, 0.07138327, 0.00671061],\n",
       "           [0.10477807, 0.0759353 , 0.00845905]],\n",
       "  \n",
       "          [[0.00358907, 0.01250288, 0.02354956],\n",
       "           [0.01099148, 0.02490407, 0.02879052],\n",
       "           [0.0336279 , 0.02913099, 0.01441933]],\n",
       "  \n",
       "          ...,\n",
       "  \n",
       "          [[0.0108046 , 0.00454916, 0.00321549],\n",
       "           [0.00209952, 0.00391642, 0.013977  ],\n",
       "           [0.00965822, 0.00878934, 0.01560344]],\n",
       "  \n",
       "          [[0.00831501, 0.0157602 , 0.01432897],\n",
       "           [0.0112633 , 0.00904996, 0.0110832 ],\n",
       "           [0.00781573, 0.01532421, 0.02179217]],\n",
       "  \n",
       "          [[0.00397855, 0.00860874, 0.00285703],\n",
       "           [0.00755413, 0.00555141, 0.00744204],\n",
       "           [0.02014714, 0.00729796, 0.00637823]]],\n",
       "  \n",
       "  \n",
       "         ...,\n",
       "  \n",
       "  \n",
       "         [[[0.10212272, 0.12330071, 0.11139444],\n",
       "           [0.14385703, 0.15788879, 0.12949507],\n",
       "           [0.15644835, 0.16249037, 0.1279812 ]],\n",
       "  \n",
       "          [[0.30092692, 0.32280618, 0.26077154],\n",
       "           [0.3157027 , 0.2773988 , 0.22036934],\n",
       "           [0.27732825, 0.24959862, 0.23021513]],\n",
       "  \n",
       "          [[0.1733891 , 0.19213286, 0.16789249],\n",
       "           [0.22805673, 0.22870415, 0.19491355],\n",
       "           [0.23915364, 0.22672178, 0.18294081]],\n",
       "  \n",
       "          ...,\n",
       "  \n",
       "          [[0.07793035, 0.08736267, 0.07909561],\n",
       "           [0.09824453, 0.1042152 , 0.10474209],\n",
       "           [0.10667292, 0.12369531, 0.1311546 ]],\n",
       "  \n",
       "          [[0.19600789, 0.22575597, 0.24409589],\n",
       "           [0.21200988, 0.23980539, 0.26322123],\n",
       "           [0.24592534, 0.26381645, 0.2640756 ]],\n",
       "  \n",
       "          [[0.203119  , 0.2134963 , 0.16943663],\n",
       "           [0.17475206, 0.15965746, 0.11999848],\n",
       "           [0.14402135, 0.13295768, 0.13327788]]],\n",
       "  \n",
       "  \n",
       "         [[[0.01462856, 0.012317  , 0.00584876],\n",
       "           [0.0147742 , 0.00914069, 0.00405185],\n",
       "           [0.00662975, 0.00282856, 0.00472418]],\n",
       "  \n",
       "          [[0.02439326, 0.01715831, 0.02179428],\n",
       "           [0.0257225 , 0.02117173, 0.02190552],\n",
       "           [0.02201236, 0.01663199, 0.04118683]],\n",
       "  \n",
       "          [[0.02330299, 0.02279433, 0.02102402],\n",
       "           [0.02769932, 0.02478851, 0.02299056],\n",
       "           [0.01082732, 0.00061663, 0.00996357]],\n",
       "  \n",
       "          ...,\n",
       "  \n",
       "          [[0.00578904, 0.00488103, 0.01747601],\n",
       "           [0.01634232, 0.01406521, 0.0193668 ],\n",
       "           [0.02253992, 0.02688617, 0.02519789]],\n",
       "  \n",
       "          [[0.00882109, 0.01442785, 0.00758666],\n",
       "           [0.01623878, 0.03053549, 0.02364516],\n",
       "           [0.01891634, 0.0338111 , 0.02060422]],\n",
       "  \n",
       "          [[0.01261132, 0.00640862, 0.00704387],\n",
       "           [0.00725718, 0.00497375, 0.00576256],\n",
       "           [0.00965151, 0.00425971, 0.01340778]]],\n",
       "  \n",
       "  \n",
       "         [[[0.10419592, 0.14716291, 0.17391895],\n",
       "           [0.14133264, 0.19385841, 0.19118184],\n",
       "           [0.16245528, 0.21200596, 0.17483516]],\n",
       "  \n",
       "          [[0.1900869 , 0.22373681, 0.27331984],\n",
       "           [0.23881629, 0.26567194, 0.26284242],\n",
       "           [0.2640063 , 0.27309936, 0.23214869]],\n",
       "  \n",
       "          [[0.17925522, 0.24249186, 0.23825152],\n",
       "           [0.2587266 , 0.30993536, 0.26134428],\n",
       "           [0.28466648, 0.332886  , 0.23809701]],\n",
       "  \n",
       "          ...,\n",
       "  \n",
       "          [[0.09378996, 0.10079916, 0.09326699],\n",
       "           [0.10634023, 0.09314886, 0.08298713],\n",
       "           [0.10133761, 0.08447494, 0.0715896 ]],\n",
       "  \n",
       "          [[0.26708448, 0.27008578, 0.2235468 ],\n",
       "           [0.24046858, 0.21881333, 0.18828055],\n",
       "           [0.2267287 , 0.2046456 , 0.1749967 ]],\n",
       "  \n",
       "          [[0.17289114, 0.17215659, 0.16281898],\n",
       "           [0.16824536, 0.16152906, 0.13666926],\n",
       "           [0.15583259, 0.13088125, 0.10061942]]]], dtype=float32),\n",
       "  'layer3[1].conv2': array([[[[0.00708586, 0.00390412, 0.00306606],\n",
       "           [0.01126772, 0.00613303, 0.005048  ],\n",
       "           [0.03179107, 0.02726481, 0.01670998]],\n",
       "  \n",
       "          [[0.02733032, 0.02308385, 0.0187857 ],\n",
       "           [0.02948232, 0.03595935, 0.04729962],\n",
       "           [0.02478181, 0.04324568, 0.05864622]],\n",
       "  \n",
       "          [[0.02237046, 0.02066754, 0.01473148],\n",
       "           [0.01931135, 0.02365939, 0.01406964],\n",
       "           [0.0221468 , 0.01930343, 0.00459833]],\n",
       "  \n",
       "          ...,\n",
       "  \n",
       "          [[0.0099382 , 0.00917817, 0.00957071],\n",
       "           [0.0293314 , 0.02706855, 0.03735593],\n",
       "           [0.02639986, 0.02426651, 0.03621041]],\n",
       "  \n",
       "          [[0.03250495, 0.03519115, 0.02591665],\n",
       "           [0.0642729 , 0.06167593, 0.0339412 ],\n",
       "           [0.04240773, 0.04115677, 0.02003801]],\n",
       "  \n",
       "          [[0.0425344 , 0.04301589, 0.03622388],\n",
       "           [0.04504335, 0.04701396, 0.045247  ],\n",
       "           [0.03792582, 0.02508604, 0.02780944]]],\n",
       "  \n",
       "  \n",
       "         [[[0.05411866, 0.05062732, 0.04174531],\n",
       "           [0.05101856, 0.03727753, 0.03019349],\n",
       "           [0.02734074, 0.01703798, 0.01432769]],\n",
       "  \n",
       "          [[0.06787137, 0.06840008, 0.07324273],\n",
       "           [0.05398195, 0.06748891, 0.05890915],\n",
       "           [0.05188536, 0.06595172, 0.06257614]],\n",
       "  \n",
       "          [[0.03121275, 0.03488532, 0.02935554],\n",
       "           [0.06103498, 0.06592132, 0.06903053],\n",
       "           [0.08631188, 0.11525856, 0.11699545]],\n",
       "  \n",
       "          ...,\n",
       "  \n",
       "          [[0.04853051, 0.05563521, 0.06621236],\n",
       "           [0.06601571, 0.11353182, 0.10401519],\n",
       "           [0.07995184, 0.11373613, 0.09670126]],\n",
       "  \n",
       "          [[0.0617345 , 0.04907481, 0.06147295],\n",
       "           [0.04801779, 0.03645443, 0.04653687],\n",
       "           [0.02475095, 0.01898617, 0.02461805]],\n",
       "  \n",
       "          [[0.08531494, 0.06706975, 0.06501876],\n",
       "           [0.06403779, 0.0584428 , 0.05035451],\n",
       "           [0.03396391, 0.02413498, 0.02767099]]],\n",
       "  \n",
       "  \n",
       "         [[[0.02884382, 0.06231214, 0.0697978 ],\n",
       "           [0.11809643, 0.1664372 , 0.08806424],\n",
       "           [0.10148536, 0.11133806, 0.04237424]],\n",
       "  \n",
       "          [[0.08283935, 0.07561114, 0.0583713 ],\n",
       "           [0.06833047, 0.02350778, 0.07363054],\n",
       "           [0.08578901, 0.03124704, 0.06185819]],\n",
       "  \n",
       "          [[0.03839542, 0.03496906, 0.03879412],\n",
       "           [0.02122321, 0.04058805, 0.01937839],\n",
       "           [0.04160572, 0.02420132, 0.0745858 ]],\n",
       "  \n",
       "          ...,\n",
       "  \n",
       "          [[0.08632571, 0.093581  , 0.07963215],\n",
       "           [0.03327132, 0.04526439, 0.03413808],\n",
       "           [0.01199091, 0.07251284, 0.02676283]],\n",
       "  \n",
       "          [[0.06727482, 0.06604441, 0.04689448],\n",
       "           [0.11182816, 0.12852967, 0.11685068],\n",
       "           [0.08940553, 0.12531431, 0.14062062]],\n",
       "  \n",
       "          [[0.14791682, 0.13113931, 0.1373709 ],\n",
       "           [0.16963515, 0.13283354, 0.1914945 ],\n",
       "           [0.18750052, 0.14439127, 0.16917412]]],\n",
       "  \n",
       "  \n",
       "         ...,\n",
       "  \n",
       "  \n",
       "         [[[0.03567792, 0.0405369 , 0.03780125],\n",
       "           [0.04700375, 0.07576172, 0.04758476],\n",
       "           [0.0562347 , 0.08471119, 0.05779488]],\n",
       "  \n",
       "          [[0.02474269, 0.0457789 , 0.07783058],\n",
       "           [0.02140706, 0.06258678, 0.12564516],\n",
       "           [0.02438493, 0.04862707, 0.10658518]],\n",
       "  \n",
       "          [[0.05525123, 0.05565315, 0.04776601],\n",
       "           [0.07083507, 0.05289266, 0.03956643],\n",
       "           [0.05054576, 0.03319449, 0.02461602]],\n",
       "  \n",
       "          ...,\n",
       "  \n",
       "          [[0.04933849, 0.06917111, 0.05851828],\n",
       "           [0.06173997, 0.11044897, 0.1005597 ],\n",
       "           [0.05674383, 0.09547175, 0.09404109]],\n",
       "  \n",
       "          [[0.06490175, 0.06812154, 0.02941581],\n",
       "           [0.05507177, 0.05849338, 0.03170624],\n",
       "           [0.04548704, 0.05698464, 0.05423724]],\n",
       "  \n",
       "          [[0.05217617, 0.06619258, 0.04379776],\n",
       "           [0.06334951, 0.06211419, 0.0559728 ],\n",
       "           [0.07719515, 0.05476841, 0.07038665]]],\n",
       "  \n",
       "  \n",
       "         [[[0.05262145, 0.04271341, 0.02573697],\n",
       "           [0.07828271, 0.09880365, 0.05265168],\n",
       "           [0.05181789, 0.06910622, 0.05946543]],\n",
       "  \n",
       "          [[0.00905831, 0.05207704, 0.08258364],\n",
       "           [0.03108732, 0.10245565, 0.11027373],\n",
       "           [0.04697007, 0.0697785 , 0.06727948]],\n",
       "  \n",
       "          [[0.02365205, 0.03242787, 0.03890811],\n",
       "           [0.00903872, 0.01569333, 0.02129425],\n",
       "           [0.01890038, 0.01683841, 0.04849576]],\n",
       "  \n",
       "          ...,\n",
       "  \n",
       "          [[0.02910163, 0.02850363, 0.02802643],\n",
       "           [0.03410412, 0.05170986, 0.05375754],\n",
       "           [0.0384534 , 0.07210775, 0.07368348]],\n",
       "  \n",
       "          [[0.07583473, 0.07885561, 0.04016265],\n",
       "           [0.07143724, 0.07120281, 0.04538883],\n",
       "           [0.05217088, 0.04315229, 0.04697644]],\n",
       "  \n",
       "          [[0.05752588, 0.05873518, 0.05874768],\n",
       "           [0.07926011, 0.04137504, 0.04697192],\n",
       "           [0.08535943, 0.04498546, 0.03922535]]],\n",
       "  \n",
       "  \n",
       "         [[[0.00889205, 0.00665949, 0.01254536],\n",
       "           [0.00995928, 0.02799303, 0.003166  ],\n",
       "           [0.03623003, 0.03484263, 0.00348784]],\n",
       "  \n",
       "          [[0.05546192, 0.03836783, 0.01296859],\n",
       "           [0.04307006, 0.052173  , 0.0093514 ],\n",
       "           [0.03312474, 0.04680991, 0.0063368 ]],\n",
       "  \n",
       "          [[0.01628868, 0.02809643, 0.00252419],\n",
       "           [0.02609594, 0.0171689 , 0.01119094],\n",
       "           [0.01656461, 0.0123342 , 0.00273595]],\n",
       "  \n",
       "          ...,\n",
       "  \n",
       "          [[0.0566422 , 0.03874564, 0.01357463],\n",
       "           [0.03142671, 0.02987998, 0.02245328],\n",
       "           [0.02316845, 0.01691934, 0.01474558]],\n",
       "  \n",
       "          [[0.02115081, 0.00446372, 0.03280313],\n",
       "           [0.01761057, 0.03154533, 0.04476458],\n",
       "           [0.0341098 , 0.0158641 , 0.01893462]],\n",
       "  \n",
       "          [[0.0432199 , 0.02757945, 0.05241956],\n",
       "           [0.04105305, 0.04591574, 0.06117344],\n",
       "           [0.05490452, 0.06608117, 0.01773515]]]], dtype=float32),\n",
       "  'layer3[5].conv2': array([[[[0.14809814, 0.1298657 , 0.10730891],\n",
       "           [0.23974802, 0.21627451, 0.11693092],\n",
       "           [0.24729635, 0.229586  , 0.11718807]],\n",
       "  \n",
       "          [[0.08693124, 0.07954001, 0.07119706],\n",
       "           [0.10638351, 0.05714325, 0.0370533 ],\n",
       "           [0.14769012, 0.06620085, 0.0372918 ]],\n",
       "  \n",
       "          [[0.15047292, 0.0967536 , 0.11461923],\n",
       "           [0.05812102, 0.10448112, 0.209196  ],\n",
       "           [0.06659854, 0.1735651 , 0.23679863]],\n",
       "  \n",
       "          ...,\n",
       "  \n",
       "          [[0.07362468, 0.14445293, 0.19140394],\n",
       "           [0.07742663, 0.18578397, 0.19296223],\n",
       "           [0.07741334, 0.1205335 , 0.10017704]],\n",
       "  \n",
       "          [[0.11853823, 0.11669692, 0.102415  ],\n",
       "           [0.08244748, 0.10774226, 0.09906871],\n",
       "           [0.04320411, 0.07348952, 0.10001361]],\n",
       "  \n",
       "          [[0.09845657, 0.14399455, 0.14103942],\n",
       "           [0.08599886, 0.13362655, 0.14369994],\n",
       "           [0.12463396, 0.18015562, 0.16169186]]],\n",
       "  \n",
       "  \n",
       "         [[[0.07855137, 0.05285583, 0.06298853],\n",
       "           [0.19451216, 0.12730412, 0.09703162],\n",
       "           [0.29107916, 0.21998325, 0.1546827 ]],\n",
       "  \n",
       "          [[0.03804589, 0.04625609, 0.07482614],\n",
       "           [0.04120132, 0.03851874, 0.03680942],\n",
       "           [0.09097859, 0.0761269 , 0.0515532 ]],\n",
       "  \n",
       "          [[0.17077461, 0.14562273, 0.07113895],\n",
       "           [0.1313065 , 0.09636603, 0.04673555],\n",
       "           [0.04072364, 0.05091491, 0.04806525]],\n",
       "  \n",
       "          ...,\n",
       "  \n",
       "          [[0.06303392, 0.0471385 , 0.05720712],\n",
       "           [0.0454956 , 0.04939907, 0.08533166],\n",
       "           [0.05628142, 0.06678826, 0.08320094]],\n",
       "  \n",
       "          [[0.11538583, 0.11338926, 0.09037774],\n",
       "           [0.13636792, 0.13168272, 0.08395966],\n",
       "           [0.07570055, 0.07487915, 0.05575434]],\n",
       "  \n",
       "          [[0.10232952, 0.10744091, 0.09823474],\n",
       "           [0.07533437, 0.07391843, 0.07880047],\n",
       "           [0.05348101, 0.07132553, 0.09808922]]],\n",
       "  \n",
       "  \n",
       "         [[[0.19057079, 0.45627022, 0.4476488 ],\n",
       "           [0.16354868, 0.40278426, 0.34712678],\n",
       "           [0.1928946 , 0.33557773, 0.2802043 ]],\n",
       "  \n",
       "          [[0.45839673, 0.5264629 , 0.31040543],\n",
       "           [0.5913767 , 0.65798205, 0.4389125 ],\n",
       "           [0.35350403, 0.32161582, 0.23954105]],\n",
       "  \n",
       "          [[0.1280103 , 0.22237009, 0.4175889 ],\n",
       "           [0.18697698, 0.32308167, 0.4870082 ],\n",
       "           [0.18792005, 0.28873414, 0.46990868]],\n",
       "  \n",
       "          ...,\n",
       "  \n",
       "          [[0.15732896, 0.15207522, 0.17521626],\n",
       "           [0.25360134, 0.32629803, 0.28389743],\n",
       "           [0.2940539 , 0.4716221 , 0.37137046]],\n",
       "  \n",
       "          [[0.22249734, 0.3048893 , 0.34407625],\n",
       "           [0.25699276, 0.31822222, 0.37329862],\n",
       "           [0.19875306, 0.19591323, 0.27828392]],\n",
       "  \n",
       "          [[0.32441974, 0.47080645, 0.45498273],\n",
       "           [0.2732416 , 0.43368244, 0.43356112],\n",
       "           [0.13596433, 0.21514265, 0.23752081]]],\n",
       "  \n",
       "  \n",
       "         ...,\n",
       "  \n",
       "  \n",
       "         [[[0.7615387 , 0.6166374 , 0.3307016 ],\n",
       "           [0.7355518 , 0.6237748 , 0.37017223],\n",
       "           [0.705617  , 0.6081683 , 0.39431953]],\n",
       "  \n",
       "          [[0.38397214, 0.23638144, 0.19230005],\n",
       "           [0.3539746 , 0.22749189, 0.16665094],\n",
       "           [0.36415502, 0.24079497, 0.20548986]],\n",
       "  \n",
       "          [[0.6411055 , 0.5615859 , 0.28127363],\n",
       "           [0.56425905, 0.3718731 , 0.26567578],\n",
       "           [0.2709871 , 0.27374426, 0.3302141 ]],\n",
       "  \n",
       "          ...,\n",
       "  \n",
       "          [[0.20880525, 0.2663187 , 0.29617485],\n",
       "           [0.18671286, 0.2584296 , 0.3349482 ],\n",
       "           [0.2710942 , 0.4191664 , 0.4331494 ]],\n",
       "  \n",
       "          [[0.5564778 , 0.5623239 , 0.43488792],\n",
       "           [0.4468114 , 0.38976187, 0.34684548],\n",
       "           [0.22873126, 0.16984546, 0.20314622]],\n",
       "  \n",
       "          [[0.2951458 , 0.4237426 , 0.43217614],\n",
       "           [0.2780634 , 0.41101953, 0.42547446],\n",
       "           [0.34460646, 0.47566432, 0.49131942]]],\n",
       "  \n",
       "  \n",
       "         [[[0.16855808, 0.19247504, 0.19322668],\n",
       "           [0.172802  , 0.24095102, 0.25209457],\n",
       "           [0.1049839 , 0.16832589, 0.18261306]],\n",
       "  \n",
       "          [[0.05679819, 0.05751231, 0.06878607],\n",
       "           [0.06315594, 0.04658151, 0.05602142],\n",
       "           [0.14449237, 0.16790915, 0.12849042]],\n",
       "  \n",
       "          [[0.2170076 , 0.24602196, 0.20442338],\n",
       "           [0.23650041, 0.24656561, 0.19978015],\n",
       "           [0.11419787, 0.10617061, 0.11684787]],\n",
       "  \n",
       "          ...,\n",
       "  \n",
       "          [[0.09033502, 0.10926455, 0.12403752],\n",
       "           [0.0813764 , 0.07866881, 0.09239306],\n",
       "           [0.07004631, 0.06451572, 0.06408156]],\n",
       "  \n",
       "          [[0.10650571, 0.11541715, 0.11180321],\n",
       "           [0.12900966, 0.15237048, 0.12771872],\n",
       "           [0.10881519, 0.10457658, 0.09483457]],\n",
       "  \n",
       "          [[0.14616042, 0.14471033, 0.13223091],\n",
       "           [0.14605787, 0.141489  , 0.15182322],\n",
       "           [0.12904997, 0.15199913, 0.17431945]]],\n",
       "  \n",
       "  \n",
       "         [[[0.02828613, 0.04589278, 0.11430231],\n",
       "           [0.02772653, 0.04757239, 0.04823945],\n",
       "           [0.04150093, 0.05875144, 0.0452257 ]],\n",
       "  \n",
       "          [[0.08251379, 0.21577336, 0.1367581 ],\n",
       "           [0.08604128, 0.2763015 , 0.1972623 ],\n",
       "           [0.02982092, 0.06751649, 0.06918532]],\n",
       "  \n",
       "          [[0.03175549, 0.03407666, 0.03279845],\n",
       "           [0.03774644, 0.03479773, 0.0809135 ],\n",
       "           [0.03438484, 0.03000402, 0.10777754]],\n",
       "  \n",
       "          ...,\n",
       "  \n",
       "          [[0.0295509 , 0.03350037, 0.03909511],\n",
       "           [0.0271571 , 0.04150578, 0.0557719 ],\n",
       "           [0.02294724, 0.07973468, 0.102496  ]],\n",
       "  \n",
       "          [[0.03749698, 0.05055675, 0.05859958],\n",
       "           [0.06313409, 0.08092435, 0.08940087],\n",
       "           [0.06177868, 0.07183068, 0.07894701]],\n",
       "  \n",
       "          [[0.03469904, 0.07701768, 0.10038154],\n",
       "           [0.02997581, 0.07429156, 0.07465055],\n",
       "           [0.02645318, 0.03231628, 0.03381224]]]], dtype=float32)},\n",
       " {'layer3[0].conv2': array([[[[0.00566594, 0.0082058 , 0.00927755],\n",
       "           [0.00880719, 0.0109454 , 0.01164237],\n",
       "           [0.01003029, 0.00925417, 0.00977225]],\n",
       "  \n",
       "          [[0.00790645, 0.01738364, 0.0137488 ],\n",
       "           [0.01969448, 0.01777735, 0.01540288],\n",
       "           [0.02147395, 0.01893537, 0.01938602]],\n",
       "  \n",
       "          [[0.00430179, 0.0050034 , 0.00805229],\n",
       "           [0.00332121, 0.00655219, 0.00646147],\n",
       "           [0.00950974, 0.00385051, 0.00601339]],\n",
       "  \n",
       "          ...,\n",
       "  \n",
       "          [[0.0128659 , 0.00807415, 0.00561178],\n",
       "           [0.00836756, 0.01215931, 0.00566632],\n",
       "           [0.00430587, 0.00673056, 0.00529195]],\n",
       "  \n",
       "          [[0.02724398, 0.04282766, 0.0415719 ],\n",
       "           [0.03344041, 0.05509161, 0.0357753 ],\n",
       "           [0.0374126 , 0.04890038, 0.02626131]],\n",
       "  \n",
       "          [[0.00881831, 0.00730695, 0.01102922],\n",
       "           [0.0071818 , 0.00869659, 0.0066289 ],\n",
       "           [0.00947299, 0.0141271 , 0.01440786]]],\n",
       "  \n",
       "  \n",
       "         [[[0.09732835, 0.1002828 , 0.0769098 ],\n",
       "           [0.1253805 , 0.14232722, 0.1131106 ],\n",
       "           [0.11880025, 0.13878495, 0.12518178]],\n",
       "  \n",
       "          [[0.30871332, 0.2541175 , 0.15308578],\n",
       "           [0.30157304, 0.26502436, 0.1825922 ],\n",
       "           [0.22237799, 0.19473743, 0.16526565]],\n",
       "  \n",
       "          [[0.14118676, 0.12349328, 0.09750546],\n",
       "           [0.18648958, 0.18447623, 0.1592491 ],\n",
       "           [0.19562298, 0.21148716, 0.19972107]],\n",
       "  \n",
       "          ...,\n",
       "  \n",
       "          [[0.03828455, 0.05712024, 0.05946765],\n",
       "           [0.04645957, 0.0737877 , 0.08168368],\n",
       "           [0.03960584, 0.05804794, 0.07373165]],\n",
       "  \n",
       "          [[0.07503243, 0.045748  , 0.05466829],\n",
       "           [0.10764031, 0.08944815, 0.09750615],\n",
       "           [0.11147455, 0.13115473, 0.14430916]],\n",
       "  \n",
       "          [[0.12393286, 0.14215438, 0.13525599],\n",
       "           [0.11473975, 0.13982786, 0.13117443],\n",
       "           [0.09110135, 0.12129744, 0.12240283]]],\n",
       "  \n",
       "  \n",
       "         [[[0.03564852, 0.02761403, 0.02750936],\n",
       "           [0.01248116, 0.01287572, 0.01553169],\n",
       "           [0.01030606, 0.01684241, 0.02085039]],\n",
       "  \n",
       "          [[0.02652665, 0.01862285, 0.02202315],\n",
       "           [0.02945367, 0.03113134, 0.05560379],\n",
       "           [0.05202341, 0.07332665, 0.08246492]],\n",
       "  \n",
       "          [[0.04485786, 0.04269689, 0.04729072],\n",
       "           [0.02591643, 0.03750688, 0.04754953],\n",
       "           [0.01855763, 0.03685352, 0.05340255]],\n",
       "  \n",
       "          ...,\n",
       "  \n",
       "          [[0.00649479, 0.01131609, 0.0178502 ],\n",
       "           [0.00178283, 0.00843169, 0.01275521],\n",
       "           [0.00872299, 0.00603241, 0.00273264]],\n",
       "  \n",
       "          [[0.02773052, 0.03889111, 0.04378023],\n",
       "           [0.02389912, 0.03448335, 0.03329438],\n",
       "           [0.01465873, 0.02162091, 0.02765841]],\n",
       "  \n",
       "          [[0.01068262, 0.01233937, 0.01809024],\n",
       "           [0.02884552, 0.03123694, 0.03754153],\n",
       "           [0.04838925, 0.04750038, 0.04235616]]],\n",
       "  \n",
       "  \n",
       "         ...,\n",
       "  \n",
       "  \n",
       "         [[[0.06520501, 0.0700259 , 0.10092204],\n",
       "           [0.03295933, 0.04010507, 0.07595452],\n",
       "           [0.06233014, 0.05591784, 0.08485176]],\n",
       "  \n",
       "          [[0.09021717, 0.11532798, 0.11992479],\n",
       "           [0.12699787, 0.15309726, 0.1668353 ],\n",
       "           [0.14663923, 0.15490587, 0.16922013]],\n",
       "  \n",
       "          [[0.09293758, 0.10547666, 0.12342288],\n",
       "           [0.05561676, 0.06992137, 0.10096487],\n",
       "           [0.10186936, 0.10042479, 0.10557334]],\n",
       "  \n",
       "          ...,\n",
       "  \n",
       "          [[0.09764906, 0.0943225 , 0.09397954],\n",
       "           [0.06672559, 0.05958474, 0.06854731],\n",
       "           [0.03272344, 0.02311057, 0.04638857]],\n",
       "  \n",
       "          [[0.13042018, 0.13644667, 0.1240931 ],\n",
       "           [0.10233263, 0.10763665, 0.08855976],\n",
       "           [0.093499  , 0.09255885, 0.08596931]],\n",
       "  \n",
       "          [[0.04566712, 0.06388378, 0.04392386],\n",
       "           [0.08310952, 0.09604484, 0.07392177],\n",
       "           [0.08473495, 0.07848779, 0.07191752]]],\n",
       "  \n",
       "  \n",
       "         [[[0.08527948, 0.12838972, 0.20385826],\n",
       "           [0.12244442, 0.18853875, 0.24290587],\n",
       "           [0.13930918, 0.16580299, 0.2035872 ]],\n",
       "  \n",
       "          [[0.28489694, 0.2641269 , 0.23362897],\n",
       "           [0.23250692, 0.2089424 , 0.19984265],\n",
       "           [0.20192845, 0.18705311, 0.20444904]],\n",
       "  \n",
       "          [[0.15482207, 0.23617642, 0.26879394],\n",
       "           [0.19880533, 0.2945976 , 0.28313735],\n",
       "           [0.19470991, 0.22858132, 0.20505133]],\n",
       "  \n",
       "          ...,\n",
       "  \n",
       "          [[0.07949855, 0.09528217, 0.11056988],\n",
       "           [0.0970309 , 0.11242387, 0.14543878],\n",
       "           [0.08739372, 0.11390125, 0.14173092]],\n",
       "  \n",
       "          [[0.19051814, 0.23273546, 0.21676855],\n",
       "           [0.19540253, 0.23240821, 0.18712308],\n",
       "           [0.15177004, 0.13802679, 0.10721151]],\n",
       "  \n",
       "          [[0.19700009, 0.20919774, 0.15196191],\n",
       "           [0.15132813, 0.14225765, 0.07677142],\n",
       "           [0.1152309 , 0.07704179, 0.04580804]]],\n",
       "  \n",
       "  \n",
       "         [[[0.20614366, 0.1784035 , 0.16172265],\n",
       "           [0.18594879, 0.15878719, 0.15422419],\n",
       "           [0.14496242, 0.13717726, 0.15153271]],\n",
       "  \n",
       "          [[0.18299124, 0.16092962, 0.17164119],\n",
       "           [0.17090382, 0.16794015, 0.16083872],\n",
       "           [0.17520846, 0.1862188 , 0.18467797]],\n",
       "  \n",
       "          [[0.2525174 , 0.2253885 , 0.20907663],\n",
       "           [0.25067332, 0.23127301, 0.20384824],\n",
       "           [0.20632717, 0.20680036, 0.19650808]],\n",
       "  \n",
       "          ...,\n",
       "  \n",
       "          [[0.14628325, 0.1435065 , 0.13660145],\n",
       "           [0.11603625, 0.11363898, 0.11092253],\n",
       "           [0.09427968, 0.08792672, 0.08820307]],\n",
       "  \n",
       "          [[0.19329964, 0.18975836, 0.19275396],\n",
       "           [0.19180168, 0.1787955 , 0.16774783],\n",
       "           [0.17896272, 0.17047341, 0.15617386]],\n",
       "  \n",
       "          [[0.09437624, 0.07359941, 0.08141661],\n",
       "           [0.08780307, 0.08072662, 0.07688721],\n",
       "           [0.09361815, 0.09130136, 0.08658469]]]], dtype=float32),\n",
       "  'layer3[1].conv2': array([[[[0.03718809, 0.00243713, 0.02760421],\n",
       "           [0.03727003, 0.00643833, 0.04129382],\n",
       "           [0.02571655, 0.01200047, 0.03498702]],\n",
       "  \n",
       "          [[0.01068722, 0.00638652, 0.00266427],\n",
       "           [0.01328242, 0.00524186, 0.02670083],\n",
       "           [0.029505  , 0.07866369, 0.04855064]],\n",
       "  \n",
       "          [[0.08075955, 0.13215026, 0.0738488 ],\n",
       "           [0.05183904, 0.11276949, 0.03841168],\n",
       "           [0.0121057 , 0.04076651, 0.00598816]],\n",
       "  \n",
       "          ...,\n",
       "  \n",
       "          [[0.01866796, 0.02882639, 0.03489856],\n",
       "           [0.02465859, 0.02884989, 0.06151283],\n",
       "           [0.03802831, 0.00177289, 0.07247486]],\n",
       "  \n",
       "          [[0.05867769, 0.03589106, 0.00478657],\n",
       "           [0.05539217, 0.01913732, 0.02084931],\n",
       "           [0.02027803, 0.02953986, 0.04546319]],\n",
       "  \n",
       "          [[0.02244586, 0.0036362 , 0.01924342],\n",
       "           [0.01061759, 0.04039473, 0.04307469],\n",
       "           [0.01312969, 0.03023578, 0.03489929]]],\n",
       "  \n",
       "  \n",
       "         [[[0.00999349, 0.00933447, 0.01030861],\n",
       "           [0.03039308, 0.03727958, 0.02364853],\n",
       "           [0.01544533, 0.01542652, 0.01082138]],\n",
       "  \n",
       "          [[0.02169961, 0.02823461, 0.02317156],\n",
       "           [0.01520525, 0.03916703, 0.02386016],\n",
       "           [0.01564031, 0.02224544, 0.02168958]],\n",
       "  \n",
       "          [[0.05216017, 0.05582603, 0.04989161],\n",
       "           [0.05108445, 0.04799883, 0.05301805],\n",
       "           [0.05746063, 0.06022563, 0.06809352]],\n",
       "  \n",
       "          ...,\n",
       "  \n",
       "          [[0.01782954, 0.015607  , 0.0250943 ],\n",
       "           [0.01767972, 0.02780269, 0.03691125],\n",
       "           [0.02278331, 0.01991235, 0.03210114]],\n",
       "  \n",
       "          [[0.01333505, 0.01727032, 0.01769031],\n",
       "           [0.01397646, 0.02246217, 0.0188783 ],\n",
       "           [0.0095946 , 0.00933937, 0.01500308]],\n",
       "  \n",
       "          [[0.01345662, 0.01007824, 0.02939454],\n",
       "           [0.01005857, 0.00782075, 0.03018558],\n",
       "           [0.00620938, 0.00289036, 0.02295056]]],\n",
       "  \n",
       "  \n",
       "         [[[0.00240745, 0.02155994, 0.05569024],\n",
       "           [0.02579398, 0.01010487, 0.03282164],\n",
       "           [0.04995542, 0.02849995, 0.01716586]],\n",
       "  \n",
       "          [[0.00651825, 0.00670434, 0.0019964 ],\n",
       "           [0.03513394, 0.03686284, 0.022768  ],\n",
       "           [0.00845058, 0.01224337, 0.02570867]],\n",
       "  \n",
       "          [[0.01305704, 0.0082005 , 0.00640021],\n",
       "           [0.00538121, 0.06928096, 0.05097326],\n",
       "           [0.02830029, 0.08411976, 0.04036777]],\n",
       "  \n",
       "          ...,\n",
       "  \n",
       "          [[0.02144996, 0.02912862, 0.00522094],\n",
       "           [0.02287477, 0.00536995, 0.03038932],\n",
       "           [0.01797239, 0.04119853, 0.02170092]],\n",
       "  \n",
       "          [[0.00802489, 0.0105651 , 0.03702901],\n",
       "           [0.03278705, 0.02263665, 0.02559839],\n",
       "           [0.03793113, 0.02512459, 0.00370989]],\n",
       "  \n",
       "          [[0.02902909, 0.01082273, 0.02936991],\n",
       "           [0.03589378, 0.02938897, 0.0228989 ],\n",
       "           [0.02002256, 0.00906191, 0.02907923]]],\n",
       "  \n",
       "  \n",
       "         ...,\n",
       "  \n",
       "  \n",
       "         [[[0.07492062, 0.11936685, 0.12434319],\n",
       "           [0.09075154, 0.10313978, 0.10737991],\n",
       "           [0.08991735, 0.09280428, 0.07328992]],\n",
       "  \n",
       "          [[0.0820161 , 0.05471822, 0.04434468],\n",
       "           [0.0256886 , 0.04742642, 0.07553704],\n",
       "           [0.03293366, 0.12464043, 0.18466485]],\n",
       "  \n",
       "          [[0.14918433, 0.16163316, 0.19541968],\n",
       "           [0.19009367, 0.16205968, 0.17673306],\n",
       "           [0.14999993, 0.10163178, 0.10498156]],\n",
       "  \n",
       "          ...,\n",
       "  \n",
       "          [[0.06673555, 0.11417584, 0.10344116],\n",
       "           [0.09849741, 0.22441368, 0.17334482],\n",
       "           [0.14052568, 0.29941177, 0.19622262]],\n",
       "  \n",
       "          [[0.0833989 , 0.09970429, 0.11068734],\n",
       "           [0.12189091, 0.16728404, 0.13014251],\n",
       "           [0.15891758, 0.21576284, 0.12816401]],\n",
       "  \n",
       "          [[0.06324773, 0.07417591, 0.07784122],\n",
       "           [0.06499387, 0.07888669, 0.08536527],\n",
       "           [0.07076297, 0.06933465, 0.08867298]]],\n",
       "  \n",
       "  \n",
       "         [[[0.01836604, 0.02746673, 0.02044301],\n",
       "           [0.02748175, 0.02886614, 0.02309744],\n",
       "           [0.03026646, 0.03298527, 0.02204104]],\n",
       "  \n",
       "          [[0.0362045 , 0.05029088, 0.03494192],\n",
       "           [0.00079958, 0.01884337, 0.03632232],\n",
       "           [0.00390723, 0.03266285, 0.0350881 ]],\n",
       "  \n",
       "          [[0.04139452, 0.04568905, 0.05345768],\n",
       "           [0.06841871, 0.09160409, 0.08086651],\n",
       "           [0.05176304, 0.04556622, 0.05081956]],\n",
       "  \n",
       "          ...,\n",
       "  \n",
       "          [[0.02723981, 0.05608458, 0.03202915],\n",
       "           [0.02343114, 0.06397611, 0.04615417],\n",
       "           [0.03700943, 0.08591861, 0.05109259]],\n",
       "  \n",
       "          [[0.02215518, 0.03804012, 0.02112235],\n",
       "           [0.03735144, 0.06880331, 0.02737011],\n",
       "           [0.03551553, 0.05706188, 0.03016663]],\n",
       "  \n",
       "          [[0.01092521, 0.01268629, 0.01131137],\n",
       "           [0.00479938, 0.00094198, 0.00682952],\n",
       "           [0.00876161, 0.00257683, 0.00869377]]],\n",
       "  \n",
       "  \n",
       "         [[[0.03196639, 0.04013852, 0.03046895],\n",
       "           [0.03044063, 0.04544933, 0.04429829],\n",
       "           [0.01323252, 0.02831968, 0.02550007]],\n",
       "  \n",
       "          [[0.07461527, 0.06480013, 0.03307834],\n",
       "           [0.00923979, 0.01704476, 0.0068062 ],\n",
       "           [0.00871805, 0.02319295, 0.01571238]],\n",
       "  \n",
       "          [[0.01424157, 0.00291543, 0.0056059 ],\n",
       "           [0.04457603, 0.0104483 , 0.01444929],\n",
       "           [0.063483  , 0.01386819, 0.01572528]],\n",
       "  \n",
       "          ...,\n",
       "  \n",
       "          [[0.01090334, 0.05190259, 0.0373125 ],\n",
       "           [0.00604012, 0.04734428, 0.02838441],\n",
       "           [0.01994176, 0.04161555, 0.01340754]],\n",
       "  \n",
       "          [[0.03572369, 0.04798409, 0.02612912],\n",
       "           [0.06236999, 0.08765055, 0.03058733],\n",
       "           [0.04329697, 0.06713095, 0.0055199 ]],\n",
       "  \n",
       "          [[0.04515195, 0.0595263 , 0.0177293 ],\n",
       "           [0.04745793, 0.07599767, 0.02072246],\n",
       "           [0.02579056, 0.04663951, 0.00808281]]]], dtype=float32),\n",
       "  'layer3[5].conv2': array([[[[0.03987614, 0.04015687, 0.03481752],\n",
       "           [0.05989527, 0.05560498, 0.04060204],\n",
       "           [0.0674437 , 0.06470342, 0.04152255]],\n",
       "  \n",
       "          [[0.02169358, 0.0204698 , 0.02031346],\n",
       "           [0.03075267, 0.02604924, 0.0168698 ],\n",
       "           [0.04294368, 0.02153418, 0.01353047]],\n",
       "  \n",
       "          [[0.05393244, 0.03888027, 0.03815201],\n",
       "           [0.03684448, 0.04315163, 0.05708851],\n",
       "           [0.0312589 , 0.05705856, 0.07069772]],\n",
       "  \n",
       "          ...,\n",
       "  \n",
       "          [[0.03162843, 0.04100443, 0.06451058],\n",
       "           [0.03618531, 0.05822977, 0.06621242],\n",
       "           [0.03309839, 0.04510925, 0.03873268]],\n",
       "  \n",
       "          [[0.0249055 , 0.02903471, 0.02778207],\n",
       "           [0.0326979 , 0.0403345 , 0.02737589],\n",
       "           [0.01799282, 0.01982769, 0.0243057 ]],\n",
       "  \n",
       "          [[0.03663873, 0.04438308, 0.047461  ],\n",
       "           [0.04010719, 0.05005589, 0.05745075],\n",
       "           [0.03901581, 0.06208764, 0.06165583]]],\n",
       "  \n",
       "  \n",
       "         [[[0.02083849, 0.01819802, 0.03972977],\n",
       "           [0.05221153, 0.0431881 , 0.05000624],\n",
       "           [0.12046085, 0.12525031, 0.12124246]],\n",
       "  \n",
       "          [[0.01335074, 0.01165946, 0.01477667],\n",
       "           [0.01775648, 0.01947986, 0.01841573],\n",
       "           [0.08368683, 0.08252593, 0.04374847]],\n",
       "  \n",
       "          [[0.1246589 , 0.07279378, 0.03482687],\n",
       "           [0.0669762 , 0.05024664, 0.03223168],\n",
       "           [0.05504834, 0.04404951, 0.0367273 ]],\n",
       "  \n",
       "          ...,\n",
       "  \n",
       "          [[0.06273462, 0.03011525, 0.02772036],\n",
       "           [0.04893051, 0.02594818, 0.03078934],\n",
       "           [0.05621186, 0.02958322, 0.02774571]],\n",
       "  \n",
       "          [[0.02782536, 0.02672303, 0.03042469],\n",
       "           [0.02826431, 0.03785729, 0.03634036],\n",
       "           [0.02783559, 0.0305147 , 0.02871975]],\n",
       "  \n",
       "          [[0.03590263, 0.03411233, 0.04662937],\n",
       "           [0.04291108, 0.03878292, 0.04712338],\n",
       "           [0.04436709, 0.05208911, 0.09401965]]],\n",
       "  \n",
       "  \n",
       "         [[[0.426515  , 0.5001866 , 0.34846005],\n",
       "           [0.47115988, 0.6336053 , 0.46561614],\n",
       "           [0.31547946, 0.42357776, 0.3812514 ]],\n",
       "  \n",
       "          [[0.2434842 , 0.28709066, 0.23490666],\n",
       "           [0.32969368, 0.3169801 , 0.27251264],\n",
       "           [0.31461   , 0.26262248, 0.24709152]],\n",
       "  \n",
       "          [[0.28353342, 0.3784988 , 0.45567018],\n",
       "           [0.31287172, 0.42872125, 0.5430875 ],\n",
       "           [0.2955722 , 0.39567682, 0.5804311 ]],\n",
       "  \n",
       "          ...,\n",
       "  \n",
       "          [[0.3365248 , 0.43469384, 0.38975433],\n",
       "           [0.34914485, 0.43067893, 0.42559692],\n",
       "           [0.33426952, 0.50381196, 0.5228271 ]],\n",
       "  \n",
       "          [[0.2582419 , 0.32710847, 0.27013662],\n",
       "           [0.26161084, 0.27956825, 0.2740251 ],\n",
       "           [0.18527816, 0.15497176, 0.20711534]],\n",
       "  \n",
       "          [[0.4474211 , 0.5768384 , 0.52217376],\n",
       "           [0.35941216, 0.55633616, 0.5615093 ],\n",
       "           [0.3848687 , 0.5594246 , 0.47045425]]],\n",
       "  \n",
       "  \n",
       "         ...,\n",
       "  \n",
       "  \n",
       "         [[[0.744206  , 0.64335805, 0.42404702],\n",
       "           [0.6972688 , 0.61337084, 0.4057086 ],\n",
       "           [0.71105444, 0.59014136, 0.37070277]],\n",
       "  \n",
       "          [[0.29316932, 0.21618953, 0.17500983],\n",
       "           [0.34672418, 0.24729794, 0.18946514],\n",
       "           [0.5344215 , 0.32962987, 0.23873536]],\n",
       "  \n",
       "          [[0.8493526 , 0.5648202 , 0.34589252],\n",
       "           [0.8915578 , 0.42778596, 0.37324172],\n",
       "           [0.48098588, 0.43917102, 0.589709  ]],\n",
       "  \n",
       "          ...,\n",
       "  \n",
       "          [[0.3574164 , 0.45039997, 0.602268  ],\n",
       "           [0.2718102 , 0.4713985 , 0.63565147],\n",
       "           [0.39157274, 0.6235246 , 0.6304976 ]],\n",
       "  \n",
       "          [[0.43578824, 0.40884843, 0.3343758 ],\n",
       "           [0.37632242, 0.33644873, 0.27606097],\n",
       "           [0.23793164, 0.19727562, 0.19313471]],\n",
       "  \n",
       "          [[0.36753625, 0.5979376 , 0.6137367 ],\n",
       "           [0.49348152, 0.7363606 , 0.7775019 ],\n",
       "           [0.63205165, 0.85365343, 0.8168406 ]]],\n",
       "  \n",
       "  \n",
       "         [[[0.22494076, 0.27442837, 0.30610958],\n",
       "           [0.2053964 , 0.3340711 , 0.37776843],\n",
       "           [0.32425097, 0.47456485, 0.4847019 ]],\n",
       "  \n",
       "          [[0.15068386, 0.06509374, 0.06255439],\n",
       "           [0.19297504, 0.1350863 , 0.09230963],\n",
       "           [0.34928402, 0.36574113, 0.2518149 ]],\n",
       "  \n",
       "          [[0.6332945 , 0.5424139 , 0.26731005],\n",
       "           [0.5845816 , 0.42685774, 0.23933396],\n",
       "           [0.41292083, 0.296153  , 0.29379696]],\n",
       "  \n",
       "          ...,\n",
       "  \n",
       "          [[0.33834606, 0.23683694, 0.26889047],\n",
       "           [0.35011634, 0.22677049, 0.23796928],\n",
       "           [0.3149944 , 0.24454261, 0.24805471]],\n",
       "  \n",
       "          [[0.20074017, 0.19589984, 0.19974598],\n",
       "           [0.15567216, 0.15009712, 0.1665512 ],\n",
       "           [0.12280555, 0.09433682, 0.10824499]],\n",
       "  \n",
       "          [[0.1468851 , 0.14449257, 0.21657488],\n",
       "           [0.17410034, 0.1586385 , 0.25527105],\n",
       "           [0.31094667, 0.36758417, 0.46629086]]],\n",
       "  \n",
       "  \n",
       "         [[[0.08388729, 0.07271839, 0.08228208],\n",
       "           [0.06955463, 0.05237082, 0.07524195],\n",
       "           [0.13114928, 0.14441375, 0.16866739]],\n",
       "  \n",
       "          [[0.07451449, 0.04332708, 0.03375082],\n",
       "           [0.06557975, 0.03691462, 0.03563326],\n",
       "           [0.09301369, 0.065547  , 0.05174852]],\n",
       "  \n",
       "          [[0.19622074, 0.13687295, 0.08219948],\n",
       "           [0.198692  , 0.14345656, 0.09989321],\n",
       "           [0.24743123, 0.20777471, 0.14970283]],\n",
       "  \n",
       "          ...,\n",
       "  \n",
       "          [[0.21112448, 0.118852  , 0.06863632],\n",
       "           [0.23858605, 0.13599022, 0.08812906],\n",
       "           [0.22355098, 0.11715259, 0.09972568]],\n",
       "  \n",
       "          [[0.0746491 , 0.04613848, 0.07141028],\n",
       "           [0.04551315, 0.0389632 , 0.04624368],\n",
       "           [0.04520539, 0.04548421, 0.04727876]],\n",
       "  \n",
       "          [[0.05244913, 0.07607441, 0.09200495],\n",
       "           [0.06305513, 0.08232658, 0.08045872],\n",
       "           [0.11186019, 0.14800768, 0.18393311]]]], dtype=float32)},\n",
       " {'layer3[0].conv2': array([[[[0.01311529, 0.0137446 , 0.00692367],\n",
       "           [0.00514044, 0.00871109, 0.00613725],\n",
       "           [0.0034115 , 0.00214523, 0.00640811]],\n",
       "  \n",
       "          [[0.0385735 , 0.02576892, 0.04525392],\n",
       "           [0.02709739, 0.017387  , 0.0679974 ],\n",
       "           [0.04947669, 0.0670921 , 0.10925972]],\n",
       "  \n",
       "          [[0.02073992, 0.00906133, 0.00387276],\n",
       "           [0.00218407, 0.01009217, 0.00419467],\n",
       "           [0.00410436, 0.00179481, 0.00860436]],\n",
       "  \n",
       "          ...,\n",
       "  \n",
       "          [[0.02066901, 0.01599872, 0.01377291],\n",
       "           [0.02432151, 0.02142365, 0.01340124],\n",
       "           [0.02757922, 0.03112245, 0.02004567]],\n",
       "  \n",
       "          [[0.09608965, 0.1138643 , 0.09390983],\n",
       "           [0.10189431, 0.11981198, 0.08661468],\n",
       "           [0.10429201, 0.11101723, 0.08474206]],\n",
       "  \n",
       "          [[0.03116488, 0.01896162, 0.02367971],\n",
       "           [0.00637797, 0.00673284, 0.00522339],\n",
       "           [0.01472323, 0.00692213, 0.00898841]]],\n",
       "  \n",
       "  \n",
       "         [[[0.00197957, 0.00196146, 0.00268604],\n",
       "           [0.0050584 , 0.00192402, 0.00862148],\n",
       "           [0.00083936, 0.01899422, 0.03212146]],\n",
       "  \n",
       "          [[0.00388334, 0.08287465, 0.1404443 ],\n",
       "           [0.05088195, 0.1548761 , 0.14703993],\n",
       "           [0.07097442, 0.11270663, 0.04300825]],\n",
       "  \n",
       "          [[0.00620065, 0.00105199, 0.00677473],\n",
       "           [0.00498621, 0.01504819, 0.01854855],\n",
       "           [0.01541218, 0.02783117, 0.02578808]],\n",
       "  \n",
       "          ...,\n",
       "  \n",
       "          [[0.004316  , 0.00861357, 0.01343936],\n",
       "           [0.01154943, 0.01543459, 0.01840423],\n",
       "           [0.01630326, 0.0155654 , 0.01763266]],\n",
       "  \n",
       "          [[0.027293  , 0.03163528, 0.01695744],\n",
       "           [0.04671383, 0.04513416, 0.02158534],\n",
       "           [0.05253187, 0.05750021, 0.05232899]],\n",
       "  \n",
       "          [[0.0087735 , 0.01076592, 0.0336931 ],\n",
       "           [0.00939845, 0.03142951, 0.04070469],\n",
       "           [0.01310712, 0.02988042, 0.03384272]]],\n",
       "  \n",
       "  \n",
       "         [[[0.01885198, 0.02159041, 0.02731626],\n",
       "           [0.02655885, 0.02344615, 0.02571341],\n",
       "           [0.0235293 , 0.02361522, 0.03010472]],\n",
       "  \n",
       "          [[0.03935792, 0.0262963 , 0.03844029],\n",
       "           [0.01328748, 0.01279175, 0.05352877],\n",
       "           [0.0115757 , 0.03613193, 0.077055  ]],\n",
       "  \n",
       "          [[0.02819943, 0.03754186, 0.04784018],\n",
       "           [0.02804652, 0.0356493 , 0.03887141],\n",
       "           [0.0228549 , 0.02800001, 0.04535658]],\n",
       "  \n",
       "          ...,\n",
       "  \n",
       "          [[0.00608914, 0.00466507, 0.00991036],\n",
       "           [0.00421211, 0.00460536, 0.00336151],\n",
       "           [0.00914141, 0.00834674, 0.003151  ]],\n",
       "  \n",
       "          [[0.01866986, 0.02251912, 0.02257355],\n",
       "           [0.00805406, 0.00832989, 0.0061896 ],\n",
       "           [0.00542733, 0.00740182, 0.0152276 ]],\n",
       "  \n",
       "          [[0.01577581, 0.01240939, 0.01118737],\n",
       "           [0.00423691, 0.01538749, 0.00748242],\n",
       "           [0.0184895 , 0.01410777, 0.00501257]]],\n",
       "  \n",
       "  \n",
       "         ...,\n",
       "  \n",
       "  \n",
       "         [[[0.03390155, 0.03529194, 0.03351734],\n",
       "           [0.0529086 , 0.0545837 , 0.03626932],\n",
       "           [0.04806447, 0.04590866, 0.02960825]],\n",
       "  \n",
       "          [[0.11620471, 0.10330799, 0.06817844],\n",
       "           [0.08745319, 0.0432616 , 0.01300128],\n",
       "           [0.02310826, 0.01634032, 0.02163413]],\n",
       "  \n",
       "          [[0.04604745, 0.04976736, 0.0360834 ],\n",
       "           [0.0744156 , 0.06897802, 0.0413115 ],\n",
       "           [0.05652271, 0.04510959, 0.02048826]],\n",
       "  \n",
       "          ...,\n",
       "  \n",
       "          [[0.01381442, 0.01081502, 0.00825392],\n",
       "           [0.03049522, 0.02533602, 0.01567411],\n",
       "           [0.03309985, 0.03209358, 0.02334968]],\n",
       "  \n",
       "          [[0.04128669, 0.03163956, 0.02629632],\n",
       "           [0.04681384, 0.0389698 , 0.03577213],\n",
       "           [0.03980666, 0.02275982, 0.02591687]],\n",
       "  \n",
       "          [[0.08312339, 0.07918124, 0.06212079],\n",
       "           [0.07601044, 0.06111657, 0.05154248],\n",
       "           [0.04888603, 0.05400306, 0.05453763]]],\n",
       "  \n",
       "  \n",
       "         [[[0.02672236, 0.03773849, 0.05652863],\n",
       "           [0.03668206, 0.05297105, 0.07074287],\n",
       "           [0.03787795, 0.05183227, 0.0708877 ]],\n",
       "  \n",
       "          [[0.2065625 , 0.16892074, 0.17266288],\n",
       "           [0.13949445, 0.1255108 , 0.1873947 ],\n",
       "           [0.10233571, 0.13750295, 0.23580322]],\n",
       "  \n",
       "          [[0.045646  , 0.0704954 , 0.08857343],\n",
       "           [0.06239457, 0.09438118, 0.10739035],\n",
       "           [0.05967506, 0.08683343, 0.09334435]],\n",
       "  \n",
       "          ...,\n",
       "  \n",
       "          [[0.02248121, 0.03357446, 0.05498136],\n",
       "           [0.02298721, 0.03041972, 0.0611795 ],\n",
       "           [0.03453942, 0.04033902, 0.05892939]],\n",
       "  \n",
       "          [[0.15813535, 0.21265161, 0.24311769],\n",
       "           [0.1663999 , 0.22864303, 0.23470491],\n",
       "           [0.13277142, 0.16236505, 0.15853332]],\n",
       "  \n",
       "          [[0.1808294 , 0.18331058, 0.14747497],\n",
       "           [0.15865684, 0.14475158, 0.09165589],\n",
       "           [0.12278811, 0.09211777, 0.07033047]]],\n",
       "  \n",
       "  \n",
       "         [[[0.05819454, 0.07428758, 0.08400779],\n",
       "           [0.08008356, 0.10719581, 0.11022478],\n",
       "           [0.07988956, 0.1066386 , 0.10435489]],\n",
       "  \n",
       "          [[0.13830243, 0.13285281, 0.16885862],\n",
       "           [0.13172388, 0.14551854, 0.18976809],\n",
       "           [0.14368358, 0.18051207, 0.20397374]],\n",
       "  \n",
       "          [[0.08966269, 0.10742823, 0.10196318],\n",
       "           [0.12977111, 0.15636873, 0.13694097],\n",
       "           [0.13386138, 0.16657688, 0.14217769]],\n",
       "  \n",
       "          ...,\n",
       "  \n",
       "          [[0.06963926, 0.07161117, 0.07138013],\n",
       "           [0.06838845, 0.06808761, 0.06921174],\n",
       "           [0.06474468, 0.06406358, 0.0647614 ]],\n",
       "  \n",
       "          [[0.21123774, 0.23111987, 0.20923941],\n",
       "           [0.2137221 , 0.2221769 , 0.19095042],\n",
       "           [0.18734063, 0.18402751, 0.1656011 ]],\n",
       "  \n",
       "          [[0.15074605, 0.15773274, 0.14774877],\n",
       "           [0.13818493, 0.13321757, 0.12420166],\n",
       "           [0.10539422, 0.09223364, 0.0879252 ]]]], dtype=float32),\n",
       "  'layer3[1].conv2': array([[[[0.2604115 , 0.24602515, 0.19678761],\n",
       "           [0.26765668, 0.25241148, 0.17101839],\n",
       "           [0.20131998, 0.16103244, 0.09810337]],\n",
       "  \n",
       "          [[0.04141271, 0.05016394, 0.03626522],\n",
       "           [0.06304327, 0.09716275, 0.10259733],\n",
       "           [0.13647039, 0.22030278, 0.22344247]],\n",
       "  \n",
       "          [[0.0714636 , 0.11158939, 0.11676174],\n",
       "           [0.06764565, 0.11828441, 0.12096293],\n",
       "           [0.06582748, 0.08514219, 0.09380519]],\n",
       "  \n",
       "          ...,\n",
       "  \n",
       "          [[0.03144287, 0.02778498, 0.03864093],\n",
       "           [0.02686811, 0.02243052, 0.04130083],\n",
       "           [0.0549744 , 0.09387374, 0.11475631]],\n",
       "  \n",
       "          [[0.21827571, 0.19450796, 0.16354701],\n",
       "           [0.26544112, 0.2244979 , 0.1368609 ],\n",
       "           [0.17994785, 0.15483876, 0.10909871]],\n",
       "  \n",
       "          [[0.19381562, 0.19540732, 0.17836297],\n",
       "           [0.17266488, 0.15610194, 0.14189926],\n",
       "           [0.13267173, 0.11516374, 0.10813788]]],\n",
       "  \n",
       "  \n",
       "         [[[0.04501093, 0.04841471, 0.04603136],\n",
       "           [0.05632121, 0.05472602, 0.04754211],\n",
       "           [0.05221428, 0.04838868, 0.04013281]],\n",
       "  \n",
       "          [[0.02816446, 0.0333816 , 0.05000784],\n",
       "           [0.0032332 , 0.00828594, 0.04237198],\n",
       "           [0.00811427, 0.0340587 , 0.06543263]],\n",
       "  \n",
       "          [[0.00966329, 0.01419706, 0.01559397],\n",
       "           [0.0212239 , 0.02401447, 0.02799725],\n",
       "           [0.03304676, 0.02799159, 0.03452922]],\n",
       "  \n",
       "          ...,\n",
       "  \n",
       "          [[0.0075203 , 0.00796221, 0.01787055],\n",
       "           [0.00199849, 0.01105608, 0.02476099],\n",
       "           [0.00876208, 0.01400621, 0.02669739]],\n",
       "  \n",
       "          [[0.04813023, 0.04767269, 0.03565744],\n",
       "           [0.05418606, 0.04988944, 0.03807727],\n",
       "           [0.04290072, 0.04400034, 0.03796326]],\n",
       "  \n",
       "          [[0.05097077, 0.0562174 , 0.04066146],\n",
       "           [0.05154096, 0.06284034, 0.0425586 ],\n",
       "           [0.03118904, 0.02802444, 0.02533925]]],\n",
       "  \n",
       "  \n",
       "         [[[0.22680661, 0.23645945, 0.25238395],\n",
       "           [0.28169796, 0.32054767, 0.29328895],\n",
       "           [0.3317954 , 0.41061044, 0.3678821 ]],\n",
       "  \n",
       "          [[0.2654423 , 0.24138045, 0.17026933],\n",
       "           [0.26194018, 0.14248775, 0.11617071],\n",
       "           [0.1619889 , 0.1346123 , 0.15271801]],\n",
       "  \n",
       "          [[0.10579489, 0.07299653, 0.10013156],\n",
       "           [0.13825963, 0.10004361, 0.12769465],\n",
       "           [0.2433464 , 0.253166  , 0.20603055]],\n",
       "  \n",
       "          ...,\n",
       "  \n",
       "          [[0.24003994, 0.18649125, 0.20731837],\n",
       "           [0.18230975, 0.15161908, 0.17083605],\n",
       "           [0.13935432, 0.1508929 , 0.12431917]],\n",
       "  \n",
       "          [[0.2427639 , 0.2580459 , 0.3212264 ],\n",
       "           [0.28450844, 0.3079484 , 0.44496337],\n",
       "           [0.33168015, 0.3794966 , 0.37128532]],\n",
       "  \n",
       "          [[0.34952366, 0.33639273, 0.4094589 ],\n",
       "           [0.2933063 , 0.30895466, 0.3560831 ],\n",
       "           [0.2710324 , 0.31934822, 0.33861578]]],\n",
       "  \n",
       "  \n",
       "         ...,\n",
       "  \n",
       "  \n",
       "         [[[0.05944045, 0.06298919, 0.04131013],\n",
       "           [0.0617279 , 0.07540043, 0.06790338],\n",
       "           [0.05464804, 0.08197019, 0.08242653]],\n",
       "  \n",
       "          [[0.00187364, 0.02593698, 0.03765601],\n",
       "           [0.00434422, 0.01667016, 0.02887882],\n",
       "           [0.00220641, 0.00157623, 0.01984362]],\n",
       "  \n",
       "          [[0.01859124, 0.01349784, 0.00710843],\n",
       "           [0.01224162, 0.00526419, 0.0021489 ],\n",
       "           [0.00556286, 0.00451027, 0.00148117]],\n",
       "  \n",
       "          ...,\n",
       "  \n",
       "          [[0.00438585, 0.01194547, 0.00182932],\n",
       "           [0.01344006, 0.02684509, 0.00461621],\n",
       "           [0.0155309 , 0.00764785, 0.02107415]],\n",
       "  \n",
       "          [[0.04648278, 0.03435868, 0.02288974],\n",
       "           [0.09595428, 0.09962831, 0.05760706],\n",
       "           [0.06788155, 0.10979038, 0.07350165]],\n",
       "  \n",
       "          [[0.00231673, 0.02184784, 0.02448868],\n",
       "           [0.00291002, 0.03719848, 0.0632798 ],\n",
       "           [0.00449633, 0.02666245, 0.05306016]]],\n",
       "  \n",
       "  \n",
       "         [[[0.08443692, 0.09935071, 0.10012756],\n",
       "           [0.13404223, 0.13884287, 0.10930566],\n",
       "           [0.12935133, 0.10121381, 0.06536312]],\n",
       "  \n",
       "          [[0.07813058, 0.09282405, 0.06817843],\n",
       "           [0.05570482, 0.16999845, 0.19972287],\n",
       "           [0.05835919, 0.21641558, 0.2543328 ]],\n",
       "  \n",
       "          [[0.02901774, 0.02904071, 0.05739683],\n",
       "           [0.02896758, 0.02559253, 0.05089316],\n",
       "           [0.03140683, 0.02136867, 0.04637809]],\n",
       "  \n",
       "          ...,\n",
       "  \n",
       "          [[0.06213485, 0.08946284, 0.06583078],\n",
       "           [0.06716438, 0.12025404, 0.08769619],\n",
       "           [0.05221981, 0.09195703, 0.06787304]],\n",
       "  \n",
       "          [[0.07812846, 0.08572686, 0.07732245],\n",
       "           [0.12404414, 0.12719865, 0.07192148],\n",
       "           [0.11774457, 0.09923027, 0.06248457]],\n",
       "  \n",
       "          [[0.09948228, 0.10095231, 0.08951003],\n",
       "           [0.12060025, 0.10824062, 0.10479344],\n",
       "           [0.09857233, 0.06417683, 0.07340077]]],\n",
       "  \n",
       "  \n",
       "         [[[0.04222007, 0.06801255, 0.02380484],\n",
       "           [0.07246941, 0.13501288, 0.08167771],\n",
       "           [0.04127033, 0.10256194, 0.10487344]],\n",
       "  \n",
       "          [[0.08287432, 0.06986117, 0.06953178],\n",
       "           [0.03732402, 0.01011948, 0.00616553],\n",
       "           [0.00380874, 0.06490197, 0.08307271]],\n",
       "  \n",
       "          [[0.03815616, 0.02634326, 0.01764614],\n",
       "           [0.0312896 , 0.01989822, 0.02885824],\n",
       "           [0.05557226, 0.04171216, 0.0114867 ]],\n",
       "  \n",
       "          ...,\n",
       "  \n",
       "          [[0.05400338, 0.08158626, 0.05820084],\n",
       "           [0.03974   , 0.03814353, 0.02782432],\n",
       "           [0.01267328, 0.00880691, 0.01921367]],\n",
       "  \n",
       "          [[0.0371631 , 0.0767004 , 0.03114193],\n",
       "           [0.06588468, 0.1464722 , 0.08472303],\n",
       "           [0.06698833, 0.14860521, 0.1008863 ]],\n",
       "  \n",
       "          [[0.06047715, 0.10503531, 0.05977589],\n",
       "           [0.07122225, 0.12379027, 0.07510151],\n",
       "           [0.04012821, 0.08250188, 0.03998518]]]], dtype=float32),\n",
       "  'layer3[5].conv2': array([[[[0.09411039, 0.14444612, 0.18040843],\n",
       "           [0.19290623, 0.2165798 , 0.16126207],\n",
       "           [0.26855698, 0.2652088 , 0.16245495]],\n",
       "  \n",
       "          [[0.05712432, 0.0564602 , 0.05709707],\n",
       "           [0.13236795, 0.102792  , 0.04352649],\n",
       "           [0.17720751, 0.10673628, 0.04170839]],\n",
       "  \n",
       "          [[0.13117065, 0.07008528, 0.09163219],\n",
       "           [0.08250383, 0.09601855, 0.21461748],\n",
       "           [0.07707073, 0.15533255, 0.279433  ]],\n",
       "  \n",
       "          ...,\n",
       "  \n",
       "          [[0.04739816, 0.05474461, 0.10150091],\n",
       "           [0.0771515 , 0.10243625, 0.14880155],\n",
       "           [0.08761872, 0.11067573, 0.09736626]],\n",
       "  \n",
       "          [[0.3144455 , 0.29316333, 0.15491027],\n",
       "           [0.30107614, 0.26171947, 0.14434   ],\n",
       "           [0.11511292, 0.09317409, 0.09107427]],\n",
       "  \n",
       "          [[0.10584796, 0.11721636, 0.10286972],\n",
       "           [0.13106789, 0.15378909, 0.13093679],\n",
       "           [0.1429303 , 0.17810398, 0.1446692 ]]],\n",
       "  \n",
       "  \n",
       "         [[[0.13974632, 0.14718689, 0.25763124],\n",
       "           [0.26072356, 0.25814068, 0.31817847],\n",
       "           [0.47615704, 0.5028453 , 0.46639383]],\n",
       "  \n",
       "          [[0.0641092 , 0.07282003, 0.10121714],\n",
       "           [0.10377587, 0.1437886 , 0.13778664],\n",
       "           [0.24376254, 0.27057517, 0.2053066 ]],\n",
       "  \n",
       "          [[0.38557288, 0.2994749 , 0.17909811],\n",
       "           [0.33615986, 0.27396944, 0.21693335],\n",
       "           [0.21690516, 0.23215653, 0.33154976]],\n",
       "  \n",
       "          ...,\n",
       "  \n",
       "          [[0.12308442, 0.07633078, 0.10193458],\n",
       "           [0.16832846, 0.15766391, 0.19923918],\n",
       "           [0.19513866, 0.22970197, 0.2085373 ]],\n",
       "  \n",
       "          [[0.31653425, 0.40357304, 0.32440016],\n",
       "           [0.48275217, 0.6794835 , 0.4841238 ],\n",
       "           [0.3477461 , 0.46010742, 0.39161316]],\n",
       "  \n",
       "          [[0.24516778, 0.23845121, 0.22263749],\n",
       "           [0.3121131 , 0.280496  , 0.25786582],\n",
       "           [0.28230828, 0.2966668 , 0.31613392]]],\n",
       "  \n",
       "  \n",
       "         [[[0.1588232 , 0.19335349, 0.10357901],\n",
       "           [0.16955744, 0.22294676, 0.11067492],\n",
       "           [0.09425779, 0.12458017, 0.0844295 ]],\n",
       "  \n",
       "          [[0.06409775, 0.07381191, 0.04700379],\n",
       "           [0.10422412, 0.08717749, 0.05466298],\n",
       "           [0.08379423, 0.05767751, 0.0486361 ]],\n",
       "  \n",
       "          [[0.07304533, 0.10125969, 0.14653426],\n",
       "           [0.07954297, 0.10957254, 0.17622982],\n",
       "           [0.07436633, 0.10681517, 0.17536888]],\n",
       "  \n",
       "          ...,\n",
       "  \n",
       "          [[0.04214659, 0.06946422, 0.06368605],\n",
       "           [0.0562196 , 0.09137542, 0.07668103],\n",
       "           [0.06544145, 0.1123723 , 0.09332275]],\n",
       "  \n",
       "          [[0.08388819, 0.08427817, 0.07303824],\n",
       "           [0.07086966, 0.04183938, 0.07112376],\n",
       "           [0.0516061 , 0.02490713, 0.06453153]],\n",
       "  \n",
       "          [[0.08027522, 0.1132528 , 0.10386691],\n",
       "           [0.0753422 , 0.12185516, 0.11139383],\n",
       "           [0.0831465 , 0.13033001, 0.10122142]]],\n",
       "  \n",
       "  \n",
       "         ...,\n",
       "  \n",
       "  \n",
       "         [[[0.5771833 , 0.50675386, 0.4231405 ],\n",
       "           [0.55606174, 0.5217984 , 0.48414686],\n",
       "           [0.6703901 , 0.5624429 , 0.4340246 ]],\n",
       "  \n",
       "          [[0.23907723, 0.17293462, 0.13172977],\n",
       "           [0.39148837, 0.29215556, 0.16213517],\n",
       "           [0.47901025, 0.36572272, 0.2601437 ]],\n",
       "  \n",
       "          [[0.7748329 , 0.48709267, 0.28031796],\n",
       "           [0.77136666, 0.4238276 , 0.41670808],\n",
       "           [0.48065212, 0.4686901 , 0.61041975]],\n",
       "  \n",
       "          ...,\n",
       "  \n",
       "          [[0.25166872, 0.20159687, 0.24178292],\n",
       "           [0.2511998 , 0.2987875 , 0.32661042],\n",
       "           [0.29866648, 0.4526022 , 0.40580136]],\n",
       "  \n",
       "          [[0.7946077 , 0.91907084, 0.63657314],\n",
       "           [0.9119603 , 1.0655122 , 0.84872717],\n",
       "           [0.5057355 , 0.4303967 , 0.5016098 ]],\n",
       "  \n",
       "          [[0.30362463, 0.44137362, 0.41466713],\n",
       "           [0.42265046, 0.5911323 , 0.5679785 ],\n",
       "           [0.5159921 , 0.7265737 , 0.6695274 ]]],\n",
       "  \n",
       "  \n",
       "         [[[0.13875043, 0.1775817 , 0.1088618 ],\n",
       "           [0.16295356, 0.1911055 , 0.10843878],\n",
       "           [0.08044181, 0.0924075 , 0.0531771 ]],\n",
       "  \n",
       "          [[0.06410749, 0.07312267, 0.06721185],\n",
       "           [0.0456984 , 0.05255264, 0.04745238],\n",
       "           [0.01983191, 0.02723489, 0.02067932]],\n",
       "  \n",
       "          [[0.13994   , 0.25269458, 0.2523111 ],\n",
       "           [0.16093382, 0.25607193, 0.23352748],\n",
       "           [0.08206175, 0.10679635, 0.10295027]],\n",
       "  \n",
       "          ...,\n",
       "  \n",
       "          [[0.07101133, 0.12855032, 0.13655272],\n",
       "           [0.07607611, 0.11231568, 0.10977394],\n",
       "           [0.03068652, 0.05157128, 0.03264806]],\n",
       "  \n",
       "          [[0.02165423, 0.03389526, 0.02624303],\n",
       "           [0.09116895, 0.15166663, 0.0774163 ],\n",
       "           [0.06314631, 0.07534791, 0.04890769]],\n",
       "  \n",
       "          [[0.12801623, 0.13588797, 0.11337525],\n",
       "           [0.10447307, 0.09305255, 0.09666412],\n",
       "           [0.04418163, 0.03574209, 0.04294414]]],\n",
       "  \n",
       "  \n",
       "         [[[0.15355378, 0.28279665, 0.38593665],\n",
       "           [0.13590708, 0.26784387, 0.406407  ],\n",
       "           [0.28142384, 0.3717919 , 0.4312676 ]],\n",
       "  \n",
       "          [[0.13603528, 0.15998618, 0.13396002],\n",
       "           [0.14856906, 0.1810249 , 0.15546033],\n",
       "           [0.18952106, 0.21578331, 0.189322  ]],\n",
       "  \n",
       "          [[0.23428735, 0.1660544 , 0.20074697],\n",
       "           [0.2902506 , 0.19419083, 0.2605044 ],\n",
       "           [0.28300804, 0.2336037 , 0.3891911 ]],\n",
       "  \n",
       "          ...,\n",
       "  \n",
       "          [[0.17636688, 0.10415009, 0.1295299 ],\n",
       "           [0.1860855 , 0.15841156, 0.23227277],\n",
       "           [0.19155091, 0.24531211, 0.33343148]],\n",
       "  \n",
       "          [[0.3233066 , 0.29507846, 0.25534248],\n",
       "           [0.70521206, 0.7203599 , 0.474745  ],\n",
       "           [0.8215399 , 0.81704223, 0.55444795]],\n",
       "  \n",
       "          [[0.2037333 , 0.31227738, 0.39564484],\n",
       "           [0.2146352 , 0.2727799 , 0.2574001 ],\n",
       "           [0.30674174, 0.31593847, 0.24970311]]]], dtype=float32)},\n",
       " {'layer3[0].conv2': array([[[[0.10641358, 0.13712138, 0.13725016],\n",
       "           [0.05379324, 0.09218674, 0.08860435],\n",
       "           [0.05260571, 0.08236589, 0.0969471 ]],\n",
       "  \n",
       "          [[0.10266296, 0.10014249, 0.13116081],\n",
       "           [0.08679836, 0.07868104, 0.14719278],\n",
       "           [0.10954744, 0.13583386, 0.16362506]],\n",
       "  \n",
       "          [[0.13917463, 0.12718835, 0.10910297],\n",
       "           [0.12464482, 0.11433122, 0.09827402],\n",
       "           [0.10984889, 0.12139174, 0.12334722]],\n",
       "  \n",
       "          ...,\n",
       "  \n",
       "          [[0.07101005, 0.0515406 , 0.05044445],\n",
       "           [0.08054524, 0.0660938 , 0.05366705],\n",
       "           [0.07631774, 0.07747922, 0.06322021]],\n",
       "  \n",
       "          [[0.16465127, 0.19149604, 0.17475693],\n",
       "           [0.19622776, 0.21108913, 0.18283696],\n",
       "           [0.21869648, 0.22168207, 0.17634863]],\n",
       "  \n",
       "          [[0.11579785, 0.09973494, 0.09217393],\n",
       "           [0.08222585, 0.04888282, 0.06019326],\n",
       "           [0.06580965, 0.04923994, 0.05039459]]],\n",
       "  \n",
       "  \n",
       "         [[[0.09574803, 0.05513245, 0.04583431],\n",
       "           [0.07323144, 0.02424781, 0.01871224],\n",
       "           [0.04627354, 0.02284457, 0.01884913]],\n",
       "  \n",
       "          [[0.02553609, 0.02555726, 0.01633639],\n",
       "           [0.03314501, 0.03884771, 0.04168897],\n",
       "           [0.06280396, 0.10366844, 0.09615185]],\n",
       "  \n",
       "          [[0.08532346, 0.04058893, 0.03903637],\n",
       "           [0.03758226, 0.01581543, 0.01786535],\n",
       "           [0.02603383, 0.01718116, 0.01051232]],\n",
       "  \n",
       "          ...,\n",
       "  \n",
       "          [[0.06853698, 0.05947987, 0.05291456],\n",
       "           [0.11480007, 0.08744279, 0.06147049],\n",
       "           [0.14940187, 0.09840632, 0.05354212]],\n",
       "  \n",
       "          [[0.06616073, 0.02293665, 0.01820194],\n",
       "           [0.0709806 , 0.01469439, 0.0099752 ],\n",
       "           [0.0982525 , 0.02182049, 0.00305222]],\n",
       "  \n",
       "          [[0.01384849, 0.02121346, 0.0113298 ],\n",
       "           [0.02350323, 0.03871857, 0.04368133],\n",
       "           [0.10478201, 0.12780492, 0.09844021]]],\n",
       "  \n",
       "  \n",
       "         [[[0.07215794, 0.09245399, 0.10189556],\n",
       "           [0.09071264, 0.10975656, 0.11215058],\n",
       "           [0.06890962, 0.07593326, 0.08568139]],\n",
       "  \n",
       "          [[0.16002145, 0.16390356, 0.18110852],\n",
       "           [0.20166841, 0.21657868, 0.19302046],\n",
       "           [0.21025284, 0.2118954 , 0.12349181]],\n",
       "  \n",
       "          [[0.14416416, 0.15853025, 0.13593693],\n",
       "           [0.1766556 , 0.1986045 , 0.16878298],\n",
       "           [0.16451429, 0.19593848, 0.18217476]],\n",
       "  \n",
       "          ...,\n",
       "  \n",
       "          [[0.05762225, 0.08181924, 0.08937496],\n",
       "           [0.05145539, 0.0663581 , 0.08401905],\n",
       "           [0.04608024, 0.06556301, 0.08120777]],\n",
       "  \n",
       "          [[0.11976067, 0.13838483, 0.09766596],\n",
       "           [0.12681358, 0.13248135, 0.12679146],\n",
       "           [0.10785709, 0.11396682, 0.13056529]],\n",
       "  \n",
       "          [[0.08888751, 0.10652864, 0.10095266],\n",
       "           [0.10378838, 0.10637669, 0.12574585],\n",
       "           [0.0805765 , 0.09221157, 0.09555043]]],\n",
       "  \n",
       "  \n",
       "         ...,\n",
       "  \n",
       "  \n",
       "         [[[0.11366231, 0.09946942, 0.11097847],\n",
       "           [0.13078453, 0.09729044, 0.09523548],\n",
       "           [0.16051328, 0.10933583, 0.0779238 ]],\n",
       "  \n",
       "          [[0.15292864, 0.07625033, 0.0350522 ],\n",
       "           [0.17528445, 0.06521552, 0.03764558],\n",
       "           [0.12680553, 0.04352983, 0.07329054]],\n",
       "  \n",
       "          [[0.17302576, 0.1798498 , 0.1834725 ],\n",
       "           [0.18682954, 0.14946839, 0.15537605],\n",
       "           [0.20570421, 0.12026274, 0.10414968]],\n",
       "  \n",
       "          ...,\n",
       "  \n",
       "          [[0.00916629, 0.0101773 , 0.00600522],\n",
       "           [0.02649222, 0.02285611, 0.01626457],\n",
       "           [0.04310699, 0.02820711, 0.01615968]],\n",
       "  \n",
       "          [[0.09230968, 0.04653089, 0.0253853 ],\n",
       "           [0.06291834, 0.02815009, 0.0344701 ],\n",
       "           [0.05063302, 0.02904006, 0.02873339]],\n",
       "  \n",
       "          [[0.06058058, 0.03867144, 0.00902987],\n",
       "           [0.07129144, 0.04575337, 0.02427542],\n",
       "           [0.06439303, 0.05771631, 0.05980892]]],\n",
       "  \n",
       "  \n",
       "         [[[0.13543786, 0.22672343, 0.2890006 ],\n",
       "           [0.17503867, 0.26661885, 0.2764607 ],\n",
       "           [0.18045564, 0.22317888, 0.21569905]],\n",
       "  \n",
       "          [[0.47027028, 0.43528223, 0.3340193 ],\n",
       "           [0.42793766, 0.34515953, 0.2766238 ],\n",
       "           [0.36634514, 0.315265  , 0.32562792]],\n",
       "  \n",
       "          [[0.28926188, 0.43857768, 0.48602086],\n",
       "           [0.35605246, 0.49234033, 0.4513611 ],\n",
       "           [0.34082332, 0.39309895, 0.3226023 ]],\n",
       "  \n",
       "          ...,\n",
       "  \n",
       "          [[0.10872293, 0.15809646, 0.18288364],\n",
       "           [0.11091352, 0.16503051, 0.22561777],\n",
       "           [0.1096204 , 0.17675763, 0.23582275]],\n",
       "  \n",
       "          [[0.30815232, 0.42553374, 0.40103203],\n",
       "           [0.35066143, 0.48044133, 0.39645943],\n",
       "           [0.31606728, 0.40157387, 0.3130148 ]],\n",
       "  \n",
       "          [[0.30158207, 0.33488476, 0.22657959],\n",
       "           [0.28895718, 0.2704089 , 0.13420361],\n",
       "           [0.19697097, 0.17647074, 0.12275575]]],\n",
       "  \n",
       "  \n",
       "         [[[0.1269979 , 0.14707553, 0.19361395],\n",
       "           [0.1463727 , 0.16929464, 0.21992797],\n",
       "           [0.13845164, 0.17801563, 0.21220368]],\n",
       "  \n",
       "          [[0.15068977, 0.19459505, 0.2654826 ],\n",
       "           [0.15267633, 0.22229469, 0.24234462],\n",
       "           [0.16585328, 0.21845359, 0.20034288]],\n",
       "  \n",
       "          [[0.20321272, 0.24348295, 0.27084532],\n",
       "           [0.22863474, 0.272229  , 0.2912941 ],\n",
       "           [0.23883595, 0.3030204 , 0.28854847]],\n",
       "  \n",
       "          ...,\n",
       "  \n",
       "          [[0.13123418, 0.13050674, 0.11990674],\n",
       "           [0.13091622, 0.10709807, 0.10204243],\n",
       "           [0.12530838, 0.10019732, 0.08860811]],\n",
       "  \n",
       "          [[0.2854571 , 0.2883322 , 0.23620479],\n",
       "           [0.30821645, 0.29567787, 0.23076658],\n",
       "           [0.29586202, 0.27013266, 0.21717104]],\n",
       "  \n",
       "          [[0.15162992, 0.18872236, 0.21818855],\n",
       "           [0.1741482 , 0.20844226, 0.19208476],\n",
       "           [0.15912034, 0.15743764, 0.12881584]]]], dtype=float32),\n",
       "  'layer3[1].conv2': array([[[[0.0237724 , 0.02842306, 0.02244144],\n",
       "           [0.01953958, 0.02719232, 0.02208073],\n",
       "           [0.02535017, 0.02848945, 0.01849366]],\n",
       "  \n",
       "          [[0.01711432, 0.00978435, 0.01966464],\n",
       "           [0.02152905, 0.04485201, 0.05456458],\n",
       "           [0.04419728, 0.08513904, 0.08283488]],\n",
       "  \n",
       "          [[0.05440803, 0.04627277, 0.03881652],\n",
       "           [0.06541861, 0.05179259, 0.04494449],\n",
       "           [0.03290232, 0.01705211, 0.01430176]],\n",
       "  \n",
       "          ...,\n",
       "  \n",
       "          [[0.04060064, 0.04667254, 0.05505398],\n",
       "           [0.04123893, 0.03737454, 0.05368635],\n",
       "           [0.03383193, 0.03660227, 0.04589419]],\n",
       "  \n",
       "          [[0.03420132, 0.03387331, 0.03050229],\n",
       "           [0.03657484, 0.02155311, 0.01924587],\n",
       "           [0.03175355, 0.02416128, 0.01311449]],\n",
       "  \n",
       "          [[0.03491908, 0.03226338, 0.03348328],\n",
       "           [0.03817175, 0.04015874, 0.03944086],\n",
       "           [0.04034065, 0.03156118, 0.03395296]]],\n",
       "  \n",
       "  \n",
       "         [[[0.06684314, 0.1005621 , 0.11593161],\n",
       "           [0.0743596 , 0.08957898, 0.10734465],\n",
       "           [0.08954812, 0.08753732, 0.09705265]],\n",
       "  \n",
       "          [[0.14031297, 0.11042481, 0.0593136 ],\n",
       "           [0.11872349, 0.12457317, 0.08903561],\n",
       "           [0.07323042, 0.13349184, 0.11601936]],\n",
       "  \n",
       "          [[0.09706431, 0.12276548, 0.09128954],\n",
       "           [0.14080688, 0.1333649 , 0.12802404],\n",
       "           [0.08497968, 0.06840628, 0.1396414 ]],\n",
       "  \n",
       "          ...,\n",
       "  \n",
       "          [[0.13135163, 0.12692013, 0.11808765],\n",
       "           [0.14067657, 0.1675916 , 0.15091088],\n",
       "           [0.14354128, 0.18722664, 0.13938084]],\n",
       "  \n",
       "          [[0.08971718, 0.07606381, 0.12941842],\n",
       "           [0.07260833, 0.07473052, 0.08899409],\n",
       "           [0.05923034, 0.08056517, 0.05393326]],\n",
       "  \n",
       "          [[0.15382573, 0.15047763, 0.10932135],\n",
       "           [0.13129133, 0.16281202, 0.12305491],\n",
       "           [0.11860875, 0.14946836, 0.13137554]]],\n",
       "  \n",
       "  \n",
       "         [[[0.05514118, 0.07341281, 0.0620768 ],\n",
       "           [0.06329559, 0.09124784, 0.05210069],\n",
       "           [0.05394399, 0.05824999, 0.03686573]],\n",
       "  \n",
       "          [[0.09786697, 0.07965586, 0.04988581],\n",
       "           [0.12035466, 0.05054257, 0.02367334],\n",
       "           [0.11948944, 0.02829306, 0.02416764]],\n",
       "  \n",
       "          [[0.02026962, 0.01834384, 0.01281467],\n",
       "           [0.04389382, 0.05650854, 0.0205334 ],\n",
       "           [0.11080992, 0.14919187, 0.0154252 ]],\n",
       "  \n",
       "          ...,\n",
       "  \n",
       "          [[0.04501903, 0.03581303, 0.03952705],\n",
       "           [0.06018693, 0.01112094, 0.03705707],\n",
       "           [0.09156889, 0.07763033, 0.11112023]],\n",
       "  \n",
       "          [[0.06529123, 0.09860785, 0.09169884],\n",
       "           [0.07934857, 0.14130665, 0.16517234],\n",
       "           [0.03706588, 0.0835603 , 0.143886  ]],\n",
       "  \n",
       "          [[0.10118421, 0.13683002, 0.16145636],\n",
       "           [0.08180783, 0.09962684, 0.16278362],\n",
       "           [0.05306207, 0.04305872, 0.10919113]]],\n",
       "  \n",
       "  \n",
       "         ...,\n",
       "  \n",
       "  \n",
       "         [[[0.03414275, 0.04031141, 0.02544009],\n",
       "           [0.03463444, 0.03940228, 0.01798624],\n",
       "           [0.03677996, 0.04278477, 0.01530014]],\n",
       "  \n",
       "          [[0.01881822, 0.02554772, 0.04919792],\n",
       "           [0.00681414, 0.0229299 , 0.06129381],\n",
       "           [0.00611997, 0.02702296, 0.06412576]],\n",
       "  \n",
       "          [[0.0528363 , 0.03734152, 0.02394716],\n",
       "           [0.06094764, 0.0332168 , 0.01241724],\n",
       "           [0.03502148, 0.01851551, 0.00641987]],\n",
       "  \n",
       "          ...,\n",
       "  \n",
       "          [[0.02861355, 0.03965671, 0.04381311],\n",
       "           [0.01562169, 0.04399166, 0.06156899],\n",
       "           [0.00818334, 0.01535077, 0.03594352]],\n",
       "  \n",
       "          [[0.02136002, 0.02901579, 0.0271665 ],\n",
       "           [0.01838895, 0.02100786, 0.0261383 ],\n",
       "           [0.0269111 , 0.03981169, 0.03603979]],\n",
       "  \n",
       "          [[0.00668128, 0.01807179, 0.04047032],\n",
       "           [0.00859485, 0.02132816, 0.0514541 ],\n",
       "           [0.02279375, 0.0410118 , 0.07575756]]],\n",
       "  \n",
       "  \n",
       "         [[[0.00738925, 0.00463791, 0.0045276 ],\n",
       "           [0.01452526, 0.01058738, 0.00518289],\n",
       "           [0.01503714, 0.01407187, 0.00656062]],\n",
       "  \n",
       "          [[0.01773794, 0.03513123, 0.03927481],\n",
       "           [0.01896468, 0.04855511, 0.05167823],\n",
       "           [0.01433446, 0.04900089, 0.04082887]],\n",
       "  \n",
       "          [[0.00113768, 0.00023019, 0.00125122],\n",
       "           [0.00036506, 0.00239495, 0.01114419],\n",
       "           [0.01526739, 0.01607897, 0.02902756]],\n",
       "  \n",
       "          ...,\n",
       "  \n",
       "          [[0.00856   , 0.00463112, 0.00508618],\n",
       "           [0.01802862, 0.02211463, 0.01702327],\n",
       "           [0.02518851, 0.0360865 , 0.02433217]],\n",
       "  \n",
       "          [[0.01631613, 0.01401964, 0.00958511],\n",
       "           [0.02497245, 0.02117349, 0.01154136],\n",
       "           [0.02060958, 0.02015011, 0.0099738 ]],\n",
       "  \n",
       "          [[0.01513489, 0.01426138, 0.01004563],\n",
       "           [0.0143993 , 0.0152469 , 0.01246867],\n",
       "           [0.00961016, 0.0102291 , 0.00836486]]],\n",
       "  \n",
       "  \n",
       "         [[[0.06539162, 0.05281421, 0.0257104 ],\n",
       "           [0.05910049, 0.03736802, 0.01449548],\n",
       "           [0.042263  , 0.03361145, 0.02327024]],\n",
       "  \n",
       "          [[0.04216462, 0.04436332, 0.08391892],\n",
       "           [0.02985848, 0.04139726, 0.03163226],\n",
       "           [0.03023538, 0.04604409, 0.03939407]],\n",
       "  \n",
       "          [[0.03834172, 0.00858417, 0.00291402],\n",
       "           [0.064556  , 0.06107274, 0.04745707],\n",
       "           [0.09460254, 0.06170839, 0.03932183]],\n",
       "  \n",
       "          ...,\n",
       "  \n",
       "          [[0.05848303, 0.07015619, 0.08241943],\n",
       "           [0.08858643, 0.08577666, 0.06166048],\n",
       "           [0.07819565, 0.085737  , 0.06818065]],\n",
       "  \n",
       "          [[0.06990997, 0.11247715, 0.06783953],\n",
       "           [0.07116828, 0.11563955, 0.06722833],\n",
       "           [0.05690422, 0.07171824, 0.03035355]],\n",
       "  \n",
       "          [[0.0689301 , 0.13578427, 0.11031234],\n",
       "           [0.07160675, 0.12006314, 0.08322332],\n",
       "           [0.04269633, 0.08618245, 0.0478836 ]]]], dtype=float32),\n",
       "  'layer3[5].conv2': array([[[[0.03983808, 0.02133053, 0.03580982],\n",
       "           [0.09628039, 0.05460022, 0.03540368],\n",
       "           [0.13402854, 0.08401829, 0.04975352]],\n",
       "  \n",
       "          [[0.03082792, 0.00598736, 0.00534096],\n",
       "           [0.00900956, 0.02387613, 0.00761475],\n",
       "           [0.03831346, 0.00153071, 0.00884787]],\n",
       "  \n",
       "          [[0.0649472 , 0.01829052, 0.01497092],\n",
       "           [0.02657987, 0.01647191, 0.01505221],\n",
       "           [0.01477508, 0.01469422, 0.01210502]],\n",
       "  \n",
       "          ...,\n",
       "  \n",
       "          [[0.01738335, 0.01368791, 0.02788203],\n",
       "           [0.01465558, 0.02767706, 0.05035118],\n",
       "           [0.01456541, 0.03524499, 0.05589536]],\n",
       "  \n",
       "          [[0.02169572, 0.01137511, 0.04088357],\n",
       "           [0.00996082, 0.01892599, 0.02457473],\n",
       "           [0.00587857, 0.01338064, 0.03325296]],\n",
       "  \n",
       "          [[0.01892526, 0.04025735, 0.06261188],\n",
       "           [0.0204898 , 0.01895472, 0.05698203],\n",
       "           [0.01605802, 0.05843661, 0.06299411]]],\n",
       "  \n",
       "  \n",
       "         [[[0.09680998, 0.08079682, 0.10285861],\n",
       "           [0.22870506, 0.16607063, 0.16754678],\n",
       "           [0.39351106, 0.32254586, 0.26786816]],\n",
       "  \n",
       "          [[0.04772351, 0.06441744, 0.0684874 ],\n",
       "           [0.06999598, 0.10413845, 0.09518936],\n",
       "           [0.185559  , 0.25005257, 0.20243146]],\n",
       "  \n",
       "          [[0.24240687, 0.24608192, 0.17180274],\n",
       "           [0.15385222, 0.13017008, 0.08399238],\n",
       "           [0.06842165, 0.0854985 , 0.08850165]],\n",
       "  \n",
       "          ...,\n",
       "  \n",
       "          [[0.13768491, 0.12200259, 0.11216178],\n",
       "           [0.1797587 , 0.20246555, 0.16610195],\n",
       "           [0.18187208, 0.19781518, 0.14929852]],\n",
       "  \n",
       "          [[0.07408086, 0.09163376, 0.08354813],\n",
       "           [0.12396402, 0.17536764, 0.12283869],\n",
       "           [0.15855551, 0.23414451, 0.17474636]],\n",
       "  \n",
       "          [[0.16056602, 0.15122117, 0.12712014],\n",
       "           [0.18578608, 0.17928886, 0.1656508 ],\n",
       "           [0.16999848, 0.23061505, 0.2632228 ]]],\n",
       "  \n",
       "  \n",
       "         [[[0.42362177, 0.46637508, 0.3522353 ],\n",
       "           [0.474076  , 0.66504127, 0.49586937],\n",
       "           [0.34969786, 0.5731311 , 0.49093762]],\n",
       "  \n",
       "          [[0.26006788, 0.3045592 , 0.28964576],\n",
       "           [0.40939784, 0.37869042, 0.3063949 ],\n",
       "           [0.39692312, 0.30698273, 0.2295381 ]],\n",
       "  \n",
       "          [[0.3213219 , 0.34332567, 0.4150914 ],\n",
       "           [0.27930573, 0.33029658, 0.42901963],\n",
       "           [0.24191794, 0.28927258, 0.42634645]],\n",
       "  \n",
       "          ...,\n",
       "  \n",
       "          [[0.21857242, 0.26493466, 0.26694292],\n",
       "           [0.24689244, 0.28148904, 0.29671374],\n",
       "           [0.1954526 , 0.32554492, 0.3792176 ]],\n",
       "  \n",
       "          [[0.4534621 , 0.5351144 , 0.4358184 ],\n",
       "           [0.505693  , 0.5023061 , 0.42540818],\n",
       "           [0.380611  , 0.27956104, 0.33493415]],\n",
       "  \n",
       "          [[0.41556808, 0.5448558 , 0.5084687 ],\n",
       "           [0.28828508, 0.48759586, 0.50288856],\n",
       "           [0.2931618 , 0.4433315 , 0.3979999 ]]],\n",
       "  \n",
       "  \n",
       "         ...,\n",
       "  \n",
       "  \n",
       "         [[[0.30537772, 0.1929191 , 0.10091269],\n",
       "           [0.23888086, 0.16522445, 0.11515255],\n",
       "           [0.22971164, 0.20116472, 0.12719695]],\n",
       "  \n",
       "          [[0.15023842, 0.08543637, 0.06124445],\n",
       "           [0.08049303, 0.03865496, 0.04742758],\n",
       "           [0.15522887, 0.09746686, 0.08745011]],\n",
       "  \n",
       "          [[0.30944046, 0.21403573, 0.12924536],\n",
       "           [0.3000742 , 0.13349155, 0.09403048],\n",
       "           [0.12731172, 0.07324251, 0.0958743 ]],\n",
       "  \n",
       "          ...,\n",
       "  \n",
       "          [[0.12653866, 0.14725354, 0.18976377],\n",
       "           [0.11832435, 0.16444574, 0.24656262],\n",
       "           [0.13707672, 0.22676046, 0.26066938]],\n",
       "  \n",
       "          [[0.17031644, 0.15867303, 0.14790317],\n",
       "           [0.09839208, 0.10758512, 0.12903297],\n",
       "           [0.09815127, 0.07795537, 0.1168063 ]],\n",
       "  \n",
       "          [[0.09536009, 0.16725552, 0.18868683],\n",
       "           [0.10090175, 0.15498866, 0.19871822],\n",
       "           [0.14866899, 0.2259057 , 0.25999457]]],\n",
       "  \n",
       "  \n",
       "         [[[0.07094782, 0.08554174, 0.0942457 ],\n",
       "           [0.08846792, 0.10130402, 0.11071908],\n",
       "           [0.04241766, 0.05377717, 0.05217486]],\n",
       "  \n",
       "          [[0.04450851, 0.0574604 , 0.04348006],\n",
       "           [0.08864405, 0.10313731, 0.06869315],\n",
       "           [0.07241206, 0.06557583, 0.04361179]],\n",
       "  \n",
       "          [[0.08172677, 0.10405085, 0.11215523],\n",
       "           [0.09370735, 0.11332942, 0.11750872],\n",
       "           [0.05309778, 0.06667808, 0.07366444]],\n",
       "  \n",
       "          ...,\n",
       "  \n",
       "          [[0.03423391, 0.05202976, 0.05625314],\n",
       "           [0.03907858, 0.04758428, 0.03688268],\n",
       "           [0.03840464, 0.03595491, 0.02453295]],\n",
       "  \n",
       "          [[0.0644646 , 0.08125352, 0.04612894],\n",
       "           [0.1134497 , 0.10799593, 0.06679262],\n",
       "           [0.09138703, 0.0685567 , 0.05014857]],\n",
       "  \n",
       "          [[0.08403682, 0.08429705, 0.05890069],\n",
       "           [0.09037554, 0.10198882, 0.08828364],\n",
       "           [0.03443705, 0.04776926, 0.06222111]]],\n",
       "  \n",
       "  \n",
       "         [[[0.03392304, 0.12101649, 0.13773356],\n",
       "           [0.01699323, 0.09991154, 0.11425855],\n",
       "           [0.04746941, 0.07164728, 0.04005044]],\n",
       "  \n",
       "          [[0.0138342 , 0.08238479, 0.09159653],\n",
       "           [0.07540049, 0.16011064, 0.13099164],\n",
       "           [0.04849713, 0.0794116 , 0.05164161]],\n",
       "  \n",
       "          [[0.06969003, 0.03951477, 0.06796408],\n",
       "           [0.05262386, 0.07201028, 0.10545305],\n",
       "           [0.04088025, 0.06805564, 0.11707065]],\n",
       "  \n",
       "          ...,\n",
       "  \n",
       "          [[0.01945101, 0.00519961, 0.0482862 ],\n",
       "           [0.04506048, 0.00872886, 0.04834943],\n",
       "           [0.04092434, 0.01358232, 0.04157447]],\n",
       "  \n",
       "          [[0.05734276, 0.07466426, 0.0357664 ],\n",
       "           [0.15964921, 0.16656445, 0.08708234],\n",
       "           [0.15807372, 0.11434203, 0.05234909]],\n",
       "  \n",
       "          [[0.0276202 , 0.0979161 , 0.08929939],\n",
       "           [0.04600691, 0.12056395, 0.09922738],\n",
       "           [0.02960657, 0.04809296, 0.02103258]]]], dtype=float32)},\n",
       " {'layer3[0].conv2': array([[[[3.22290100e-02, 3.57387736e-02, 4.11934666e-02],\n",
       "           [5.00551276e-02, 5.45421466e-02, 6.21962808e-02],\n",
       "           [3.95794474e-02, 4.55642343e-02, 5.46297878e-02]],\n",
       "  \n",
       "          [[1.41347004e-02, 2.11904086e-02, 1.52264396e-02],\n",
       "           [2.15101223e-02, 2.92060357e-02, 2.37701386e-02],\n",
       "           [2.74000615e-02, 3.54674421e-02, 2.94087976e-02]],\n",
       "  \n",
       "          [[1.88409388e-02, 1.11854821e-02, 1.01918718e-02],\n",
       "           [3.41039300e-02, 2.64035575e-02, 2.35721655e-02],\n",
       "           [4.82017733e-02, 4.47924621e-02, 4.61720116e-02]],\n",
       "  \n",
       "          ...,\n",
       "  \n",
       "          [[3.75170913e-03, 2.00148183e-03, 9.62453021e-04],\n",
       "           [5.62212337e-03, 5.13084512e-03, 3.09815188e-03],\n",
       "           [7.56420800e-03, 9.28782206e-03, 7.30938837e-03]],\n",
       "  \n",
       "          [[8.82718991e-03, 6.71874313e-03, 8.94761551e-03],\n",
       "           [1.86940804e-02, 1.64709780e-02, 2.18621623e-02],\n",
       "           [2.47653816e-02, 2.76302248e-02, 3.05369534e-02]],\n",
       "  \n",
       "          [[2.94997003e-02, 3.25465538e-02, 3.12141217e-02],\n",
       "           [3.75331230e-02, 4.15224247e-02, 4.53206934e-02],\n",
       "           [4.33999300e-02, 4.90000136e-02, 5.17543182e-02]]],\n",
       "  \n",
       "  \n",
       "         [[[1.79334283e-02, 2.14795303e-02, 1.99358556e-02],\n",
       "           [1.68882590e-02, 1.38496654e-02, 1.38750188e-02],\n",
       "           [3.12845781e-02, 2.73960549e-02, 2.09488068e-02]],\n",
       "  \n",
       "          [[5.78005649e-02, 4.14520428e-02, 4.55031581e-02],\n",
       "           [3.94391902e-02, 2.27045789e-02, 3.60070057e-02],\n",
       "           [3.37245204e-02, 2.95876525e-02, 3.49344276e-02]],\n",
       "  \n",
       "          [[2.26914734e-02, 2.07994338e-02, 4.25108261e-02],\n",
       "           [9.71306488e-03, 3.79855745e-03, 1.68385506e-02],\n",
       "           [1.51312090e-02, 8.44793767e-03, 7.40155391e-03]],\n",
       "  \n",
       "          ...,\n",
       "  \n",
       "          [[2.83750962e-03, 2.27878569e-03, 2.63524498e-03],\n",
       "           [2.09066132e-03, 1.89043488e-03, 1.73048547e-03],\n",
       "           [2.22965633e-03, 2.12887418e-03, 1.84824155e-03]],\n",
       "  \n",
       "          [[9.97783802e-03, 1.09861596e-02, 1.84688158e-02],\n",
       "           [6.14047283e-03, 2.42694886e-03, 7.77815282e-03],\n",
       "           [7.31364638e-03, 4.89895092e-03, 2.96587707e-03]],\n",
       "  \n",
       "          [[1.73874237e-02, 1.11748148e-02, 1.34368185e-02],\n",
       "           [1.50440382e-02, 1.09007070e-02, 1.95387416e-02],\n",
       "           [2.93194540e-02, 3.63052525e-02, 4.40338291e-02]]],\n",
       "  \n",
       "  \n",
       "         [[[4.24566381e-02, 3.96749228e-02, 4.53461967e-02],\n",
       "           [2.91905850e-02, 1.87055133e-02, 2.78158002e-02],\n",
       "           [1.83943044e-02, 1.15700606e-02, 2.53221579e-02]],\n",
       "  \n",
       "          [[1.15980292e-02, 1.03941802e-02, 1.34661673e-02],\n",
       "           [9.57906060e-03, 2.58880164e-02, 3.88572663e-02],\n",
       "           [4.63721044e-02, 6.70050979e-02, 6.69430569e-02]],\n",
       "  \n",
       "          [[3.71989049e-02, 4.13201228e-02, 3.75655070e-02],\n",
       "           [6.90183789e-03, 1.47578083e-02, 4.19130223e-03],\n",
       "           [1.08082704e-02, 1.16465399e-02, 9.48101282e-03]],\n",
       "  \n",
       "          ...,\n",
       "  \n",
       "          [[1.24594232e-03, 8.79180443e-05, 5.33220533e-04],\n",
       "           [6.17619953e-04, 1.25307194e-03, 1.12792302e-03],\n",
       "           [1.91697315e-03, 8.82215681e-04, 1.63584610e-03]],\n",
       "  \n",
       "          [[4.00854787e-03, 6.32878905e-03, 6.49255142e-03],\n",
       "           [1.46738710e-02, 2.59442292e-02, 1.18366042e-02],\n",
       "           [9.33858193e-03, 1.19953956e-02, 3.73481680e-03]],\n",
       "  \n",
       "          [[3.29849310e-02, 3.21347080e-02, 3.43376547e-02],\n",
       "           [4.71628457e-02, 4.52176332e-02, 4.92301881e-02],\n",
       "           [7.49219656e-02, 7.37348720e-02, 6.88303337e-02]]],\n",
       "  \n",
       "  \n",
       "         ...,\n",
       "  \n",
       "  \n",
       "         [[[8.14626738e-02, 1.03291646e-01, 1.25395596e-01],\n",
       "           [1.16303213e-01, 1.37965202e-01, 1.59032822e-01],\n",
       "           [1.19763374e-01, 1.33559376e-01, 1.50645003e-01]],\n",
       "  \n",
       "          [[1.30505353e-01, 1.34276852e-01, 1.05489016e-01],\n",
       "           [1.14915416e-01, 1.10239282e-01, 1.07515268e-01],\n",
       "           [1.02484584e-01, 1.08210512e-01, 1.11010656e-01]],\n",
       "  \n",
       "          [[1.28424108e-01, 1.52502254e-01, 1.56346813e-01],\n",
       "           [1.65633664e-01, 1.83249220e-01, 1.79682270e-01],\n",
       "           [1.72280520e-01, 1.77164212e-01, 1.72498271e-01]],\n",
       "  \n",
       "          ...,\n",
       "  \n",
       "          [[2.11352110e-02, 2.25405451e-02, 2.83479374e-02],\n",
       "           [2.40727570e-02, 2.33642105e-02, 2.98854262e-02],\n",
       "           [2.27554701e-02, 2.48940401e-02, 3.01140174e-02]],\n",
       "  \n",
       "          [[6.02319203e-02, 7.53536597e-02, 8.53683352e-02],\n",
       "           [6.53285980e-02, 7.99980536e-02, 9.73790064e-02],\n",
       "           [6.55138493e-02, 7.11490810e-02, 7.80801848e-02]],\n",
       "  \n",
       "          [[1.72620162e-01, 1.81275472e-01, 1.66454732e-01],\n",
       "           [1.33813575e-01, 1.21509984e-01, 1.12231337e-01],\n",
       "           [1.17183119e-01, 1.05054751e-01, 1.04269117e-01]]],\n",
       "  \n",
       "  \n",
       "         [[[3.63596343e-02, 3.30209509e-02, 2.47419924e-02],\n",
       "           [2.86544692e-02, 2.46158317e-02, 2.60724500e-02],\n",
       "           [2.63948645e-02, 2.03157403e-02, 2.57316977e-02]],\n",
       "  \n",
       "          [[1.20955231e-02, 1.03409672e-02, 1.14820898e-02],\n",
       "           [1.32375192e-02, 1.29377758e-02, 3.13894972e-02],\n",
       "           [1.35143083e-02, 1.89483296e-02, 4.76479344e-02]],\n",
       "  \n",
       "          [[2.23687552e-02, 9.29679442e-03, 9.65008792e-03],\n",
       "           [5.22990059e-03, 1.14117339e-02, 1.51678035e-02],\n",
       "           [8.73344298e-03, 1.04999067e-02, 3.59693207e-02]],\n",
       "  \n",
       "          ...,\n",
       "  \n",
       "          [[5.95533522e-03, 6.21700985e-03, 7.07084872e-03],\n",
       "           [8.13406333e-03, 7.15973694e-03, 8.89572781e-03],\n",
       "           [6.85039721e-03, 6.96102623e-03, 7.61347869e-03]],\n",
       "  \n",
       "          [[3.04177348e-02, 3.20645496e-02, 3.81273553e-02],\n",
       "           [1.24361385e-02, 1.27992649e-02, 2.50765011e-02],\n",
       "           [6.41596317e-03, 2.94293626e-03, 8.89617857e-03]],\n",
       "  \n",
       "          [[6.05932139e-02, 5.17762937e-02, 4.49696444e-02],\n",
       "           [4.95093167e-02, 3.78980190e-02, 2.93773301e-02],\n",
       "           [4.21998650e-02, 2.81539690e-02, 2.73810439e-02]]],\n",
       "  \n",
       "  \n",
       "         [[[3.19582038e-02, 5.16294613e-02, 6.77295178e-02],\n",
       "           [5.07549979e-02, 7.22741410e-02, 7.49390200e-02],\n",
       "           [6.13585860e-02, 7.27259815e-02, 7.22949728e-02]],\n",
       "  \n",
       "          [[4.83859181e-02, 4.05742712e-02, 4.59808558e-02],\n",
       "           [3.84651646e-02, 3.08606979e-02, 4.25862968e-02],\n",
       "           [3.67718413e-02, 3.74140367e-02, 4.74884026e-02]],\n",
       "  \n",
       "          [[6.16284274e-02, 7.14907348e-02, 6.85204118e-02],\n",
       "           [8.32223296e-02, 8.47759321e-02, 6.54959828e-02],\n",
       "           [8.28920975e-02, 7.49135986e-02, 5.80310263e-02]],\n",
       "  \n",
       "          ...,\n",
       "  \n",
       "          [[1.08060008e-02, 1.45339584e-02, 1.27277188e-02],\n",
       "           [5.23225032e-03, 7.34493556e-03, 7.41745578e-03],\n",
       "           [4.20789793e-03, 3.97043489e-03, 4.59396001e-03]],\n",
       "  \n",
       "          [[4.30297628e-02, 5.29923998e-02, 4.14682478e-02],\n",
       "           [4.45082970e-02, 4.70116511e-02, 3.26668546e-02],\n",
       "           [2.80258171e-02, 2.85786185e-02, 1.98555030e-02]],\n",
       "  \n",
       "          [[6.46151453e-02, 6.22198023e-02, 4.77460958e-02],\n",
       "           [4.38950583e-02, 3.14879976e-02, 3.00265644e-02],\n",
       "           [2.96316054e-02, 2.18791887e-02, 2.77335681e-02]]]],\n",
       "        dtype=float32),\n",
       "  'layer3[1].conv2': array([[[[0.0106353 , 0.01553271, 0.01751137],\n",
       "           [0.02948632, 0.04259354, 0.03083196],\n",
       "           [0.03172956, 0.03657809, 0.02703476]],\n",
       "  \n",
       "          [[0.0177304 , 0.01878988, 0.01746375],\n",
       "           [0.00934405, 0.00269965, 0.00409037],\n",
       "           [0.01883142, 0.02509095, 0.0553825 ]],\n",
       "  \n",
       "          [[0.01885576, 0.01234825, 0.0051999 ],\n",
       "           [0.01286779, 0.00068163, 0.00269855],\n",
       "           [0.0050229 , 0.00150074, 0.00291204]],\n",
       "  \n",
       "          ...,\n",
       "  \n",
       "          [[0.01971113, 0.02146636, 0.01691681],\n",
       "           [0.01328214, 0.02103469, 0.02547564],\n",
       "           [0.02125819, 0.03542886, 0.03535273]],\n",
       "  \n",
       "          [[0.05020875, 0.0578931 , 0.04380541],\n",
       "           [0.04824671, 0.05922382, 0.06023963],\n",
       "           [0.04356986, 0.05921374, 0.0637729 ]],\n",
       "  \n",
       "          [[0.04819679, 0.05381992, 0.05430711],\n",
       "           [0.06008669, 0.05890904, 0.06284724],\n",
       "           [0.09001794, 0.11645916, 0.10882363]]],\n",
       "  \n",
       "  \n",
       "         [[[0.00792668, 0.00643026, 0.01340275],\n",
       "           [0.0039823 , 0.00417292, 0.01899171],\n",
       "           [0.00604661, 0.0033111 , 0.00460427]],\n",
       "  \n",
       "          [[0.03444989, 0.01415436, 0.0147101 ],\n",
       "           [0.04199291, 0.02537293, 0.00714448],\n",
       "           [0.03670505, 0.02787184, 0.01497567]],\n",
       "  \n",
       "          [[0.00333061, 0.00159233, 0.00552428],\n",
       "           [0.00245308, 0.01210732, 0.0117225 ],\n",
       "           [0.00304968, 0.01299604, 0.02033933]],\n",
       "  \n",
       "          ...,\n",
       "  \n",
       "          [[0.01157813, 0.01100157, 0.00641161],\n",
       "           [0.01133974, 0.00276615, 0.00740443],\n",
       "           [0.01933123, 0.02105833, 0.01724655]],\n",
       "  \n",
       "          [[0.02084785, 0.00679314, 0.01036661],\n",
       "           [0.01035168, 0.01118284, 0.02566578],\n",
       "           [0.00987755, 0.01031182, 0.01800952]],\n",
       "  \n",
       "          [[0.01697673, 0.0163591 , 0.04353613],\n",
       "           [0.01401033, 0.01622815, 0.04149023],\n",
       "           [0.00389281, 0.00662513, 0.01475434]]],\n",
       "  \n",
       "  \n",
       "         [[[0.13276786, 0.1614444 , 0.16940932],\n",
       "           [0.08449337, 0.11529993, 0.10203064],\n",
       "           [0.04499063, 0.0597288 , 0.04454223]],\n",
       "  \n",
       "          [[0.17473732, 0.18737434, 0.17870395],\n",
       "           [0.24669342, 0.21621971, 0.20908153],\n",
       "           [0.17842203, 0.16200517, 0.1655105 ]],\n",
       "  \n",
       "          [[0.02436037, 0.02077598, 0.0317101 ],\n",
       "           [0.02297045, 0.00840745, 0.02032288],\n",
       "           [0.05375842, 0.04312291, 0.03547132]],\n",
       "  \n",
       "          ...,\n",
       "  \n",
       "          [[0.05822998, 0.03379198, 0.04856328],\n",
       "           [0.07657231, 0.04340164, 0.08409347],\n",
       "           [0.10136674, 0.12667309, 0.11664412]],\n",
       "  \n",
       "          [[0.22885108, 0.24228965, 0.2524722 ],\n",
       "           [0.24621186, 0.25588396, 0.28672993],\n",
       "           [0.19724174, 0.22059862, 0.20779578]],\n",
       "  \n",
       "          [[0.26820734, 0.302985  , 0.30671403],\n",
       "           [0.22205192, 0.25229678, 0.2622224 ],\n",
       "           [0.16486022, 0.18752575, 0.17482276]]],\n",
       "  \n",
       "  \n",
       "         ...,\n",
       "  \n",
       "  \n",
       "         [[[0.05205908, 0.06045901, 0.06006809],\n",
       "           [0.03213301, 0.03270573, 0.0343116 ],\n",
       "           [0.00948606, 0.00914931, 0.01471609]],\n",
       "  \n",
       "          [[0.0513003 , 0.07360598, 0.07907934],\n",
       "           [0.04233075, 0.06197521, 0.08355223],\n",
       "           [0.0266218 , 0.04866576, 0.08553998]],\n",
       "  \n",
       "          [[0.01091911, 0.00533623, 0.00509368],\n",
       "           [0.01049529, 0.0057336 , 0.00439911],\n",
       "           [0.01799595, 0.00805451, 0.00390053]],\n",
       "  \n",
       "          ...,\n",
       "  \n",
       "          [[0.02100875, 0.02331005, 0.02432096],\n",
       "           [0.0202187 , 0.02156518, 0.02464399],\n",
       "           [0.03091596, 0.02749971, 0.03031175]],\n",
       "  \n",
       "          [[0.10691161, 0.12278544, 0.11659592],\n",
       "           [0.11581545, 0.12434196, 0.11472064],\n",
       "           [0.06726302, 0.07956848, 0.07482231]],\n",
       "  \n",
       "          [[0.06378266, 0.08016396, 0.08925889],\n",
       "           [0.04444176, 0.04289073, 0.06505857],\n",
       "           [0.01675311, 0.01175708, 0.02929891]]],\n",
       "  \n",
       "  \n",
       "         [[[0.03586496, 0.04545832, 0.04205225],\n",
       "           [0.0243698 , 0.02678906, 0.02374709],\n",
       "           [0.00685687, 0.01750262, 0.01490826]],\n",
       "  \n",
       "          [[0.08511137, 0.07510106, 0.06809652],\n",
       "           [0.09088296, 0.0876217 , 0.09928457],\n",
       "           [0.08344375, 0.12157083, 0.1283396 ]],\n",
       "  \n",
       "          [[0.00404532, 0.00518478, 0.01047086],\n",
       "           [0.00212696, 0.00264475, 0.00383622],\n",
       "           [0.00289386, 0.00341684, 0.00480617]],\n",
       "  \n",
       "          ...,\n",
       "  \n",
       "          [[0.01985324, 0.01459778, 0.01717093],\n",
       "           [0.02962709, 0.0212317 , 0.02162978],\n",
       "           [0.04201429, 0.03594408, 0.02367086]],\n",
       "  \n",
       "          [[0.08462828, 0.09901547, 0.10504749],\n",
       "           [0.09716171, 0.0942253 , 0.10215242],\n",
       "           [0.07360026, 0.06016492, 0.04650563]],\n",
       "  \n",
       "          [[0.05809472, 0.04860315, 0.04358518],\n",
       "           [0.04508895, 0.04199726, 0.03683363],\n",
       "           [0.01821165, 0.01288385, 0.00984404]]],\n",
       "  \n",
       "  \n",
       "         [[[0.10007135, 0.10536727, 0.0649026 ],\n",
       "           [0.04766046, 0.05456972, 0.03406414],\n",
       "           [0.01432577, 0.02239281, 0.0293083 ]],\n",
       "  \n",
       "          [[0.0178246 , 0.05677238, 0.14142002],\n",
       "           [0.05071056, 0.13043603, 0.19004469],\n",
       "           [0.08052321, 0.16856667, 0.18036829]],\n",
       "  \n",
       "          [[0.00594062, 0.00189218, 0.00867337],\n",
       "           [0.01155866, 0.00676125, 0.01265442],\n",
       "           [0.0056504 , 0.00343152, 0.01374047]],\n",
       "  \n",
       "          ...,\n",
       "  \n",
       "          [[0.01633633, 0.01791349, 0.04610357],\n",
       "           [0.03044736, 0.01319765, 0.03265506],\n",
       "           [0.07851576, 0.06274292, 0.04399636]],\n",
       "  \n",
       "          [[0.11856455, 0.13884251, 0.11234814],\n",
       "           [0.11356799, 0.12637202, 0.10301117],\n",
       "           [0.07674884, 0.0610877 , 0.06796467]],\n",
       "  \n",
       "          [[0.09326908, 0.08730381, 0.09626791],\n",
       "           [0.08295748, 0.06148855, 0.09240408],\n",
       "           [0.07701439, 0.06654038, 0.09026342]]]], dtype=float32),\n",
       "  'layer3[5].conv2': array([[[[0.09740702, 0.11023981, 0.08691506],\n",
       "           [0.11945818, 0.12754926, 0.06429051],\n",
       "           [0.13101016, 0.11873544, 0.0558742 ]],\n",
       "  \n",
       "          [[0.04636017, 0.049291  , 0.04171008],\n",
       "           [0.05866116, 0.045706  , 0.03191461],\n",
       "           [0.07428351, 0.05049221, 0.02895064]],\n",
       "  \n",
       "          [[0.07857322, 0.07460769, 0.07998549],\n",
       "           [0.05879857, 0.09788467, 0.13180318],\n",
       "           [0.05100411, 0.11123382, 0.11567646]],\n",
       "  \n",
       "          ...,\n",
       "  \n",
       "          [[0.14466655, 0.19939865, 0.20777768],\n",
       "           [0.1912875 , 0.258094  , 0.22956467],\n",
       "           [0.15312861, 0.18478161, 0.15529081]],\n",
       "  \n",
       "          [[0.0786932 , 0.07345622, 0.0497319 ],\n",
       "           [0.07883891, 0.08278907, 0.05111443],\n",
       "           [0.04780476, 0.0592153 , 0.05454812]],\n",
       "  \n",
       "          [[0.11484487, 0.15732941, 0.1288858 ],\n",
       "           [0.10123253, 0.13588281, 0.11138622],\n",
       "           [0.10517093, 0.14721742, 0.11591566]]],\n",
       "  \n",
       "  \n",
       "         [[[0.02201547, 0.02440498, 0.03089141],\n",
       "           [0.044588  , 0.02445958, 0.0266372 ],\n",
       "           [0.05344681, 0.03828426, 0.02680326]],\n",
       "  \n",
       "          [[0.00581696, 0.0122651 , 0.01554968],\n",
       "           [0.01227349, 0.01795603, 0.01534548],\n",
       "           [0.01586459, 0.01521333, 0.01004876]],\n",
       "  \n",
       "          [[0.03381132, 0.0378162 , 0.02275611],\n",
       "           [0.02633984, 0.02781999, 0.02170191],\n",
       "           [0.01789818, 0.03250607, 0.0369452 ]],\n",
       "  \n",
       "          ...,\n",
       "  \n",
       "          [[0.00978051, 0.00939545, 0.00516707],\n",
       "           [0.00757483, 0.01249882, 0.02473168],\n",
       "           [0.01121461, 0.03238438, 0.0444949 ]],\n",
       "  \n",
       "          [[0.00689974, 0.00910743, 0.01080491],\n",
       "           [0.02239846, 0.02609876, 0.02143097],\n",
       "           [0.0177473 , 0.02369742, 0.01788874]],\n",
       "  \n",
       "          [[0.07847768, 0.08282396, 0.06477761],\n",
       "           [0.0759683 , 0.09176922, 0.06853425],\n",
       "           [0.02946795, 0.04660349, 0.04565525]]],\n",
       "  \n",
       "  \n",
       "         [[[0.15225902, 0.15787214, 0.08960043],\n",
       "           [0.15724368, 0.20411015, 0.10761413],\n",
       "           [0.09825648, 0.1487461 , 0.09826379]],\n",
       "  \n",
       "          [[0.04440486, 0.06817318, 0.0706944 ],\n",
       "           [0.08663099, 0.11612206, 0.09024853],\n",
       "           [0.09051881, 0.10133576, 0.07840934]],\n",
       "  \n",
       "          [[0.08945367, 0.1402022 , 0.1274381 ],\n",
       "           [0.06652851, 0.11777793, 0.13170582],\n",
       "           [0.06629644, 0.14196308, 0.16219558]],\n",
       "  \n",
       "          ...,\n",
       "  \n",
       "          [[0.06709889, 0.08922135, 0.08771294],\n",
       "           [0.1014352 , 0.13471107, 0.15129967],\n",
       "           [0.1406695 , 0.17416465, 0.20604703]],\n",
       "  \n",
       "          [[0.0656743 , 0.10614777, 0.08716089],\n",
       "           [0.07727866, 0.11041006, 0.10056747],\n",
       "           [0.05422423, 0.06232591, 0.08136425]],\n",
       "  \n",
       "          [[0.20865174, 0.27772358, 0.18537995],\n",
       "           [0.15875424, 0.2553532 , 0.1857031 ],\n",
       "           [0.10849965, 0.18356296, 0.13531876]]],\n",
       "  \n",
       "  \n",
       "         ...,\n",
       "  \n",
       "  \n",
       "         [[[0.04474409, 0.03093501, 0.01752537],\n",
       "           [0.02605793, 0.01613465, 0.00586774],\n",
       "           [0.02185533, 0.01760781, 0.00618196]],\n",
       "  \n",
       "          [[0.02291986, 0.01649874, 0.0115909 ],\n",
       "           [0.01798482, 0.01013357, 0.0072176 ],\n",
       "           [0.0173961 , 0.00946196, 0.00470241]],\n",
       "  \n",
       "          [[0.03083478, 0.02561497, 0.00926619],\n",
       "           [0.03841614, 0.02850099, 0.01401787],\n",
       "           [0.01376924, 0.02310702, 0.01939886]],\n",
       "  \n",
       "          ...,\n",
       "  \n",
       "          [[0.0309685 , 0.04517649, 0.05116014],\n",
       "           [0.04284006, 0.04811611, 0.06254561],\n",
       "           [0.0801691 , 0.08494885, 0.0833176 ]],\n",
       "  \n",
       "          [[0.03834999, 0.03615086, 0.02238874],\n",
       "           [0.03137717, 0.03236479, 0.01856363],\n",
       "           [0.00902665, 0.00863863, 0.00660372]],\n",
       "  \n",
       "          [[0.02677315, 0.04574136, 0.03391008],\n",
       "           [0.01491295, 0.03110331, 0.02379858],\n",
       "           [0.00879348, 0.01799685, 0.01118998]]],\n",
       "  \n",
       "  \n",
       "         [[[0.12913087, 0.11953285, 0.093635  ],\n",
       "           [0.14643395, 0.17826772, 0.16166583],\n",
       "           [0.09040964, 0.13627481, 0.12668543]],\n",
       "  \n",
       "          [[0.04200135, 0.04829603, 0.04692977],\n",
       "           [0.05033952, 0.05635018, 0.04223083],\n",
       "           [0.06895299, 0.08156649, 0.05326888]],\n",
       "  \n",
       "          [[0.14871678, 0.16414145, 0.12935592],\n",
       "           [0.12748806, 0.12712125, 0.10849046],\n",
       "           [0.06683351, 0.06942987, 0.0855519 ]],\n",
       "  \n",
       "          ...,\n",
       "  \n",
       "          [[0.1346186 , 0.16451369, 0.16892408],\n",
       "           [0.03543889, 0.04706949, 0.07360823],\n",
       "           [0.04911162, 0.06094456, 0.08851791]],\n",
       "  \n",
       "          [[0.05678983, 0.08263607, 0.07609072],\n",
       "           [0.06766094, 0.08559779, 0.07936018],\n",
       "           [0.06585272, 0.06138701, 0.05718597]],\n",
       "  \n",
       "          [[0.18556193, 0.17943196, 0.13949074],\n",
       "           [0.15352882, 0.15877442, 0.15160851],\n",
       "           [0.10665257, 0.14567982, 0.16454685]]],\n",
       "  \n",
       "  \n",
       "         [[[0.09463178, 0.22546713, 0.22248408],\n",
       "           [0.06473369, 0.16531736, 0.18767388],\n",
       "           [0.06326122, 0.10660082, 0.11836489]],\n",
       "  \n",
       "          [[0.05280188, 0.10216332, 0.06619044],\n",
       "           [0.05158393, 0.10325582, 0.07159989],\n",
       "           [0.06093372, 0.09333131, 0.07584744]],\n",
       "  \n",
       "          [[0.11556082, 0.09542495, 0.125618  ],\n",
       "           [0.09431791, 0.09301849, 0.12100539],\n",
       "           [0.07347783, 0.07852463, 0.1068673 ]],\n",
       "  \n",
       "          ...,\n",
       "  \n",
       "          [[0.0522521 , 0.04538243, 0.0606254 ],\n",
       "           [0.13998948, 0.12041005, 0.11594122],\n",
       "           [0.2742586 , 0.27788   , 0.24905115]],\n",
       "  \n",
       "          [[0.05190013, 0.04655334, 0.05227447],\n",
       "           [0.08821924, 0.07881064, 0.07309719],\n",
       "           [0.13517918, 0.13326924, 0.10491209]],\n",
       "  \n",
       "          [[0.14578263, 0.23008443, 0.2621683 ],\n",
       "           [0.15481636, 0.22872467, 0.22681779],\n",
       "           [0.14451899, 0.18229705, 0.1692253 ]]]], dtype=float32)},\n",
       " {'layer3[0].conv2': array([[[[0.05793455, 0.07563138, 0.08475402],\n",
       "           [0.05165383, 0.06510141, 0.07117961],\n",
       "           [0.04710826, 0.05738124, 0.06984434]],\n",
       "  \n",
       "          [[0.06300841, 0.06620983, 0.06940331],\n",
       "           [0.04349913, 0.04187279, 0.06570965],\n",
       "           [0.04194553, 0.04930056, 0.06931358]],\n",
       "  \n",
       "          [[0.07884763, 0.08585896, 0.08615537],\n",
       "           [0.07861613, 0.0829444 , 0.07951501],\n",
       "           [0.06960761, 0.0787278 , 0.08193918]],\n",
       "  \n",
       "          ...,\n",
       "  \n",
       "          [[0.01716215, 0.01610526, 0.01475724],\n",
       "           [0.01902519, 0.02084637, 0.02057047],\n",
       "           [0.02149063, 0.02690395, 0.02608488]],\n",
       "  \n",
       "          [[0.11025532, 0.14044201, 0.11935607],\n",
       "           [0.1316184 , 0.15955347, 0.12469039],\n",
       "           [0.11684687, 0.13475598, 0.09824171]],\n",
       "  \n",
       "          [[0.05527388, 0.05993543, 0.06214321],\n",
       "           [0.04655777, 0.0468489 , 0.05060359],\n",
       "           [0.04079353, 0.04098123, 0.03936449]]],\n",
       "  \n",
       "  \n",
       "         [[[0.03552216, 0.04060418, 0.03790702],\n",
       "           [0.06138498, 0.07727772, 0.09235476],\n",
       "           [0.07698995, 0.10499139, 0.12185732]],\n",
       "  \n",
       "          [[0.07154986, 0.11835074, 0.17146233],\n",
       "           [0.14591761, 0.22839434, 0.26096275],\n",
       "           [0.1598657 , 0.21928191, 0.19175059]],\n",
       "  \n",
       "          [[0.02330557, 0.03549347, 0.05094077],\n",
       "           [0.07792094, 0.11419686, 0.12053805],\n",
       "           [0.11632559, 0.1544376 , 0.13595614]],\n",
       "  \n",
       "          ...,\n",
       "  \n",
       "          [[0.00353622, 0.00274038, 0.00486263],\n",
       "           [0.00843949, 0.00852368, 0.01081167],\n",
       "           [0.0116038 , 0.0136438 , 0.01197109]],\n",
       "  \n",
       "          [[0.03947382, 0.04790673, 0.03332894],\n",
       "           [0.05863727, 0.06469098, 0.05683998],\n",
       "           [0.07727   , 0.08206061, 0.08973666]],\n",
       "  \n",
       "          [[0.10450745, 0.11653186, 0.12900628],\n",
       "           [0.10704345, 0.11388691, 0.12951657],\n",
       "           [0.0863063 , 0.0897793 , 0.10625836]]],\n",
       "  \n",
       "  \n",
       "         [[[0.01119735, 0.01189201, 0.01074884],\n",
       "           [0.01759605, 0.02108586, 0.01149827],\n",
       "           [0.02033952, 0.02588308, 0.02081013]],\n",
       "  \n",
       "          [[0.01876042, 0.02117232, 0.0167044 ],\n",
       "           [0.03318197, 0.03158258, 0.01226338],\n",
       "           [0.01099757, 0.0134533 , 0.03146273]],\n",
       "  \n",
       "          [[0.05707228, 0.06159358, 0.05294529],\n",
       "           [0.03719884, 0.04408721, 0.05211659],\n",
       "           [0.00678525, 0.01660477, 0.02109542]],\n",
       "  \n",
       "          ...,\n",
       "  \n",
       "          [[0.0126595 , 0.01357456, 0.01513567],\n",
       "           [0.01080004, 0.0111839 , 0.01386826],\n",
       "           [0.0081308 , 0.00988209, 0.01148757]],\n",
       "  \n",
       "          [[0.03519546, 0.04415373, 0.06061978],\n",
       "           [0.01987377, 0.00751698, 0.02598702],\n",
       "           [0.0079605 , 0.00908134, 0.00624926]],\n",
       "  \n",
       "          [[0.00898828, 0.00747394, 0.01182047],\n",
       "           [0.00920894, 0.01189285, 0.00518053],\n",
       "           [0.00624918, 0.01361538, 0.00663288]]],\n",
       "  \n",
       "  \n",
       "         ...,\n",
       "  \n",
       "  \n",
       "         [[[0.05143897, 0.05584799, 0.06815488],\n",
       "           [0.04138023, 0.05655198, 0.06662719],\n",
       "           [0.04664624, 0.05649047, 0.07779348]],\n",
       "  \n",
       "          [[0.05130485, 0.07559939, 0.06730426],\n",
       "           [0.0913627 , 0.11764608, 0.11761176],\n",
       "           [0.11010281, 0.13070638, 0.12939383]],\n",
       "  \n",
       "          [[0.1013867 , 0.1192548 , 0.1266815 ],\n",
       "           [0.11222449, 0.13858148, 0.14541785],\n",
       "           [0.11093545, 0.11943956, 0.1381691 ]],\n",
       "  \n",
       "          ...,\n",
       "  \n",
       "          [[0.01819473, 0.01939473, 0.02344084],\n",
       "           [0.02645602, 0.02646618, 0.02826503],\n",
       "           [0.02805208, 0.03012238, 0.03195038]],\n",
       "  \n",
       "          [[0.08952425, 0.10875874, 0.07014075],\n",
       "           [0.15454672, 0.19506225, 0.16238251],\n",
       "           [0.2372323 , 0.27314186, 0.25631654]],\n",
       "  \n",
       "          [[0.06692096, 0.08411084, 0.07128521],\n",
       "           [0.10303745, 0.11374407, 0.10550914],\n",
       "           [0.13990128, 0.1481642 , 0.14391011]]],\n",
       "  \n",
       "  \n",
       "         [[[0.04439609, 0.0533628 , 0.09783921],\n",
       "           [0.02282954, 0.03125928, 0.09136368],\n",
       "           [0.02657841, 0.02695211, 0.07573295]],\n",
       "  \n",
       "          [[0.01450833, 0.01335197, 0.04272534],\n",
       "           [0.03610178, 0.04259246, 0.04186381],\n",
       "           [0.07528269, 0.06259855, 0.03523942]],\n",
       "  \n",
       "          [[0.04678981, 0.10491052, 0.1256273 ],\n",
       "           [0.01409485, 0.08186359, 0.11851671],\n",
       "           [0.03123149, 0.06659108, 0.09432936]],\n",
       "  \n",
       "          ...,\n",
       "  \n",
       "          [[0.0037959 , 0.00484551, 0.01570563],\n",
       "           [0.00814369, 0.0124194 , 0.02332372],\n",
       "           [0.00855764, 0.01189118, 0.01943947]],\n",
       "  \n",
       "          [[0.04009787, 0.09022548, 0.03236037],\n",
       "           [0.06430599, 0.14389548, 0.05613967],\n",
       "           [0.01296699, 0.05513143, 0.00642025]],\n",
       "  \n",
       "          [[0.01880933, 0.02767037, 0.0103051 ],\n",
       "           [0.0255183 , 0.02481769, 0.00748755],\n",
       "           [0.07326691, 0.03606422, 0.01929071]]],\n",
       "  \n",
       "  \n",
       "         [[[0.06442014, 0.07140298, 0.09413216],\n",
       "           [0.07623957, 0.08122835, 0.09521966],\n",
       "           [0.07161012, 0.08522328, 0.09073047]],\n",
       "  \n",
       "          [[0.08195265, 0.07880468, 0.09372466],\n",
       "           [0.0667922 , 0.07129271, 0.07383205],\n",
       "           [0.07333322, 0.08115812, 0.06572602]],\n",
       "  \n",
       "          [[0.08938419, 0.09734642, 0.11950594],\n",
       "           [0.09578612, 0.10810992, 0.11703905],\n",
       "           [0.0999627 , 0.11974609, 0.11917878]],\n",
       "  \n",
       "          ...,\n",
       "  \n",
       "          [[0.01820786, 0.02086415, 0.02262241],\n",
       "           [0.01251546, 0.01331935, 0.01838428],\n",
       "           [0.00966674, 0.01048452, 0.01474998]],\n",
       "  \n",
       "          [[0.10463591, 0.10324581, 0.11600301],\n",
       "           [0.09401471, 0.07910655, 0.0845162 ],\n",
       "           [0.05849567, 0.05157707, 0.05371271]],\n",
       "  \n",
       "          [[0.08854581, 0.08921278, 0.10655222],\n",
       "           [0.07801986, 0.07579105, 0.0821832 ],\n",
       "           [0.06415664, 0.06066646, 0.05314036]]]], dtype=float32),\n",
       "  'layer3[1].conv2': array([[[[0.0352558 , 0.0396569 , 0.04893074],\n",
       "           [0.05475395, 0.05312003, 0.05635671],\n",
       "           [0.05450447, 0.06461892, 0.05213604]],\n",
       "  \n",
       "          [[0.0695528 , 0.04090558, 0.05633371],\n",
       "           [0.07797799, 0.05026361, 0.07998101],\n",
       "           [0.07961047, 0.07578257, 0.10389808]],\n",
       "  \n",
       "          [[0.04924383, 0.07108353, 0.03278969],\n",
       "           [0.05460811, 0.08000214, 0.03560578],\n",
       "           [0.04149248, 0.05095392, 0.03243182]],\n",
       "  \n",
       "          ...,\n",
       "  \n",
       "          [[0.04655244, 0.04779117, 0.06337298],\n",
       "           [0.03614118, 0.04208901, 0.07185946],\n",
       "           [0.04323624, 0.06063677, 0.07520424]],\n",
       "  \n",
       "          [[0.05558955, 0.04121291, 0.07302357],\n",
       "           [0.06250827, 0.01233934, 0.05642195],\n",
       "           [0.06727543, 0.0441699 , 0.06711725]],\n",
       "  \n",
       "          [[0.09173433, 0.06972452, 0.09403961],\n",
       "           [0.07883921, 0.03396516, 0.06442515],\n",
       "           [0.05747807, 0.05193058, 0.04701865]]],\n",
       "  \n",
       "  \n",
       "         [[[0.01438409, 0.02478795, 0.02845207],\n",
       "           [0.03028658, 0.03487401, 0.03331173],\n",
       "           [0.02087886, 0.02201169, 0.01360857]],\n",
       "  \n",
       "          [[0.02575761, 0.01525509, 0.01793711],\n",
       "           [0.01958582, 0.02637277, 0.02034755],\n",
       "           [0.03862081, 0.01854317, 0.05851081]],\n",
       "  \n",
       "          [[0.01654672, 0.02694832, 0.01582501],\n",
       "           [0.03218184, 0.05822226, 0.01573497],\n",
       "           [0.03731573, 0.02640556, 0.02971696]],\n",
       "  \n",
       "          ...,\n",
       "  \n",
       "          [[0.01010094, 0.01295795, 0.02217668],\n",
       "           [0.00771936, 0.01527816, 0.02298658],\n",
       "           [0.06058897, 0.07092694, 0.04986063]],\n",
       "  \n",
       "          [[0.03860677, 0.03055356, 0.03342483],\n",
       "           [0.05001162, 0.03020272, 0.00933148],\n",
       "           [0.02337343, 0.01604966, 0.00833472]],\n",
       "  \n",
       "          [[0.0278257 , 0.08817747, 0.07732154],\n",
       "           [0.11564833, 0.19288833, 0.15819821],\n",
       "           [0.08349789, 0.10190779, 0.08251428]]],\n",
       "  \n",
       "  \n",
       "         [[[0.02922138, 0.02879554, 0.03049697],\n",
       "           [0.01592824, 0.01657306, 0.01445383],\n",
       "           [0.00704816, 0.0115463 , 0.00755774]],\n",
       "  \n",
       "          [[0.04930538, 0.07226595, 0.06172723],\n",
       "           [0.06186285, 0.05787059, 0.07368599],\n",
       "           [0.03640731, 0.01687293, 0.03151089]],\n",
       "  \n",
       "          [[0.02012908, 0.02476164, 0.01568301],\n",
       "           [0.01241925, 0.01012692, 0.00396803],\n",
       "           [0.01091066, 0.00900701, 0.00515136]],\n",
       "  \n",
       "          ...,\n",
       "  \n",
       "          [[0.02711541, 0.02863451, 0.02901688],\n",
       "           [0.03744838, 0.05018425, 0.06797186],\n",
       "           [0.01844436, 0.03824496, 0.03940035]],\n",
       "  \n",
       "          [[0.03075633, 0.03292404, 0.0302255 ],\n",
       "           [0.02548434, 0.03285627, 0.04143532],\n",
       "           [0.01988013, 0.03747449, 0.04542886]],\n",
       "  \n",
       "          [[0.09700844, 0.10776654, 0.12124946],\n",
       "           [0.04691794, 0.0472607 , 0.08122326],\n",
       "           [0.03183911, 0.0401867 , 0.05189202]]],\n",
       "  \n",
       "  \n",
       "         ...,\n",
       "  \n",
       "  \n",
       "         [[[0.00504413, 0.00282474, 0.00876545],\n",
       "           [0.01810124, 0.02972603, 0.01355022],\n",
       "           [0.02855482, 0.02748128, 0.01869609]],\n",
       "  \n",
       "          [[0.05378588, 0.0616986 , 0.07859627],\n",
       "           [0.03266949, 0.02640615, 0.08131723],\n",
       "           [0.02383507, 0.03118016, 0.08292937]],\n",
       "  \n",
       "          [[0.02514874, 0.02873337, 0.0161072 ],\n",
       "           [0.05284917, 0.05593579, 0.0210711 ],\n",
       "           [0.02308333, 0.02154964, 0.00556051]],\n",
       "  \n",
       "          ...,\n",
       "  \n",
       "          [[0.02363657, 0.03766618, 0.04497172],\n",
       "           [0.01878897, 0.02479505, 0.04132169],\n",
       "           [0.08133272, 0.09530559, 0.08573028]],\n",
       "  \n",
       "          [[0.02061572, 0.01886715, 0.02860322],\n",
       "           [0.00553225, 0.01350158, 0.00846575],\n",
       "           [0.00631823, 0.02018871, 0.0057943 ]],\n",
       "  \n",
       "          [[0.11546668, 0.13442533, 0.13590932],\n",
       "           [0.02412164, 0.00645004, 0.01216512],\n",
       "           [0.03578919, 0.05619381, 0.06705375]]],\n",
       "  \n",
       "  \n",
       "         [[[0.01819757, 0.00710057, 0.00457392],\n",
       "           [0.01281179, 0.02691067, 0.01901945],\n",
       "           [0.01471191, 0.01431919, 0.01066425]],\n",
       "  \n",
       "          [[0.04695967, 0.05584619, 0.03601762],\n",
       "           [0.02650743, 0.00897372, 0.00808894],\n",
       "           [0.01000847, 0.01037663, 0.00853658]],\n",
       "  \n",
       "          [[0.01292496, 0.01918247, 0.01399647],\n",
       "           [0.0106085 , 0.02413713, 0.01636302],\n",
       "           [0.00291199, 0.00295142, 0.00267212]],\n",
       "  \n",
       "          ...,\n",
       "  \n",
       "          [[0.0189091 , 0.01003652, 0.00798022],\n",
       "           [0.03385769, 0.03701971, 0.04389495],\n",
       "           [0.0206158 , 0.03692269, 0.03905643]],\n",
       "  \n",
       "          [[0.00982064, 0.00293942, 0.01003692],\n",
       "           [0.00162766, 0.00746913, 0.00756511],\n",
       "           [0.00644406, 0.00231467, 0.008934  ]],\n",
       "  \n",
       "          [[0.02845681, 0.01560508, 0.01737926],\n",
       "           [0.033012  , 0.06246052, 0.03802695],\n",
       "           [0.03325825, 0.03789219, 0.02996597]]],\n",
       "  \n",
       "  \n",
       "         [[[0.04632128, 0.05309796, 0.06854423],\n",
       "           [0.07100876, 0.07328367, 0.05912553],\n",
       "           [0.08906822, 0.08591166, 0.0607579 ]],\n",
       "  \n",
       "          [[0.14954197, 0.16986114, 0.13070141],\n",
       "           [0.09963546, 0.08797444, 0.10240944],\n",
       "           [0.12743776, 0.1621617 , 0.16780375]],\n",
       "  \n",
       "          [[0.03327236, 0.00611255, 0.00149918],\n",
       "           [0.04206356, 0.02957779, 0.01721164],\n",
       "           [0.02979641, 0.0160777 , 0.01152312]],\n",
       "  \n",
       "          ...,\n",
       "  \n",
       "          [[0.04767488, 0.05265418, 0.0481621 ],\n",
       "           [0.04547068, 0.07856531, 0.06615677],\n",
       "           [0.08876986, 0.10879584, 0.07676867]],\n",
       "  \n",
       "          [[0.06116376, 0.06929868, 0.06699735],\n",
       "           [0.10547355, 0.16337287, 0.10568566],\n",
       "           [0.14920205, 0.17559049, 0.11159272]],\n",
       "  \n",
       "          [[0.0827005 , 0.13035125, 0.16409159],\n",
       "           [0.15171053, 0.19595896, 0.21871851],\n",
       "           [0.28438428, 0.28226334, 0.24770863]]]], dtype=float32),\n",
       "  'layer3[5].conv2': array([[[[0.01673762, 0.02045194, 0.02496558],\n",
       "           [0.01571849, 0.02449309, 0.02197268],\n",
       "           [0.01696615, 0.0157172 , 0.01276735]],\n",
       "  \n",
       "          [[0.01135251, 0.01243959, 0.01267163],\n",
       "           [0.01381561, 0.01328127, 0.01314194],\n",
       "           [0.01401528, 0.01164128, 0.00963717]],\n",
       "  \n",
       "          [[0.01345574, 0.01939731, 0.01419505],\n",
       "           [0.00938082, 0.01405807, 0.02078729],\n",
       "           [0.00829554, 0.01734504, 0.02070868]],\n",
       "  \n",
       "          ...,\n",
       "  \n",
       "          [[0.01009921, 0.01727329, 0.02556513],\n",
       "           [0.01463537, 0.02732431, 0.03371796],\n",
       "           [0.02692689, 0.05630106, 0.06234273]],\n",
       "  \n",
       "          [[0.01697215, 0.01617277, 0.01473029],\n",
       "           [0.01350178, 0.01340091, 0.01395994],\n",
       "           [0.00780118, 0.01004521, 0.01167001]],\n",
       "  \n",
       "          [[0.0168832 , 0.02468838, 0.01909523],\n",
       "           [0.01688258, 0.02134021, 0.0182835 ],\n",
       "           [0.01646788, 0.01833635, 0.01507792]]],\n",
       "  \n",
       "  \n",
       "         [[[0.07197891, 0.05043997, 0.06031894],\n",
       "           [0.107218  , 0.06296369, 0.07777645],\n",
       "           [0.12302426, 0.07614006, 0.0705737 ]],\n",
       "  \n",
       "          [[0.03110502, 0.03427466, 0.03776948],\n",
       "           [0.03594879, 0.04146644, 0.04964307],\n",
       "           [0.06493539, 0.06218003, 0.06628456]],\n",
       "  \n",
       "          [[0.10578366, 0.10766973, 0.05985892],\n",
       "           [0.08872148, 0.07769433, 0.04680931],\n",
       "           [0.05411074, 0.06050364, 0.05347299]],\n",
       "  \n",
       "          ...,\n",
       "  \n",
       "          [[0.05303425, 0.04442693, 0.03776851],\n",
       "           [0.08192937, 0.08315725, 0.06630509],\n",
       "           [0.12107272, 0.14435567, 0.12418535]],\n",
       "  \n",
       "          [[0.06402689, 0.06272423, 0.03867537],\n",
       "           [0.10078613, 0.11388729, 0.06938819],\n",
       "           [0.07997622, 0.10826213, 0.0869657 ]],\n",
       "  \n",
       "          [[0.11002   , 0.09720729, 0.08791361],\n",
       "           [0.1061493 , 0.09760578, 0.09405637],\n",
       "           [0.07618215, 0.09585085, 0.10728264]]],\n",
       "  \n",
       "  \n",
       "         [[[0.13813522, 0.17357188, 0.10325341],\n",
       "           [0.14452796, 0.22021526, 0.12733655],\n",
       "           [0.0940628 , 0.16338986, 0.12671195]],\n",
       "  \n",
       "          [[0.06176002, 0.08506884, 0.07460746],\n",
       "           [0.11712103, 0.12259082, 0.08877145],\n",
       "           [0.12226588, 0.10766135, 0.07878926]],\n",
       "  \n",
       "          [[0.08333788, 0.11641373, 0.11549846],\n",
       "           [0.0607345 , 0.09442192, 0.11833333],\n",
       "           [0.05121321, 0.09144274, 0.12799597]],\n",
       "  \n",
       "          ...,\n",
       "  \n",
       "          [[0.07645337, 0.08571409, 0.08159692],\n",
       "           [0.09078904, 0.09126058, 0.10503335],\n",
       "           [0.13015975, 0.13346626, 0.14662783]],\n",
       "  \n",
       "          [[0.07907492, 0.12915692, 0.10453226],\n",
       "           [0.10445377, 0.11857978, 0.1037815 ],\n",
       "           [0.0879008 , 0.07772626, 0.08395475]],\n",
       "  \n",
       "          [[0.13279727, 0.19394372, 0.14854136],\n",
       "           [0.09742278, 0.18205598, 0.16978428],\n",
       "           [0.09698298, 0.17294186, 0.13212338]]],\n",
       "  \n",
       "  \n",
       "         ...,\n",
       "  \n",
       "  \n",
       "         [[[0.11247005, 0.1005915 , 0.06838998],\n",
       "           [0.09615351, 0.09022166, 0.07443449],\n",
       "           [0.07223509, 0.07566053, 0.06346619]],\n",
       "  \n",
       "          [[0.06327792, 0.05398425, 0.04562362],\n",
       "           [0.07271928, 0.06289791, 0.05156738],\n",
       "           [0.06773498, 0.05719599, 0.05016656]],\n",
       "  \n",
       "          [[0.08891116, 0.07315218, 0.05606126],\n",
       "           [0.07851862, 0.05519394, 0.05698639],\n",
       "           [0.05452802, 0.06190763, 0.07275567]],\n",
       "  \n",
       "          ...,\n",
       "  \n",
       "          [[0.05544025, 0.06902321, 0.10234258],\n",
       "           [0.06731294, 0.09852132, 0.14547297],\n",
       "           [0.10279782, 0.16182595, 0.18403646]],\n",
       "  \n",
       "          [[0.09130907, 0.0704137 , 0.0570061 ],\n",
       "           [0.09941959, 0.07807045, 0.06430344],\n",
       "           [0.07645591, 0.0588866 , 0.05352079]],\n",
       "  \n",
       "          [[0.08678668, 0.14310043, 0.13430898],\n",
       "           [0.08907623, 0.14519808, 0.12241741],\n",
       "           [0.08740085, 0.10983821, 0.08182768]]],\n",
       "  \n",
       "  \n",
       "         [[[0.04655587, 0.05915993, 0.04422462],\n",
       "           [0.04544696, 0.08066989, 0.05817126],\n",
       "           [0.03013904, 0.04497791, 0.03896696]],\n",
       "  \n",
       "          [[0.02751162, 0.02913842, 0.02471522],\n",
       "           [0.03222315, 0.03058648, 0.02136159],\n",
       "           [0.03780271, 0.0390125 , 0.02901341]],\n",
       "  \n",
       "          [[0.0521391 , 0.07598154, 0.05967272],\n",
       "           [0.04657695, 0.0568798 , 0.05201581],\n",
       "           [0.03065338, 0.03448695, 0.03587975]],\n",
       "  \n",
       "          ...,\n",
       "  \n",
       "          [[0.03519467, 0.04574338, 0.05830386],\n",
       "           [0.03279857, 0.03292318, 0.04401157],\n",
       "           [0.03254383, 0.03242072, 0.04872544]],\n",
       "  \n",
       "          [[0.04268405, 0.04770936, 0.04077517],\n",
       "           [0.04087891, 0.04023147, 0.03262397],\n",
       "           [0.0315153 , 0.02884092, 0.02363348]],\n",
       "  \n",
       "          [[0.04793585, 0.05617916, 0.04789525],\n",
       "           [0.04471416, 0.04842248, 0.04413168],\n",
       "           [0.04536102, 0.05353323, 0.04869651]]],\n",
       "  \n",
       "  \n",
       "         [[[0.01121761, 0.01517005, 0.01652188],\n",
       "           [0.00702882, 0.00428598, 0.0063705 ],\n",
       "           [0.01184615, 0.01165646, 0.00914209]],\n",
       "  \n",
       "          [[0.01124734, 0.01652813, 0.01583085],\n",
       "           [0.00857346, 0.0114574 , 0.01278461],\n",
       "           [0.00658575, 0.00768165, 0.00665877]],\n",
       "  \n",
       "          [[0.0288788 , 0.03147177, 0.02784687],\n",
       "           [0.01698123, 0.01617216, 0.01998897],\n",
       "           [0.00823022, 0.00803576, 0.0144935 ]],\n",
       "  \n",
       "          ...,\n",
       "  \n",
       "          [[0.02372841, 0.01899721, 0.02044536],\n",
       "           [0.02605073, 0.02586891, 0.03530461],\n",
       "           [0.01628929, 0.01510466, 0.01411256]],\n",
       "  \n",
       "          [[0.00684164, 0.00784447, 0.00994292],\n",
       "           [0.00801077, 0.01232289, 0.01256219],\n",
       "           [0.01563967, 0.01821808, 0.01398475]],\n",
       "  \n",
       "          [[0.01596803, 0.01667265, 0.02097571],\n",
       "           [0.01991137, 0.01886573, 0.01625225],\n",
       "           [0.01160495, 0.0145419 , 0.01432354]]]], dtype=float32)}]"
      ]
     },
     "execution_count": 6,
     "metadata": {},
     "output_type": "execute_result"
    }
   ],
   "source": [
    "all_totals\n"
   ]
  },
  {
   "cell_type": "code",
   "execution_count": 30,
   "metadata": {},
   "outputs": [],
   "source": [
    "thre = 0.08\n",
    "net = load_cifar100_resnet50()\n",
    "layer_remove = dict()\n",
    "for layer in [\"layer3[0].conv2\", \"layer3[1].conv2\", \"layer3[5].conv2\"]:\n",
    "    layer_remove[layer] = None\n",
    "for i in range(len(all_totals)):\n",
    "    totals = all_totals[i]\n",
    "    totals = [totals[layer] for layer in [\"layer3[0].conv2\", \"layer3[1].conv2\", \"layer3[5].conv2\"]]\n",
    "    layer_weights = [eval(\"net.\" + layer + \".weight.cpu().detach().numpy()\")\n",
    "                     for layer in [\"layer3[0].conv2\", \"layer3[1].conv2\", \"layer3[5].conv2\"]]\n",
    "    combine = [np.abs(total * weight) for total, weight in zip(totals, layer_weights)]\n",
    "    combine = np.array(combine)\n",
    "    combine_flatten = combine.flatten()\n",
    "    threshold = np.sort(combine_flatten)[::-1][int(len(combine_flatten) * thre)]\n",
    "    for idx,layer in enumerate([\"layer3[0].conv2\", \"layer3[1].conv2\", \"layer3[5].conv2\"]):\n",
    "        if layer_remove[layer] is None:\n",
    "            layer_remove[layer] = combine[idx] > threshold\n",
    "        else:\n",
    "            t = combine[idx] > threshold\n",
    "            layer_remove[layer] = layer_remove[layer] | t\n",
    "    \n",
    "# for i in range(len(totals)):\n",
    "#     combine = np.abs(totals[i][layer] * eval(\"net.\" + layer + \".weight.cpu().detach().numpy()\"))\n",
    "#     threshold = np.sort(combine.flatten())[::-1][int(len(combine.flatten()) * thre)]\n",
    "#     if remove is None:\n",
    "#         remove = combine > threshold\n",
    "#     else:\n",
    "#         t = combine > threshold\n",
    "#         remove = remove | t\n",
    "# print(remove.sum())\n",
    "# keep_rate = remove.sum() / remove.size\n",
    "# print(\"保留的\", keep_rate)\n"
   ]
  },
  {
   "cell_type": "code",
   "execution_count": 31,
   "metadata": {},
   "outputs": [
    {
     "name": "stdout",
     "output_type": "stream",
     "text": [
      "layer3[0].conv2 0.5743289523654513\n",
      "layer3[1].conv2 0.4552222357855903\n",
      "layer3[5].conv2 0.6682349310980903\n"
     ]
    }
   ],
   "source": [
    "temp = 0\n",
    "all_num = 0\n",
    "for layer in layer_remove:\n",
    "    temp += layer_remove[layer].sum()\n",
    "    all_num += layer_remove[layer].size\n",
    "    print(layer, layer_remove[layer].mean())"
   ]
  },
  {
   "cell_type": "code",
   "execution_count": 32,
   "metadata": {},
   "outputs": [
    {
     "data": {
      "text/plain": [
       "0.5659287064163773"
      ]
     },
     "execution_count": 32,
     "metadata": {},
     "output_type": "execute_result"
    }
   ],
   "source": [
    "temp / all_num"
   ]
  },
  {
   "cell_type": "code",
   "execution_count": 33,
   "metadata": {},
   "outputs": [
    {
     "name": "stdout",
     "output_type": "stream",
     "text": [
      "原始准确率 0.7931\n"
     ]
    }
   ],
   "source": [
    "with torch.no_grad():\n",
    "    net = load_cifar100_resnet50()\n",
    "    correct, all = test_model(net, test_dataloader_all)\n",
    "    print(\"原始准确率\", correct / all)\n"
   ]
  },
  {
   "cell_type": "code",
   "execution_count": 34,
   "metadata": {},
   "outputs": [
    {
     "name": "stdout",
     "output_type": "stream",
     "text": [
      "现在准确率 0.7842\n"
     ]
    }
   ],
   "source": [
    "with torch.no_grad():\n",
    "    net = load_cifar100_resnet50()\n",
    "    for layer in [\"layer3[0].conv2\", \"layer3[1].conv2\", \"layer3[5].conv2\"]:\n",
    "        exec(\"net.\" + layer + \".weight[~layer_remove[layer]] = 0\")\n",
    "    # for layer in [\"layer3[0].conv2\"]:\n",
    "    #     exec(\"net.\" + layer + \".weight[~remove] = 0\")\n",
    "    correct, all = test_model(net, test_dataloader_all)\n",
    "    print(\"现在准确率\", correct / all)\n"
   ]
  },
  {
   "cell_type": "code",
   "execution_count": 35,
   "metadata": {},
   "outputs": [
    {
     "name": "stdout",
     "output_type": "stream",
     "text": [
      "去掉最大准确率 0.01\n"
     ]
    }
   ],
   "source": [
    "with torch.no_grad():\n",
    "    net = load_cifar100_resnet50()\n",
    "    for layer in [\"layer3[0].conv2\", \"layer3[1].conv2\", \"layer3[5].conv2\"]:\n",
    "        keep_rate = layer_remove[layer].sum() / layer_remove[layer].size\n",
    "        weight_flatten = eval(\"net.\" + layer + \".weight.cpu().detach().numpy()\").flatten()\n",
    "        threshold = np.sort(weight_flatten)[int(len(weight_flatten) * (1 - keep_rate))]\n",
    "        exec(\"net.\" + layer + \".weight[eval('net.' + layer + '.weight.cpu().detach().numpy()') < threshold] = 0\")\n",
    "    correct, all = test_model(net, test_dataloader_all)\n",
    "    print(\"去掉最大准确率\", correct / all)\n",
    "    # for layer in [\"layer3[0].conv2\"]:\n",
    "    #     threshold = np.sort(eval(\"net.\" + layer + \".weight.cpu().detach().numpy()\").flatten())[\n",
    "    #         int(len(eval(\"net.\" + layer +\n",
    "    #             \".weight.cpu().detach().numpy()\").flatten()) * (1 - keep_rate))\n",
    "    #     ]\n",
    "    #     exec(\"net.\" + layer +\n",
    "    #          \".weight[eval('net.' + layer + '.weight.cpu().detach().numpy()') < threshold] = 0\")\n",
    "    # correct, all = test_model(net, test_dataloader_all)\n",
    "    # print(\"现在准确率\", correct / all)\n"
   ]
  },
  {
   "cell_type": "code",
   "execution_count": null,
   "metadata": {},
   "outputs": [],
   "source": []
  }
 ],
 "metadata": {
  "kernelspec": {
   "display_name": "Python 3",
   "language": "python",
   "name": "python3"
  },
  "language_info": {
   "codemirror_mode": {
    "name": "ipython",
    "version": 3
   },
   "file_extension": ".py",
   "mimetype": "text/x-python",
   "name": "python",
   "nbconvert_exporter": "python",
   "pygments_lexer": "ipython3",
   "version": "3.10.8 (tags/v3.10.8:aaaf517, Oct 11 2022, 16:50:30) [MSC v.1933 64 bit (AMD64)]"
  },
  "orig_nbformat": 4,
  "vscode": {
   "interpreter": {
    "hash": "c1050a06cbaeed8b46d187604389f32b45fa537b377a0b8f76b38e0c23b5abbd"
   }
  }
 },
 "nbformat": 4,
 "nbformat_minor": 2
}
